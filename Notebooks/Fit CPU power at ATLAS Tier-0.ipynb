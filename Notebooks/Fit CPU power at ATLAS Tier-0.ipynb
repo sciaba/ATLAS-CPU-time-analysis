{
 "cells": [
  {
   "cell_type": "code",
   "execution_count": 50,
   "metadata": {
    "collapsed": false
   },
   "outputs": [],
   "source": [
    "import sys\n",
    "import math\n",
    "import csv\n",
    "from collections import defaultdict, OrderedDict\n",
    "\n",
    "import numpy as np\n",
    "import pandas as pd\n",
    "import scipy.optimize as optimize\n",
    "import matplotlib.pyplot as plt\n",
    "\n",
    "from __future__ import division\n",
    "\n",
    "%matplotlib inline"
   ]
  },
  {
   "cell_type": "code",
   "execution_count": 74,
   "metadata": {
    "collapsed": false
   },
   "outputs": [],
   "source": [
    "input_file = 't0_cpu_smt_on2.csv'\n",
    "output_file = 'results_t0_smt_on2.csv'\n",
    "df = pd.read_csv(input_file, dtype={'cpu_n': 'float'}, names=['jeditaskid', 'atlrel', 'cputype', 'njobs',\n",
    "                                                              'cpuevt_avg', 'cpuevt_rms', 'wallevt_avg', 'wallevt_rms',\n",
    "                                                              'cpu', 'wc', 'cores', 'jevts', 'eff'])"
   ]
  },
  {
   "cell_type": "code",
   "execution_count": 75,
   "metadata": {
    "collapsed": true
   },
   "outputs": [],
   "source": [
    "grouped = df.groupby(['jeditaskid', 'cputype'], as_index=False, sort=False)\n",
    "\n",
    "data = defaultdict(OrderedDict)\n",
    "for (j, s), g in grouped:\n",
    "    x = np.average(g.cpuevt_avg, weights=g.cpu)\n",
    "    y = math.sqrt(np.average((g.cpuevt_avg - x)**2, weights=g.cpu))\n",
    "    data[j][s] = (x, y)"
   ]
  },
  {
   "cell_type": "code",
   "execution_count": 76,
   "metadata": {
    "collapsed": true
   },
   "outputs": [],
   "source": [
    "# Remove from data tasks with only one site\n",
    "for (k, v) in data.items():\n",
    "    if len(v) == 1:\n",
    "        del data[k]"
   ]
  },
  {
   "cell_type": "code",
   "execution_count": 77,
   "metadata": {
    "collapsed": false
   },
   "outputs": [],
   "source": [
    "# Map cpus to integers\n",
    "i = -1\n",
    "sites = set()\n",
    "smap = dict()\n",
    "for (k, v) in data.items():\n",
    "    for s in v.keys():\n",
    "        if s not in sites:\n",
    "            i += 1\n",
    "            smap[s] = i\n",
    "            sites.add(s)\n",
    "        data[k][smap[s]] = data[k][s]\n",
    "        del data[k][s]"
   ]
  },
  {
   "cell_type": "code",
   "execution_count": 78,
   "metadata": {
    "collapsed": true
   },
   "outputs": [],
   "source": [
    "# Map tasks to integers\n",
    "tasks = set(data.keys())\n",
    "tmap = dict()\n",
    "i = 0\n",
    "for x in tasks:\n",
    "    tmap[x] = i\n",
    "    i += 1"
   ]
  },
  {
   "cell_type": "code",
   "execution_count": 79,
   "metadata": {
    "collapsed": true
   },
   "outputs": [],
   "source": [
    "ntask = len(data)\n",
    "nsite = len(smap)\n",
    "a_ini = np.zeros(ntask)\n",
    "for j, task in data.items():\n",
    "    nt = tmap[j]\n",
    "    a_ini[nt] = np.mean([b[0] for b in task.values()])\n",
    "x_ini = np.hstack((a_ini, np.ones(nsite)))"
   ]
  },
  {
   "cell_type": "code",
   "execution_count": 80,
   "metadata": {
    "collapsed": false
   },
   "outputs": [
    {
     "name": "stdout",
     "output_type": "stream",
     "text": [
      "Tasks:  38\n",
      "CPUs:  6\n",
      "Sum of initial values:  547.731845308\n"
     ]
    }
   ],
   "source": [
    "print \"Tasks: \", ntask\n",
    "print \"CPUs: \", nsite\n",
    "print \"Sum of initial values: \", np.sum(x_ini)"
   ]
  },
  {
   "cell_type": "code",
   "execution_count": 81,
   "metadata": {
    "collapsed": true
   },
   "outputs": [],
   "source": [
    "def func_val(x):\n",
    "    a = x[:ntask]\n",
    "    k = x[ntask:]\n",
    "    total = 0.\n",
    "    for j, task in data.items():   # looping on tasks\n",
    "        nt = tmap[j]\n",
    "        kf = np.array([k[i] for i in task.keys()])\n",
    "        v = np.array([b[0] for b in task.values()])\n",
    "        f_term = 1. / a[nt]**2 * (v * kf - a[nt])**2\n",
    "        delta = np.sum(f_term)\n",
    "        total += delta\n",
    "    return total"
   ]
  },
  {
   "cell_type": "code",
   "execution_count": 82,
   "metadata": {
    "collapsed": true
   },
   "outputs": [],
   "source": [
    "def grad_val(x):\n",
    "    a = x[:ntask]\n",
    "    k = x[ntask:]\n",
    "    g = np.zeros(len(x))\n",
    "    for j, task in data.items():\n",
    "        g_a = 0.\n",
    "        nt = tmap[j]\n",
    "        for i in task.keys():\n",
    "            (v, _) = task[i]\n",
    "            g_a += -2 * v * k[i] / a[nt]**2 * (v * k[i] / a[nt] - 1)\n",
    "            g_k = 2 / a[nt]**2 * v * (k[i] * v - a[nt])\n",
    "            g[ntask + i] += g_k\n",
    "        g[nt] = g_a\n",
    "    return g"
   ]
  },
  {
   "cell_type": "code",
   "execution_count": 83,
   "metadata": {
    "collapsed": true
   },
   "outputs": [],
   "source": [
    "def hess_val(x):\n",
    "    a = x[:ntask]\n",
    "    k = x[ntask:]\n",
    "    diag = np.zeros_like(x)   # diagonal of the Hessian\n",
    "    H = np.diag(diag)\n",
    "    for t, task in data.items():\n",
    "        h = 0.\n",
    "        nt = tmap[t]\n",
    "        for i in task.keys():\n",
    "            (v, _) = task[i]\n",
    "            h += 2 / a[nt]**4 * (3 * v**2 * k[i]**2 - 2 * v * k[i] * a[nt])\n",
    "            diag[ntask + i] += 2 * v**2 / a[nt]**2\n",
    "            H[nt][ntask+i] = H[ntask+i][nt] = -2 * v / a[nt]**2 * ( 2 * v * k[i] / a[nt] - 1)\n",
    "        diag[nt] = h\n",
    "    H = H + np.diag(diag)\n",
    "    return H"
   ]
  },
  {
   "cell_type": "code",
   "execution_count": 84,
   "metadata": {
    "collapsed": false
   },
   "outputs": [
    {
     "name": "stdout",
     "output_type": "stream",
     "text": [
      "Initial function value:  12.9758535846\n"
     ]
    }
   ],
   "source": [
    "print 'Initial function value: ', func_val(x_ini)"
   ]
  },
  {
   "cell_type": "code",
   "execution_count": 85,
   "metadata": {
    "collapsed": false
   },
   "outputs": [
    {
     "name": "stdout",
     "output_type": "stream",
     "text": [
      "1.27355416451e-06\n"
     ]
    }
   ],
   "source": [
    "check = optimize.check_grad(func_val, grad_val, x_ini)\n",
    "print check"
   ]
  },
  {
   "cell_type": "code",
   "execution_count": 86,
   "metadata": {
    "collapsed": false
   },
   "outputs": [
    {
     "name": "stdout",
     "output_type": "stream",
     "text": [
      "Optimization terminated successfully.\n",
      "         Current function value: 4.432097\n",
      "         Iterations: 16\n",
      "         Function evaluations: 18\n",
      "         Gradient evaluations: 33\n",
      "         Hessian evaluations: 16\n"
     ]
    }
   ],
   "source": [
    "result = optimize.minimize(func_val, x_ini, method='Newton-CG', jac=grad_val, hess=hess_val, options={'disp': True, 'maxiter': 2000})"
   ]
  },
  {
   "cell_type": "code",
   "execution_count": 87,
   "metadata": {
    "collapsed": false
   },
   "outputs": [],
   "source": [
    "x = result.x\n",
    "a = x[:ntask]\n",
    "k = x[ntask:]\n",
    "k_err = np.zeros_like(k)"
   ]
  },
  {
   "cell_type": "code",
   "execution_count": 88,
   "metadata": {
    "collapsed": false
   },
   "outputs": [
    {
     "name": "stdout",
     "output_type": "stream",
     "text": [
      "The value of S is: 0.159\n"
     ]
    }
   ],
   "source": [
    "p = list()\n",
    "for j, task in data.items():\n",
    "    nt = tmap[j]\n",
    "    for i in task.keys():\n",
    "        (v, _) = task[i]\n",
    "        p.append(v * x[ntask+i] / x[nt])\n",
    "sigma = np.std(p)\n",
    "print 'The value of S is: %.3f' % sigma"
   ]
  },
  {
   "cell_type": "code",
   "execution_count": 89,
   "metadata": {
    "collapsed": true
   },
   "outputs": [],
   "source": [
    "c = 0\n",
    "for j, task in data.items():\n",
    "    nt = tmap[j]\n",
    "    c += len(task)\n",
    "    for i in task.keys():\n",
    "        (v, _) = task[i]\n",
    "        k_err[i] += v**2 / a[nt]**2\n",
    "k_err = sigma / np.sqrt(k_err)"
   ]
  },
  {
   "cell_type": "code",
   "execution_count": 90,
   "metadata": {
    "collapsed": false
   },
   "outputs": [
    {
     "name": "stdout",
     "output_type": "stream",
     "text": [
      "Degrees of freedom: 126\n",
      "The value of the reduced chi2 is: 1.385\n",
      "Standard deviation of reduced chi2: 0.063\n"
     ]
    }
   ],
   "source": [
    "deg = c - len(x_ini)\n",
    "chi2r = func_val(result.x) / sigma**2 / deg\n",
    "print 'Degrees of freedom: %d' % deg\n",
    "print 'The value of the reduced chi2 is: %.3f' % chi2r\n",
    "print 'Standard deviation of reduced chi2: %.3f' % (1. / np.sqrt(2. * deg))"
   ]
  },
  {
   "cell_type": "code",
   "execution_count": 91,
   "metadata": {
    "collapsed": false
   },
   "outputs": [],
   "source": [
    "with open(output_file, 'wb') as csvfile:\n",
    "    w = csv.writer(csvfile, delimiter=',')\n",
    "    for s in sorted(smap.keys()):\n",
    "        w.writerow([s, k[smap[s]], k_err[smap[s]]])"
   ]
  },
  {
   "cell_type": "code",
   "execution_count": 92,
   "metadata": {
    "collapsed": false
   },
   "outputs": [
    {
     "name": "stdout",
     "output_type": "stream",
     "text": [
      "The value of S is: 0.159\n"
     ]
    },
    {
     "data": {
      "image/png": "[encoded data removed]",
      "text/plain": [
       "<matplotlib.figure.Figure at 0xa428748>"
      ]
     },
     "metadata": {},
     "output_type": "display_data"
    }
   ],
   "source": [
    "bins = 50\n",
    "xrange = (0.5, 1.5)\n",
    "binsize = (xrange[1] - xrange[0]) / bins\n",
    "fig = plt.hist(p, bins=bins, range=xrange)\n",
    "n = len(p)\n",
    "mu = np.mean(p)\n",
    "sigma = np.std(p)\n",
    "plt.xlabel(r'$a_{i\\alpha}k_i/A_\\alpha$')\n",
    "plt.text(1.2, 20., r'$\\mu=%.3f\\pm%.3f$' % (mu, sigma))\n",
    "S = sigma\n",
    "print 'The value of S is: %.3f' % S"
   ]
  },
  {
   "cell_type": "code",
   "execution_count": 93,
   "metadata": {
    "collapsed": true
   },
   "outputs": [],
   "source": [
    "y1, x1 = np.histogram(p, bins=bins, range=xrange)\n",
    "y1 = np.divide(y1, np.float(np.sum(y1))*binsize)"
   ]
  },
  {
   "cell_type": "code",
   "execution_count": 94,
   "metadata": {
    "collapsed": false
   },
   "outputs": [
    {
     "name": "stdout",
     "output_type": "stream",
     "text": [
      "0.988518429873 0.147215789987\n",
      "The value of S is: 0.147\n"
     ]
    },
    {
     "data": {
      "image/png": "[encoded data removed]",
      "text/plain": [
       "<matplotlib.figure.Figure at 0xaa7a780>"
      ]
     },
     "metadata": {},
     "output_type": "display_data"
    }
   ],
   "source": [
    "def f(x, m, s):\n",
    "    return 1 / (s * np.sqrt(2 * np.pi)) * np.exp(-(x - m)**2 / (2 * s**2))\n",
    "\n",
    "plt.plot(x1[:-1], y1)\n",
    "(m, s), _ = optimize.curve_fit(f, x1[:-1], y1)\n",
    "print m, s\n",
    "plt.plot(x1, f(x1, m, s))\n",
    "S1 = s\n",
    "print 'The value of S is: %.3f' % S1"
   ]
  },
  {
   "cell_type": "code",
   "execution_count": 95,
   "metadata": {
    "collapsed": false
   },
   "outputs": [],
   "source": [
    "points2 = list()\n",
    "for t, task in data.items():\n",
    "    nt = tmap[t]\n",
    "    for i in task.keys():\n",
    "        (v, _) = task[i]\n",
    "        p = v / a_ini[nt]\n",
    "        points2.append(p)"
   ]
  },
  {
   "cell_type": "code",
   "execution_count": 96,
   "metadata": {
    "collapsed": false
   },
   "outputs": [
    {
     "name": "stdout",
     "output_type": "stream",
     "text": [
      "The value of S is: 0.276\n"
     ]
    },
    {
     "data": {
      "image/png": "[encoded data removed]",
      "text/plain": [
       "<matplotlib.figure.Figure at 0xa879e48>"
      ]
     },
     "metadata": {},
     "output_type": "display_data"
    }
   ],
   "source": [
    "bins = 50\n",
    "xrange = (0., 2.)\n",
    "binsize = (xrange[1] - xrange[0]) / bins\n",
    "fig = plt.hist(points2, bins=bins, range=xrange)\n",
    "n = len(points2)\n",
    "mu = np.mean(points2)\n",
    "sigma = np.std(points2)\n",
    "print 'The value of S is: %.3f' % sigma"
   ]
  },
  {
   "cell_type": "code",
   "execution_count": null,
   "metadata": {
    "collapsed": true
   },
   "outputs": [],
   "source": []
  }
 ],
 "metadata": {
  "anaconda-cloud": {},
  "kernelspec": {
   "display_name": "Python [default]",
   "language": "python",
   "name": "python2"
  },
  "language_info": {
   "codemirror_mode": {
    "name": "ipython",
    "version": 2
   },
   "file_extension": ".py",
   "mimetype": "text/x-python",
   "name": "python",
   "nbconvert_exporter": "python",
   "pygments_lexer": "ipython2",
   "version": "2.7.11"
  }
 },
 "nbformat": 4,
 "nbformat_minor": 0
}
