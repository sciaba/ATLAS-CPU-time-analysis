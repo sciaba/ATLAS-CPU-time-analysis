{
 "cells": [
  {
   "cell_type": "code",
   "execution_count": 65,
   "metadata": {
    "collapsed": true
   },
   "outputs": [],
   "source": [
    "import sys\n",
    "import math\n",
    "from collections import defaultdict, OrderedDict, Counter\n",
    "import pprint as pp\n",
    "import numpy as np\n",
    "import pandas as pd\n",
    "import scipy.optimize as optimize\n",
    "import matplotlib.pyplot as plt\n",
    "from __future__ import division\n",
    "\n",
    "%matplotlib inline"
   ]
  },
  {
   "cell_type": "code",
   "execution_count": 66,
   "metadata": {
    "collapsed": false
   },
   "outputs": [],
   "source": [
    "input_file = 't0_cpu_x.csv'\n",
    "df = pd.read_csv(input_file, dtype={'cpu_n': 'float'}, names=['jeditaskid', 'atlrel', 'cputype', 'njobs',\n",
    "                                                              'cpuevt_avg', 'cpuevt_rms', 'wallevt_avg', 'wallevt_rms',\n",
    "                                                              'cpu', 'wc', 'cores', 'jevts', 'eff'])"
   ]
  },
  {
   "cell_type": "code",
   "execution_count": 67,
   "metadata": {
    "collapsed": true
   },
   "outputs": [],
   "source": [
    "grouped = df.groupby(['jeditaskid', 'cputype'], as_index=False, sort=False)\n",
    "\n",
    "data = defaultdict(OrderedDict)\n",
    "for (j, s), g in grouped:\n",
    "    x = np.average(g.cpuevt_avg, weights=g.cpu)\n",
    "    y = math.sqrt(np.average((g.cpuevt_avg - x)**2, weights=g.cpu))\n",
    "    data[j][s] = (x, y)"
   ]
  },
  {
   "cell_type": "code",
   "execution_count": 68,
   "metadata": {
    "collapsed": true
   },
   "outputs": [],
   "source": [
    "# Remove from data tasks with only one site\n",
    "for (k, v) in data.items():\n",
    "    if len(v) == 1:\n",
    "        del data[k]"
   ]
  },
  {
   "cell_type": "code",
   "execution_count": 69,
   "metadata": {
    "collapsed": false
   },
   "outputs": [
    {
     "name": "stdout",
     "output_type": "stream",
     "text": [
      "There are 6 sites in the fit\n"
     ]
    }
   ],
   "source": [
    "# Map cpus to integers\n",
    "i = -1\n",
    "sites = set()\n",
    "smap = dict()\n",
    "for (k, v) in data.items():\n",
    "    for s in v.keys():\n",
    "        if s not in sites:\n",
    "            i += 1\n",
    "            smap[s] = i\n",
    "            sites.add(s)\n",
    "        data[k][smap[s]]= data[k][s]\n",
    "        del data[k][s]\n",
    "\n",
    "nsites = len(smap)\n",
    "print 'There are %s sites in the fit' % nsites"
   ]
  },
  {
   "cell_type": "code",
   "execution_count": 70,
   "metadata": {
    "collapsed": true
   },
   "outputs": [],
   "source": [
    "# Map tasks to integers\n",
    "tasks = set(data.keys())\n",
    "tmap = dict()\n",
    "i = 0\n",
    "for x in tasks:\n",
    "    tmap[x] = i\n",
    "    i += 1"
   ]
  },
  {
   "cell_type": "code",
   "execution_count": 71,
   "metadata": {
    "collapsed": true
   },
   "outputs": [],
   "source": [
    "ntask = len(data)\n",
    "nsite = len(smap)\n",
    "a_ini = np.zeros(ntask)\n",
    "for j, task in data.items():\n",
    "    nt = tmap[j]\n",
    "    a_ini[nt] = np.mean([b[0] for b in task.values()])\n",
    "x_ini = np.hstack((a_ini, np.ones(nsite)))"
   ]
  },
  {
   "cell_type": "code",
   "execution_count": 72,
   "metadata": {
    "collapsed": false
   },
   "outputs": [
    {
     "name": "stdout",
     "output_type": "stream",
     "text": [
      "Tasks:  348\n",
      "Sites/CPUs:  6\n",
      "Sum of initial values:  4887.46803916\n"
     ]
    }
   ],
   "source": [
    "print \"Tasks: \", ntask\n",
    "print \"Sites/CPUs: \", nsite\n",
    "print \"Sum of initial values: \", np.sum(x_ini)"
   ]
  },
  {
   "cell_type": "code",
   "execution_count": 73,
   "metadata": {
    "collapsed": true
   },
   "outputs": [],
   "source": [
    "def func_val(x):\n",
    "    a = x[:ntask]\n",
    "    k = x[ntask:]\n",
    "    total = 0.\n",
    "    for j, task in data.items():   # looping on tasks\n",
    "        nt = tmap[j]\n",
    "        kf = np.array([k[i] for i in task.keys()])\n",
    "        v = np.array([b[0] for b in task.values()])\n",
    "        f_term = 1. / a[nt]**2 * (v * kf - a[nt])**2\n",
    "        delta = np.sum(f_term)\n",
    "        total += delta\n",
    "    return total"
   ]
  },
  {
   "cell_type": "code",
   "execution_count": 74,
   "metadata": {
    "collapsed": true
   },
   "outputs": [],
   "source": [
    "def grad_val(x):\n",
    "    a = x[:ntask]\n",
    "    k = x[ntask:]\n",
    "    g = np.zeros(len(x))\n",
    "    for j, task in data.items():\n",
    "        g_a = 0.\n",
    "        nt = tmap[j]\n",
    "        for i in task.keys():\n",
    "            (v, _) = task[i]\n",
    "            g_a += -2 * v * k[i] / a[nt]**2 * (v * k[i] / a[nt] - 1)\n",
    "            g_k = 2 / a[nt]**2 * v * (k[i] * v - a[nt])\n",
    "            g[ntask + i] += g_k\n",
    "        g[nt] = g_a\n",
    "    return g"
   ]
  },
  {
   "cell_type": "code",
   "execution_count": 75,
   "metadata": {
    "collapsed": true
   },
   "outputs": [],
   "source": [
    "def hess_val(x):\n",
    "    a = x[:ntask]\n",
    "    k = x[ntask:]\n",
    "    diag = np.zeros_like(x)   # diagonal of the Hessian\n",
    "    H = np.diag(diag)\n",
    "    for t, task in data.items():\n",
    "        h = 0.\n",
    "        nt = tmap[t]\n",
    "        for i in task.keys():\n",
    "            (v, _) = task[i]\n",
    "            h += 2 / a[nt]**4 * (3 * v**2 * k[i]**2 - 2 * v * k[i] * a[nt])\n",
    "            diag[ntask + i] += 2 * v**2 / a[nt]**2\n",
    "            H[nt][ntask+i] = H[ntask+i][nt] = -2 * v / a[nt]**2 * ( 2 * v * k[i] / a[nt] - 1)\n",
    "        diag[nt] = h\n",
    "    H = H + np.diag(diag)\n",
    "    return H"
   ]
  },
  {
   "cell_type": "code",
   "execution_count": 76,
   "metadata": {
    "collapsed": false
   },
   "outputs": [
    {
     "data": {
      "text/plain": [
       "32.74684008920098"
      ]
     },
     "execution_count": 76,
     "metadata": {},
     "output_type": "execute_result"
    }
   ],
   "source": [
    "func_val(x_ini)"
   ]
  },
  {
   "cell_type": "code",
   "execution_count": 77,
   "metadata": {
    "collapsed": false
   },
   "outputs": [
    {
     "name": "stdout",
     "output_type": "stream",
     "text": [
      "1.19209046771e-05\n"
     ]
    }
   ],
   "source": [
    "check = optimize.check_grad(func_val, grad_val, x_ini)\n",
    "print check"
   ]
  },
  {
   "cell_type": "code",
   "execution_count": 78,
   "metadata": {
    "collapsed": false
   },
   "outputs": [
    {
     "name": "stdout",
     "output_type": "stream",
     "text": [
      "Optimization terminated successfully.\n",
      "         Current function value: 7.411724\n",
      "         Iterations: 20\n",
      "         Function evaluations: 22\n",
      "         Gradient evaluations: 41\n",
      "         Hessian evaluations: 20\n"
     ]
    }
   ],
   "source": [
    "result_val = optimize.minimize(func_val, x_ini, method='Newton-CG', jac=grad_val, hess=hess_val, options={'disp': True, 'maxiter': 2000})"
   ]
  },
  {
   "cell_type": "code",
   "execution_count": 79,
   "metadata": {
    "collapsed": true
   },
   "outputs": [],
   "source": [
    "k_val = result_val.x[ntask:]"
   ]
  },
  {
   "cell_type": "code",
   "execution_count": 92,
   "metadata": {
    "collapsed": false
   },
   "outputs": [
    {
     "name": "stdout",
     "output_type": "stream",
     "text": [
      "AMD_Opteron(TM)_Processor_6276 0.607692173706\n",
      "Intel(R)_Xeon(R)_CPU_E5-2650_0_@_2.00GHz 0.701772739664\n",
      "Intel(R)_Xeon(R)_CPU_E5-2650_v2_@_2.60GHz 1.10388331758\n",
      "Intel(R)_Xeon(R)_CPU_E5-2630L_0_@_2.00GHz 0.859444395579\n",
      "Intel(R)_Xeon(R)_CPU_E5-2630_v3_@_2.40GHz 1.19456241186\n",
      "Intel(R)_Xeon(R)_CPU___________L5520__@_2.27GHz 0.719852427009\n"
     ]
    }
   ],
   "source": [
    "final = dict()\n",
    "for (k, v) in smap.items():\n",
    "    final[k] = k_val[v]\n",
    "    print k, k_val[v]"
   ]
  },
  {
   "cell_type": "code",
   "execution_count": 45,
   "metadata": {
    "collapsed": true
   },
   "outputs": [],
   "source": [
    "x = result_val.x\n",
    "points = list()\n",
    "for t, task in data.items():\n",
    "    nt = tmap[t]\n",
    "    for i in task.keys():\n",
    "        (v, _) = task[i]\n",
    "        p = v * x[ntask+i] / x[nt]\n",
    "        points.append(p)"
   ]
  },
  {
   "cell_type": "code",
   "execution_count": 82,
   "metadata": {
    "collapsed": false
   },
   "outputs": [
    {
     "name": "stdout",
     "output_type": "stream",
     "text": [
      "The value of S is: 0.096\n"
     ]
    },
    {
     "data": {
      "image/png": "[encoded data removed]",
      "text/plain": [
       "<matplotlib.figure.Figure at 0xa829198>"
      ]
     },
     "metadata": {},
     "output_type": "display_data"
    }
   ],
   "source": [
    "bins = 100\n",
    "xrange = (0.5, 1.5)\n",
    "binsize = (xrange[1] - xrange[0]) / bins\n",
    "fig = plt.hist(points, bins=bins, range=xrange)\n",
    "n = len(points)\n",
    "mu = np.mean(points)\n",
    "sigma = np.std(points)\n",
    "plt.xlabel(r'$a_{i\\alpha}k_i/A_\\alpha$')\n",
    "plt.text(1.2, 120., r'$\\mu=%.3f\\pm%.3f$' % (mu, sigma))\n",
    "S = sigma\n",
    "print 'The value of S is: %.3f' % S"
   ]
  },
  {
   "cell_type": "code",
   "execution_count": 83,
   "metadata": {
    "collapsed": true
   },
   "outputs": [],
   "source": [
    "y, x = np.histogram(points, bins=bins, range=xrange)\n",
    "y = np.divide(y, np.float(np.sum(y))*binsize)"
   ]
  },
  {
   "cell_type": "code",
   "execution_count": 84,
   "metadata": {
    "collapsed": false
   },
   "outputs": [
    {
     "name": "stdout",
     "output_type": "stream",
     "text": [
      "0.995563423789 0.0217654275238\n",
      "The value of S is: 0.022\n"
     ]
    },
    {
     "data": {
      "image/png": "[encoded data removed]",
      "text/plain": [
       "<matplotlib.figure.Figure at 0xb639780>"
      ]
     },
     "metadata": {},
     "output_type": "display_data"
    }
   ],
   "source": [
    "def f(x, m, s):\n",
    "    return 1 / (s * np.sqrt(2 * np.pi)) * np.exp(-(x - m)**2 / (2 * s**2))\n",
    "\n",
    "plt.plot(x[:-1], y)\n",
    "(m, s), _ = optimize.curve_fit(f, x[:-1], y)\n",
    "print m, s\n",
    "plt.plot(x, f(x, m, s))\n",
    "S1 = s\n",
    "print 'The value of S is: %.3f' % S1"
   ]
  },
  {
   "cell_type": "code",
   "execution_count": 85,
   "metadata": {
    "collapsed": false
   },
   "outputs": [
    {
     "name": "stdout",
     "output_type": "stream",
     "text": [
      "0.995381310881 0.0166001916627 -5105576.72245 0.744362773\n",
      "The value of S is: 2581409.213\n"
     ]
    },
    {
     "data": {
      "image/png": "[encoded data removed]",
      "text/plain": [
       "<matplotlib.figure.Figure at 0xa97db00>"
      ]
     },
     "metadata": {},
     "output_type": "display_data"
    }
   ],
   "source": [
    "def f2(x, m, s1, s2, n):\n",
    "    return n / (s1 * np.sqrt(2 * np.pi)) * np.exp(-(x - m)**2 / (2 * s1**2)) + \\\n",
    "        (1 - n) / (s2 * np.sqrt(2 * np.pi)) * np.exp(-(x - m)**2 / (2 * s2**2))\n",
    " \n",
    "plt.plot(x[:-1], y)\n",
    "(m, s1, s2, n), _ = optimize.curve_fit(f2, x[:-1], y, (1., 0.1, 1., 1.))\n",
    "print m, s1, s2, n\n",
    "plt.plot(x, f2(x, m, s1, s2, n))\n",
    "S2 = np.sqrt(n * s1**2 + (1 - n) * s2**2)\n",
    "print 'The value of S is: %.3f' % S2"
   ]
  },
  {
   "cell_type": "code",
   "execution_count": 86,
   "metadata": {
    "collapsed": true
   },
   "outputs": [],
   "source": [
    "x = result_val.x\n",
    "points2 = list()\n",
    "for t, task in data.items():\n",
    "    nt = tmap[t]\n",
    "    for i in task.keys():\n",
    "        (v, _) = task[i]\n",
    "        p = v / a_ini[nt]\n",
    "        points2.append(p)"
   ]
  },
  {
   "cell_type": "code",
   "execution_count": 87,
   "metadata": {
    "collapsed": false
   },
   "outputs": [
    {
     "name": "stdout",
     "output_type": "stream",
     "text": [
      "The value of S is: 0.203\n"
     ]
    },
    {
     "data": {
      "image/png": "[encoded data removed]",
      "text/plain": [
       "<matplotlib.figure.Figure at 0xc46c0f0>"
      ]
     },
     "metadata": {},
     "output_type": "display_data"
    }
   ],
   "source": [
    "bins = 100\n",
    "xrange = (0., 2.)\n",
    "binsize = (xrange[1] - xrange[0]) / bins\n",
    "fig = plt.hist(points2, bins=bins, range=xrange)\n",
    "n = len(points2)\n",
    "mu = np.mean(points2)\n",
    "sigma = np.std(points2)\n",
    "print 'The value of S is: %.3f' % sigma"
   ]
  },
  {
   "cell_type": "code",
   "execution_count": 52,
   "metadata": {
    "collapsed": true
   },
   "outputs": [],
   "source": [
    "x = result_val.x\n",
    "a = x[:ntask]\n",
    "k = x[ntask:]\n",
    "k_err = np.zeros_like(k)\n",
    "c = 0\n",
    "for t, task in data.items():\n",
    "    nt = tmap[t]\n",
    "    c += len(task)\n",
    "    for i in task.keys():\n",
    "        (v, _) = task[i]\n",
    "        k_err[i] += v**2 / a[nt]**2\n",
    "k_err = S / np.sqrt(k_err)"
   ]
  },
  {
   "cell_type": "code",
   "execution_count": 53,
   "metadata": {
    "collapsed": false
   },
   "outputs": [
    {
     "name": "stdout",
     "output_type": "stream",
     "text": [
      "Degrees of freedom: 441\n",
      "The value of the reduced chi2 is: 1.820\n",
      "Standard deviation of reduced chi2: 0.034\n"
     ]
    }
   ],
   "source": [
    "deg = c - len(x_ini)\n",
    "chi2r = func_val(result_val.x) / S**2 / deg\n",
    "print 'Degrees of freedom: %d' % deg\n",
    "print 'The value of the reduced chi2 is: %.3f' % chi2r\n",
    "print 'Standard deviation of reduced chi2: %.3f' % (1. / np.sqrt(2. * deg))"
   ]
  },
  {
   "cell_type": "code",
   "execution_count": null,
   "metadata": {
    "collapsed": true
   },
   "outputs": [],
   "source": []
  }
 ],
 "metadata": {
  "anaconda-cloud": {},
  "kernelspec": {
   "display_name": "Python [default]",
   "language": "python",
   "name": "python2"
  },
  "language_info": {
   "codemirror_mode": {
    "name": "ipython",
    "version": 2
   },
   "file_extension": ".py",
   "mimetype": "text/x-python",
   "name": "python",
   "nbconvert_exporter": "python",
   "pygments_lexer": "ipython2",
   "version": "2.7.11"
  }
 },
 "nbformat": 4,
 "nbformat_minor": 0
}
