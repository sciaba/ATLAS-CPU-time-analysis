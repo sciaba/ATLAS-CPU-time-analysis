{
 "cells": [
  {
   "cell_type": "markdown",
   "metadata": {},
   "source": [
    "# Measuring speed from CPU times per event\n",
    "### Authors: Andrea Sciabà, Andrea Valassi"
   ]
  },
  {
   "cell_type": "markdown",
   "metadata": {},
   "source": [
    "The goal is to measure the CPU power of sites from the CPU time per event of ATLAS production jobs."
   ]
  },
  {
   "cell_type": "code",
   "execution_count": 1,
   "metadata": {
    "collapsed": true
   },
   "outputs": [],
   "source": [
    "import sys\n",
    "import math\n",
    "import csv\n",
    "from collections import defaultdict, OrderedDict, Counter\n",
    "import pprint as pp\n",
    "import numpy as np\n",
    "import pandas as pd\n",
    "import scipy.optimize as optimize\n",
    "import matplotlib.pyplot as plt\n",
    "from __future__ import division\n",
    "\n",
    "%matplotlib inline"
   ]
  },
  {
   "cell_type": "markdown",
   "metadata": {},
   "source": [
    "First, let's read the data from the CSV file."
   ]
  },
  {
   "cell_type": "code",
   "execution_count": 2,
   "metadata": {
    "collapsed": false
   },
   "outputs": [],
   "source": [
    "df = pd.read_csv('task_cpu_hcx.csv', names=['processingtype', 'transformation', 'atlrel', 'site',\n",
    "                                        'cputype', 'njobs', 'cpuevt_avg', 'cpuevt_rms', 'wallevt_avg',\n",
    "                                        'wallevt_rms', 'cpu', 'wc', 'cores', 'jevts', 'eff'])"
   ]
  },
  {
   "cell_type": "markdown",
   "metadata": {},
   "source": [
    "Let's choose jobs of a given processing type by site or cpu."
   ]
  },
  {
   "cell_type": "code",
   "execution_count": 3,
   "metadata": {
    "collapsed": true
   },
   "outputs": [],
   "source": [
    "mode = 'cputype'"
   ]
  },
  {
   "cell_type": "markdown",
   "metadata": {},
   "source": [
    "Let's store in a dict indexed by the task number and the site or CPU type the averages and standard deviations of the CPU time per event."
   ]
  },
  {
   "cell_type": "code",
   "execution_count": 4,
   "metadata": {
    "collapsed": false
   },
   "outputs": [],
   "source": [
    "grouped = df.groupby([mode], as_index=False, sort=False)\n",
    "\n",
    "data = OrderedDict()\n",
    "for (s), g in grouped:\n",
    "    x = np.average(g.cpuevt_avg, weights=g.cpu)\n",
    "    y = math.sqrt(np.average((g.cpuevt_avg - x)**2, weights=g.cpu))\n",
    "    data[s] = (x, y)"
   ]
  },
  {
   "cell_type": "markdown",
   "metadata": {},
   "source": [
    "Let's map sites or CPU types to integers and store the mapping for later use."
   ]
  },
  {
   "cell_type": "code",
   "execution_count": 5,
   "metadata": {
    "collapsed": false
   },
   "outputs": [
    {
     "name": "stdout",
     "output_type": "stream",
     "text": [
      "There are 101 sites in the fit\n"
     ]
    }
   ],
   "source": [
    "i = -1\n",
    "sites = set()\n",
    "smap = dict()\n",
    "for s in data.keys():\n",
    "    if s not in sites:\n",
    "        i += 1\n",
    "        smap[s] = i\n",
    "        sites.add(s)\n",
    "        data[smap[s]]= data[s]\n",
    "        del data[s]\n",
    "\n",
    "nsites = len(smap)\n",
    "print 'There are %s sites in the fit' % nsites"
   ]
  },
  {
   "cell_type": "markdown",
   "metadata": {},
   "source": [
    "## Second analysis"
   ]
  },
  {
   "cell_type": "markdown",
   "metadata": {},
   "source": [
    "This analysis uses a much better model and procedure to fit the speeds.\n",
    "\n",
    "In the following, $\\alpha$ indicates an index running over tasks and $i$ and index running over sites or CPU times.\n",
    "The population average of the CPU time per event for task $\\alpha$ at site or CPU $i$ is $\\mu_{i\\alpha}$ and the average we measure is $a_{i\\alpha}$. Of course, not all sites or CPU types appear on all tasks, so sums over $i$ run only on sites or CPU types where the task runs.\n",
    "\n",
    "It is assumed that the $a_{i\\alpha}$ values we measure are Gaussian-distributed around $\\mu_{i\\alpha}$ with standard deviation $\\sigma_{i\\alpha}$.\n",
    "\n",
    "It is also assumed that the speed factors $k_i$ do not depend on $\\alpha$, and in particular that $\\mu_{i\\alpha}k_i=A_\\alpha$, where $A_\\alpha$ is a constant with respect to $i$.\n",
    "\n",
    "It is assumed that also $\\sigma_{i\\alpha}=S_\\alpha\\mu_{i\\alpha},\\:\\forall i, \\alpha$.\n",
    "\n",
    "To make the analysis easier, we choose to use $\\sigma_{i\\alpha}$ as errors on $a_{i\\alpha}$, while it would be more correct to use $\\sigma_{i\\alpha}/\\sqrt{N_{i\\alpha}}$, where $N_{i\\alpha}$ is the number of jobs run at site or CPU type $i$ for task $\\alpha$ (_approx. #1_).\n",
    "\n",
    "We also assume that $S_\\alpha = S$, where $S$ is constant for all tasks (_approx. #2_).\n",
    "\n",
    "The $\\chi^2$ we want to minimise is the following:\n",
    "\n",
    "$$\\chi^2=\\sum_{i\\alpha}\\left(\\frac{a_{i\\alpha}-\\mu_{i\\alpha}}{\\sigma_{i\\alpha}}\\right)^2=\\sum_{i\\alpha}\\left(\\frac{a_{i\\alpha}-\\mu_{i\\alpha}}{S_\\alpha\\mu_{i\\alpha}}\\right)^2=\\sum_\\alpha\\frac{1}{S_\\alpha^2}\\sum_i\\left(\\frac{a_{i\\alpha}}{\\mu_{i\\alpha}}-1\\right)^2=\\sum_\\alpha\\frac{1}{S_\\alpha^2}\\sum_i\\left(\\frac{a_{i\\alpha}k_i}{A_\\alpha}-1\\right)^2$$\n",
    "\n",
    "finally, taking into account the approximations above:\n",
    "\n",
    "$$\\boxed{\\chi^2=\\frac{1}{S^2}\\sum_\\alpha\\frac{1}{A_\\alpha^2}\\sum_i\\left(a_{i\\alpha}k_i-A_\\alpha\\right)^2}$$\n",
    "\n",
    "As $S$ is a constant, we can minimise a function $f=S^2\\chi^2$ and the free parameters are $A_\\alpha$ and $k_i$.\n",
    "\n",
    "To recap, the function to minimise is\n",
    "\n",
    "$$f=\\sum_\\alpha\\frac{1}{A_\\alpha^2}\\sum_i\\left(a_{i\\alpha}k_i-A_\\alpha\\right)^2$$\n",
    "\n",
    "its gradient is\n",
    "\n",
    "$$\\begin{align}\\frac{\\partial f}{\\partial A_\\alpha}&=-2\\sum_i\\frac{a_{i\\alpha}k_i}{A_\\alpha^2}\\left(\\frac{a_{i\\alpha}k_i}{A_\\alpha}-1\\right)\\\\\\frac{\\partial f}{\\partial k_i}&=\\sum_\\alpha\\frac{1}{A_\\alpha^2}2a_{i\\alpha}(a_{i\\alpha}k_i-A_\\alpha)\\end{align}$$\n",
    "\n",
    "and its Hessian is\n",
    "\n",
    "$$\\begin{align}\\frac{\\partial^2f}{\\partial A_\\alpha\\partial A_\\beta}&=\\delta_{\\alpha\\beta}\\times\\frac{2}{A_\\alpha^4}\\sum_i(3a_{i\\alpha}^2k_i^2-2a_{i\\alpha}k_i A_\\alpha)\\\\\n",
    "\\frac{\\partial^2f}{\\partial k_i\\partial k_j}&=\\delta_{ij}\\times 2\\sum_\\alpha\\frac{a_{i\\alpha}^2}{A_\\alpha^2}\\\\\n",
    "\\frac{\\partial^2f}{\\partial k_i\\partial A_\\alpha}&=-2\\frac{a_{i\\alpha}}{A_\\alpha^2}\\left(2\\frac{a_{i\\alpha}k_i}{A_\\alpha}-1\\right)\n",
    "\\end{align}$$"
   ]
  },
  {
   "cell_type": "markdown",
   "metadata": {},
   "source": [
    "We use as initial values $k_i=1$ and $A_\\alpha=(\\sum_i a_{i\\alpha})/n_\\alpha$, where $n_\\alpha$ is the number of sites or CPU types in task $\\alpha$."
   ]
  },
  {
   "cell_type": "code",
   "execution_count": 6,
   "metadata": {
    "collapsed": false
   },
   "outputs": [
    {
     "name": "stdout",
     "output_type": "stream",
     "text": [
      "343.408992114\n"
     ]
    }
   ],
   "source": [
    "nsite = len(smap)\n",
    "a_ini = np.zeros(1)\n",
    "a_ini[0] = np.mean([b[0] for b in data.values()])\n",
    "print a_ini[0]\n",
    "x_ini = np.hstack((a_ini, np.ones(nsite)))"
   ]
  },
  {
   "cell_type": "code",
   "execution_count": 7,
   "metadata": {
    "collapsed": false
   },
   "outputs": [
    {
     "name": "stdout",
     "output_type": "stream",
     "text": [
      "Sites/CPUs:  101\n",
      "Sum of initial values:  444.408992114\n"
     ]
    }
   ],
   "source": [
    "print \"Sites/CPUs: \", nsite\n",
    "print \"Sum of initial values: \", np.sum(x_ini)"
   ]
  },
  {
   "cell_type": "markdown",
   "metadata": {},
   "source": [
    "The function and its derivatives are implemented."
   ]
  },
  {
   "cell_type": "code",
   "execution_count": 8,
   "metadata": {
    "collapsed": true
   },
   "outputs": [],
   "source": [
    "def func_val(x):\n",
    "    a = x[:1]\n",
    "    k = x[1:]\n",
    "    total = 0.\n",
    "    kf = np.array([k[i] for i in data.keys()])\n",
    "    v = np.array([b[0] for b in data.values()])\n",
    "    f_term = 1. / a[0]**2 * (v * kf - a[0])**2\n",
    "    delta = np.sum(f_term)\n",
    "    total += delta\n",
    "    return total"
   ]
  },
  {
   "cell_type": "code",
   "execution_count": 9,
   "metadata": {
    "collapsed": false
   },
   "outputs": [],
   "source": [
    "def grad_val(x):\n",
    "    a = x[:1]\n",
    "    k = x[1:]\n",
    "    g = np.zeros(len(x))\n",
    "    g_a = 0.\n",
    "    for i in data.keys():\n",
    "        (v, _) = data[i]\n",
    "        g_a += -2 * v * k[i] / a[0]**2 * (v * k[i] / a[0] - 1)\n",
    "        g_k = 2 / a[0]**2 * v * (k[i] * v - a[0])\n",
    "        g[1 + i] += g_k\n",
    "    g[0] = g_a\n",
    "    return g"
   ]
  },
  {
   "cell_type": "code",
   "execution_count": 10,
   "metadata": {
    "collapsed": true
   },
   "outputs": [],
   "source": [
    "def hess_val(x):\n",
    "    a = x[:1]\n",
    "    k = x[1:]\n",
    "    diag = np.zeros_like(x)   # diagonal of the Hessian\n",
    "    H = np.diag(diag)\n",
    "    h = 0.\n",
    "    for i in data.keys():\n",
    "        (v, _) = data[i]\n",
    "        h += 2 / a[0]**4 * (3 * v**2 * k[i]**2 - 2 * v * k[i] * a[0])\n",
    "        diag[1 + i] += 2 * v**2 / a[0]**2\n",
    "        H[0][1+i] = H[1+i][0] = -2 * v / a[0]**2 * ( 2 * v * k[i] / a[0] - 1)\n",
    "    diag[0] = h\n",
    "    H = H + np.diag(diag)\n",
    "    return H"
   ]
  },
  {
   "cell_type": "code",
   "execution_count": 11,
   "metadata": {
    "collapsed": false
   },
   "outputs": [
    {
     "data": {
      "text/plain": [
       "9.2962701255528408"
      ]
     },
     "execution_count": 11,
     "metadata": {},
     "output_type": "execute_result"
    }
   ],
   "source": [
    "func_val(x_ini)"
   ]
  },
  {
   "cell_type": "code",
   "execution_count": 12,
   "metadata": {
    "collapsed": false
   },
   "outputs": [
    {
     "name": "stdout",
     "output_type": "stream",
     "text": [
      "1.0530201041e-06\n"
     ]
    }
   ],
   "source": [
    "check = optimize.check_grad(func_val, grad_val, x_ini)\n",
    "print check"
   ]
  },
  {
   "cell_type": "markdown",
   "metadata": {},
   "source": [
    "The minimisation is performed."
   ]
  },
  {
   "cell_type": "code",
   "execution_count": 13,
   "metadata": {
    "collapsed": false
   },
   "outputs": [
    {
     "name": "stdout",
     "output_type": "stream",
     "text": [
      "Optimization terminated successfully.\n",
      "         Current function value: 0.000000\n",
      "         Iterations: 10\n",
      "         Function evaluations: 11\n",
      "         Gradient evaluations: 20\n",
      "         Hessian evaluations: 10\n"
     ]
    }
   ],
   "source": [
    "result_val = optimize.minimize(func_val, x_ini, method='Newton-CG', jac=grad_val, hess=hess_val, options={'disp': True, 'maxiter': 2000})"
   ]
  },
  {
   "cell_type": "markdown",
   "metadata": {},
   "source": [
    "It is worth noting that the problem is underdetermined: multiplying all $k_i$ and all $A_\\alpha$ by the same number would not change the value of the function. Hence, the absolute scale of the fitted parameters has no meaning (as expected), and they should be rescaled to an appropriate reference. In principle, the fit should not converge, but it does. A more rigorous approach would be to fix one of the $k_i$ parameters to one and reduce by one the number of parameters fitted. This is left as a future improvement."
   ]
  },
  {
   "cell_type": "markdown",
   "metadata": {},
   "source": [
    "The fitted parameters are printed:"
   ]
  },
  {
   "cell_type": "code",
   "execution_count": 14,
   "metadata": {
    "collapsed": false
   },
   "outputs": [],
   "source": [
    "k_val = result_val.x[1:]"
   ]
  },
  {
   "cell_type": "code",
   "execution_count": 15,
   "metadata": {
    "collapsed": false
   },
   "outputs": [
    {
     "name": "stdout",
     "output_type": "stream",
     "text": [
      "Intel(R) Xeon(R) CPU E5-2680 v4 @ 2.40GHz 35840 KB\t2.163611\n",
      "s+AMD Opteron(TM) Processor 6212                  2048 KB\t0.840385\n",
      "s+AMD Opteron(TM) Processor 6234                  2048 KB\t0.861525\n",
      "s+AMD Opteron(TM) Processor 6238                  2048 KB\t0.811207\n",
      "s+AMD Opteron(TM) Processor 6272                  2048 KB\t0.634158\n",
      "s+AMD Opteron(TM) Processor 6274                  2048 KB\t0.685652\n",
      "s+AMD Opteron(TM) Processor 6276                  2048 KB\t0.723194\n",
      "s+AMD Opteron(tm) Processor 6134 512 KB\t0.962596\n",
      "s+AMD Opteron(tm) Processor 6168 512 KB\t0.787791\n",
      "s+AMD Opteron(tm) Processor 6174 512 KB\t0.901499\n",
      "s+AMD Opteron(tm) Processor 6176 512 KB\t0.877951\n",
      "s+AMD Opteron(tm) Processor 6320                  2048 KB\t1.009234\n",
      "s+AMD Opteron(tm) Processor 6376                  2048 KB\t0.819302\n",
      "s+Dual-Core AMD Opteron(tm) Processor 2212 HE 1024 KB\t0.712893\n",
      "s+Dual-Core AMD Opteron(tm) Processor 2216 1024 KB\t0.849734\n",
      "s+Dual-Core AMD Opteron(tm) Processor 2218 HE 1024 KB\t0.920029\n",
      "s+Dual-Core AMD Opteron(tm) Processor 2220 1024 KB\t0.989836\n",
      "s+Intel Celeron_4x0 (Conroe/Merom Class Core 2) 4096 KB\t1.502807\n",
      "s+Intel Core Processor (Haswell) 4096 KB\t1.702650\n",
      "s+Intel Core Processor (Haswell, no TSX) 4096 KB\t1.709134\n",
      "s+Intel Core i7 9xx (Nehalem Class Core i7) 4096 KB\t0.853646\n",
      "s+Intel Xeon E312xx (Sandy Bridge) 4096 KB\t1.269965\n",
      "s+Intel(R) Core(TM)2 Quad CPU    Q6600  @ 2.40GHz 4096 KB\t0.930477\n",
      "s+Intel(R) Core(TM)2 Quad CPU    Q8300  @ 2.50GHz 2048 KB\t1.025429\n",
      "s+Intel(R) Xeon(R) CPU            5150  @ 2.66GHz 4096 KB\t0.995385\n",
      "s+Intel(R) Xeon(R) CPU            5160  @ 3.00GHz 4096 KB\t1.135626\n",
      "s+Intel(R) Xeon(R) CPU           E5335  @ 2.00GHz 4096 KB\t0.753077\n",
      "s+Intel(R) Xeon(R) CPU           E5345  @ 2.33GHz 4096 KB\t0.811470\n",
      "s+Intel(R) Xeon(R) CPU           E5405  @ 2.00GHz 6144 KB\t0.841765\n",
      "s+Intel(R) Xeon(R) CPU           E5410  @ 2.33GHz 6144 KB\t0.982629\n",
      "s+Intel(R) Xeon(R) CPU           E5420  @ 2.50GHz 6144 KB\t1.005796\n",
      "s+Intel(R) Xeon(R) CPU           E5430  @ 2.66GHz 6144 KB\t1.097467\n",
      "s+Intel(R) Xeon(R) CPU           E5440  @ 2.83GHz 6144 KB\t1.173623\n",
      "s+Intel(R) Xeon(R) CPU           E5450  @ 3.00GHz 6144 KB\t1.220712\n",
      "s+Intel(R) Xeon(R) CPU           E5472  @ 3.00GHz 6144 KB\t1.240906\n",
      "s+Intel(R) Xeon(R) CPU           E5504  @ 2.00GHz 4096 KB\t0.883245\n",
      "s+Intel(R) Xeon(R) CPU           E5507  @ 2.27GHz 4096 KB\t0.939373\n",
      "s+Intel(R) Xeon(R) CPU           E5520  @ 2.27GHz 8192 KB\t0.941220\n",
      "s+Intel(R) Xeon(R) CPU           E5530  @ 2.40GHz 8192 KB\t1.205001\n",
      "s+Intel(R) Xeon(R) CPU           E5540  @ 2.53GHz 8192 KB\t1.157071\n",
      "s+Intel(R) Xeon(R) CPU           E5620  @ 2.40GHz 12288 KB\t0.806143\n",
      "s+Intel(R) Xeon(R) CPU           E5630  @ 2.53GHz 12288 KB\t0.821330\n",
      "s+Intel(R) Xeon(R) CPU           E5645  @ 2.40GHz 12288 KB\t0.912865\n",
      "s+Intel(R) Xeon(R) CPU           L5420  @ 2.50GHz 6144 KB\t1.087064\n",
      "s+Intel(R) Xeon(R) CPU           L5430  @ 2.66GHz 6144 KB\t1.109079\n",
      "s+Intel(R) Xeon(R) CPU           L5520  @ 2.27GHz 8192 KB\t1.018767\n",
      "s+Intel(R) Xeon(R) CPU           L5640  @ 2.27GHz 12288 KB\t0.822841\n",
      "s+Intel(R) Xeon(R) CPU           X5355  @ 2.66GHz 4096 KB\t1.035998\n",
      "s+Intel(R) Xeon(R) CPU           X5550  @ 2.67GHz 8192 KB\t1.247686\n",
      "s+Intel(R) Xeon(R) CPU           X5560  @ 2.80GHz 8192 KB\t1.175177\n",
      "s+Intel(R) Xeon(R) CPU           X5570  @ 2.93GHz 8192 KB\t1.071686\n",
      "s+Intel(R) Xeon(R) CPU           X5650  @ 2.67GHz 12288 KB\t1.179712\n",
      "s+Intel(R) Xeon(R) CPU           X5660  @ 2.80GHz 12288 KB\t1.149053\n",
      "s+Intel(R) Xeon(R) CPU           X5675  @ 3.07GHz 12288 KB\t1.217428\n",
      "s+Intel(R) Xeon(R) CPU E5-2430 v2 @ 2.50GHz 15360 KB\t1.452985\n",
      "s+Intel(R) Xeon(R) CPU E5-2450 0 @ 2.10GHz 20480 KB\t1.151583\n",
      "s+Intel(R) Xeon(R) CPU E5-2470 v2 @ 2.40GHz 25600 KB\t1.313987\n",
      "s+Intel(R) Xeon(R) CPU E5-2609 v2 @ 2.50GHz 10240 KB\t1.276739\n",
      "s+Intel(R) Xeon(R) CPU E5-2620 0 @ 2.00GHz 15360 KB\t0.783577\n",
      "s+Intel(R) Xeon(R) CPU E5-2620 v2 @ 2.10GHz 15360 KB\t1.114281\n",
      "s+Intel(R) Xeon(R) CPU E5-2620 v3 @ 2.40GHz 15360 KB\t1.410087\n",
      "s+Intel(R) Xeon(R) CPU E5-2630 0 @ 2.30GHz 15360 KB\t0.693844\n",
      "s+Intel(R) Xeon(R) CPU E5-2630 v3 @ 2.40GHz 20480 KB\t1.361455\n",
      "s+Intel(R) Xeon(R) CPU E5-2630 v3 @ 2.40GHz 4096 KB\t1.591864\n",
      "s+Intel(R) Xeon(R) CPU E5-2630 v4 @ 2.20GHz 25600 KB\t1.317629\n",
      "s+Intel(R) Xeon(R) CPU E5-2630L 0 @ 2.00GHz 15360 KB\t0.904392\n",
      "s+Intel(R) Xeon(R) CPU E5-2630L v2 @ 2.40GHz 15360 KB\t1.030089\n",
      "s+Intel(R) Xeon(R) CPU E5-2630L v4 @ 1.80GHz 25600 KB\t1.839210\n",
      "s+Intel(R) Xeon(R) CPU E5-2640 0 @ 2.50GHz 15360 KB\t1.279945\n",
      "s+Intel(R) Xeon(R) CPU E5-2640 v2 @ 2.00GHz 20480 KB\t1.170536\n",
      "s+Intel(R) Xeon(R) CPU E5-2640 v2 @ 2.00GHz 4096 KB\t0.981998\n",
      "s+Intel(R) Xeon(R) CPU E5-2640 v3 @ 2.60GHz 20480 KB\t1.467791\n",
      "s+Intel(R) Xeon(R) CPU E5-2650 0 @ 2.00GHz 20480 KB\t1.010918\n",
      "s+Intel(R) Xeon(R) CPU E5-2650 v2 @ 2.60GHz 20480 KB\t1.121751\n",
      "s+Intel(R) Xeon(R) CPU E5-2650 v2 @ 2.60GHz 4096 KB\t1.240701\n",
      "s+Intel(R) Xeon(R) CPU E5-2650 v3 @ 2.30GHz 25600 KB\t1.152055\n",
      "s+Intel(R) Xeon(R) CPU E5-2650 v4 @ 2.20GHz 15360 KB\t1.871495\n",
      "s+Intel(R) Xeon(R) CPU E5-2658A v3 @ 2.20GHz 30720 KB\t1.214658\n",
      "s+Intel(R) Xeon(R) CPU E5-2660 0 @ 2.20GHz 20480 KB\t1.123155\n",
      "s+Intel(R) Xeon(R) CPU E5-2660 v2 @ 2.20GHz 25600 KB\t1.227269\n",
      "s+Intel(R) Xeon(R) CPU E5-2660 v3 @ 2.60GHz 25600 KB\t1.157977\n",
      "s+Intel(R) Xeon(R) CPU E5-2665 0 @ 2.40GHz 20480 KB\t1.185723\n",
      "s+Intel(R) Xeon(R) CPU E5-2670 0 @ 2.60GHz 20480 KB\t1.072278\n",
      "s+Intel(R) Xeon(R) CPU E5-2670 v3 @ 2.30GHz 30720 KB\t1.210817\n",
      "s+Intel(R) Xeon(R) CPU E5-2680 v2 @ 2.80GHz 25600 KB\t1.055710\n",
      "s+Intel(R) Xeon(R) CPU E5-2680 v3 @ 2.50GHz 30720 KB\t1.829707\n",
      "s+Intel(R) Xeon(R) CPU E5-2680 v4 @ 2.40GHz 35840 KB\t1.459300\n",
      "s+Intel(R) Xeon(R) CPU E5-2680 v4 @ 2.40GHz 4096 KB\t1.512646\n",
      "s+Intel(R) Xeon(R) CPU E5-2695 v2 @ 2.40GHz 30720 KB\t0.838104\n",
      "s+Intel(R) Xeon(R) CPU E5-2695 v3 @ 2.30GHz 35840 KB\t1.261033\n",
      "s+Intel(R) Xeon(R) CPU E5-2697 v3 @ 2.60GHz 35840 KB\t1.571421\n",
      "s+Intel(R) Xeon(R) CPU E5-2698 v3 @ 2.30GHz 40960 KB\t1.232927\n",
      "s+Intel(R) Xeon(R) CPU E5-4620 0 @ 2.20GHz 16384 KB\t1.116505\n",
      "s+Intel(R) Xeon(TM) CPU 2.66GHz 2048 KB\t0.475300\n",
      "s+Intel(R) Xeon(TM) CPU 2.80GHz 1024 KB\t0.484732\n",
      "s+Intel(R) Xeon(TM) CPU 3.00GHz 2048 KB\t0.533630\n",
      "s+Intel(R) Xeon(TM) CPU 3.20GHz 1024 KB\t0.590801\n",
      "s+Intel(R) Xeon(TM) CPU 3.20GHz 2048 KB\t0.570676\n",
      "s+QEMU Virtual CPU version (cpu64-rhel6) 4096 KB\t0.848942\n",
      "s+QEMU Virtual CPU version 1.2.0 4096 KB\t1.050689\n",
      "s+QEMU Virtual CPU version 2.0.0 4096 KB\t0.807006\n"
     ]
    }
   ],
   "source": [
    "output_file = 'results_cputype_task_cpu_sub_0_hc.csv'\n",
    "with open(output_file, 'wb') as csvfile:\n",
    "    w = csv.writer(csvfile, delimiter=',')\n",
    "    for s in sorted(smap.keys()):\n",
    "        print '%s\\t%f' % (s, k_val[smap[s]])\n",
    "        w.writerow([s, k_val[smap[s]]])"
   ]
  },
  {
   "cell_type": "markdown",
   "metadata": {},
   "source": [
    "### Error estimation"
   ]
  },
  {
   "cell_type": "markdown",
   "metadata": {},
   "source": [
    "In order to estimate the error on the fitted parameters, we can use the standard method of finding the variations on the parameters that increase the value of $\\chi^2$ by one with respect to its minimum. To do this, we must calculate the value of $S$.\n",
    "\n",
    "From what was said above:\n",
    "\n",
    "$$S=\\frac{\\sigma_{i\\alpha}k_i}{A_\\alpha}$$\n",
    "\n",
    "and considering that $\\sigma_{i\\alpha}$ is the standard deviation of $a_{i\\alpha}$, we can expect that the observed values $\\frac{a_{i\\alpha}k_i}{A_\\alpha}$ will be distributed around one with a standard deviation of $S$.\n",
    "\n",
    "Around the minimum, the following equation holds:\n",
    "\n",
    "$$1\\equiv\\chi^2-\\chi^2_{\\text{min}}=\\frac{\\Delta f}{S^2}\\simeq\\frac{1}{S^2}\\frac{1}{2}\\frac{\\partial^2f}{\\partial k_i^2}\\Delta k_i^2$$\n",
    "\n",
    "and considering that\n",
    "\n",
    "$$\\frac{\\partial^2f}{\\partial k_i^2}=2\\sum_\\alpha\\frac{a_{i\\alpha}^2}{A_\\alpha^2}$$\n",
    "\n",
    "one concludes that\n",
    "\n",
    "$$\\Delta k_i\\simeq\\frac{S}{\\sqrt{\\sum_\\alpha\\frac{a_{i\\alpha}^2}{A_\\alpha^2}}}$$\n",
    "\n",
    "We can easily measure $S$ from the data as follows."
   ]
  },
  {
   "cell_type": "code",
   "execution_count": 22,
   "metadata": {
    "collapsed": true
   },
   "outputs": [],
   "source": [
    "x = result_val.x\n",
    "points = list()\n",
    "for i in data.keys():\n",
    "    (v, _) = data[i]\n",
    "    p = v * x[1+i] / x[0]\n",
    "    points.append(p)"
   ]
  },
  {
   "cell_type": "code",
   "execution_count": 23,
   "metadata": {
    "collapsed": false
   },
   "outputs": [
    {
     "name": "stdout",
     "output_type": "stream",
     "text": [
      "The value of S is: 0.000\n"
     ]
    },
    {
     "data": {
      "image/png": "[encoded data removed]",
      "text/plain": [
       "<matplotlib.figure.Figure at 0x1bed2da0>"
      ]
     },
     "metadata": {},
     "output_type": "display_data"
    }
   ],
   "source": [
    "bins = 100\n",
    "xrange = (0., 2.)\n",
    "binsize = (xrange[1] - xrange[0]) / bins\n",
    "fig = plt.hist(points, bins=bins, range=xrange)\n",
    "n = len(points)\n",
    "mu = np.mean(points)\n",
    "sigma = np.std(points)\n",
    "plt.xlabel(r'$a_{i\\alpha}k_i/A_\\alpha$')\n",
    "plt.text(1.4, 1400., r'$\\mu=%.3f\\pm%.3f$' % (mu, sigma))\n",
    "S = sigma\n",
    "print 'The value of S is: %.3f' % S"
   ]
  },
  {
   "cell_type": "markdown",
   "metadata": {},
   "source": [
    "For fun, let's fit the distribution with one gaussian."
   ]
  },
  {
   "cell_type": "code",
   "execution_count": 24,
   "metadata": {
    "collapsed": true
   },
   "outputs": [],
   "source": [
    "y, x = np.histogram(points, bins=bins, range=xrange)\n",
    "y = np.divide(y, np.float(np.sum(y))*binsize)"
   ]
  },
  {
   "cell_type": "code",
   "execution_count": 25,
   "metadata": {
    "collapsed": false
   },
   "outputs": [
    {
     "name": "stdout",
     "output_type": "stream",
     "text": [
      "0.988468120827 0.00958170602392\n",
      "The value of S is: 0.010\n"
     ]
    },
    {
     "data": {
      "image/png": "[encoded data removed]",
      "text/plain": [
       "<matplotlib.figure.Figure at 0x40bdc50>"
      ]
     },
     "metadata": {},
     "output_type": "display_data"
    }
   ],
   "source": [
    "def f(x, m, s):\n",
    "    return 1 / (s * np.sqrt(2 * np.pi)) * np.exp(-(x - m)**2 / (2 * s**2))\n",
    "\n",
    "plt.plot(x[:-1], y)\n",
    "(m, s), _ = optimize.curve_fit(f, x[:-1], y)\n",
    "print m, s\n",
    "plt.plot(x, f(x, m, s))\n",
    "S1 = s\n",
    "print 'The value of S is: %.3f' % S1"
   ]
  },
  {
   "cell_type": "code",
   "execution_count": 26,
   "metadata": {
    "collapsed": false
   },
   "outputs": [],
   "source": [
    "x = result_val.x\n",
    "points2 = list()\n",
    "for i in data.keys():\n",
    "    (v, _) = data[i]\n",
    "    p = v / a_ini[0]\n",
    "    points2.append(p)"
   ]
  },
  {
   "cell_type": "code",
   "execution_count": 27,
   "metadata": {
    "collapsed": false
   },
   "outputs": [
    {
     "name": "stdout",
     "output_type": "stream",
     "text": [
      "The value of S is: 0.302\n"
     ]
    },
    {
     "data": {
      "image/png": "[encoded data removed]",
      "text/plain": [
       "<matplotlib.figure.Figure at 0x1c135b38>"
      ]
     },
     "metadata": {},
     "output_type": "display_data"
    }
   ],
   "source": [
    "bins = 100\n",
    "xrange = (0., 2.)\n",
    "binsize = (xrange[1] - xrange[0]) / bins\n",
    "fig = plt.hist(points2, bins=bins, range=xrange)\n",
    "n = len(points2)\n",
    "mu = np.mean(points2)\n",
    "sigma = np.std(points2)\n",
    "print 'The value of S is: %.3f' % sigma\n",
    "S = sigma"
   ]
  },
  {
   "cell_type": "code",
   "execution_count": 28,
   "metadata": {
    "collapsed": false
   },
   "outputs": [],
   "source": [
    "x = result_val.x\n",
    "a = x[:1]\n",
    "k = x[1:]\n",
    "k_err = np.zeros_like(k)\n",
    "c = 0\n",
    "c += len(data)\n",
    "for i in data.keys():\n",
    "    (v, _) = data[i]\n",
    "    k_err[i] += v**2 / a[0]**2\n",
    "k_err = S / np.sqrt(k_err)"
   ]
  },
  {
   "cell_type": "markdown",
   "metadata": {},
   "source": [
    "### Goodness of fit"
   ]
  },
  {
   "cell_type": "markdown",
   "metadata": {},
   "source": [
    "To test the goodness of our fit, we can calculate the reduced $\\chi^2$ ad the minimum, which is $\\chi^2/(N-m)$, where $N$ is the number of independent measurements and $m$ the number of fitted parameters."
   ]
  },
  {
   "cell_type": "code",
   "execution_count": 29,
   "metadata": {
    "collapsed": false
   },
   "outputs": [
    {
     "name": "stdout",
     "output_type": "stream",
     "text": [
      "Degrees of freedom: 100\n",
      "The value of the reduced chi2 is: 0.000\n",
      "Standard deviation of reduced chi2: 0.071\n"
     ]
    }
   ],
   "source": [
    "deg = c\n",
    "chi2r = func_val(result_val.x) / S**2 / deg\n",
    "print 'Degrees of freedom: %d' % deg\n",
    "print 'The value of the reduced chi2 is: %.3f' % chi2r\n",
    "print 'Standard deviation of reduced chi2: %.3f' % (1. / np.sqrt(2. * deg))"
   ]
  },
  {
   "cell_type": "code",
   "execution_count": null,
   "metadata": {
    "collapsed": true
   },
   "outputs": [],
   "source": []
  },
  {
   "cell_type": "code",
   "execution_count": null,
   "metadata": {
    "collapsed": true
   },
   "outputs": [],
   "source": []
  }
 ],
 "metadata": {
  "kernelspec": {
   "display_name": "Python 2",
   "language": "python",
   "name": "python2"
  },
  "language_info": {
   "codemirror_mode": {
    "name": "ipython",
    "version": 2
   },
   "file_extension": ".py",
   "mimetype": "text/x-python",
   "name": "python",
   "nbconvert_exporter": "python",
   "pygments_lexer": "ipython2",
   "version": "2.7.11"
  }
 },
 "nbformat": 4,
 "nbformat_minor": 0
}
