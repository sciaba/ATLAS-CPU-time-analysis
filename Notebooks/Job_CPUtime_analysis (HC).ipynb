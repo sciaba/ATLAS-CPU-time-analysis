{
 "cells": [
  {
   "cell_type": "markdown",
   "metadata": {},
   "source": [
    "# CPU time analysis"
   ]
  },
  {
   "cell_type": "markdown",
   "metadata": {},
   "source": [
    "## Setup"
   ]
  },
  {
   "cell_type": "code",
   "execution_count": 1,
   "metadata": {
    "collapsed": false
   },
   "outputs": [],
   "source": [
    "import re\n",
    "import datetime\n",
    "from math import log\n",
    "import csv\n",
    "import pprint\n",
    "import math\n",
    "import random\n",
    "from collections import Counter\n",
    "import numpy as np\n",
    "import matplotlib.pyplot as plt\n",
    "from pandas import Series, DataFrame\n",
    "import pandas as pd\n",
    "from elasticsearch import Elasticsearch, helpers\n",
    "\n",
    "from __future__ import division\n",
    "\n",
    "%matplotlib inline\n",
    "\n",
    "pp = pprint.PrettyPrinter()"
   ]
  },
  {
   "cell_type": "markdown",
   "metadata": {},
   "source": [
    "## Open connection to ES"
   ]
  },
  {
   "cell_type": "code",
   "execution_count": 2,
   "metadata": {
    "collapsed": false
   },
   "outputs": [],
   "source": [
    "es = Elasticsearch([{'host':'atlas-kibana.mwt2.org', 'port':9200}],timeout=60)"
   ]
  },
  {
   "cell_type": "markdown",
   "metadata": {
    "collapsed": true
   },
   "source": [
    "## List all jobs\\_archive\\_* indices"
   ]
  },
  {
   "cell_type": "code",
   "execution_count": 3,
   "metadata": {
    "collapsed": false
   },
   "outputs": [],
   "source": [
    "indices = es.cat.indices(index=\"jobs_archive_*\", h=\"index\", request_timeout=600).split('\\n')\n",
    "indices = sorted(indices)\n",
    "indices = [x for x in indices if x != '']"
   ]
  },
  {
   "cell_type": "markdown",
   "metadata": {},
   "source": [
    "## Function to list all jobs\\_archive\\_* indices in the last N days"
   ]
  },
  {
   "cell_type": "code",
   "execution_count": 4,
   "metadata": {
    "collapsed": false
   },
   "outputs": [],
   "source": [
    "def time_filter(indices, days=0, until=0):\n",
    "    if days == 0:\n",
    "        return [\"jobs_archive_*\"]\n",
    "    today = datetime.date.today()\n",
    "    filtered = []\n",
    "    datefmt = '%Y-%m-%d'\n",
    "    for i in indices:\n",
    "        day = re.sub(r'jobs_archive_', '', i).rstrip()\n",
    "        try:\n",
    "            day = datetime.datetime.strptime(day, datefmt).date()\n",
    "            diff = today - day\n",
    "            if until <= diff.days < days + until:\n",
    "                filtered.append(i.rstrip())\n",
    "        except:\n",
    "            continue\n",
    "    return filtered"
   ]
  },
  {
   "cell_type": "markdown",
   "metadata": {
    "collapsed": true
   },
   "source": [
    "## Group by (processingtype, transformation) and plot distribution of average CPU time/event by jeditaskid"
   ]
  },
  {
   "cell_type": "code",
   "execution_count": 5,
   "metadata": {
    "collapsed": false
   },
   "outputs": [
    {
     "data": {
      "text/plain": [
       "'jobs_archive_*'"
      ]
     },
     "execution_count": 5,
     "metadata": {},
     "output_type": "execute_result"
    }
   ],
   "source": [
    "# Change second argument to use a different time range for ES queries\n",
    "ind = time_filter(indices, 0, 0)\n",
    "ind = ','.join(ind)\n",
    "ind"
   ]
  },
  {
   "cell_type": "markdown",
   "metadata": {},
   "source": [
    "I select only jobs with at least one event, successful, with a core count of at least one and that ran for at least 60 seconds.\n",
    "\n",
    "I exclude test and analysis jobs.\n",
    "\n",
    "I aggregate jobs by _processingtype_, _transformation_, _atlasrelease_, _computingsite_ and _jeditaskdid_.\n",
    "In practice, all jobs in a task have the same value of all these variables save for the site, so each bucket corresponds to a combination of (_jeditaskid_, _computingsite_).\n",
    "\n",
    "I record these quantities:\n",
    "\n",
    "* Average of CPU time per event\n",
    "* Average of wall-clock time per event\n",
    "* Total CPU time\n",
    "* Total wall-clock time (that is, multiplied by the number of cores)\n",
    "* Average of core count\n",
    "* Total number of events\n",
    "* Average of CPU time divided by wall-clock time\n",
    "\n",
    "Already at this level there's a theoretical flaw: averages of time and efficiency are done from the values of each individual job, disregarding the number of events in the job. The averages are correct only if all jobs in a task process the same number of jobs. **This is not strictly the case, but usually all jobs in a task have at least very similar numbers of events**."
   ]
  },
  {
   "cell_type": "code",
   "execution_count": 8,
   "metadata": {
    "collapsed": false
   },
   "outputs": [],
   "source": [
    "s = {\n",
    "    \"size\": 0,\n",
    "    \"query\": {\n",
    "        \"filtered\": {\n",
    "            \"filter\": {\n",
    "                \"bool\": {\n",
    "                    \"must\": [\n",
    "                        {\n",
    "                            \"range\": {\n",
    "                                \"nevents\": {\"gte\": 1}\n",
    "                            }\n",
    "                        },\n",
    "                        {\n",
    "                            \"range\": {\n",
    "                                \"corecount\": {\"gte\": 0}\n",
    "                            }\n",
    "                        },\n",
    "                        {\n",
    "                            \"range\": {\n",
    "                                \"wall_time\": {\"gt\": 1, \"lt\": 2590000}\n",
    "                            }\n",
    "                        },\n",
    "                        { \n",
    "                            \"query\": {\n",
    "                                \"wildcard\": {\n",
    "                                    \"destinationdblock\": \"hc_test*tid601*\"\n",
    "                                }\n",
    "                            }\n",
    "                        },\n",
    "                        {\n",
    "                            \"match\": {\n",
    "                                \"jobstatus\": \"finished\"\n",
    "                            }\n",
    "                        }\n",
    "                    ],\n",
    "                    \"must_not\": [\n",
    "                        {\n",
    "                            \"query\": {\n",
    "                                \"match\": {\n",
    "                                    \"computingsite\": \"BOINC\"\n",
    "                                }\n",
    "                            }\n",
    "                        }\n",
    "                    ]\n",
    "                }\n",
    "            }\n",
    "        }\n",
    "    },\n",
    "    \"aggs\": {\n",
    "        \"ptypes\": {\n",
    "            \"terms\": {\n",
    "                \"field\": \"processingtype\",\n",
    "                \"size\": 1000\n",
    "            },\n",
    "            \"aggs\": {\n",
    "                \"transf\": {\n",
    "                    \"terms\": {\n",
    "                        \"field\": \"transformation\",\n",
    "                        \"size\": 1000\n",
    "                    },\n",
    "                    \"aggs\": {\n",
    "                        \"atlrel\": {\n",
    "                            \"terms\": {\n",
    "                                \"field\": \"atlasrelease\",\n",
    "                                \"size\": 1000\n",
    "                            },\n",
    "                            \"aggs\": {\n",
    "                                \"site\": {\n",
    "                                    \"terms\": {\n",
    "                                        \"field\": \"computingsite\",\n",
    "                                        \"size\": 1000\n",
    "                                    },\n",
    "                                    \"aggs\": {\n",
    "                                        \"cputype\": {\n",
    "                                            \"terms\": {\n",
    "                                                \"field\": \"cpuconsumptionunit\",\n",
    "                                                \"size\": 1000\n",
    "                                            },\n",
    "                                            \"aggs\": {\n",
    "                                                \"1\": {\n",
    "                                                    \"extended_stats\": {\n",
    "                                                        \"script\": \"(doc['nevents'].value) ? doc['cpuconsumptiontime'].value/doc['nevents'].value : 0\",\n",
    "                                                        \"lang\": \"expression\"\n",
    "                                                    }\n",
    "                                                },\n",
    "                                                \"2\": {\n",
    "                                                    \"extended_stats\": {\n",
    "                                                        \"script\": \"(doc['nevents'].value) ? doc['wall_time'].value / doc['nevents'].value : 0\",\n",
    "                                                        \"lang\": \"expression\"\n",
    "                                                    }\n",
    "                                                },\n",
    "                                                \"3\": {\n",
    "                                                    \"sum\": {\n",
    "                                                        \"field\": \"cpuconsumptiontime\"\n",
    "                                                    }\n",
    "                                                },\n",
    "                                                \"4\": {\n",
    "                                                    \"sum\": {\n",
    "                                                        \"field\": \"wall_time\",\n",
    "                                                    }\n",
    "                                                },\n",
    "                                                \"6\": {\n",
    "                                                    \"avg\": {\n",
    "                                                        \"field\": \"corecount\"\n",
    "                                                    }\n",
    "                                                },\n",
    "                                                \"7\": {\n",
    "                                                    \"sum\": {\n",
    "                                                        \"field\": \"nevents\"\n",
    "                                                    }\n",
    "                                                },\n",
    "                                                \"8\": {\n",
    "                                                    \"avg\": {\n",
    "                                                        \"script\": \"doc['cpuconsumptiontime'].value/doc['wall_time'].value\",\n",
    "                                                        \"lang\": \"expression\"\n",
    "                                                    }\n",
    "                                                }\n",
    "                                            }\n",
    "                                        }\n",
    "                                    }\n",
    "                                }\n",
    "                            }\n",
    "                        }\n",
    "                    }\n",
    "                }\n",
    "            }\n",
    "        }\n",
    "    }\n",
    "}\n",
    "res = es.search(index=ind, body=s, request_timeout=12000)"
   ]
  },
  {
   "cell_type": "markdown",
   "metadata": {},
   "source": [
    "## Write data to a CSV file"
   ]
  },
  {
   "cell_type": "code",
   "execution_count": 9,
   "metadata": {
    "collapsed": true
   },
   "outputs": [],
   "source": [
    "output_file = 'task_cpu_hcx.csv'"
   ]
  },
  {
   "cell_type": "code",
   "execution_count": 10,
   "metadata": {
    "collapsed": false
   },
   "outputs": [],
   "source": [
    "with open(output_file, 'w') as f:\n",
    "    writer = csv.writer(f, lineterminator='\\n')\n",
    "    buckets1 = res['aggregations']['ptypes']['buckets']\n",
    "    for b1 in buckets1:\n",
    "        ptype = b1['key']\n",
    "        buckets2 = b1['transf']['buckets']\n",
    "        for b2 in buckets2:\n",
    "            transf = b2['key']\n",
    "            buckets3 = b2['atlrel']['buckets']\n",
    "            for b3 in buckets3:\n",
    "                atlrel = b3['key']\n",
    "                buckets4 = b3['site']['buckets']\n",
    "                for b4 in buckets4:\n",
    "                    site = b4['key']\n",
    "                    buckets5 = b4['cputype']['buckets']\n",
    "                    for b5 in buckets5:\n",
    "                        cputype = b5['key']\n",
    "                        writer.writerow([\n",
    "                            ptype,\n",
    "                            transf,\n",
    "                            atlrel,\n",
    "                            site,\n",
    "                            cputype,\n",
    "                            b5['1']['count'],\n",
    "                            b5['1']['avg'],\n",
    "                            b5['1']['std_deviation'],\n",
    "                            b5['2']['avg'],\n",
    "                            b5['2']['std_deviation'],\n",
    "                            b5['3']['value'],\n",
    "                            b5['4']['value'],\n",
    "                            b5['6']['value'],\n",
    "                            b5['7']['value'],\n",
    "                            b5['8']['value']\n",
    "                            ])"
   ]
  },
  {
   "cell_type": "markdown",
   "metadata": {
    "collapsed": true
   },
   "source": [
    "## Import to a DataFrame"
   ]
  },
  {
   "cell_type": "code",
   "execution_count": 11,
   "metadata": {
    "collapsed": true
   },
   "outputs": [],
   "source": [
    "input_file = 'task_cpu_hcx.csv'"
   ]
  },
  {
   "cell_type": "code",
   "execution_count": 12,
   "metadata": {
    "collapsed": false
   },
   "outputs": [],
   "source": [
    "df = pd.read_csv(input_file, dtype={'cpu_n': 'float'}, names=['processingtype', 'transformation', 'atlrel', 'site',\n",
    "                                                               'cputype', 'njobs', 'cpuevt_avg', 'cpuevt_rms', 'wallevt_avg',\n",
    "                                                               'wallevt_rms', 'cpu', 'wc', 'cores', 'jevts', 'eff'])"
   ]
  },
  {
   "cell_type": "code",
   "execution_count": 11,
   "metadata": {
    "collapsed": false,
    "scrolled": false
   },
   "outputs": [
    {
     "data": {
      "text/html": [
       "<div>\n",
       "<table border=\"1\" class=\"dataframe\">\n",
       "  <thead>\n",
       "    <tr style=\"text-align: right;\">\n",
       "      <th></th>\n",
       "      <th>processingtype</th>\n",
       "      <th>transformation</th>\n",
       "      <th>atlrel</th>\n",
       "      <th>site</th>\n",
       "      <th>cputype</th>\n",
       "      <th>njobs</th>\n",
       "      <th>cpuevt_avg</th>\n",
       "      <th>cpuevt_rms</th>\n",
       "      <th>wallevt_avg</th>\n",
       "      <th>wallevt_rms</th>\n",
       "      <th>cpu</th>\n",
       "      <th>wc</th>\n",
       "      <th>cores</th>\n",
       "      <th>jevts</th>\n",
       "      <th>eff</th>\n",
       "    </tr>\n",
       "  </thead>\n",
       "  <tbody>\n",
       "    <tr>\n",
       "      <th>0</th>\n",
       "      <td>gangarobot-pft</td>\n",
       "      <td>AtlasG4_trf.py</td>\n",
       "      <td>Atlas-17.2.2</td>\n",
       "      <td>DESY-ZN</td>\n",
       "      <td>s+Intel(R) Xeon(R) CPU E5-2640 v3 @ 2.60GHz 20...</td>\n",
       "      <td>282</td>\n",
       "      <td>177.241135</td>\n",
       "      <td>8.949358</td>\n",
       "      <td>187.973050</td>\n",
       "      <td>9.838143</td>\n",
       "      <td>499820</td>\n",
       "      <td>530084</td>\n",
       "      <td>0</td>\n",
       "      <td>2820</td>\n",
       "      <td>0.943102</td>\n",
       "    </tr>\n",
       "    <tr>\n",
       "      <th>1</th>\n",
       "      <td>gangarobot-pft</td>\n",
       "      <td>AtlasG4_trf.py</td>\n",
       "      <td>Atlas-17.2.2</td>\n",
       "      <td>DESY-ZN</td>\n",
       "      <td>s+Intel(R) Xeon(R) CPU E5-2660 0 @ 2.20GHz 204...</td>\n",
       "      <td>162</td>\n",
       "      <td>258.916667</td>\n",
       "      <td>10.021097</td>\n",
       "      <td>270.900617</td>\n",
       "      <td>11.186900</td>\n",
       "      <td>419445</td>\n",
       "      <td>438859</td>\n",
       "      <td>0</td>\n",
       "      <td>1620</td>\n",
       "      <td>0.955938</td>\n",
       "    </tr>\n",
       "    <tr>\n",
       "      <th>2</th>\n",
       "      <td>gangarobot-pft</td>\n",
       "      <td>AtlasG4_trf.py</td>\n",
       "      <td>Atlas-17.2.2</td>\n",
       "      <td>DESY-ZN</td>\n",
       "      <td>s+Intel(R) Xeon(R) CPU           X5675  @ 3.07...</td>\n",
       "      <td>150</td>\n",
       "      <td>230.162000</td>\n",
       "      <td>7.847332</td>\n",
       "      <td>240.606000</td>\n",
       "      <td>9.054201</td>\n",
       "      <td>345243</td>\n",
       "      <td>360909</td>\n",
       "      <td>0</td>\n",
       "      <td>1500</td>\n",
       "      <td>0.956818</td>\n",
       "    </tr>\n",
       "    <tr>\n",
       "      <th>3</th>\n",
       "      <td>gangarobot-pft</td>\n",
       "      <td>AtlasG4_trf.py</td>\n",
       "      <td>Atlas-17.2.2</td>\n",
       "      <td>DESY-ZN</td>\n",
       "      <td>s+Intel(R) Xeon(R) CPU           E5520  @ 2.27...</td>\n",
       "      <td>73</td>\n",
       "      <td>308.036986</td>\n",
       "      <td>7.815115</td>\n",
       "      <td>324.498630</td>\n",
       "      <td>9.931526</td>\n",
       "      <td>224867</td>\n",
       "      <td>236884</td>\n",
       "      <td>0</td>\n",
       "      <td>730</td>\n",
       "      <td>0.949508</td>\n",
       "    </tr>\n",
       "    <tr>\n",
       "      <th>4</th>\n",
       "      <td>gangarobot-pft</td>\n",
       "      <td>AtlasG4_trf.py</td>\n",
       "      <td>Atlas-17.2.2</td>\n",
       "      <td>DESY-ZN</td>\n",
       "      <td>s+Intel(R) Xeon(R) CPU           X5660  @ 2.80...</td>\n",
       "      <td>49</td>\n",
       "      <td>250.008163</td>\n",
       "      <td>11.567986</td>\n",
       "      <td>260.695918</td>\n",
       "      <td>12.123042</td>\n",
       "      <td>122504</td>\n",
       "      <td>127741</td>\n",
       "      <td>0</td>\n",
       "      <td>490</td>\n",
       "      <td>0.959038</td>\n",
       "    </tr>\n",
       "    <tr>\n",
       "      <th>5</th>\n",
       "      <td>gangarobot-pft</td>\n",
       "      <td>AtlasG4_trf.py</td>\n",
       "      <td>Atlas-17.2.2</td>\n",
       "      <td>BNL_ATLAS_2</td>\n",
       "      <td>s+Intel(R) Xeon(R) CPU E5-2660 v3 @ 2.60GHz 25...</td>\n",
       "      <td>196</td>\n",
       "      <td>187.875510</td>\n",
       "      <td>11.865824</td>\n",
       "      <td>209.156633</td>\n",
       "      <td>17.532664</td>\n",
       "      <td>368236</td>\n",
       "      <td>409947</td>\n",
       "      <td>0</td>\n",
       "      <td>1960</td>\n",
       "      <td>0.901316</td>\n",
       "    </tr>\n",
       "    <tr>\n",
       "      <th>6</th>\n",
       "      <td>gangarobot-pft</td>\n",
       "      <td>AtlasG4_trf.py</td>\n",
       "      <td>Atlas-17.2.2</td>\n",
       "      <td>BNL_ATLAS_2</td>\n",
       "      <td>s+Intel(R) Xeon(R) CPU           X5660  @ 2.80...</td>\n",
       "      <td>163</td>\n",
       "      <td>295.100000</td>\n",
       "      <td>18.602797</td>\n",
       "      <td>316.298773</td>\n",
       "      <td>28.671306</td>\n",
       "      <td>481013</td>\n",
       "      <td>515567</td>\n",
       "      <td>0</td>\n",
       "      <td>1630</td>\n",
       "      <td>0.935727</td>\n",
       "    </tr>\n",
       "    <tr>\n",
       "      <th>7</th>\n",
       "      <td>gangarobot-pft</td>\n",
       "      <td>AtlasG4_trf.py</td>\n",
       "      <td>Atlas-17.2.2</td>\n",
       "      <td>BNL_ATLAS_2</td>\n",
       "      <td>s+Intel(R) Xeon(R) CPU E5-2660 v2 @ 2.20GHz 25...</td>\n",
       "      <td>125</td>\n",
       "      <td>283.424000</td>\n",
       "      <td>16.040700</td>\n",
       "      <td>303.938400</td>\n",
       "      <td>21.031096</td>\n",
       "      <td>354280</td>\n",
       "      <td>379923</td>\n",
       "      <td>0</td>\n",
       "      <td>1250</td>\n",
       "      <td>0.933812</td>\n",
       "    </tr>\n",
       "    <tr>\n",
       "      <th>8</th>\n",
       "      <td>gangarobot-pft</td>\n",
       "      <td>AtlasG4_trf.py</td>\n",
       "      <td>Atlas-17.2.2</td>\n",
       "      <td>BNL_ATLAS_2</td>\n",
       "      <td>s+Intel(R) Xeon(R) CPU E5-2660 0 @ 2.20GHz 204...</td>\n",
       "      <td>115</td>\n",
       "      <td>282.077391</td>\n",
       "      <td>19.553877</td>\n",
       "      <td>306.020870</td>\n",
       "      <td>24.819657</td>\n",
       "      <td>324389</td>\n",
       "      <td>351924</td>\n",
       "      <td>0</td>\n",
       "      <td>1150</td>\n",
       "      <td>0.923762</td>\n",
       "    </tr>\n",
       "    <tr>\n",
       "      <th>9</th>\n",
       "      <td>gangarobot-pft</td>\n",
       "      <td>AtlasG4_trf.py</td>\n",
       "      <td>Atlas-17.2.2</td>\n",
       "      <td>BNL_ATLAS_2</td>\n",
       "      <td>s+Intel(R) Xeon(R) CPU           X5650  @ 2.67...</td>\n",
       "      <td>114</td>\n",
       "      <td>307.692105</td>\n",
       "      <td>17.254825</td>\n",
       "      <td>326.822807</td>\n",
       "      <td>21.067411</td>\n",
       "      <td>350769</td>\n",
       "      <td>372578</td>\n",
       "      <td>0</td>\n",
       "      <td>1140</td>\n",
       "      <td>0.942191</td>\n",
       "    </tr>\n",
       "  </tbody>\n",
       "</table>\n",
       "</div>"
      ],
      "text/plain": [
       "   processingtype  transformation        atlrel         site  \\\n",
       "0  gangarobot-pft  AtlasG4_trf.py  Atlas-17.2.2      DESY-ZN   \n",
       "1  gangarobot-pft  AtlasG4_trf.py  Atlas-17.2.2      DESY-ZN   \n",
       "2  gangarobot-pft  AtlasG4_trf.py  Atlas-17.2.2      DESY-ZN   \n",
       "3  gangarobot-pft  AtlasG4_trf.py  Atlas-17.2.2      DESY-ZN   \n",
       "4  gangarobot-pft  AtlasG4_trf.py  Atlas-17.2.2      DESY-ZN   \n",
       "5  gangarobot-pft  AtlasG4_trf.py  Atlas-17.2.2  BNL_ATLAS_2   \n",
       "6  gangarobot-pft  AtlasG4_trf.py  Atlas-17.2.2  BNL_ATLAS_2   \n",
       "7  gangarobot-pft  AtlasG4_trf.py  Atlas-17.2.2  BNL_ATLAS_2   \n",
       "8  gangarobot-pft  AtlasG4_trf.py  Atlas-17.2.2  BNL_ATLAS_2   \n",
       "9  gangarobot-pft  AtlasG4_trf.py  Atlas-17.2.2  BNL_ATLAS_2   \n",
       "\n",
       "                                             cputype  njobs  cpuevt_avg  \\\n",
       "0  s+Intel(R) Xeon(R) CPU E5-2640 v3 @ 2.60GHz 20...    282  177.241135   \n",
       "1  s+Intel(R) Xeon(R) CPU E5-2660 0 @ 2.20GHz 204...    162  258.916667   \n",
       "2  s+Intel(R) Xeon(R) CPU           X5675  @ 3.07...    150  230.162000   \n",
       "3  s+Intel(R) Xeon(R) CPU           E5520  @ 2.27...     73  308.036986   \n",
       "4  s+Intel(R) Xeon(R) CPU           X5660  @ 2.80...     49  250.008163   \n",
       "5  s+Intel(R) Xeon(R) CPU E5-2660 v3 @ 2.60GHz 25...    196  187.875510   \n",
       "6  s+Intel(R) Xeon(R) CPU           X5660  @ 2.80...    163  295.100000   \n",
       "7  s+Intel(R) Xeon(R) CPU E5-2660 v2 @ 2.20GHz 25...    125  283.424000   \n",
       "8  s+Intel(R) Xeon(R) CPU E5-2660 0 @ 2.20GHz 204...    115  282.077391   \n",
       "9  s+Intel(R) Xeon(R) CPU           X5650  @ 2.67...    114  307.692105   \n",
       "\n",
       "   cpuevt_rms  wallevt_avg  wallevt_rms     cpu      wc  cores  jevts  \\\n",
       "0    8.949358   187.973050     9.838143  499820  530084      0   2820   \n",
       "1   10.021097   270.900617    11.186900  419445  438859      0   1620   \n",
       "2    7.847332   240.606000     9.054201  345243  360909      0   1500   \n",
       "3    7.815115   324.498630     9.931526  224867  236884      0    730   \n",
       "4   11.567986   260.695918    12.123042  122504  127741      0    490   \n",
       "5   11.865824   209.156633    17.532664  368236  409947      0   1960   \n",
       "6   18.602797   316.298773    28.671306  481013  515567      0   1630   \n",
       "7   16.040700   303.938400    21.031096  354280  379923      0   1250   \n",
       "8   19.553877   306.020870    24.819657  324389  351924      0   1150   \n",
       "9   17.254825   326.822807    21.067411  350769  372578      0   1140   \n",
       "\n",
       "        eff  \n",
       "0  0.943102  \n",
       "1  0.955938  \n",
       "2  0.956818  \n",
       "3  0.949508  \n",
       "4  0.959038  \n",
       "5  0.901316  \n",
       "6  0.935727  \n",
       "7  0.933812  \n",
       "8  0.923762  \n",
       "9  0.942191  "
      ]
     },
     "execution_count": 11,
     "metadata": {},
     "output_type": "execute_result"
    }
   ],
   "source": [
    "df[:10]"
   ]
  },
  {
   "cell_type": "markdown",
   "metadata": {},
   "source": [
    "Grouping by _processingtype_ and _transformation_ to calculate e.g. the average CPU time per event for each combination has a problem: one cannot simply average the values in the same group because this does not take into account the fact that different values have different statistical weights. So, one must use as weights the number of events in each bucket.\n",
    "Unfortunately pandas does not have a simple way to do it for more than one quantity."
   ]
  },
  {
   "cell_type": "markdown",
   "metadata": {},
   "source": [
    "## Averages of wall-clock times"
   ]
  },
  {
   "cell_type": "code",
   "execution_count": 13,
   "metadata": {
    "collapsed": false
   },
   "outputs": [
    {
     "data": {
      "text/plain": [
       "processingtype  transformation\n",
       "gangarobot-pft  AtlasG4_trf.py    372.789838\n",
       "dtype: float64"
      ]
     },
     "execution_count": 13,
     "metadata": {},
     "output_type": "execute_result"
    }
   ],
   "source": [
    "# Define aggregation\n",
    "grouped = df.groupby(['processingtype', 'transformation'], as_index=False)\n",
    "\n",
    "# Define function to average a given quantity using the number of events es weight\n",
    "def weighted_avg(group, a, w):\n",
    "    return np.average(group[a], weights=group[w])\n",
    "\n",
    "# Calculate Series with the correctly averaged CPU time per event\n",
    "a = grouped.apply(weighted_avg,'wallevt_avg', 'wc')\n",
    "a"
   ]
  },
  {
   "cell_type": "markdown",
   "metadata": {},
   "source": [
    "## Some statistics"
   ]
  },
  {
   "cell_type": "markdown",
   "metadata": {},
   "source": [
    "The following is the list of (processingtype, transformation) combinations with some statistics.\n",
    "Rows are sorted by decreasing wall-clock time."
   ]
  },
  {
   "cell_type": "code",
   "execution_count": 14,
   "metadata": {
    "collapsed": false,
    "scrolled": false
   },
   "outputs": [
    {
     "data": {
      "text/html": [
       "<div>\n",
       "<table border=\"1\" class=\"dataframe\">\n",
       "  <thead>\n",
       "    <tr style=\"text-align: right;\">\n",
       "      <th></th>\n",
       "      <th>processingtype</th>\n",
       "      <th>transformation</th>\n",
       "      <th>wc</th>\n",
       "      <th>cpuevt_avg</th>\n",
       "      <th>jevts</th>\n",
       "      <th>cores</th>\n",
       "      <th>wallevt_avg</th>\n",
       "      <th>njobs</th>\n",
       "    </tr>\n",
       "  </thead>\n",
       "  <tbody>\n",
       "    <tr>\n",
       "      <th>0</th>\n",
       "      <td>gangarobot-pft</td>\n",
       "      <td>AtlasG4_trf.py</td>\n",
       "      <td>148807636.0</td>\n",
       "      <td>331.289397</td>\n",
       "      <td>429700.0</td>\n",
       "      <td>0.0</td>\n",
       "      <td>357.613957</td>\n",
       "      <td>42970</td>\n",
       "    </tr>\n",
       "  </tbody>\n",
       "</table>\n",
       "</div>"
      ],
      "text/plain": [
       "   processingtype  transformation           wc  cpuevt_avg     jevts  cores  \\\n",
       "0  gangarobot-pft  AtlasG4_trf.py  148807636.0  331.289397  429700.0    0.0   \n",
       "\n",
       "   wallevt_avg  njobs  \n",
       "0   357.613957  42970  "
      ]
     },
     "execution_count": 14,
     "metadata": {},
     "output_type": "execute_result"
    }
   ],
   "source": [
    "grouped = df.groupby(['processingtype', 'transformation'], as_index=False)\n",
    "a = grouped.agg({\n",
    "                 'cpuevt_avg' : 'mean',   # wrong!\n",
    "                 'wallevt_avg': 'mean',   # wrong!\n",
    "                 'wc': 'sum',             # ok!\n",
    "                 'cores': 'mean',         # wrong!\n",
    "                 'njobs': 'sum',          # ok!\n",
    "                 'jevts': 'sum'})         # ok!\n",
    "a.sort_values('wc', ascending=False)"
   ]
  },
  {
   "cell_type": "markdown",
   "metadata": {},
   "source": [
    "## Events per task"
   ]
  },
  {
   "cell_type": "markdown",
   "metadata": {},
   "source": [
    "## Distribution of efficiency"
   ]
  },
  {
   "cell_type": "code",
   "execution_count": 15,
   "metadata": {
    "collapsed": false
   },
   "outputs": [
    {
     "data": {
      "text/plain": [
       "<matplotlib.text.Text at 0x9bea6a0>"
      ]
     },
     "execution_count": 15,
     "metadata": {},
     "output_type": "execute_result"
    },
    {
     "data": {
      "image/png": "[encoded data removed]",
      "text/plain": [
       "<matplotlib.figure.Figure at 0x9490dd8>"
      ]
     },
     "metadata": {},
     "output_type": "display_data"
    }
   ],
   "source": [
    "fig = df['eff'].hist(bins=50, log=False, range=(0.5, 1.))   # NOT VERY CORRECT (arithmetic mean of efficiencies...)\n",
    "plt.xlabel('efficiency')\n",
    "plt.ylabel('tasks')"
   ]
  },
  {
   "cell_type": "markdown",
   "metadata": {},
   "source": [
    "In the plot above, note the existence of efficiencies larger than 1! This has to be understood."
   ]
  },
  {
   "cell_type": "markdown",
   "metadata": {},
   "source": [
    "## Plot distribution of averages of CPU time per event for tasks grouped by processingtype and transformation"
   ]
  },
  {
   "cell_type": "markdown",
   "metadata": {},
   "source": [
    "The following plots show the distribution of the average CPU time per event in tasks having the same processingtype and transformation. Therefore each histogram has a number of entries equal to the number of JEDI tasks for that combination.\n",
    "\n",
    "The purpose of these plots is to show how much tasks of the same type can differ in terms of average CPU time per event.\n",
    "Combinations consisting of merge jobs, of that account for less than 1.5% of the total wall-clock time, are ignored."
   ]
  },
  {
   "cell_type": "code",
   "execution_count": 15,
   "metadata": {
    "collapsed": false,
    "scrolled": false
   },
   "outputs": [
    {
     "data": {
      "image/png": "[encoded data removed]",
      "text/plain": [
       "<matplotlib.figure.Figure at 0xd462eb8>"
      ]
     },
     "metadata": {},
     "output_type": "display_data"
    }
   ],
   "source": [
    "fig = plt.figure(figsize=(20,20))\n",
    "plt.rcParams.update({'font.size': 10})\n",
    "var = 'cpuevt_avg'\n",
    "log_scale = False\n",
    "wc_tot = df['wc'].sum()\n",
    "i = 1\n",
    "\n",
    "grouped = df.groupby(['processingtype', 'transformation'], as_index=False)\n",
    "\n",
    "for (p, t), g in grouped:\n",
    "    if re.search(r\"merge\", t, flags=re.IGNORECASE):\n",
    "        continue\n",
    "    if g['wc'].sum() < 0.015 * wc_tot:\n",
    "        continue\n",
    "    mean = np.average(g[var], weights=g['wc'])   # average time weighted with no. of events\n",
    "    std = math.sqrt(np.average((g[var] - mean)**2, weights=g['wc']))\n",
    "    range = [0., min(mean + std * 4., 10000.)]\n",
    "    sp = plt.subplot(3, 3, i)\n",
    "    plt.hist(g[var].tolist(), bins=25, range=range, weights=g['wc'].tolist(), log=log_scale)   # integral is total no. of events\n",
    "    plt.xlabel('CPU time per event(s)')\n",
    "    plt.ylabel('wall-clock time (s)')\n",
    "    t_x = lambda x: sp.get_xlim()[0] + (sp.get_xlim()[1] - sp.get_xlim()[0]) * x\n",
    "    t_y = lambda x: sp.get_ylim()[0] + (sp.get_ylim()[1] - sp.get_ylim()[0]) * x\n",
    "    stats = r'$\\mu=%.3f,\\ \\sigma=%.3f$' % (mean, std)\n",
    "    stats2 = r'$\\mathit{events}=%g$' % g['jevts'].sum()\n",
    "    if log_scale:\n",
    "        plt.text(t_x(.4), sp.get_ylim()[0] * (sp.get_ylim()[1] / sp.get_ylim()[0])**.8, p+'\\n'+t)\n",
    "        plt.text(t_x(.4), sp.get_ylim()[0] * (sp.get_ylim()[1] / sp.get_ylim()[0])**.7, stats)\n",
    "        plt.text(t_x(.4), sp.get_ylim()[0] * (sp.get_ylim()[1] / sp.get_ylim()[0])**.6, stats2)\n",
    "    else:\n",
    "        plt.text(t_x(.4), t_y(.8), p+'\\n'+t)\n",
    "        plt.text(t_x(.4), t_y(.7), stats)\n",
    "        plt.text(t_x(.4), t_y(.6), stats2)\n",
    "    i += 1"
   ]
  },
  {
   "cell_type": "markdown",
   "metadata": {},
   "source": [
    "## Plot distribution of averages of wallclock time per event for tasks grouped by processingtype and transformation"
   ]
  },
  {
   "cell_type": "markdown",
   "metadata": {},
   "source": [
    "The following plots show the distribution of the average wallclock time per event in tasks having the same processingtype and transformation. Therefore each histogram has a number of entries equal to the number of JEDI tasks for that combination.\n",
    "\n",
    "The purpose of these plots is to show how much tasks of the same type can differ in terms of average wallclock time per event."
   ]
  },
  {
   "cell_type": "code",
   "execution_count": 16,
   "metadata": {
    "collapsed": false,
    "scrolled": false
   },
   "outputs": [
    {
     "data": {
      "image/png": "[encoded data removed]",
      "text/plain": [
       "<matplotlib.figure.Figure at 0x96a7c18>"
      ]
     },
     "metadata": {},
     "output_type": "display_data"
    }
   ],
   "source": [
    "fig = plt.figure(figsize=(20,20))\n",
    "plt.rcParams.update({'font.size': 10})\n",
    "var = 'wallevt_avg'\n",
    "log_scale = False\n",
    "wc_tot = df['wc'].sum()\n",
    "i = 1\n",
    "\n",
    "grouped = df.groupby(['processingtype', 'transformation'], as_index=False)\n",
    "\n",
    "for (p, t), g in grouped:\n",
    "    if re.search(r\"merge\", t, flags=re.IGNORECASE):\n",
    "        continue\n",
    "    if g['wc'].sum() < 0.015 * wc_tot:\n",
    "        continue\n",
    "    mean = np.average(g[var], weights=g['wc'])   # average time weighted with no. of events\n",
    "    std = math.sqrt(np.average((g[var] - mean)**2, weights=g['wc']))\n",
    "    range = [0., min(mean + std * 5., 8000.)]\n",
    "    sp = plt.subplot(3, 3, i)\n",
    "    plt.hist(g[var].tolist(), bins=25, range=range, weights=g['wc'].tolist(), log=log_scale)   # integral is total no. of events\n",
    "    plt.xlabel('wall-clock time per event(s)')\n",
    "    plt.ylabel('wall-clock time (s)')\n",
    "    t_x = lambda x: sp.get_xlim()[0] + (sp.get_xlim()[1] - sp.get_xlim()[0]) * x\n",
    "    t_y = lambda x: sp.get_ylim()[0] + (sp.get_ylim()[1] - sp.get_ylim()[0]) * x\n",
    "    stats = r'$\\mu=%.3f,\\ \\sigma=%.3f$' % (mean, std)\n",
    "    stats2 = r'$\\mathit{events}=%g$' % g['jevts'].sum()\n",
    "    if log_scale:\n",
    "        plt.text(t_x(.4), sp.get_ylim()[0] * (sp.get_ylim()[1] / sp.get_ylim()[0])**.8, p+'\\n'+t)\n",
    "        plt.text(t_x(.4), sp.get_ylim()[0] * (sp.get_ylim()[1] / sp.get_ylim()[0])**.7, stats)\n",
    "        plt.text(t_x(.4), sp.get_ylim()[0] * (sp.get_ylim()[1] / sp.get_ylim()[0])**.6, stats2)\n",
    "    else:\n",
    "        plt.text(t_x(.4), t_y(.8), p+'\\n'+t)\n",
    "        plt.text(t_x(.4), t_y(.7), stats)\n",
    "        plt.text(t_x(.4), t_y(.6), stats2)\n",
    "    i += 1"
   ]
  },
  {
   "cell_type": "markdown",
   "metadata": {},
   "source": [
    "## Plot distribution of averages of CPU efficiency per event for tasks grouped by processingtype and transformation"
   ]
  },
  {
   "cell_type": "code",
   "execution_count": 19,
   "metadata": {
    "collapsed": false
   },
   "outputs": [
    {
     "name": "stdout",
     "output_type": "stream",
     "text": [
      "Total wall-clock: 1.48808e+08 s\n",
      "Total wall-clock of evgen: 0 s\n",
      "Total wall-clock of evgen with low efficiency: 0 s\n"
     ]
    },
    {
     "data": {
      "image/png": "[encoded data removed]",
      "text/plain": [
       "<matplotlib.figure.Figure at 0x9d796d8>"
      ]
     },
     "metadata": {},
     "output_type": "display_data"
    }
   ],
   "source": [
    "fig = plt.figure(figsize=(20,20))\n",
    "plt.rcParams.update({'font.size': 10})\n",
    "var = 'eff'\n",
    "wc_tot = df['wc'].sum()\n",
    "print 'Total wall-clock: %g s' % wc_tot\n",
    "print 'Total wall-clock of evgen: %g s' % df[df.processingtype == 'evgen']['wc'].sum()\n",
    "print 'Total wall-clock of evgen with low efficiency: %g s' % df[(df.processingtype == 'evgen') & (df['eff'] <= .8)]['wc'].sum()\n",
    "\n",
    "i = 1\n",
    "\n",
    "grouped = df.groupby(['processingtype', 'transformation'], as_index=False)\n",
    "\n",
    "for (p, t), g in grouped:\n",
    "    if i > 9: break\n",
    "    if re.search(r\"merge\", t, flags=re.IGNORECASE):\n",
    "        continue\n",
    "    if g['wc'].sum() < 0.015 * wc_tot:\n",
    "        continue\n",
    "    mean = np.average(g[var], weights=g['wc'])   # average time weighted with no. of events\n",
    "    std = math.sqrt(np.average((g[var] - mean)**2, weights=g['wc']))\n",
    "    range = [0.5, 1.]\n",
    "    sp = plt.subplot(3, 3, i)\n",
    "    plt.hist(g[var].tolist(), bins=50, range=range, weights=g['wc'].tolist(), log=False)   # integral is total no. of events\n",
    "    plt.xlabel('CPU efficiency')\n",
    "    plt.ylabel('wall-clock time (s)')\n",
    "    t_x = lambda x: sp.get_xlim()[0] + (sp.get_xlim()[1] - sp.get_xlim()[0]) * x\n",
    "    t_y = lambda x: sp.get_ylim()[0] + (sp.get_ylim()[1] - sp.get_ylim()[0]) * x\n",
    "    plt.text(t_x(.4), t_y(.8), p+'\\n'+t)\n",
    "    stats = r'$\\mu=%.3f,\\ \\sigma=%.3f$' % (mean, std)\n",
    "    plt.text(t_x(.4), t_y(.7), stats)\n",
    "    stats = r'$\\mathit{events}=%g$' % g['jevts'].sum()\n",
    "    plt.text(t_x(.4), t_y(.6), stats)\n",
    "    i += 1"
   ]
  },
  {
   "cell_type": "code",
   "execution_count": null,
   "metadata": {
    "collapsed": true
   },
   "outputs": [],
   "source": []
  }
 ],
 "metadata": {
  "kernelspec": {
   "display_name": "Python 2",
   "language": "python",
   "name": "python2"
  },
  "language_info": {
   "codemirror_mode": {
    "name": "ipython",
    "version": 2
   },
   "file_extension": ".py",
   "mimetype": "text/x-python",
   "name": "python",
   "nbconvert_exporter": "python",
   "pygments_lexer": "ipython2",
   "version": "2.7.11"
  }
 },
 "nbformat": 4,
 "nbformat_minor": 0
}
