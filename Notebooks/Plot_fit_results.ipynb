{
 "cells": [
  {
   "cell_type": "code",
   "execution_count": 192,
   "metadata": {
    "collapsed": false
   },
   "outputs": [],
   "source": [
    "import re\n",
    "import math\n",
    "import copy\n",
    "import csv\n",
    "from collections import defaultdict\n",
    "\n",
    "import numpy as np\n",
    "import matplotlib.pyplot as plt\n",
    "from pandas import Series, DataFrame\n",
    "import pandas as pd\n",
    "from scipy.optimize import curve_fit\n",
    "\n",
    "from __future__ import division\n",
    "\n",
    "%matplotlib inline"
   ]
  },
  {
   "cell_type": "markdown",
   "metadata": {},
   "source": [
    "## Read in fit results"
   ]
  },
  {
   "cell_type": "code",
   "execution_count": 193,
   "metadata": {
    "collapsed": true
   },
   "outputs": [],
   "source": [
    "fact = dict()\n",
    "fact_err = dict()"
   ]
  },
  {
   "cell_type": "code",
   "execution_count": 194,
   "metadata": {
    "collapsed": false
   },
   "outputs": [],
   "source": [
    "typ = 'evgen'\n",
    "factors = dict()\n",
    "factors_err = dict()\n",
    "input_file = 'results_cputype_task_cpu_%s_0.001.csv' % typ\n",
    "with open(input_file) as csvfile:\n",
    "    r = csv.reader(csvfile, delimiter=',')\n",
    "    for row in r:\n",
    "        (cpu, k, k_err) = row\n",
    "        factors[cpu] = float(k)\n",
    "        factors_err[cpu] = float(k_err)\n",
    "fact[typ] = copy.deepcopy(factors)\n",
    "fact_err[typ] = copy.deepcopy(factors_err)"
   ]
  },
  {
   "cell_type": "code",
   "execution_count": 195,
   "metadata": {
    "collapsed": false
   },
   "outputs": [],
   "source": [
    "typ = 'simul'\n",
    "factors = dict()\n",
    "factors_err = dict()\n",
    "input_file = 'results_cputype_task_cpu_%s_0.001.csv' % typ\n",
    "with open(input_file) as csvfile:\n",
    "    r = csv.reader(csvfile, delimiter=',')\n",
    "    for row in r:\n",
    "        (cpu, k, k_err) = row\n",
    "        factors[cpu] = float(k)\n",
    "        factors_err[cpu] = float(k_err)\n",
    "fact[typ] = copy.deepcopy(factors)\n",
    "fact_err[typ] = copy.deepcopy(factors_err)"
   ]
  },
  {
   "cell_type": "code",
   "execution_count": 196,
   "metadata": {
    "collapsed": false
   },
   "outputs": [],
   "source": [
    "typ = 'pile'\n",
    "factors = dict()\n",
    "factors_err = dict()\n",
    "input_file = 'results_cputype_task_cpu_%s_0.001.csv' % typ\n",
    "with open(input_file) as csvfile:\n",
    "    r = csv.reader(csvfile, delimiter=',')\n",
    "    for row in r:\n",
    "        (cpu, k, k_err) = row\n",
    "        factors[cpu] = float(k)\n",
    "        factors_err[cpu] = float(k_err)\n",
    "fact[typ] = copy.deepcopy(factors)\n",
    "fact_err[typ] = copy.deepcopy(factors_err)"
   ]
  },
  {
   "cell_type": "code",
   "execution_count": 197,
   "metadata": {
    "collapsed": false
   },
   "outputs": [],
   "source": [
    "typ = 'reprocessing'\n",
    "factors = dict()\n",
    "factors_err = dict()\n",
    "input_file = 'results_cputype_task_cpu_%s_0.001.csv' % typ\n",
    "with open(input_file) as csvfile:\n",
    "    r = csv.reader(csvfile, delimiter=',')\n",
    "    for row in r:\n",
    "        (cpu, k, k_err) = row\n",
    "        factors[cpu] = float(k)\n",
    "        factors_err[cpu] = float(k_err)\n",
    "fact[typ] = copy.deepcopy(factors)\n",
    "fact_err[typ] = copy.deepcopy(factors_err)"
   ]
  },
  {
   "cell_type": "code",
   "execution_count": 229,
   "metadata": {
    "collapsed": false
   },
   "outputs": [],
   "source": [
    "typ = 'hc'\n",
    "factors = dict()\n",
    "factors_err = dict()\n",
    "input_file = 'results_cputype_task_cpu_%s.csv' % typ\n",
    "with open(input_file) as csvfile:\n",
    "    r = csv.reader(csvfile, delimiter=',')\n",
    "    for row in r:\n",
    "        (cpu, k, k_err) = row\n",
    "        factors[cpu] = float(k)\n",
    "        factors_err[cpu] = float(k_err)\n",
    "fact[typ] = copy.deepcopy(factors)\n",
    "fact_err[typ] = copy.deepcopy(factors_err)"
   ]
  },
  {
   "cell_type": "markdown",
   "metadata": {},
   "source": [
    "## Plot k factors fitted for each CPU"
   ]
  },
  {
   "cell_type": "code",
   "execution_count": 199,
   "metadata": {
    "collapsed": false,
    "scrolled": false
   },
   "outputs": [
    {
     "data": {
      "text/plain": [
       "<matplotlib.text.Text at 0xcdc7a90>"
      ]
     },
     "execution_count": 199,
     "metadata": {},
     "output_type": "execute_result"
    },
    {
     "data": {
      "image/png": "[encoded data removed]",
      "text/plain": [
       "<matplotlib.figure.Figure at 0xe84d5f8>"
      ]
     },
     "metadata": {},
     "output_type": "display_data"
    }
   ],
   "source": [
    "typ = 'evgen'\n",
    "\n",
    "k_avg = dict()\n",
    "k_std = dict()\n",
    "x = list()\n",
    "y = list()\n",
    "yerr = list()\n",
    "i = 0\n",
    "for cpu in fact[typ].keys():\n",
    "    x.append(i)\n",
    "    y.append(fact[typ][cpu])\n",
    "    yerr.append(fact_err[typ][cpu])\n",
    "    i += 1\n",
    "plt.figure()\n",
    "plt.errorbar(x, y, yerr=yerr, fmt='o')\n",
    "plt.xlabel('CPU')\n",
    "plt.ylabel('CPU speed factor')\n",
    "plt.text(40., 1.4, typ)"
   ]
  },
  {
   "cell_type": "markdown",
   "metadata": {},
   "source": [
    "## Load HS06 values taken from HEPSPEC web site"
   ]
  },
  {
   "cell_type": "code",
   "execution_count": 200,
   "metadata": {
    "collapsed": false
   },
   "outputs": [],
   "source": [
    "df2 = pd.read_csv('HS06_ref.txt', names=['cpu', 'hs06', 'cores'])"
   ]
  },
  {
   "cell_type": "code",
   "execution_count": 201,
   "metadata": {
    "collapsed": false
   },
   "outputs": [],
   "source": [
    "hs = dict()\n",
    "factors = fact[typ]\n",
    "factors_err = fact_err[typ]\n",
    "for row in df2.itertuples():\n",
    "    cpu = row[1]\n",
    "    a = row[2] / row[3]\n",
    "    for cpu2 in factors.keys():\n",
    "        if cpu in cpu2:\n",
    "            hs[cpu2] = a"
   ]
  },
  {
   "cell_type": "code",
   "execution_count": 202,
   "metadata": {
    "collapsed": false
   },
   "outputs": [],
   "source": [
    "df = DataFrame({'k_avg': factors, 'k_std': factors_err, 'hs': hs}).sort_values(by='k_avg', inplace=False)"
   ]
  },
  {
   "cell_type": "markdown",
   "metadata": {},
   "source": [
    "## Plot factors for CPUs with HS06 data, no correction"
   ]
  },
  {
   "cell_type": "code",
   "execution_count": 203,
   "metadata": {
    "collapsed": false
   },
   "outputs": [
    {
     "data": {
      "text/plain": [
       "<matplotlib.text.Text at 0xf422240>"
      ]
     },
     "execution_count": 203,
     "metadata": {},
     "output_type": "execute_result"
    },
    {
     "data": {
      "image/png": "[encoded data removed]",
      "text/plain": [
       "<matplotlib.figure.Figure at 0xe05c5c0>"
      ]
     },
     "metadata": {},
     "output_type": "display_data"
    }
   ],
   "source": [
    "x = range(len(df))\n",
    "y = df.k_avg\n",
    "y_err = df.k_std\n",
    "plt.errorbar(x, y, yerr=y_err, fmt='o')\n",
    "plt.ylim([0., 2.])\n",
    "plt.xlabel('CPU model')\n",
    "plt.ylabel('speed factor')\n",
    "plt.text(50., 1.5, typ)"
   ]
  },
  {
   "cell_type": "markdown",
   "metadata": {},
   "source": [
    "## Plot factors for CPUs with HS06 data, with correction"
   ]
  },
  {
   "cell_type": "code",
   "execution_count": 204,
   "metadata": {
    "collapsed": false
   },
   "outputs": [
    {
     "data": {
      "text/plain": [
       "(0.0, 2.0)"
      ]
     },
     "execution_count": 204,
     "metadata": {},
     "output_type": "execute_result"
    },
    {
     "data": {
      "image/png": "[encoded data removed]",
      "text/plain": [
       "<matplotlib.figure.Figure at 0xe3d5710>"
      ]
     },
     "metadata": {},
     "output_type": "display_data"
    }
   ],
   "source": [
    "x = range(len(df))\n",
    "y = df.k_avg / df.hs * 10.\n",
    "y_err = df.k_std / df.hs * 10.\n",
    "plt.errorbar(x, y, yerr=y_err, fmt='o')\n",
    "plt.ylim([0., 2.])"
   ]
  },
  {
   "cell_type": "markdown",
   "metadata": {},
   "source": [
    "## Plot correlation between CPU speed factors and HS06/core"
   ]
  },
  {
   "cell_type": "code",
   "execution_count": 205,
   "metadata": {
    "collapsed": false
   },
   "outputs": [
    {
     "data": {
      "text/plain": [
       "<matplotlib.text.Text at 0xe043860>"
      ]
     },
     "execution_count": 205,
     "metadata": {},
     "output_type": "execute_result"
    },
    {
     "data": {
      "image/png": "[encoded data removed]",
      "text/plain": [
       "<matplotlib.figure.Figure at 0xf0f0630>"
      ]
     },
     "metadata": {},
     "output_type": "display_data"
    }
   ],
   "source": [
    "x = df.hs\n",
    "y = df.k_avg\n",
    "y_err = df.k_std\n",
    "plt.errorbar(x, y, yerr=y_err, fmt='o')\n",
    "plt.xlabel('HS06/core')\n",
    "plt.ylabel('CPU speed factor')\n",
    "plt.xlim([0., 15.])\n",
    "plt.ylim([0., 1.5])\n",
    "plt.text(6., 1.2, typ)"
   ]
  },
  {
   "cell_type": "markdown",
   "metadata": {
    "collapsed": true
   },
   "source": [
    "## Plot correlation between factors for evgen and simul"
   ]
  },
  {
   "cell_type": "code",
   "execution_count": 230,
   "metadata": {
    "collapsed": false
   },
   "outputs": [
    {
     "name": "stdout",
     "output_type": "stream",
     "text": [
      "101.0\n"
     ]
    },
    {
     "data": {
      "image/png": "[encoded data removed]",
      "text/plain": [
       "<matplotlib.figure.Figure at 0x119ff128>"
      ]
     },
     "metadata": {},
     "output_type": "display_data"
    }
   ],
   "source": [
    "type1 = 'reprocessing'\n",
    "type2 = 'hc'\n",
    "fact1 = fact[type1]\n",
    "fact2 = fact[type2]\n",
    "fact1_err = fact_err[type1]\n",
    "fact2_err = fact_err[type2]\n",
    "#print fact2['Intel(R) Xeon(R) CPU E5-2640 v2 @ 2.00GHz 4096 KB']\n",
    "x = list()\n",
    "y = list()\n",
    "x_err = list()\n",
    "y_err = list()\n",
    "s1 = set(fact1.keys())\n",
    "s2 = set(fact2.keys())\n",
    "s = s2.intersection(s1)\n",
    "for cpu in s:\n",
    "#    print '%s\\t%s\\t%s' % (cpu, fact1[cpu], fact2[cpu])\n",
    "    x.append(fact1[cpu])\n",
    "    x_err.append(fact1_err[cpu])\n",
    "    y.append(fact2[cpu])\n",
    "    y_err.append(fact2_err[cpu])\n",
    "plt.xlim([0., 2.])\n",
    "plt.ylim([0., 2.])\n",
    "plt.errorbar(x, y, xerr=x_err, yerr=y_err, fmt='o')\n",
    "plt.xlabel('CPU speed for %s events' % type1)\n",
    "plt.ylabel('CPU speed for %s events' % type2)\n",
    "print np.nansum(fact2.values())"
   ]
  },
  {
   "cell_type": "code",
   "execution_count": 226,
   "metadata": {
    "collapsed": false
   },
   "outputs": [
    {
     "name": "stdout",
     "output_type": "stream",
     "text": [
      "[[ 1.        0.518043]\n",
      " [ 0.518043  1.      ]]\n"
     ]
    }
   ],
   "source": [
    "print np.corrcoef(x, y, 0)"
   ]
  },
  {
   "cell_type": "markdown",
   "metadata": {},
   "source": [
    "## Fit to a straight line"
   ]
  },
  {
   "cell_type": "code",
   "execution_count": 227,
   "metadata": {
    "collapsed": false
   },
   "outputs": [
    {
     "name": "stdout",
     "output_type": "stream",
     "text": [
      "The slope of the linear fit is 0.505303 +- 0.123014\n",
      "The intercept of the linear fit is 0.523061 +- 0.125022\n"
     ]
    }
   ],
   "source": [
    "def f(x, a, b):\n",
    "    return a * x + b\n",
    "\n",
    "res = curve_fit(f, x, y)\n",
    "\n",
    "print \"The slope of the linear fit is %f +- %f\" % (res[0][0], np.sqrt(res[1][0][0]))\n",
    "print \"The intercept of the linear fit is %f +- %f\" % (res[0][1], np.sqrt(res[1][1][1]))"
   ]
  },
  {
   "cell_type": "code",
   "execution_count": null,
   "metadata": {
    "collapsed": true
   },
   "outputs": [],
   "source": []
  },
  {
   "cell_type": "code",
   "execution_count": 251,
   "metadata": {
    "collapsed": false
   },
   "outputs": [
    {
     "name": "stdout",
     "output_type": "stream",
     "text": [
      "0.0387210768413\n"
     ]
    },
    {
     "data": {
      "text/plain": [
       "(array([ 19.,  19.,   8.,   7.,   2.,   4.,   4.,   1.,   0.,   1.]),\n",
       " array([ 0.00370641,  0.0229396 ,  0.04217278,  0.06140596,  0.08063915,\n",
       "         0.09987233,  0.11910552,  0.1383387 ,  0.15757188,  0.17680507,\n",
       "         0.19603825]),\n",
       " <a list of 10 Patch objects>)"
      ]
     },
     "execution_count": 251,
     "metadata": {},
     "output_type": "execute_result"
    },
    {
     "data": {
      "image/png": "[encoded data removed]",
      "text/plain": [
       "<matplotlib.figure.Figure at 0xcc37c50>"
      ]
     },
     "metadata": {},
     "output_type": "display_data"
    }
   ],
   "source": [
    "types = ['evgen', 'simul', 'pile', 'reprocessing', 'hc']\n",
    "types = ['evgen', 'simul', 'pile']\n",
    "s = set(fact[types[0]].keys())\n",
    "stds = list()\n",
    "for typ in types:\n",
    "    f = fact[typ]\n",
    "    s = s.intersection(set(f.keys()))\n",
    "for cpu in s:\n",
    "    x = [fact[typ][cpu] for typ in types]\n",
    "    stds.append(np.std(x))\n",
    "print np.median(stds)\n",
    "plt.hist(stds)"
   ]
  },
  {
   "cell_type": "code",
   "execution_count": null,
   "metadata": {
    "collapsed": true
   },
   "outputs": [],
   "source": []
  }
 ],
 "metadata": {
  "kernelspec": {
   "display_name": "Python 2",
   "language": "python",
   "name": "python2"
  },
  "language_info": {
   "codemirror_mode": {
    "name": "ipython",
    "version": 2
   },
   "file_extension": ".py",
   "mimetype": "text/x-python",
   "name": "python",
   "nbconvert_exporter": "python",
   "pygments_lexer": "ipython2",
   "version": "2.7.11"
  }
 },
 "nbformat": 4,
 "nbformat_minor": 0
}
