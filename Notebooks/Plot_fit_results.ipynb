{
 "cells": [
  {
   "cell_type": "code",
   "execution_count": 168,
   "metadata": {
    "collapsed": true
   },
   "outputs": [],
   "source": [
    "import re\n",
    "import math\n",
    "import copy\n",
    "from collections import defaultdict\n",
    "import numpy as np\n",
    "import matplotlib.pyplot as plt\n",
    "from pandas import Series, DataFrame\n",
    "import pandas as pd\n",
    "from scipy.optimize import curve_fit\n",
    "\n",
    "from __future__ import division\n",
    "\n",
    "%matplotlib inline\n",
    "\n",
    "pp = pprint.PrettyPrinter()"
   ]
  },
  {
   "cell_type": "markdown",
   "metadata": {},
   "source": [
    "## Read in fit results for 10 independent samples of tasks of different types"
   ]
  },
  {
   "cell_type": "code",
   "execution_count": 169,
   "metadata": {
    "collapsed": true
   },
   "outputs": [],
   "source": [
    "fact = dict()"
   ]
  },
  {
   "cell_type": "code",
   "execution_count": 170,
   "metadata": {
    "collapsed": false
   },
   "outputs": [],
   "source": [
    "factors = defaultdict(list)   # Dict containing al k_factors fitted for a given CPU\n",
    "for i in range(10):\n",
    "    input_pattern = 'results_cputype_task_cpu_sub_%s_evgen_0.001.csv'\n",
    "    f = open(input_pattern % (str(i)))\n",
    "    for line in f:\n",
    "        cpu, k = line.strip().split(',')\n",
    "        k = float(k)\n",
    "        factors[cpu].append(k)\n",
    "    f.close()\n",
    "fact['evgen'] = copy.deepcopy(factors)"
   ]
  },
  {
   "cell_type": "code",
   "execution_count": 171,
   "metadata": {
    "collapsed": false
   },
   "outputs": [],
   "source": [
    "factors = defaultdict(list)   # Dict containing al k_factors fitted for a given CPU\n",
    "for i in range(10):\n",
    "    input_pattern = 'results_cputype_task_cpu_sub_%s_simul_0.001.csv'\n",
    "    f = open(input_pattern % (str(i)))\n",
    "    for line in f:\n",
    "        cpu, k = line.strip().split(',')\n",
    "        k = float(k)\n",
    "        factors[cpu].append(k)\n",
    "    f.close()\n",
    "fact['simul'] = copy.deepcopy(factors)"
   ]
  },
  {
   "cell_type": "code",
   "execution_count": 172,
   "metadata": {
    "collapsed": false
   },
   "outputs": [],
   "source": [
    "factors = defaultdict(list)   # Dict containing al k_factors fitted for a given CPU\n",
    "for i in range(10):\n",
    "    input_pattern = 'results_cputype_task_cpu_sub_%s_pile_0.001.csv'\n",
    "    f = open(input_pattern % (str(i)))\n",
    "    for line in f:\n",
    "        cpu, k = line.strip().split(',')\n",
    "        k = float(k)\n",
    "        factors[cpu].append(k)\n",
    "    f.close()\n",
    "fact['pile'] = copy.deepcopy(factors)"
   ]
  },
  {
   "cell_type": "markdown",
   "metadata": {},
   "source": [
    "## Plot averages with error bars of k factors fitted for each CPU"
   ]
  },
  {
   "cell_type": "code",
   "execution_count": 173,
   "metadata": {
    "collapsed": false,
    "scrolled": false
   },
   "outputs": [
    {
     "data": {
      "text/plain": [
       "<matplotlib.text.Text at 0x14f634e0>"
      ]
     },
     "execution_count": 173,
     "metadata": {},
     "output_type": "execute_result"
    },
    {
     "data": {
      "image/png": "[encoded data removed]",
      "text/plain": [
       "<matplotlib.figure.Figure at 0x149c4ba8>"
      ]
     },
     "metadata": {},
     "output_type": "display_data"
    }
   ],
   "source": [
    "type = 'pile'\n",
    "\n",
    "k_avg = dict()\n",
    "k_std = dict()\n",
    "x = list()\n",
    "y = list()\n",
    "yerr = list()\n",
    "i = 0\n",
    "for cpu in fact[type].keys():\n",
    "    k_avg[cpu] = np.mean(fact[type][cpu])\n",
    "    k_std[cpu] = np.std(fact[type][cpu])\n",
    "#    print '%s:\\t %f +- %f' % (cpu, k_avg[cpu], k_std[cpu])\n",
    "    x.append(i)\n",
    "    y.append(k_avg[cpu])\n",
    "    yerr.append(k_std[cpu])\n",
    "    i += 1\n",
    "plt.figure()\n",
    "plt.errorbar(x, y, yerr=yerr, fmt='o')\n",
    "plt.xlabel('CPU')\n",
    "plt.ylabel('CPU speed factor')\n",
    "plt.text(40., 1.4, type)"
   ]
  },
  {
   "cell_type": "markdown",
   "metadata": {},
   "source": [
    "## Load HS06 values taken from HEPSPEC web site"
   ]
  },
  {
   "cell_type": "code",
   "execution_count": 133,
   "metadata": {
    "collapsed": false
   },
   "outputs": [],
   "source": [
    "df2 = pd.read_csv('HS06_ref.txt', names=['cpu', 'hs06', 'cores'])"
   ]
  },
  {
   "cell_type": "code",
   "execution_count": 174,
   "metadata": {
    "collapsed": false
   },
   "outputs": [],
   "source": [
    "hs = dict()\n",
    "factors = fact[type]\n",
    "for row in df2.itertuples():\n",
    "    cpu = row[1]\n",
    "    a = row[2] / row[3]\n",
    "    for cpu2 in factors.keys():\n",
    "        if cpu in cpu2:\n",
    "            hs[cpu2] = a"
   ]
  },
  {
   "cell_type": "code",
   "execution_count": 183,
   "metadata": {
    "collapsed": false
   },
   "outputs": [],
   "source": [
    "df = DataFrame({'k_avg': k_avg, 'k_std': k_std, 'hs': hs}).sort_values(by='k_avg', inplace=False)"
   ]
  },
  {
   "cell_type": "markdown",
   "metadata": {},
   "source": [
    "## Plot factors for CPUs with HS06 data, no correction"
   ]
  },
  {
   "cell_type": "code",
   "execution_count": 190,
   "metadata": {
    "collapsed": false
   },
   "outputs": [
    {
     "data": {
      "text/plain": [
       "(0.0, 2.0)"
      ]
     },
     "execution_count": 190,
     "metadata": {},
     "output_type": "execute_result"
    },
    {
     "data": {
      "image/png": "[encoded data removed]",
      "text/plain": [
       "<matplotlib.figure.Figure at 0x25c338d0>"
      ]
     },
     "metadata": {},
     "output_type": "display_data"
    }
   ],
   "source": [
    "x = range(len(df))\n",
    "y = df.k_avg\n",
    "y_err = df.k_std\n",
    "plt.errorbar(x, y, yerr=y_err, fmt='o')\n",
    "plt.ylim([0., 2.])"
   ]
  },
  {
   "cell_type": "markdown",
   "metadata": {},
   "source": [
    "## Plot factors for CPUs with HS06 data, with correction"
   ]
  },
  {
   "cell_type": "code",
   "execution_count": 191,
   "metadata": {
    "collapsed": false
   },
   "outputs": [
    {
     "data": {
      "text/plain": [
       "(0.0, 2.0)"
      ]
     },
     "execution_count": 191,
     "metadata": {},
     "output_type": "execute_result"
    },
    {
     "data": {
      "image/png": "[encoded data removed]",
      "text/plain": [
       "<matplotlib.figure.Figure at 0x25c3c6d8>"
      ]
     },
     "metadata": {},
     "output_type": "display_data"
    }
   ],
   "source": [
    "x = range(len(df))\n",
    "y = df.k_avg / df.hs * 10.\n",
    "y_err = df.k_std / df.hs * 10.\n",
    "plt.errorbar(x, y, yerr=y_err, fmt='o')\n",
    "plt.ylim([0., 2.])"
   ]
  },
  {
   "cell_type": "markdown",
   "metadata": {},
   "source": [
    "## Plot correlation between CPU speed factors and HS06/core"
   ]
  },
  {
   "cell_type": "code",
   "execution_count": 192,
   "metadata": {
    "collapsed": false
   },
   "outputs": [
    {
     "data": {
      "text/plain": [
       "(0.0, 1.5)"
      ]
     },
     "execution_count": 192,
     "metadata": {},
     "output_type": "execute_result"
    },
    {
     "data": {
      "image/png": "[encoded data removed]",
      "text/plain": [
       "<matplotlib.figure.Figure at 0x25c33eb8>"
      ]
     },
     "metadata": {},
     "output_type": "display_data"
    }
   ],
   "source": [
    "x = df.hs\n",
    "y = df.k_avg\n",
    "y_err = df.k_std\n",
    "plt.errorbar(x, y, yerr=y_err, fmt='o')\n",
    "plt.xlabel('HS06/core')\n",
    "plt.ylabel('CPU speed factor')\n",
    "plt.xlim([0., 15.])\n",
    "plt.ylim([0., 1.5])"
   ]
  },
  {
   "cell_type": "markdown",
   "metadata": {
    "collapsed": true
   },
   "source": [
    "## Plot correlation between factors for evgen and simul"
   ]
  },
  {
   "cell_type": "code",
   "execution_count": 193,
   "metadata": {
    "collapsed": false
   },
   "outputs": [
    {
     "data": {
      "text/plain": [
       "<matplotlib.text.Text at 0x266417f0>"
      ]
     },
     "execution_count": 193,
     "metadata": {},
     "output_type": "execute_result"
    },
    {
     "data": {
      "image/png": "[encoded data removed]",
      "text/plain": [
       "<matplotlib.figure.Figure at 0x2625ec88>"
      ]
     },
     "metadata": {},
     "output_type": "display_data"
    }
   ],
   "source": [
    "type1 = 'evgen'\n",
    "type2 = 'simul'\n",
    "fact1 = fact[type1]\n",
    "fact2 = fact[type2]\n",
    "#print fact2['Intel(R) Xeon(R) CPU E5-2640 v2 @ 2.00GHz 4096 KB']\n",
    "x = list()\n",
    "y = list()\n",
    "x_err = list()\n",
    "y_err = list()\n",
    "s1 = set(fact1.keys())\n",
    "s2 = set(fact2.keys())\n",
    "s = s2.intersection(s1)\n",
    "for cpu in s:\n",
    "    k1_avg = np.mean(fact1[cpu])\n",
    "    k1_std = np.std(fact1[cpu])\n",
    "    k2_avg = np.mean(fact2[cpu])\n",
    "    k2_std = np.std(fact2[cpu])\n",
    "    x.append(k1_avg)\n",
    "    x_err.append(k1_std)\n",
    "    y.append(k2_avg)\n",
    "    y_err.append(k2_std)\n",
    "plt.xlim([0., 2.])\n",
    "plt.ylim([0., 2.])\n",
    "plt.errorbar(x, y, xerr=x_err, yerr=y_err, fmt='o')\n",
    "plt.xlabel('CPU speed for %s events' % type1)\n",
    "plt.ylabel('CPU speed for %s events' % type2)"
   ]
  },
  {
   "cell_type": "markdown",
   "metadata": {},
   "source": [
    "## Fit to a straight line"
   ]
  },
  {
   "cell_type": "code",
   "execution_count": 194,
   "metadata": {
    "collapsed": false
   },
   "outputs": [
    {
     "name": "stdout",
     "output_type": "stream",
     "text": [
      "The slope of the linear fit is 0.528600 +- 0.319114\n",
      "The intercept of the linear fit is 0.560407 +- 0.320603\n"
     ]
    }
   ],
   "source": [
    "def f(x, a, b):\n",
    "    return a * x + b\n",
    "\n",
    "res = curve_fit(f, x, y)\n",
    "\n",
    "print \"The slope of the linear fit is %f +- %f\" % (res[0][0], np.sqrt(res[1][0][0]))\n",
    "print \"The intercept of the linear fit is %f +- %f\" % (res[0][1], np.sqrt(res[1][1][1]))"
   ]
  },
  {
   "cell_type": "code",
   "execution_count": null,
   "metadata": {
    "collapsed": true
   },
   "outputs": [],
   "source": []
  }
 ],
 "metadata": {
  "kernelspec": {
   "display_name": "Python 2",
   "language": "python",
   "name": "python2"
  },
  "language_info": {
   "codemirror_mode": {
    "name": "ipython",
    "version": 2
   },
   "file_extension": ".py",
   "mimetype": "text/x-python",
   "name": "python",
   "nbconvert_exporter": "python",
   "pygments_lexer": "ipython2",
   "version": "2.7.11"
  }
 },
 "nbformat": 4,
 "nbformat_minor": 0
}
