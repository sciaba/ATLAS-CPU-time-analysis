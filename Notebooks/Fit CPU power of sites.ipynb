{
 "cells": [
  {
   "cell_type": "markdown",
   "metadata": {},
   "source": [
    "# Measuring speed from CPU times per event\n",
    "### Authors: Andrea Sciabà, Andrea Valassi"
   ]
  },
  {
   "cell_type": "markdown",
   "metadata": {},
   "source": [
    "The goal is to measure the CPU power of sites from the CPU time per event of ATLAS production jobs."
   ]
  },
  {
   "cell_type": "code",
   "execution_count": 1,
   "metadata": {
    "collapsed": true
   },
   "outputs": [],
   "source": [
    "import sys\n",
    "import math\n",
    "from collections import defaultdict, OrderedDict, Counter\n",
    "import pprint as pp\n",
    "import numpy as np\n",
    "import pandas as pd\n",
    "import scipy.optimize as optimize\n",
    "import matplotlib.pyplot as plt\n",
    "from __future__ import division\n",
    "\n",
    "%matplotlib inline"
   ]
  },
  {
   "cell_type": "markdown",
   "metadata": {},
   "source": [
    "First, let's read the data from the CSV file."
   ]
  },
  {
   "cell_type": "code",
   "execution_count": 58,
   "metadata": {
    "collapsed": false
   },
   "outputs": [],
   "source": [
    "df = pd.read_csv('task_cpu_90d_1.csv', names=['jeditaskid', 'processingtype', 'transformation', 'atlrel', 'site',\n",
    "                                                               'cputype', 'njobs', 'cpuevt_avg', 'cpuevt_rms', 'wallevt_avg',\n",
    "                                                               'wallevt_rms', 'cpu', 'wc', 'cores', 'jevts', 'eff'])"
   ]
  },
  {
   "cell_type": "markdown",
   "metadata": {},
   "source": [
    "Let's choose jobs of a given processing type by site or cpu."
   ]
  },
  {
   "cell_type": "code",
   "execution_count": 59,
   "metadata": {
    "collapsed": true
   },
   "outputs": [],
   "source": [
    "event_type = 'evgen'\n",
    "mode = 'cputype'"
   ]
  },
  {
   "cell_type": "markdown",
   "metadata": {},
   "source": [
    "Let's find out which sites or CPU's contribute by more than 0.1% to the total wallclock time and restrict the analysis to them."
   ]
  },
  {
   "cell_type": "code",
   "execution_count": 60,
   "metadata": {
    "collapsed": false
   },
   "outputs": [],
   "source": [
    "grouped = df[df.processingtype == event_type].groupby([mode], as_index=False)\n",
    "tot_wc = grouped['wc'].sum()\n",
    "a = tot_wc.sort_values('wc', ascending=False)\n",
    "bigtotal_wc = a.wc.sum()\n",
    "big_sites = a[a.wc > bigtotal_wc * 0.001][mode].tolist()"
   ]
  },
  {
   "cell_type": "markdown",
   "metadata": {},
   "source": [
    "Let's store in a dict indexed by the task number and the site or CPU type the averages and standard deviations of the CPU time per event."
   ]
  },
  {
   "cell_type": "code",
   "execution_count": 61,
   "metadata": {
    "collapsed": false
   },
   "outputs": [],
   "source": [
    "grouped = df.groupby(['processingtype', 'jeditaskid', mode], as_index=False, sort=False)\n",
    "\n",
    "data = defaultdict(OrderedDict)\n",
    "for (p, j, s), g in grouped:\n",
    "    if s not in big_sites: continue\n",
    "    if p != 'evgen': continue\n",
    "    x = np.average(g.cpuevt_avg, weights=g.cpu)\n",
    "    y = math.sqrt(np.average((g.cpuevt_avg - x)**2, weights=g.cpu))\n",
    "    data[j][s] = (x, y)"
   ]
  },
  {
   "cell_type": "markdown",
   "metadata": {},
   "source": [
    "Let's forget about tasks which run on only one site or CPU type."
   ]
  },
  {
   "cell_type": "code",
   "execution_count": 62,
   "metadata": {
    "collapsed": false
   },
   "outputs": [],
   "source": [
    "# Remove from data tasks with only one site\n",
    "for (k, v) in data.items():\n",
    "    if len(v) == 1:\n",
    "        del data[k]"
   ]
  },
  {
   "cell_type": "markdown",
   "metadata": {},
   "source": [
    "Let's map sites or CPU types to integers and store the mapping for later use."
   ]
  },
  {
   "cell_type": "code",
   "execution_count": 63,
   "metadata": {
    "collapsed": false
   },
   "outputs": [
    {
     "name": "stdout",
     "output_type": "stream",
     "text": [
      "There are 67 sites in the fit\n"
     ]
    }
   ],
   "source": [
    "i = -1\n",
    "sites = set()\n",
    "smap = dict()\n",
    "for (k, v) in data.items():\n",
    "    for s in v.keys():\n",
    "        if s not in sites:\n",
    "            i += 1\n",
    "            smap[s] = i\n",
    "            sites.add(s)\n",
    "        data[k][smap[s]]= data[k][s]\n",
    "        del data[k][s]\n",
    "\n",
    "nsites = len(smap)\n",
    "print 'There are %s sites in the fit' % nsites"
   ]
  },
  {
   "cell_type": "markdown",
   "metadata": {},
   "source": [
    "Let's also map tasks to integers."
   ]
  },
  {
   "cell_type": "code",
   "execution_count": 64,
   "metadata": {
    "collapsed": true
   },
   "outputs": [],
   "source": [
    "# Map tasks to integers\n",
    "tasks = set(data.keys())\n",
    "tmap = dict()\n",
    "i = 0\n",
    "for x in tasks:\n",
    "    tmap[x] = i\n",
    "    i += 1"
   ]
  },
  {
   "cell_type": "markdown",
   "metadata": {},
   "source": [
    "## First analysis"
   ]
  },
  {
   "cell_type": "markdown",
   "metadata": {},
   "source": [
    "The following functions and gradients implement different attempts to fit the site or CPU speeds based on ratios between average CPU times per event. They are described here:\n",
    "1. func, grad: for each task, ratios of CPU times per event at different sites are calculated in a rolling fashion (i + 1 value divided by i); only n - ratios are kept, as the n-th is redundant.\n",
    "2. func2, grad2: as above, but all values are divided by the same value.\n",
    "3. func3, grad3, as above, but inverting the ratios.\n",
    "4. func4, grad4: as the first one, but with all the n ratios.\n",
    "\n",
    "A constraint is defined by which one speed factor is defined to be 1. Bounds are defined to keep the speed factors in a reasonable range."
   ]
  },
  {
   "cell_type": "code",
   "execution_count": 77,
   "metadata": {
    "collapsed": false
   },
   "outputs": [],
   "source": [
    "def func(k):\n",
    "    total = 0.\n",
    "    for _, task in data.items():   # looping on tasks\n",
    "        kf = np.array([k[i] for i in task.keys()])\n",
    "        v = np.array([a[0] for a in task.values()])\n",
    "        kf2 = np.roll(kf, -1)\n",
    "        v2 = np.roll(v, -1)\n",
    "        ratio = (v2 / v - kf / kf2)**2\n",
    "        ratio[np.isnan(ratio)] = 0.\n",
    "        ratio[np.isinf(ratio)] = 0.\n",
    "        delta = np.sum(ratio[:-1])\n",
    "        total += delta\n",
    "    return total"
   ]
  },
  {
   "cell_type": "code",
   "execution_count": 78,
   "metadata": {
    "collapsed": false
   },
   "outputs": [],
   "source": [
    "def func2(k):\n",
    "    total = 0.\n",
    "    for _, task in data.items():\n",
    "        kf = np.array([k[i] for i in task.keys()])\n",
    "        v = np.array([a[0] for a in task.values()])\n",
    "        ratio = (v / v[0] - kf[0] / kf)**2\n",
    "        ratio[np.isnan(ratio)] = 0.\n",
    "        ratio[np.isinf(ratio)] = 0.\n",
    "        delta = np.sum(ratio)\n",
    "        total += delta\n",
    "    return total"
   ]
  },
  {
   "cell_type": "code",
   "execution_count": 79,
   "metadata": {
    "collapsed": false
   },
   "outputs": [],
   "source": [
    "def func3(k):\n",
    "    total = 0.\n",
    "    for _, task in data.items():\n",
    "        kf = np.array([k[i] for i in task.keys()])\n",
    "        v = np.array([a[0] for a in task.values()])\n",
    "        ratio = (v[0] / v - kf / kf[0])**2\n",
    "        ratio[np.isnan(ratio)] = 0.\n",
    "        ratio[np.isinf(ratio)] = 0.\n",
    "        delta = np.sum(ratio)\n",
    "        total += delta\n",
    "    return total"
   ]
  },
  {
   "cell_type": "code",
   "execution_count": 80,
   "metadata": {
    "collapsed": false
   },
   "outputs": [],
   "source": [
    "def func4(k):\n",
    "    total = 0.\n",
    "    for _, task in data.items():   # looping on tasks\n",
    "        kf = np.array([k[i] for i in task.keys()])\n",
    "        v = np.array([a[0] for a in task.values()])\n",
    "        kf2 = np.roll(kf, -1)\n",
    "        v2 = np.roll(v, -1)\n",
    "        ratio = (v2 / v - kf / kf2)**2\n",
    "        ratio[np.isnan(ratio)] = 0.\n",
    "        ratio[np.isinf(ratio)] = 0.\n",
    "        delta = np.sum(ratio)\n",
    "        total += delta\n",
    "    return total"
   ]
  },
  {
   "cell_type": "code",
   "execution_count": 81,
   "metadata": {
    "collapsed": false
   },
   "outputs": [],
   "source": [
    "def grad(k):\n",
    "    grad = np.zeros(len(k))\n",
    "    for _, task in data.items():\n",
    "        ns = np.array(task.keys())\n",
    "        kf = np.array([k[i] for i in task.keys()])\n",
    "        v = np.array([a[0] for a in task.values()])\n",
    "        for i in range(len(task)):\n",
    "            if i == len(task) - 1:\n",
    "                x1 = 0.\n",
    "            else:\n",
    "                x1 = -2 * (v[i+1] / v[i] - kf[i] / kf[i+1]) / kf[i+1]\n",
    "            if np.isnan(x1) or np.isinf(x1): x1 = 0.\n",
    "            if i == 0:\n",
    "                x2 = 0.\n",
    "            else:\n",
    "                x2 = 2 * (v[i] / v[i-1] - kf[i-1] / kf[i]) * kf[i-1] / kf[i]**2\n",
    "            if np.isnan(x2) or np.isinf(x2): x2 = 0.\n",
    "            grad[ns[i]] += (x1 + x2)\n",
    "    return grad"
   ]
  },
  {
   "cell_type": "code",
   "execution_count": 82,
   "metadata": {
    "collapsed": false
   },
   "outputs": [],
   "source": [
    "def grad2(k):\n",
    "    grad = np.zeros(len(k))\n",
    "    for _, task in data.items():\n",
    "        ns = np.array(task.keys())\n",
    "        kf = np.array([k[i] for i in task.keys()])\n",
    "        v = np.array([a[0] for a in task.values()])\n",
    "        for i in range(len(task)):\n",
    "            x = 0.\n",
    "            if i == 0:\n",
    "                for j in range(len(task)):\n",
    "                    x += -2. * (v[j] / v[0] - k[0] / k[j]) / k[j]\n",
    "            else:\n",
    "                x = 2. * (v[i] / v[0] - k[0] / k[i]) * k[0] / k[i]**2\n",
    "            grad[ns[i]] += x\n",
    "    return grad"
   ]
  },
  {
   "cell_type": "code",
   "execution_count": 83,
   "metadata": {
    "collapsed": false
   },
   "outputs": [],
   "source": [
    "def grad3(k):\n",
    "    grad = np.zeros(len(k))\n",
    "    for _, task in data.items():\n",
    "        ns = np.array(task.keys())\n",
    "        kf = np.array([k[i] for i in task.keys()])\n",
    "        v = np.array([a[0] for a in task.values()])\n",
    "        for i in range(len(task)):\n",
    "            x = 0.\n",
    "            if i == 0:\n",
    "                for j in range(len(task)):\n",
    "                    x += 2. * (v[0] / v[j] - k[j] / k[0]) * k[j] / k[0]**2\n",
    "            else:\n",
    "                x = -2. * (v[0] / v[i] - k[i] / k[0]) / k[0]\n",
    "            grad[ns[i]] += x\n",
    "    return grad"
   ]
  },
  {
   "cell_type": "code",
   "execution_count": 84,
   "metadata": {
    "collapsed": false
   },
   "outputs": [],
   "source": [
    "def grad4(k):\n",
    "    grad = np.zeros(len(k))\n",
    "    for _, task in data.items():\n",
    "        ns = np.array(task.keys())\n",
    "        kf = np.array([k[i] for i in task.keys()])\n",
    "        v = np.array([a[0] for a in task.values()])\n",
    "        for i in range(len(task)):\n",
    "            if i == len(task) - 1:\n",
    "                x1 = -2 * (v[0] / v[i] - kf[i] / kf[0]) / kf[0]\n",
    "            else:\n",
    "                x1 = -2 * (v[i+1] / v[i] - kf[i] / kf[i+1]) / kf[i+1]\n",
    "            if np.isnan(x1) or np.isinf(x1): x1 = 0.\n",
    "            if i == 0:\n",
    "                x2 = 2 * (v[i] / v[len(task)-1] - kf[len(task)-1] / kf[i]) * kf[len(task)-1] / kf[i]**2\n",
    "            else:\n",
    "                x2 = 2 * (v[i] / v[i-1] - kf[i-1] / kf[i]) * kf[i-1] / kf[i]**2\n",
    "            if np.isnan(x2) or np.isinf(x2): x2 = 0.\n",
    "            grad[ns[i]] += (x1 + x2)\n",
    "    return grad"
   ]
  },
  {
   "cell_type": "markdown",
   "metadata": {},
   "source": [
    "Let's define the initial values to be all one."
   ]
  },
  {
   "cell_type": "code",
   "execution_count": 85,
   "metadata": {
    "collapsed": true
   },
   "outputs": [],
   "source": [
    "k_ini = np.ones(nsites)   # Initialises CPU factors for all sites to one"
   ]
  },
  {
   "cell_type": "code",
   "execution_count": 86,
   "metadata": {
    "collapsed": false
   },
   "outputs": [
    {
     "name": "stdout",
     "output_type": "stream",
     "text": [
      "Initial function value:  5154.37216086\n",
      "Initial function value:  4949.56682413\n",
      "Initial function value:  1793.25325587\n",
      "Initial function value:  5349.19643092\n"
     ]
    }
   ],
   "source": [
    "print 'Initial function value: ', func(k_ini)\n",
    "print 'Initial function value: ', func2(k_ini)\n",
    "print 'Initial function value: ', func3(k_ini)\n",
    "print 'Initial function value: ', func4(k_ini)"
   ]
  },
  {
   "cell_type": "markdown",
   "metadata": {},
   "source": [
    "Let's check that all the gradients are correctly calculated."
   ]
  },
  {
   "cell_type": "code",
   "execution_count": 87,
   "metadata": {
    "collapsed": false
   },
   "outputs": [
    {
     "name": "stdout",
     "output_type": "stream",
     "text": [
      "0.00281052252407\n"
     ]
    }
   ],
   "source": [
    "check = optimize.check_grad(func, grad, k_ini)\n",
    "print check"
   ]
  },
  {
   "cell_type": "code",
   "execution_count": 20,
   "metadata": {
    "collapsed": false
   },
   "outputs": [
    {
     "name": "stdout",
     "output_type": "stream",
     "text": [
      "0.0975198126365\n"
     ]
    }
   ],
   "source": [
    "check = optimize.check_grad(func2, grad2, k_ini)\n",
    "print check"
   ]
  },
  {
   "cell_type": "code",
   "execution_count": 21,
   "metadata": {
    "collapsed": false
   },
   "outputs": [
    {
     "name": "stdout",
     "output_type": "stream",
     "text": [
      "0.0618822212822\n"
     ]
    }
   ],
   "source": [
    "check = optimize.check_grad(func3, grad3, k_ini)\n",
    "print check"
   ]
  },
  {
   "cell_type": "code",
   "execution_count": 22,
   "metadata": {
    "collapsed": false
   },
   "outputs": [
    {
     "name": "stdout",
     "output_type": "stream",
     "text": [
      "0.198448695626\n"
     ]
    }
   ],
   "source": [
    "check = optimize.check_grad(func4, grad4, k_ini)\n",
    "print check"
   ]
  },
  {
   "cell_type": "markdown",
   "metadata": {},
   "source": [
    "This is the constraint."
   ]
  },
  {
   "cell_type": "code",
   "execution_count": 88,
   "metadata": {
    "collapsed": false
   },
   "outputs": [],
   "source": [
    "site_ref = big_sites[0]\n",
    "ref = smap[site_ref]\n",
    "cons = ({'type': 'eq', 'fun': lambda x: x[ref] - 1})\n",
    "bounds = [(0.5, 2.)] * len(k_ini)"
   ]
  },
  {
   "cell_type": "markdown",
   "metadata": {},
   "source": [
    "The following cells run the minimisation."
   ]
  },
  {
   "cell_type": "code",
   "execution_count": 89,
   "metadata": {
    "collapsed": false
   },
   "outputs": [
    {
     "name": "stdout",
     "output_type": "stream",
     "text": [
      "Optimization terminated successfully.    (Exit mode 0)\n",
      "            Current function value: 3382.80965312\n",
      "            Iterations: 87\n",
      "            Function evaluations: 248\n",
      "            Gradient evaluations: 87\n"
     ]
    }
   ],
   "source": [
    "result = optimize.minimize(func, k_ini, method='SLSQP', jac=grad, constraints=cons, bounds=bounds, options={'disp': True, 'maxiter': 2000})"
   ]
  },
  {
   "cell_type": "code",
   "execution_count": 90,
   "metadata": {
    "collapsed": false
   },
   "outputs": [],
   "source": [
    "k = result.x"
   ]
  },
  {
   "cell_type": "code",
   "execution_count": 91,
   "metadata": {
    "collapsed": false
   },
   "outputs": [
    {
     "name": "stdout",
     "output_type": "stream",
     "text": [
      "[ 0.9203111   0.84787795  0.90375182  0.96475665  1.05263306  0.98830302\n",
      "  1.          1.07483017  0.93268     1.1109311   1.10157965  0.92220944\n",
      "  0.59048561  1.31102362  0.77034372  0.79725756  0.74869468  0.69275004\n",
      "  0.7897526   1.0609596   1.22616933  0.62768674  0.71428853  0.86029521\n",
      "  0.97223051  1.13663884  0.79613653  0.76187262  0.96099788  0.82633806\n",
      "  0.7103207   0.70353702  0.86962827  0.99706122  0.95598943  0.97002948\n",
      "  0.8824965   0.67218032  0.98717287  0.83768641  1.05165085  0.99984615\n",
      "  0.71820131  0.61748217  0.67306723  1.21817819  0.66231596  1.16161147\n",
      "  1.05044254  0.74549837  0.74571075  0.64950206  0.77190214  1.11049898\n",
      "  0.69692935  0.89119272  0.86381654  1.23741229  1.21839936  0.72409618\n",
      "  0.94655266  0.54372924  1.18399193  1.18438008  1.00371187  0.94041475\n",
      "  0.58076799]\n"
     ]
    }
   ],
   "source": [
    "print k"
   ]
  },
  {
   "cell_type": "code",
   "execution_count": 31,
   "metadata": {
    "collapsed": false
   },
   "outputs": [
    {
     "name": "stdout",
     "output_type": "stream",
     "text": [
      "s+AMD Opteron(TM) Processor 6212                  2048 KB\t0.749338\n",
      "s+AMD Opteron(TM) Processor 6220                  2048 KB\t0.814800\n",
      "s+AMD Opteron(TM) Processor 6234                  2048 KB\t0.675419\n",
      "s+AMD Opteron(TM) Processor 6238                  2048 KB\t0.781330\n",
      "s+AMD Opteron(TM) Processor 6272 2048 KB\t0.654642\n",
      "s+AMD Opteron(TM) Processor 6274                  2048 KB\t0.670177\n",
      "s+AMD Opteron(TM) Processor 6274 2048 KB\t0.709875\n",
      "s+AMD Opteron(TM) Processor 6276                  2048 KB\t0.639983\n",
      "s+AMD Opteron(TM) Processor 6276                  512 KB\t0.622113\n",
      "s+AMD Opteron(TM) Processor 6276 2048 KB\t0.635178\n",
      "s+AMD Opteron(tm) Processor 6134 512 KB\t0.857238\n",
      "s+AMD Opteron(tm) Processor 6168 512 KB\t0.699105\n",
      "s+AMD Opteron(tm) Processor 6320                  2048 KB\t0.945402\n",
      "s+AMD Opteron(tm) Processor 6376                  2048 KB\t0.746602\n",
      "s+AMD Opteron(tm) Processor 6378                  2048 KB\t0.794811\n",
      "s+AMD Opteron(tm) Processor 6378 2048 KB\t0.812217\n",
      "s+Dual-Core AMD Opteron(tm) Processor 2216 1024 KB\t0.730822\n",
      "s+Dual-Core AMD Opteron(tm) Processor 2218 1024 KB\t0.853128\n",
      "s+Dual-Core AMD Opteron(tm) Processor 2220 1024 KB\t0.829495\n",
      "s+Intel Core i7 9xx (Nehalem Class Core i7) 4096 KB\t0.750940\n",
      "s+Intel Xeon E312xx (Sandy Bridge) 4096 KB\t1.194814\n",
      "s+Intel(R) Core(TM)2 Quad CPU    Q8300  @ 2.50GHz 2048 KB\t0.877992\n",
      "s+Intel(R) Xeon(R) CPU            5150  @ 2.66GHz 4096 KB\t0.977809\n",
      "s+Intel(R) Xeon(R) CPU           E5345  @ 2.33GHz 4096 KB\t0.850060\n",
      "s+Intel(R) Xeon(R) CPU           E5410  @ 2.33GHz 6144 KB\t0.955005\n",
      "s+Intel(R) Xeon(R) CPU           E5420  @ 2.50GHz 6144 KB\t1.020893\n",
      "s+Intel(R) Xeon(R) CPU           E5430  @ 2.66GHz 6144 KB\t1.034184\n",
      "s+Intel(R) Xeon(R) CPU           E5440  @ 2.83GHz 6144 KB\t1.137491\n",
      "s+Intel(R) Xeon(R) CPU           E5450  @ 3.00GHz 6144 KB\t1.193482\n",
      "s+Intel(R) Xeon(R) CPU           E5472  @ 3.00GHz 6144 KB\t1.175158\n",
      "s+Intel(R) Xeon(R) CPU           E5520  @ 2.27GHz 8192 KB\t0.888558\n",
      "s+Intel(R) Xeon(R) CPU           E5540  @ 2.53GHz 8192 KB\t1.005793\n",
      "s+Intel(R) Xeon(R) CPU           E5620  @ 2.40GHz 12288 KB\t0.854775\n",
      "s+Intel(R) Xeon(R) CPU           E5630  @ 2.53GHz 12288 KB\t0.876901\n",
      "s+Intel(R) Xeon(R) CPU           E5645  @ 2.40GHz 12288 KB\t0.885479\n",
      "s+Intel(R) Xeon(R) CPU           E5649  @ 2.53GHz 12288 KB\t1.084402\n",
      "s+Intel(R) Xeon(R) CPU           L5420  @ 2.50GHz 6144 KB\t1.027000\n",
      "s+Intel(R) Xeon(R) CPU           L5520  @ 2.27GHz 4096 KB\t0.752581\n",
      "s+Intel(R) Xeon(R) CPU           L5520  @ 2.27GHz 8192 KB\t0.971158\n",
      "s+Intel(R) Xeon(R) CPU           L5640  @ 2.27GHz 12288 KB\t0.783954\n",
      "s+Intel(R) Xeon(R) CPU           L5640  @ 2.27GHz 4096 KB\t0.661497\n",
      "s+Intel(R) Xeon(R) CPU           X5355  @ 2.66GHz 4096 KB\t0.954018\n",
      "s+Intel(R) Xeon(R) CPU           X5550  @ 2.67GHz 8192 KB\t1.174034\n",
      "s+Intel(R) Xeon(R) CPU           X5560  @ 2.80GHz 8192 KB\t1.363465\n",
      "s+Intel(R) Xeon(R) CPU           X5570  @ 2.93GHz 8192 KB\t1.369129\n",
      "s+Intel(R) Xeon(R) CPU           X5650  @ 2.67GHz 12288 KB\t1.000000\n",
      "s+Intel(R) Xeon(R) CPU           X5660  @ 2.80GHz 12288 KB\t1.007996\n",
      "s+Intel(R) Xeon(R) CPU           X5675  @ 3.07GHz 12288 KB\t1.255340\n",
      "s+Intel(R) Xeon(R) CPU E5-2450 v2 @ 2.50GHz 20480 KB\t1.766542\n",
      "s+Intel(R) Xeon(R) CPU E5-2620 0 @ 2.00GHz 15360 KB\t0.894586\n",
      "s+Intel(R) Xeon(R) CPU E5-2620 v2 @ 2.10GHz 15360 KB\t0.975655\n",
      "s+Intel(R) Xeon(R) CPU E5-2630 0 @ 2.30GHz 15360 KB\t0.883715\n",
      "s+Intel(R) Xeon(R) CPU E5-2630 v2 @ 2.60GHz 15360 KB\t1.103424\n",
      "s+Intel(R) Xeon(R) CPU E5-2630 v3 @ 2.40GHz 20480 KB\t1.153421\n",
      "s+Intel(R) Xeon(R) CPU E5-2630 v3 @ 2.40GHz 4096 KB\t0.830813\n",
      "s+Intel(R) Xeon(R) CPU E5-2630L 0 @ 2.00GHz 15360 KB\t0.969188\n",
      "s+Intel(R) Xeon(R) CPU E5-2630L v2 @ 2.40GHz 15360 KB\t0.941865\n",
      "s+Intel(R) Xeon(R) CPU E5-2640 0 @ 2.50GHz 15360 KB\t1.241364\n",
      "s+Intel(R) Xeon(R) CPU E5-2640 v3 @ 2.60GHz 20480 KB\t1.291562\n",
      "s+Intel(R) Xeon(R) CPU E5-2650 0 @ 2.00GHz 20480 KB\t0.913210\n",
      "s+Intel(R) Xeon(R) CPU E5-2650 v2 @ 2.60GHz 20480 KB\t1.142267\n",
      "s+Intel(R) Xeon(R) CPU E5-2650 v2 @ 2.60GHz 4096 KB\t1.161984\n",
      "s+Intel(R) Xeon(R) CPU E5-2650 v3 @ 2.30GHz 25600 KB\t1.185501\n",
      "s+Intel(R) Xeon(R) CPU E5-2660 0 @ 2.20GHz 20480 KB\t1.014881\n",
      "s+Intel(R) Xeon(R) CPU E5-2660 v2 @ 2.20GHz 25600 KB\t0.999721\n",
      "s+Intel(R) Xeon(R) CPU E5-2660 v3 @ 2.60GHz 25600 KB\t1.400916\n",
      "s+Intel(R) Xeon(R) CPU E5-2665 0 @ 2.40GHz 20480 KB\t1.058318\n",
      "s+Intel(R) Xeon(R) CPU E5-2670 0 @ 2.60GHz 20480 KB\t1.089217\n",
      "s+Intel(R) Xeon(R) CPU E5-2670 v2 @ 2.50GHz 25600 KB\t1.062612\n",
      "s+Intel(R) Xeon(R) CPU E5-2670 v3 @ 2.30GHz 30720 KB\t1.058847\n",
      "s+Intel(R) Xeon(R) CPU E5-2680 0 @ 2.70GHz 20480 KB\t1.279777\n",
      "s+Intel(R) Xeon(R) CPU E5-2680 v2 @ 2.80GHz 25600 KB\t1.170479\n",
      "s+Intel(R) Xeon(R) CPU E5-2680 v3 @ 2.50GHz 30720 KB\t1.456926\n",
      "s+Intel(R) Xeon(R) CPU E5-2695 v2 @ 2.40GHz 30720 KB\t1.012056\n",
      "s+Intel(R) Xeon(R) CPU E5-2697 v3 @ 2.60GHz 35840 KB\t0.699358\n",
      "s+Intel(R) Xeon(R) CPU E5-4620 0 @ 2.20GHz 16384 KB\t1.073189\n",
      "s+Intel(R) Xeon(TM) CPU 3.20GHz 2048 KB\t0.579501\n",
      "s+QEMU Virtual CPU version (cpu64-rhel6) 4096 KB\t1.148711\n",
      "s+Quad-Core AMD Opteron(tm) Processor 2350 512 KB\t0.749336\n",
      "s+Quad-Core AMD Opteron(tm) Processor 2356 512 KB\t0.829846\n",
      "s+Six-Core AMD Opteron(tm) Processor 2431 512 KB\t0.936115\n"
     ]
    }
   ],
   "source": [
    "for s in sorted(smap.keys()):\n",
    "    print '%s\\t%f' % (s, k[smap[s]])"
   ]
  },
  {
   "cell_type": "code",
   "execution_count": 32,
   "metadata": {
    "collapsed": false
   },
   "outputs": [
    {
     "name": "stdout",
     "output_type": "stream",
     "text": [
      "Inequality constraints incompatible    (Exit mode 4)\n",
      "            Current function value: 3286356995.01\n",
      "            Iterations: 8\n",
      "            Function evaluations: 72\n",
      "            Gradient evaluations: 8\n"
     ]
    }
   ],
   "source": [
    "result2 = optimize.minimize(func2, k_ini, method='SLSQP', jac=grad2, constraints=cons, options={'disp': True, 'maxiter': 2000})"
   ]
  },
  {
   "cell_type": "code",
   "execution_count": 33,
   "metadata": {
    "collapsed": false
   },
   "outputs": [],
   "source": [
    "k2 = result2.x"
   ]
  },
  {
   "cell_type": "code",
   "execution_count": 34,
   "metadata": {
    "collapsed": false
   },
   "outputs": [
    {
     "name": "stdout",
     "output_type": "stream",
     "text": [
      "Positive directional derivative for linesearch    (Exit mode 8)\n",
      "            Current function value: 35632.3926444\n",
      "            Iterations: 49\n",
      "            Function evaluations: 459\n",
      "            Gradient evaluations: 45\n"
     ]
    }
   ],
   "source": [
    "result3 = optimize.minimize(func3, k_ini, method='SLSQP', jac=grad3, constraints=cons, bounds=bounds, options={'disp': True, 'maxiter': 2000})"
   ]
  },
  {
   "cell_type": "code",
   "execution_count": 35,
   "metadata": {
    "collapsed": false
   },
   "outputs": [],
   "source": [
    "k3 = result3.x"
   ]
  },
  {
   "cell_type": "code",
   "execution_count": 36,
   "metadata": {
    "collapsed": false
   },
   "outputs": [
    {
     "name": "stdout",
     "output_type": "stream",
     "text": [
      "Optimization terminated successfully.    (Exit mode 0)\n",
      "            Current function value: 108598.967643\n",
      "            Iterations: 111\n",
      "            Function evaluations: 337\n",
      "            Gradient evaluations: 111\n"
     ]
    }
   ],
   "source": [
    "result4 = optimize.minimize(func4, k_ini, method='SLSQP', jac=grad4, constraints=cons, bounds=bounds, options={'disp': True, 'maxiter': 2000})"
   ]
  },
  {
   "cell_type": "code",
   "execution_count": 37,
   "metadata": {
    "collapsed": true
   },
   "outputs": [],
   "source": [
    "k4 = result4.x"
   ]
  },
  {
   "cell_type": "markdown",
   "metadata": {},
   "source": [
    "The conclusion of this preliminary study is that the rolling ratios functions (1. and 4.) converge, while the other functions do not. Using a single site of CPU type as a reference for all the others in a task seems to create instability, which is vaguely intuitive, considering that if the CPU time per event is badly measured for it, it will make all the ratios to be wrong. This \"asymmetry of roles\" is not present in the rolling ratios functions, which turn out to be well behaved."
   ]
  },
  {
   "cell_type": "markdown",
   "metadata": {},
   "source": [
    "## Second analysis"
   ]
  },
  {
   "cell_type": "markdown",
   "metadata": {},
   "source": [
    "This analysis uses a much better model and procedure to fit the speeds.\n",
    "\n",
    "In the following, $\\alpha$ indicates an index running over tasks and $i$ and index running over sites or CPU times.\n",
    "The population average of the CPU time per event for task $\\alpha$ at site or CPU $i$ is $\\mu_{i\\alpha}$ and the average we measure is $a_{i\\alpha}$. Of course, not all sites or CPU types appear on all tasks, so sums over $i$ run only on sites or CPU types where the task runs.\n",
    "\n",
    "It is assumed that the $a_{i\\alpha}$ values we measure are Gaussian-distributed around $\\mu_{i\\alpha}$ with standard deviation $\\sigma_{i\\alpha}$.\n",
    "\n",
    "It is also assumed that the speed factors $k_i$ do not depend on $\\alpha$, and in particular that $\\mu_{i\\alpha}k_i=A_\\alpha$, where $A_\\alpha$ is a constant with respect to $i$.\n",
    "\n",
    "It is assumed that also $\\sigma_{i\\alpha}=S_\\alpha\\mu_{i\\alpha},\\:\\forall i, \\alpha$.\n",
    "\n",
    "To make the analysis easier, we choose to use $\\sigma_{i\\alpha}$ as errors on $a_{i\\alpha}$, while it would be more correct to use $\\sigma_{i\\alpha}/\\sqrt{N_{i\\alpha}}$, where $N_{i\\alpha}$ is the number of jobs run at site or CPU type $i$ for task $\\alpha$ (_approx. #1_).\n",
    "\n",
    "We also assume that $S_\\alpha = S$, where $S$ is constant for all tasks (_approx. #2_).\n",
    "\n",
    "The $\\chi^2$ we want to minimise is the following:\n",
    "\n",
    "$$\\chi^2=\\sum_{i\\alpha}\\left(\\frac{a_{i\\alpha}-\\mu_{i\\alpha}}{\\sigma_{i\\alpha}}\\right)^2=\\sum_{i\\alpha}\\left(\\frac{a_{i\\alpha}-\\mu_{i\\alpha}}{S_\\alpha\\mu_{i\\alpha}}\\right)^2=\\sum_\\alpha\\frac{1}{S_\\alpha^2}\\sum_i\\left(\\frac{a_{i\\alpha}}{\\mu_{i\\alpha}}-1\\right)^2=\\sum_\\alpha\\frac{1}{S_\\alpha^2}\\sum_i\\left(\\frac{a_{i\\alpha}k_i}{A_\\alpha}-1\\right)^2$$\n",
    "\n",
    "finally, taking into account the approximations above:\n",
    "\n",
    "$$\\boxed{\\chi^2=\\frac{1}{S^2}\\sum_\\alpha\\frac{1}{A_\\alpha^2}\\sum_i\\left(a_{i\\alpha}k_i-A_\\alpha\\right)^2}$$\n",
    "\n",
    "As $S$ is a constant, we can minimise a function $f=S^2\\chi^2$ and the free parameters are $A_\\alpha$ and $k_i$.\n",
    "\n",
    "To recap, the function to minimise is\n",
    "\n",
    "$$f=\\sum_\\alpha\\frac{1}{A_\\alpha^2}\\sum_i\\left(a_{i\\alpha}k_i-A_\\alpha\\right)^2$$\n",
    "\n",
    "its gradient is\n",
    "\n",
    "$$\\begin{align}\\frac{\\partial f}{\\partial A_\\alpha}&=-2\\sum_i\\frac{a_{i\\alpha}k_i}{A_\\alpha^2}\\left(\\frac{a_{i\\alpha}k_i}{A_\\alpha}-1\\right)\\\\\\frac{\\partial f}{\\partial k_i}&=\\sum_\\alpha\\frac{1}{A_\\alpha^2}2a_{i\\alpha}(a_{i\\alpha}k_i-A_\\alpha)\\end{align}$$\n",
    "\n",
    "and its Hessian is\n",
    "\n",
    "$$\\begin{align}\\frac{\\partial^2f}{\\partial A_\\alpha\\partial A_\\beta}&=\\delta_{\\alpha\\beta}\\times\\frac{2}{A_\\alpha^4}\\sum_i(3a_{i\\alpha}^2k_i^2-2a_{i\\alpha}k_i A_\\alpha)\\\\\n",
    "\\frac{\\partial^2f}{\\partial k_i\\partial k_j}&=\\delta_{ij}\\times 2\\sum_\\alpha\\frac{a_{i\\alpha}^2}{A_\\alpha^2}\\\\\n",
    "\\frac{\\partial^2f}{\\partial k_i\\partial A_\\alpha}&=-2\\frac{a_{i\\alpha}}{A_\\alpha^2}\\left(2\\frac{a_{i\\alpha}k_i}{A_\\alpha}-1\\right)\n",
    "\\end{align}$$"
   ]
  },
  {
   "cell_type": "markdown",
   "metadata": {},
   "source": [
    "We use as initial values $k_i=1$ and $A_\\alpha=(\\sum_i a_{i\\alpha})/n_\\alpha$, where $n_\\alpha$ is the number of sites or CPU types in task $\\alpha$."
   ]
  },
  {
   "cell_type": "code",
   "execution_count": 65,
   "metadata": {
    "collapsed": false
   },
   "outputs": [],
   "source": [
    "ntask = len(data)\n",
    "nsite = len(smap)\n",
    "a_ini = np.zeros(ntask)\n",
    "for j, task in data.items():\n",
    "    nt = tmap[j]\n",
    "    a_ini[nt] = np.mean([b[0] for b in task.values()])\n",
    "x_ini = np.hstack((a_ini, np.ones(nsite)))"
   ]
  },
  {
   "cell_type": "code",
   "execution_count": 105,
   "metadata": {
    "collapsed": false
   },
   "outputs": [
    {
     "name": "stdout",
     "output_type": "stream",
     "text": [
      " Tasks:  2099\n",
      "Sites/CPUs:  67\n",
      "Sum of initial values:  109154.684952\n"
     ]
    }
   ],
   "source": [
    "print \"Tasks: \", ntask\n",
    "print \"Sites/CPUs: \", nsite\n",
    "print \"Sum of initial values: \", np.sum(x_ini)"
   ]
  },
  {
   "cell_type": "markdown",
   "metadata": {},
   "source": [
    "The function and its derivatives are implemented."
   ]
  },
  {
   "cell_type": "code",
   "execution_count": 66,
   "metadata": {
    "collapsed": true
   },
   "outputs": [],
   "source": [
    "def func_val(x):\n",
    "    a = x[:ntask]\n",
    "    k = x[ntask:]\n",
    "    total = 0.\n",
    "    for j, task in data.items():   # looping on tasks\n",
    "        nt = tmap[j]\n",
    "        kf = np.array([k[i] for i in task.keys()])\n",
    "        v = np.array([b[0] for b in task.values()])\n",
    "        f_term = 1. / a[nt]**2 * (v * kf - a[nt])**2\n",
    "        delta = np.sum(f_term)\n",
    "        total += delta\n",
    "    return total"
   ]
  },
  {
   "cell_type": "code",
   "execution_count": 67,
   "metadata": {
    "collapsed": true
   },
   "outputs": [],
   "source": [
    "def grad_val(x):\n",
    "    a = x[:ntask]\n",
    "    k = x[ntask:]\n",
    "    g = np.zeros(len(x))\n",
    "    for j, task in data.items():\n",
    "        g_a = 0.\n",
    "        nt = tmap[j]\n",
    "        for i in task.keys():\n",
    "            (v, _) = task[i]\n",
    "            g_a += -2 * v * k[i] / a[nt]**2 * (v * k[i] / a[nt] - 1)\n",
    "            g_k = 2 / a[nt]**2 * v * (k[i] * v - a[nt])\n",
    "            g[ntask + i] += g_k\n",
    "        g[nt] = g_a\n",
    "    return g"
   ]
  },
  {
   "cell_type": "code",
   "execution_count": 68,
   "metadata": {
    "collapsed": true
   },
   "outputs": [],
   "source": [
    "def hess_val(x):\n",
    "    a = x[:ntask]\n",
    "    k = x[ntask:]\n",
    "    diag = np.zeros_like(x)   # diagonal of the Hessian\n",
    "    H = np.diag(diag)\n",
    "    for t, task in data.items():\n",
    "        h = 0.\n",
    "        nt = tmap[t]\n",
    "        for i in task.keys():\n",
    "            (v, _) = task[i]\n",
    "            h += 2 / a[nt]**4 * (3 * v**2 * k[i]**2 - 2 * v * k[i] * a[nt])\n",
    "            diag[ntask + i] += 2 * v**2 / a[nt]**2\n",
    "            H[nt][ntask+i] = H[ntask+i][nt] = -2 * v / a[nt]**2 * ( 2 * v * k[i] / a[nt] - 1)\n",
    "        diag[nt] = h\n",
    "    H = H + np.diag(diag)\n",
    "    return H"
   ]
  },
  {
   "cell_type": "code",
   "execution_count": 69,
   "metadata": {
    "collapsed": false
   },
   "outputs": [
    {
     "data": {
      "text/plain": [
       "1261.9081937161777"
      ]
     },
     "execution_count": 69,
     "metadata": {},
     "output_type": "execute_result"
    }
   ],
   "source": [
    "func_val(x_ini)"
   ]
  },
  {
   "cell_type": "code",
   "execution_count": 70,
   "metadata": {
    "collapsed": false
   },
   "outputs": [
    {
     "name": "stdout",
     "output_type": "stream",
     "text": [
      "0.0214708002556\n"
     ]
    }
   ],
   "source": [
    "check = optimize.check_grad(func_val, grad_val, x_ini)\n",
    "print check"
   ]
  },
  {
   "cell_type": "markdown",
   "metadata": {},
   "source": [
    "The minimisation is performed."
   ]
  },
  {
   "cell_type": "code",
   "execution_count": 71,
   "metadata": {
    "collapsed": false
   },
   "outputs": [
    {
     "name": "stdout",
     "output_type": "stream",
     "text": [
      "Optimization terminated successfully.\n",
      "         Current function value: 456.335094\n",
      "         Iterations: 27\n",
      "         Function evaluations: 28\n",
      "         Gradient evaluations: 54\n",
      "         Hessian evaluations: 27\n"
     ]
    }
   ],
   "source": [
    "result_val = optimize.minimize(func_val, x_ini, method='Newton-CG', jac=grad_val, hess=hess_val, options={'disp': True, 'maxiter': 2000})"
   ]
  },
  {
   "cell_type": "markdown",
   "metadata": {},
   "source": [
    "It is worth noting that the problem is underdetermined: multiplying all $k_i$ and all $A_\\alpha$ by the same number would not change the value of the function. Hence, the absolute scale of the fitted parameters has no meaning (as expected), and they should be rescaled to an appropriate reference. In principle, the fit should not converge, but it does. A more rigorous approach would be to fix one of the $k_i$ parameters to one and reduce by one the number of parameters fitted. This is left as a future improvement."
   ]
  },
  {
   "cell_type": "markdown",
   "metadata": {},
   "source": [
    "The fitted parameters are printed:"
   ]
  },
  {
   "cell_type": "code",
   "execution_count": 72,
   "metadata": {
    "collapsed": false
   },
   "outputs": [],
   "source": [
    "k_val = result_val.x[ntask:]"
   ]
  },
  {
   "cell_type": "code",
   "execution_count": 73,
   "metadata": {
    "collapsed": false
   },
   "outputs": [
    {
     "name": "stdout",
     "output_type": "stream",
     "text": [
      "[ 1.06718131  0.96453373  0.99156144  1.0478772   1.10285937  1.08086861\n",
      "  1.04768215  1.17705344  1.02122293  1.19392752  1.23487107  1.05946841\n",
      "  0.66819168  1.3654004   0.87034613  0.90802905  0.86045232  0.79052688\n",
      "  0.8996339   1.17018201  1.33271974  0.69916389  0.80586691  0.97878962\n",
      "  1.0688484   1.22933889  0.89317876  0.85665689  1.04956099  0.94614094\n",
      "  0.78399002  0.86587867  1.01287507  1.11874467  1.04659525  1.1044643\n",
      "  1.02093972  0.78009428  1.11285243  0.91079653  1.23376482  1.17117169\n",
      "  0.81758881  0.70651407  0.75085708  1.3537007   0.75238521  1.285113\n",
      "  1.16069546  0.89523367  0.89919494  0.7762106   0.8464897   1.26500103\n",
      "  0.77877544  0.96973559  1.01768231  1.41734695  1.32679151  0.8457124\n",
      "  1.05941606  0.65339001  1.27333     1.27410874  1.14224729  1.11076906\n",
      "  0.79106846]\n"
     ]
    }
   ],
   "source": [
    "print k_val"
   ]
  },
  {
   "cell_type": "markdown",
   "metadata": {},
   "source": [
    "As a check, the values fitted with this method are compared with the values fitted with the rolling ratios method."
   ]
  },
  {
   "cell_type": "code",
   "execution_count": 92,
   "metadata": {
    "collapsed": false
   },
   "outputs": [],
   "source": [
    "k_sci = k"
   ]
  },
  {
   "cell_type": "code",
   "execution_count": 93,
   "metadata": {
    "collapsed": false,
    "scrolled": true
   },
   "outputs": [
    {
     "data": {
      "text/plain": [
       "<Container object of 3 artists>"
      ]
     },
     "execution_count": 93,
     "metadata": {},
     "output_type": "execute_result"
    },
    {
     "data": {
      "image/png": "[encoded data removed]",
      "text/plain": [
       "<matplotlib.figure.Figure at 0x26f89160>"
      ]
     },
     "metadata": {},
     "output_type": "display_data"
    }
   ],
   "source": [
    "plt.errorbar(k_val / k_val[smap[site_ref]], k, fmt='o')"
   ]
  },
  {
   "cell_type": "markdown",
   "metadata": {},
   "source": [
    "### Error estimation"
   ]
  },
  {
   "cell_type": "markdown",
   "metadata": {},
   "source": [
    "In order to estimate the error on the fitted parameters, we can use the standard method of finding the variations on the parameters that increase the value of $\\chi^2$ by one with respect to its minimum. To do this, we must calculate the value of $S$.\n",
    "\n",
    "From what was said above:\n",
    "\n",
    "$$S=\\frac{\\sigma_{i\\alpha}k_i}{A_\\alpha}$$\n",
    "\n",
    "and considering that $\\sigma_{i\\alpha}$ is the standard deviation of $a_{i\\alpha}$, we can expect that the observed values $\\frac{a_{i\\alpha}k_i}{A_\\alpha}$ will be distributed around one with a standard deviation of $S$.\n",
    "\n",
    "Around the minimum, the following equation holds:\n",
    "\n",
    "$$1\\equiv\\chi^2-\\chi^2_{\\text{min}}=\\frac{\\Delta f}{S^2}\\simeq\\frac{1}{S^2}\\frac{1}{2}\\frac{\\partial^2f}{\\partial k_i^2}\\Delta k_i^2$$\n",
    "\n",
    "and considering that\n",
    "\n",
    "$$\\frac{\\partial^2f}{\\partial k_i^2}=2\\sum_\\alpha\\frac{a_{i\\alpha}^2}{A_\\alpha^2}$$\n",
    "\n",
    "one concludes that\n",
    "\n",
    "$$\\Delta k_i\\simeq\\frac{S}{\\sqrt{\\sum_\\alpha\\frac{a_{i\\alpha}^2}{A_\\alpha^2}}}$$\n",
    "\n",
    "We can easily measure $S$ from the data as follows."
   ]
  },
  {
   "cell_type": "code",
   "execution_count": 94,
   "metadata": {
    "collapsed": true
   },
   "outputs": [],
   "source": [
    "x = result_val.x\n",
    "points = list()\n",
    "for t, task in data.items():\n",
    "    nt = tmap[t]\n",
    "    for i in task.keys():\n",
    "        (v, _) = task[i]\n",
    "        p = v * x[ntask+i] / x[nt]\n",
    "        points.append(p)"
   ]
  },
  {
   "cell_type": "code",
   "execution_count": 108,
   "metadata": {
    "collapsed": false
   },
   "outputs": [
    {
     "name": "stdout",
     "output_type": "stream",
     "text": [
      "The value of S is: 0.139\n"
     ]
    },
    {
     "data": {
      "image/png": "[encoded data removed]",
      "text/plain": [
       "<matplotlib.figure.Figure at 0x29a7a400>"
      ]
     },
     "metadata": {},
     "output_type": "display_data"
    }
   ],
   "source": [
    "bins = 100\n",
    "xrange = (0., 2.)\n",
    "binsize = (xrange[1] - xrange[0]) / bins\n",
    "fig = plt.hist(points, bins=bins, range=xrange)\n",
    "n = len(points)\n",
    "mu = np.mean(points)\n",
    "sigma = np.std(points)\n",
    "plt.xlabel(r'$a_{i\\alpha}k_i/A_\\alpha$')\n",
    "plt.text(1.4, 1400., r'$\\mu=%.3f\\pm%.3f$' % (mu, sigma))\n",
    "S = sigma\n",
    "print 'The value of S is: %.3f' % S"
   ]
  },
  {
   "cell_type": "markdown",
   "metadata": {},
   "source": [
    "For fun, let's fit the distribution with one gaussian."
   ]
  },
  {
   "cell_type": "code",
   "execution_count": 96,
   "metadata": {
    "collapsed": true
   },
   "outputs": [],
   "source": [
    "y, x = np.histogram(points, bins=bins, range=xrange)\n",
    "y = np.divide(y, np.float(np.sum(y))*binsize)"
   ]
  },
  {
   "cell_type": "code",
   "execution_count": 97,
   "metadata": {
    "collapsed": false
   },
   "outputs": [
    {
     "name": "stdout",
     "output_type": "stream",
     "text": [
      "0.978105028158 0.111407322451\n",
      "The value of S is: 0.111\n"
     ]
    },
    {
     "data": {
      "image/png": "[encoded data removed]",
      "text/plain": [
       "<matplotlib.figure.Figure at 0x2ec84438>"
      ]
     },
     "metadata": {},
     "output_type": "display_data"
    }
   ],
   "source": [
    "def f(x, m, s):\n",
    "    return 1 / (s * np.sqrt(2 * np.pi)) * np.exp(-(x - m)**2 / (2 * s**2))\n",
    "\n",
    "plt.plot(x[:-1], y)\n",
    "(m, s), _ = optimize.curve_fit(f, x[:-1], y)\n",
    "print m, s\n",
    "plt.plot(x, f(x, m, s))\n",
    "S1 = s\n",
    "print 'The value of S is: %.3f' % S1"
   ]
  },
  {
   "cell_type": "markdown",
   "metadata": {},
   "source": [
    "And now, with two gaussians."
   ]
  },
  {
   "cell_type": "code",
   "execution_count": 98,
   "metadata": {
    "collapsed": false
   },
   "outputs": [
    {
     "name": "stdout",
     "output_type": "stream",
     "text": [
      "0.97926849027 0.0696830777701 0.149028050994 0.35288405799\n",
      "The value of S is: 0.127\n"
     ]
    },
    {
     "data": {
      "image/png": "[encoded data removed]",
      "text/plain": [
       "<matplotlib.figure.Figure at 0x28218518>"
      ]
     },
     "metadata": {},
     "output_type": "display_data"
    }
   ],
   "source": [
    "def f2(x, m, s1, s2, n):\n",
    "    return n / (s1 * np.sqrt(2 * np.pi)) * np.exp(-(x - m)**2 / (2 * s1**2)) + \\\n",
    "        (1 - n) / (s2 * np.sqrt(2 * np.pi)) * np.exp(-(x - m)**2 / (2 * s2**2))\n",
    " \n",
    "plt.plot(x[:-1], y)\n",
    "(m, s1, s2, n), _ = optimize.curve_fit(f2, x[:-1], y, (1., 0.1, 1., 1.))\n",
    "print m, s1, s2, n\n",
    "plt.plot(x, f2(x, m, s1, s2, n))\n",
    "S2 = np.sqrt(n * s1**2 + (1 - n) * s2**2)\n",
    "print 'The value of S is: %.3f' % S2"
   ]
  },
  {
   "cell_type": "markdown",
   "metadata": {},
   "source": [
    "The fit to two gaussians is remarkably good."
   ]
  },
  {
   "cell_type": "code",
   "execution_count": 99,
   "metadata": {
    "collapsed": true
   },
   "outputs": [],
   "source": [
    "x = result_val.x\n",
    "points2 = list()\n",
    "for t, task in data.items():\n",
    "    nt = tmap[t]\n",
    "    for i in task.keys():\n",
    "        (v, _) = task[i]\n",
    "        p = v / a_ini[nt]\n",
    "        points2.append(p)"
   ]
  },
  {
   "cell_type": "code",
   "execution_count": 100,
   "metadata": {
    "collapsed": false
   },
   "outputs": [
    {
     "name": "stdout",
     "output_type": "stream",
     "text": [
      "The value of S is: 0.233\n"
     ]
    },
    {
     "data": {
      "image/png": "[encoded data removed]",
      "text/plain": [
       "<matplotlib.figure.Figure at 0x2dcd8710>"
      ]
     },
     "metadata": {},
     "output_type": "display_data"
    }
   ],
   "source": [
    "bins = 100\n",
    "xrange = (0., 2.)\n",
    "binsize = (xrange[1] - xrange[0]) / bins\n",
    "fig = plt.hist(points2, bins=bins, range=xrange)\n",
    "n = len(points2)\n",
    "mu = np.mean(points2)\n",
    "sigma = np.std(points2)\n",
    "print 'The value of S is: %.3f' % sigma"
   ]
  },
  {
   "cell_type": "code",
   "execution_count": 101,
   "metadata": {
    "collapsed": false
   },
   "outputs": [],
   "source": [
    "x = result_val.x\n",
    "a = x[:ntask]\n",
    "k = x[ntask:]\n",
    "k_err = np.zeros_like(k)\n",
    "c = 0\n",
    "for t, task in data.items():\n",
    "    nt = tmap[t]\n",
    "    c += len(task)\n",
    "    for i in task.keys():\n",
    "        (v, _) = task[i]\n",
    "        k_err[i] += v**2 / a[nt]**2\n",
    "k_err = S / np.sqrt(k_err)"
   ]
  },
  {
   "cell_type": "markdown",
   "metadata": {},
   "source": [
    "### Goodness of fit"
   ]
  },
  {
   "cell_type": "markdown",
   "metadata": {},
   "source": [
    "To test the goodness of our fit, we can calculate the reduced $\\chi^2$ ad the minimum, which is $\\chi^2/(N-m)$, where $N$ is the number of independent measurements and $m$ the number of fitted parameters."
   ]
  },
  {
   "cell_type": "code",
   "execution_count": 112,
   "metadata": {
    "collapsed": false
   },
   "outputs": [
    {
     "name": "stdout",
     "output_type": "stream",
     "text": [
      "Degrees of freedom: 21101\n",
      "The value of the reduced chi2 is: 1.125\n",
      "Standard deviation of reduced chi2: 0.005\n"
     ]
    }
   ],
   "source": [
    "deg = c - len(x_ini)\n",
    "chi2r = func_val(result_val.x) / S**2 / deg\n",
    "print 'Degrees of freedom: %d' % deg\n",
    "print 'The value of the reduced chi2 is: %.3f' % chi2r\n",
    "print 'Standard deviation of reduced chi2: %.3f' % (1. / np.sqrt(2. * deg))"
   ]
  },
  {
   "cell_type": "code",
   "execution_count": null,
   "metadata": {
    "collapsed": true
   },
   "outputs": [],
   "source": []
  },
  {
   "cell_type": "code",
   "execution_count": null,
   "metadata": {
    "collapsed": true
   },
   "outputs": [],
   "source": []
  }
 ],
 "metadata": {
  "kernelspec": {
   "display_name": "Python 2",
   "language": "python",
   "name": "python2"
  },
  "language_info": {
   "codemirror_mode": {
    "name": "ipython",
    "version": 2
   },
   "file_extension": ".py",
   "mimetype": "text/x-python",
   "name": "python",
   "nbconvert_exporter": "python",
   "pygments_lexer": "ipython2",
   "version": "2.7.11"
  }
 },
 "nbformat": 4,
 "nbformat_minor": 0
}
