{
 "cells": [
  {
   "cell_type": "code",
   "execution_count": 1,
   "metadata": {
    "collapsed": true
   },
   "outputs": [],
   "source": [
    "import sys\n",
    "import math\n",
    "from collections import defaultdict, OrderedDict, Counter\n",
    "import pprint as pp\n",
    "import numpy as np\n",
    "import pandas as pd\n",
    "import scipy.optimize as optimize\n",
    "import matplotlib.pyplot as plt\n",
    "\n",
    "%matplotlib inline"
   ]
  },
  {
   "cell_type": "code",
   "execution_count": 2,
   "metadata": {
    "collapsed": false
   },
   "outputs": [],
   "source": [
    "df = pd.read_csv('task_cpu_90d_2.csv', names=['jeditaskid', 'processingtype', 'transformation', 'atlrel', 'site',\n",
    "                                                               'cputype', 'njobs', 'cpuevt_avg', 'cpuevt_rms', 'wallevt_avg',\n",
    "                                                               'wallevt_rms', 'cpu', 'wc', 'cores', 'jevts', 'eff'])"
   ]
  },
  {
   "cell_type": "code",
   "execution_count": 3,
   "metadata": {
    "collapsed": false
   },
   "outputs": [],
   "source": [
    "grouped = df[df.processingtype == 'evgen'].groupby(['site'], as_index=False)\n",
    "tot_wc = grouped['wc'].sum()\n",
    "a = tot_wc.sort_values('wc', ascending=False)\n",
    "bigtotal_wc = a.wc.sum()\n",
    "big_sites = a[a.wc > bigtotal_wc * 0.001].site.tolist()"
   ]
  },
  {
   "cell_type": "code",
   "execution_count": 4,
   "metadata": {
    "collapsed": false
   },
   "outputs": [],
   "source": [
    "grouped = df.groupby(['processingtype', 'jeditaskid', 'site'], as_index=False, sort=False)\n",
    "\n",
    "data = defaultdict(OrderedDict)\n",
    "for (p, j, s), g in grouped:\n",
    "    if s not in big_sites: continue\n",
    "    if p != 'evgen': continue\n",
    "    x = np.average(g.cpuevt_avg, weights=g.cpu)\n",
    "    y = math.sqrt(np.average((g.cpuevt_avg - x)**2, weights=g.cpu))\n",
    "    data[j][s] = (x, y)"
   ]
  },
  {
   "cell_type": "code",
   "execution_count": 5,
   "metadata": {
    "collapsed": false
   },
   "outputs": [],
   "source": [
    "# Remove from data tasks with only one site\n",
    "for (k, v) in data.items():\n",
    "    if len(v) == 1:\n",
    "        del data[k]"
   ]
  },
  {
   "cell_type": "code",
   "execution_count": 6,
   "metadata": {
    "collapsed": false
   },
   "outputs": [
    {
     "name": "stdout",
     "output_type": "stream",
     "text": [
      "There are 111 sites in the fit\n"
     ]
    }
   ],
   "source": [
    "# Replace site names with numbers\n",
    "i = -1\n",
    "sites = set()\n",
    "smap = dict()\n",
    "for (k, v) in data.items():\n",
    "    for s in v.keys():\n",
    "        if s not in sites:\n",
    "            i += 1\n",
    "            smap[s] = i\n",
    "            sites.add(s)\n",
    "        data[k][smap[s]]= data[k][s]\n",
    "        del data[k][s]\n",
    "\n",
    "nsites = len(smap)\n",
    "print 'There are %s sites in the fit' % nsites"
   ]
  },
  {
   "cell_type": "code",
   "execution_count": 7,
   "metadata": {
    "collapsed": true
   },
   "outputs": [],
   "source": [
    "# Map tasks to integers\n",
    "tasks = set(data.keys())\n",
    "tmap = dict()\n",
    "i = 0\n",
    "for x in tasks:\n",
    "    tmap[x] = i\n",
    "    i += 1"
   ]
  },
  {
   "cell_type": "code",
   "execution_count": 8,
   "metadata": {
    "collapsed": false
   },
   "outputs": [],
   "source": [
    "def func(k):\n",
    "    total = 0.\n",
    "    for _, task in data.items():   # looping on tasks\n",
    "        kf = np.array([k[i] for i in task.keys()])\n",
    "        v = np.array([a[0] for a in task.values()])\n",
    "        kf2 = np.roll(kf, -1)\n",
    "        v2 = np.roll(v, -1)\n",
    "        ratio = (v2 / v - kf / kf2)**2\n",
    "        ratio[np.isnan(ratio)] = 0.\n",
    "        ratio[np.isinf(ratio)] = 0.\n",
    "        delta = np.sum(ratio[:-1])\n",
    "        total += delta\n",
    "    return total"
   ]
  },
  {
   "cell_type": "code",
   "execution_count": 9,
   "metadata": {
    "collapsed": false
   },
   "outputs": [],
   "source": [
    "def func2(k):\n",
    "    total = 0.\n",
    "    for _, task in data.items():\n",
    "        kf = np.array([k[i] for i in task.keys()])\n",
    "        v = np.array([a[0] for a in task.values()])\n",
    "        ratio = (v / v[0] - kf[0] / kf)**2\n",
    "        ratio[np.isnan(ratio)] = 0.\n",
    "        ratio[np.isinf(ratio)] = 0.\n",
    "        delta = np.sum(ratio)\n",
    "        total += delta\n",
    "    return total"
   ]
  },
  {
   "cell_type": "code",
   "execution_count": 10,
   "metadata": {
    "collapsed": false
   },
   "outputs": [],
   "source": [
    "def func3(k):\n",
    "    total = 0.\n",
    "    for _, task in data.items():\n",
    "        kf = np.array([k[i] for i in task.keys()])\n",
    "        v = np.array([a[0] for a in task.values()])\n",
    "        ratio = (v[0] / v - kf / kf[0])**2\n",
    "        ratio[np.isnan(ratio)] = 0.\n",
    "        ratio[np.isinf(ratio)] = 0.\n",
    "        delta = np.sum(ratio)\n",
    "        total += delta\n",
    "    return total"
   ]
  },
  {
   "cell_type": "code",
   "execution_count": 11,
   "metadata": {
    "collapsed": false
   },
   "outputs": [],
   "source": [
    "def func4(k):\n",
    "    total = 0.\n",
    "    for _, task in data.items():   # looping on tasks\n",
    "        kf = np.array([k[i] for i in task.keys()])\n",
    "        v = np.array([a[0] for a in task.values()])\n",
    "        kf2 = np.roll(kf, -1)\n",
    "        v2 = np.roll(v, -1)\n",
    "        ratio = (v2 / v - kf / kf2)**2\n",
    "        ratio[np.isnan(ratio)] = 0.\n",
    "        ratio[np.isinf(ratio)] = 0.\n",
    "        delta = np.sum(ratio)\n",
    "        total += delta\n",
    "    return total"
   ]
  },
  {
   "cell_type": "code",
   "execution_count": 12,
   "metadata": {
    "collapsed": false
   },
   "outputs": [],
   "source": [
    "def grad(k):\n",
    "    grad = np.zeros(len(k))\n",
    "    for _, task in data.items():\n",
    "        ns = np.array(task.keys())\n",
    "        kf = np.array([k[i] for i in task.keys()])\n",
    "        v = np.array([a[0] for a in task.values()])\n",
    "        for i in range(len(task)):\n",
    "            if i == len(task) - 1:\n",
    "                x1 = 0.\n",
    "            else:\n",
    "                x1 = -2 * (v[i+1] / v[i] - kf[i] / kf[i+1]) / kf[i+1]\n",
    "            if np.isnan(x1) or np.isinf(x1): x1 = 0.\n",
    "            if i == 0:\n",
    "                x2 = 0.\n",
    "            else:\n",
    "                x2 = 2 * (v[i] / v[i-1] - kf[i-1] / kf[i]) * kf[i-1] / kf[i]**2\n",
    "            if np.isnan(x2) or np.isinf(x2): x2 = 0.\n",
    "            grad[ns[i]] += (x1 + x2)\n",
    "    return grad"
   ]
  },
  {
   "cell_type": "code",
   "execution_count": 13,
   "metadata": {
    "collapsed": false
   },
   "outputs": [],
   "source": [
    "def grad2(k):\n",
    "    grad = np.zeros(len(k))\n",
    "    for _, task in data.items():\n",
    "        ns = np.array(task.keys())\n",
    "        kf = np.array([k[i] for i in task.keys()])\n",
    "        v = np.array([a[0] for a in task.values()])\n",
    "        for i in range(len(task)):\n",
    "            x = 0.\n",
    "            if i == 0:\n",
    "                for j in range(len(task)):\n",
    "                    x += -2. * (v[j] / v[0] - k[0] / k[j]) / k[j]\n",
    "            else:\n",
    "                x = 2. * (v[i] / v[0] - k[0] / k[i]) * k[0] / k[i]**2\n",
    "            grad[ns[i]] += x\n",
    "    return grad"
   ]
  },
  {
   "cell_type": "code",
   "execution_count": 14,
   "metadata": {
    "collapsed": false
   },
   "outputs": [],
   "source": [
    "def grad3(k):\n",
    "    grad = np.zeros(len(k))\n",
    "    for _, task in data.items():\n",
    "        ns = np.array(task.keys())\n",
    "        kf = np.array([k[i] for i in task.keys()])\n",
    "        v = np.array([a[0] for a in task.values()])\n",
    "        for i in range(len(task)):\n",
    "            x = 0.\n",
    "            if i == 0:\n",
    "                for j in range(len(task)):\n",
    "                    x += 2. * (v[0] / v[j] - k[j] / k[0]) * k[j] / k[0]**2\n",
    "            else:\n",
    "                x = -2. * (v[0] / v[i] - k[i] / k[0]) / k[0]\n",
    "            grad[ns[i]] += x\n",
    "    return grad"
   ]
  },
  {
   "cell_type": "code",
   "execution_count": 15,
   "metadata": {
    "collapsed": false
   },
   "outputs": [],
   "source": [
    "def grad4(k):\n",
    "    grad = np.zeros(len(k))\n",
    "    for _, task in data.items():\n",
    "        ns = np.array(task.keys())\n",
    "        kf = np.array([k[i] for i in task.keys()])\n",
    "        v = np.array([a[0] for a in task.values()])\n",
    "        for i in range(len(task)):\n",
    "            if i == len(task) - 1:\n",
    "                x1 = -2 * (v[0] / v[i] - kf[i] / kf[0]) / kf[0]\n",
    "            else:\n",
    "                x1 = -2 * (v[i+1] / v[i] - kf[i] / kf[i+1]) / kf[i+1]\n",
    "            if np.isnan(x1) or np.isinf(x1): x1 = 0.\n",
    "            if i == 0:\n",
    "                x2 = 2 * (v[i] / v[len(task)-1] - kf[len(task)-1] / kf[i]) * kf[len(task)-1] / kf[i]**2\n",
    "            else:\n",
    "                x2 = 2 * (v[i] / v[i-1] - kf[i-1] / kf[i]) * kf[i-1] / kf[i]**2\n",
    "            if np.isnan(x2) or np.isinf(x2): x2 = 0.\n",
    "            grad[ns[i]] += (x1 + x2)\n",
    "    return grad"
   ]
  },
  {
   "cell_type": "code",
   "execution_count": 16,
   "metadata": {
    "collapsed": false
   },
   "outputs": [
    {
     "name": "stdout",
     "output_type": "stream",
     "text": [
      "Initial function value:  9276.85827558\n",
      "Initial function value:  3725.16792974\n",
      "Initial function value:  1857.30097738\n",
      "Initial function value:  9455.41243276\n"
     ]
    }
   ],
   "source": [
    "k_ini = np.ones(nsites)   # Initialises CPU factors for all sites to one\n",
    "\n",
    "print 'Initial function value: ', func(k_ini)\n",
    "print 'Initial function value: ', func2(k_ini)\n",
    "print 'Initial function value: ', func3(k_ini)\n",
    "print 'Initial function value: ', func4(k_ini)"
   ]
  },
  {
   "cell_type": "code",
   "execution_count": 17,
   "metadata": {
    "collapsed": false
   },
   "outputs": [
    {
     "name": "stdout",
     "output_type": "stream",
     "text": [
      "0.00118444684462\n"
     ]
    }
   ],
   "source": [
    "check = optimize.check_grad(func, grad, k_ini)\n",
    "print check"
   ]
  },
  {
   "cell_type": "code",
   "execution_count": 18,
   "metadata": {
    "collapsed": false
   },
   "outputs": [
    {
     "name": "stdout",
     "output_type": "stream",
     "text": [
      "0.000711921785147\n"
     ]
    }
   ],
   "source": [
    "check = optimize.check_grad(func2, grad2, k_ini)\n",
    "print check"
   ]
  },
  {
   "cell_type": "code",
   "execution_count": 19,
   "metadata": {
    "collapsed": false
   },
   "outputs": [
    {
     "name": "stdout",
     "output_type": "stream",
     "text": [
      "0.000690682075832\n"
     ]
    }
   ],
   "source": [
    "check = optimize.check_grad(func3, grad3, k_ini)\n",
    "print check"
   ]
  },
  {
   "cell_type": "code",
   "execution_count": 20,
   "metadata": {
    "collapsed": false
   },
   "outputs": [
    {
     "name": "stdout",
     "output_type": "stream",
     "text": [
      "0.00185998549001\n"
     ]
    }
   ],
   "source": [
    "check = optimize.check_grad(func4, grad4, k_ini)\n",
    "print check"
   ]
  },
  {
   "cell_type": "code",
   "execution_count": 21,
   "metadata": {
    "collapsed": false
   },
   "outputs": [],
   "source": [
    "ref = smap['CERN-PROD']\n",
    "cons = ({'type': 'eq', 'fun': lambda x: x[ref] - 1})\n",
    "bounds = [(0.5, 2.)] * len(k_ini)"
   ]
  },
  {
   "cell_type": "code",
   "execution_count": 22,
   "metadata": {
    "collapsed": false
   },
   "outputs": [
    {
     "name": "stdout",
     "output_type": "stream",
     "text": [
      "Optimization terminated successfully.    (Exit mode 0)\n",
      "            Current function value: 7870.48940344\n",
      "            Iterations: 132\n",
      "            Function evaluations: 376\n",
      "            Gradient evaluations: 132\n"
     ]
    }
   ],
   "source": [
    "result = optimize.minimize(func, k_ini, method='SLSQP', jac=grad, constraints=cons, bounds=bounds, options={'disp': True, 'maxiter': 2000})"
   ]
  },
  {
   "cell_type": "code",
   "execution_count": 23,
   "metadata": {
    "collapsed": false
   },
   "outputs": [],
   "source": [
    "k = result.x"
   ]
  },
  {
   "cell_type": "code",
   "execution_count": 24,
   "metadata": {
    "collapsed": false
   },
   "outputs": [
    {
     "name": "stdout",
     "output_type": "stream",
     "text": [
      "[ 1.18398493  1.2549539   1.          1.41408676  1.33472856  1.30346994\n",
      "  1.25963328  1.09473472  0.95117855  1.79370681  1.13050906  1.38680984\n",
      "  0.97160062  1.12310096  1.17616666  1.72407103  1.15298544  1.59846386\n",
      "  1.07365293  1.20041902  1.35863888  1.81495999  1.04026366  1.38521709\n",
      "  1.80518373  1.62868241  0.9894252   1.14052909  1.088555    1.3402907\n",
      "  1.32774362  1.48727534  1.4026187   1.31622248  1.23073997  1.0603262\n",
      "  1.89984147  0.985279    1.62401032  1.20504296  1.28277084  1.86544151\n",
      "  1.27943873  1.40551823  1.18922598  1.00208626  1.42452453  2.\n",
      "  1.15027826  1.08679691  1.30808256  1.14237614  1.03528222  0.87518264\n",
      "  1.24907892  1.28403186  1.73079417  1.27631529  1.4617014   1.50282263\n",
      "  1.58478535  1.02724934  1.52559653  1.56920989  1.16964818  0.9811864\n",
      "  1.52555284  1.19887656  1.01267412  1.43936089  1.01755896  1.59620719\n",
      "  0.98492448  1.37811252  0.82843915  1.09095493  0.94892871  1.44340015\n",
      "  1.31933175  1.47941527  1.27612124  1.13805195  1.41413703  1.25970669\n",
      "  1.2999079   1.07410101  1.0224617   1.45608365  1.39554487  1.33394992\n",
      "  1.25783438  1.16663036  1.07140165  1.26931934  1.22188735  1.45064726\n",
      "  1.27618062  1.42853395  1.33450472  1.88727214  1.4320057   1.21939918\n",
      "  1.62307327  1.45985159  1.58729296  1.23058097  1.17726092  1.30940491\n",
      "  1.50412034  1.20157143  0.75488768]\n"
     ]
    }
   ],
   "source": [
    "print k"
   ]
  },
  {
   "cell_type": "code",
   "execution_count": 25,
   "metadata": {
    "collapsed": false
   },
   "outputs": [
    {
     "name": "stdout",
     "output_type": "stream",
     "text": [
      "AGLT2_SL6\t1.254954\n",
      "ARNES\t0.985279\n",
      "ATLAS_OPP_OSG\t1.166630\n",
      "Australia-ATLAS\t1.269319\n",
      "BEIJING\t1.899841\n",
      "BNL_LOCAL\t1.479415\n",
      "BNL_PROD\t1.189226\n",
      "BU_ATLAS_Tier2_SL6\t1.439361\n",
      "CA-MCGILL-CLUMEQ-T2\t1.730794\n",
      "CA-SCINET-T2\t1.504120\n",
      "CA-VICTORIA-WESTGRID-T2\t1.724071\n",
      "CERN-PROD\t1.000000\n",
      "CERN-PROD-preprod\t1.230581\n",
      "CONNECT\t1.525553\n",
      "CONNECT_CLOUD\t0.828439\n",
      "CPPM\t1.205043\n",
      "CSCS-LCG2\t1.459852\n",
      "CYFRONET-LCG2\t1.177261\n",
      "DCSC\t1.060326\n",
      "DESY-HH\t0.971601\n",
      "DESY-HH_Condor\t1.405518\n",
      "DESY-ZN\t1.814960\n",
      "EELA-UTFSM\t1.276181\n",
      "FMPhI-UNIBA\t1.450647\n",
      "FZK-LCG2\t1.386810\n",
      "GR-12-TEIKAV\t1.022462\n",
      "GRIF-IRFU\t1.259707\n",
      "GRIF-LAL_HTCondor\t1.624010\n",
      "GRIF-LPNHE\t1.142376\n",
      "GoeGrid\t1.805184\n",
      "HPC2N\t0.951179\n",
      "HU_ATLAS_Tier2\t1.333950\n",
      "IAAS\t1.502823\n",
      "IEPSAS-Kosice\t1.623073\n",
      "IFAE\t1.456084\n",
      "IFIC\t1.073653\n",
      "IHEP_PROD\t1.040264\n",
      "IL-TAU-HEP\t1.461701\n",
      "IN2P3-CC\t1.303470\n",
      "IN2P3-CC-T2\t1.432006\n",
      "IN2P3-CC_VVL\t1.309405\n",
      "IN2P3-LPSC\t1.308083\n",
      "INFN-COSENZA-RECAS\t1.002086\n",
      "INFN-FRASCATI\t1.071402\n",
      "INFN-GENOVA\t1.130509\n",
      "INFN-LECCE\t1.259633\n",
      "INFN-MILANO-ATLASC\t1.198877\n",
      "INFN-NAPOLI-ATLAS\t1.017559\n",
      "INFN-NAPOLI-RECAS\t0.981186\n",
      "INFN-NAPOLI-SCOPE\t1.169648\n",
      "INFN-ROMA1\t1.090955\n",
      "INFN-T1\t1.183985\n",
      "JINR_PROD\t1.414087\n",
      "LAPP\t1.282771\n",
      "LPC\t1.150278\n",
      "LRZ-LMU\t1.138052\n",
      "Lucille_CE\t0.948929\n",
      "MPPMU\t1.793707\n",
      "MWT2_SL6\t1.284032\n",
      "NCG-INGRID-PT_SL6\t1.219399\n",
      "NIKHEF-ELPROD\t1.598464\n",
      "NIKHEF-ELPROD_LONG\t1.443400\n",
      "NSC\t1.587293\n",
      "OU_OCHEP_SWT2\t1.027249\n",
      "PNPI_PROD\t1.230740\n",
      "PSNC\t0.754888\n",
      "RAL-LCG2_SL6\t1.123101\n",
      "ROMANIA02\t0.875183\n",
      "ROMANIA07\t1.086797\n",
      "ROMANIA16\t1.249079\n",
      "RRC-KI-HPC2\t1.378113\n",
      "RRC-KI-T1\t1.088555\n",
      "SARA-MATRIX\t1.414137\n",
      "SFU-LCG2\t1.334505\n",
      "SLACXRD\t1.334729\n",
      "SLACXRD_LMEM\t1.395545\n",
      "SWT2_CPB\t1.012674\n",
      "SiGNET\t1.035282\n",
      "TECHNION-HEP\t1.887272\n",
      "TOKYO\t2.000000\n",
      "TRIUMF\t1.525597\n",
      "TW-FTT_SL6\t1.276315\n",
      "Taiwan-LCG2\t1.327744\n",
      "Taiwan-LCG2_VL\t1.340291\n",
      "UAM-LCG2\t1.221887\n",
      "UIO\t1.865442\n",
      "UKI-LT2-Brunel_SL6\t1.200419\n",
      "UKI-LT2-IC-HEP_SL6\t1.201571\n",
      "UKI-LT2-QMUL_HIMEM_SL6\t1.424525\n",
      "UKI-LT2-QMUL_SL6\t1.358639\n",
      "UKI-LT2-RHUL_SL6\t1.276121\n",
      "UKI-NORTHGRID-LANCS-HEP_SL6\t1.628682\n",
      "UKI-NORTHGRID-LIV-HEP_SL6\t1.385217\n",
      "UKI-NORTHGRID-MAN-HEP_SL6\t1.279439\n",
      "UKI-NORTHGRID-SHEF-HEP_SL6\t1.487275\n",
      "UKI-SCOTGRID-DURHAM_SL6\t1.319332\n",
      "UKI-SCOTGRID-ECDF_SL6\t1.428534\n",
      "UKI-SCOTGRID-GLASGOW_SL6\t1.176167\n",
      "UKI-SOUTHGRID-BHAM-HEP_SL6\t1.140529\n",
      "UKI-SOUTHGRID-OX-HEP_SL6\t0.989425\n",
      "UKI-SOUTHGRID-RALPP_SL6\t1.299908\n",
      "UNI-DORTMUND\t1.257834\n",
      "UNI-FREIBURG\t1.094735\n",
      "UNIBE-LHEP\t1.074101\n",
      "UNIBE-LHEP-UBELIX\t1.402619\n",
      "UTA_SWT2\t0.984924\n",
      "WEIZMANN-LCG2\t1.584785\n",
      "ZA-WITS-CORE\t1.316222\n",
      "pic\t1.569210\n",
      "praguelcg2\t1.152985\n",
      "wuppertalprod\t1.596207\n"
     ]
    }
   ],
   "source": [
    "for s in sorted(smap.keys()):\n",
    "    print '%s\\t%f' % (s, k[smap[s]])"
   ]
  },
  {
   "cell_type": "code",
   "execution_count": 26,
   "metadata": {
    "collapsed": false
   },
   "outputs": [
    {
     "name": "stdout",
     "output_type": "stream",
     "text": [
      "Inequality constraints incompatible    (Exit mode 4)\n",
      "            Current function value: 3239001517.61\n",
      "            Iterations: 23\n",
      "            Function evaluations: 223\n",
      "            Gradient evaluations: 23\n"
     ]
    }
   ],
   "source": [
    "result2 = optimize.minimize(func2, k_ini, method='SLSQP', jac=grad2, constraints=cons, options={'disp': True, 'maxiter': 2000})"
   ]
  },
  {
   "cell_type": "code",
   "execution_count": 269,
   "metadata": {
    "collapsed": false
   },
   "outputs": [],
   "source": [
    "k2 = result2.x"
   ]
  },
  {
   "cell_type": "code",
   "execution_count": 27,
   "metadata": {
    "collapsed": false
   },
   "outputs": [
    {
     "name": "stdout",
     "output_type": "stream",
     "text": [
      "Positive directional derivative for linesearch    (Exit mode 8)\n",
      "            Current function value: 1118.78589787\n",
      "            Iterations: 24\n",
      "            Function evaluations: 186\n",
      "            Gradient evaluations: 20\n"
     ]
    }
   ],
   "source": [
    "result3 = optimize.minimize(func3, k_ini, method='SLSQP', jac=grad3, constraints=cons, bounds=bounds, options={'disp': True, 'maxiter': 2000})"
   ]
  },
  {
   "cell_type": "code",
   "execution_count": 28,
   "metadata": {
    "collapsed": false
   },
   "outputs": [],
   "source": [
    "k3 = result3.x"
   ]
  },
  {
   "cell_type": "code",
   "execution_count": 29,
   "metadata": {
    "collapsed": false
   },
   "outputs": [
    {
     "name": "stdout",
     "output_type": "stream",
     "text": [
      "Optimization terminated successfully.    (Exit mode 0)\n",
      "            Current function value: 7954.97429989\n",
      "            Iterations: 133\n",
      "            Function evaluations: 379\n",
      "            Gradient evaluations: 133\n"
     ]
    }
   ],
   "source": [
    "result4 = optimize.minimize(func4, k_ini, method='SLSQP', jac=grad4, constraints=cons, bounds=bounds, options={'disp': True, 'maxiter': 2000})"
   ]
  },
  {
   "cell_type": "code",
   "execution_count": 276,
   "metadata": {
    "collapsed": true
   },
   "outputs": [],
   "source": [
    "k4 = result4.x"
   ]
  },
  {
   "cell_type": "code",
   "execution_count": 30,
   "metadata": {
    "collapsed": false
   },
   "outputs": [],
   "source": [
    "ntask = len(data)\n",
    "nsite = len(smap)\n",
    "a_ini = np.zeros(ntask)\n",
    "for j, task in data.items():\n",
    "    nt = tmap[j]\n",
    "    a_ini[nt] = np.mean([b[0] for b in task.values()])\n",
    "x_ini = np.hstack((a_ini, np.ones(nsite)))"
   ]
  },
  {
   "cell_type": "code",
   "execution_count": 31,
   "metadata": {
    "collapsed": true
   },
   "outputs": [],
   "source": [
    "def func_val(x):\n",
    "    a = x[:ntask]\n",
    "    k = x[ntask:]\n",
    "    total = 0.\n",
    "    for j, task in data.items():   # looping on tasks\n",
    "        nt = tmap[j]\n",
    "        kf = np.array([k[i] for i in task.keys()])\n",
    "        v = np.array([b[0] for b in task.values()])\n",
    "        f_term = 1. / a[nt]**2 * (v * kf - a[nt])**2\n",
    "        delta = np.sum(f_term)\n",
    "        total += delta\n",
    "    return total\n"
   ]
  },
  {
   "cell_type": "code",
   "execution_count": 32,
   "metadata": {
    "collapsed": true
   },
   "outputs": [],
   "source": [
    "def grad_val(x):\n",
    "    a = x[:ntask]\n",
    "    k = x[ntask:]\n",
    "    g = np.zeros(len(x))\n",
    "    for j, task in data.items():\n",
    "        g_a = 0.\n",
    "        nt = tmap[j]\n",
    "        for i in task.keys():\n",
    "            (v, _) = task[i]\n",
    "            g_a += -2 * v * k[i] / a[nt]**2 * (v * k[i] / a[nt] - 1)\n",
    "            g_k = 2 / a[nt]**2 * v * (k[i] * v - a[nt])\n",
    "            g[ntask + i] += g_k\n",
    "        g[nt] = g_a\n",
    "    return g"
   ]
  },
  {
   "cell_type": "code",
   "execution_count": 33,
   "metadata": {
    "collapsed": true
   },
   "outputs": [],
   "source": [
    "def hess_val(x):\n",
    "    a = x[:ntask]\n",
    "    k = x[ntask:]\n",
    "    diag = np.zeros_like(x)   # diagonal of the Hessian\n",
    "    H = np.diag(diag)\n",
    "    for t, task in data.items():\n",
    "        h = 0.\n",
    "        nt = tmap[t]\n",
    "        for i in task.keys():\n",
    "            (v, _) = task[i]\n",
    "            h += 2 / a[nt]**4 * (3 * v**2 * k[i]**2 - 2 * v * k[i] * a[nt])\n",
    "            diag[ntask + i] += 2 * v**2 / a[nt]**2\n",
    "            H[nt][ntask+i] = H[ntask+i][nt] = -2 * v / a[nt]**2 * ( 2 * v * k[i] / a[nt] - 1)\n",
    "        diag[nt] = h\n",
    "    H = H + np.diag(diag)\n",
    "    return H"
   ]
  },
  {
   "cell_type": "code",
   "execution_count": 34,
   "metadata": {
    "collapsed": false
   },
   "outputs": [
    {
     "data": {
      "text/plain": [
       "1126.0210049815785"
      ]
     },
     "execution_count": 34,
     "metadata": {},
     "output_type": "execute_result"
    }
   ],
   "source": [
    "func_val(x_ini)"
   ]
  },
  {
   "cell_type": "code",
   "execution_count": 36,
   "metadata": {
    "collapsed": false
   },
   "outputs": [
    {
     "name": "stdout",
     "output_type": "stream",
     "text": [
      "0.0106721829578\n"
     ]
    }
   ],
   "source": [
    "check = optimize.check_grad(func_val, grad_val, x_ini)\n",
    "print check"
   ]
  },
  {
   "cell_type": "code",
   "execution_count": 37,
   "metadata": {
    "collapsed": false
   },
   "outputs": [
    {
     "name": "stdout",
     "output_type": "stream",
     "text": [
      "Optimization terminated successfully.\n",
      "         Current function value: 380.395282\n",
      "         Iterations: 33\n",
      "         Function evaluations: 46\n",
      "         Gradient evaluations: 78\n",
      "         Hessian evaluations: 33\n"
     ]
    }
   ],
   "source": [
    "result_val = optimize.minimize(func_val, x_ini, method='Newton-CG', jac=grad_val, hess=hess_val, options={'disp': True, 'maxiter': 2000})"
   ]
  },
  {
   "cell_type": "code",
   "execution_count": 38,
   "metadata": {
    "collapsed": false
   },
   "outputs": [],
   "source": [
    "k_val = result_val.x[ntask:]"
   ]
  },
  {
   "cell_type": "code",
   "execution_count": 39,
   "metadata": {
    "collapsed": false
   },
   "outputs": [
    {
     "name": "stdout",
     "output_type": "stream",
     "text": [
      "[ 0.86520882  0.91404669  0.71357679  1.07206128  0.98716924  0.97126404\n",
      "  0.91194749  0.83129141  0.73815577  1.32391912  0.84636272  0.98738493\n",
      "  0.70823357  0.8093781   0.86487914  1.23952217  0.83552728  1.16045365\n",
      "  0.98697063  0.87134947  1.00576569  1.33350829  0.77705858  1.02416728\n",
      "  1.32696541  1.15538542  0.68923675  0.85738402  0.81867118  1.00249124\n",
      "  0.98713925  1.06368707  1.09972211  0.99887528  0.96299574  0.77731405\n",
      "  1.27875638  0.7447799   0.98676037  0.93701874  0.98495755  1.40446472\n",
      "  0.91621857  1.03994183  0.86893323  0.75225739  1.01520642  1.60100384\n",
      "  0.8759944   0.8090547   0.92040247  0.82052442  0.76165385  0.62735791\n",
      "  0.92130745  0.92620045  1.29171722  0.97456414  1.04386423  1.11307666\n",
      "  1.13182029  0.77090063  1.12772508  1.11104312  0.86735186  0.75128234\n",
      "  1.11978783  0.87974844  0.80078893  1.00547259  0.76390912  1.17051149\n",
      "  0.70662491  1.02681564  0.68039436  0.79986708  0.71422462  1.23892265\n",
      "  1.00893185  1.07328368  0.89659012  0.83758994  0.96034872  0.9120941\n",
      "  0.9254341   0.79046846  0.76297581  1.06154356  1.04158428  0.99661274\n",
      "  0.96686931  0.86395025  0.8166355   0.94898708  0.9142245   1.0781038\n",
      "  0.93874609  1.1225994   1.05243845  1.33428861  1.0661354   0.93188844\n",
      "  1.20551565  1.11499882  1.30996412  0.89493109  0.83056092  0.95454293\n",
      "  1.08255766  0.87059149  0.63583411]\n"
     ]
    }
   ],
   "source": [
    "print k_val"
   ]
  },
  {
   "cell_type": "code",
   "execution_count": 40,
   "metadata": {
    "collapsed": false
   },
   "outputs": [],
   "source": [
    "k_sci = k * 0.713"
   ]
  },
  {
   "cell_type": "code",
   "execution_count": 41,
   "metadata": {
    "collapsed": false
   },
   "outputs": [
    {
     "data": {
      "text/plain": [
       "<Container object of 3 artists>"
      ]
     },
     "execution_count": 41,
     "metadata": {},
     "output_type": "execute_result"
    },
    {
     "data": {
      "image/png": "[encoded data removed]",
      "text/plain": [
       "<matplotlib.figure.Figure at 0x1bdf57f0>"
      ]
     },
     "metadata": {},
     "output_type": "display_data"
    }
   ],
   "source": [
    "plt.errorbar(k_val, k_sci, fmt='o')"
   ]
  },
  {
   "cell_type": "code",
   "execution_count": 42,
   "metadata": {
    "collapsed": true
   },
   "outputs": [],
   "source": [
    "x = result_val.x\n",
    "points = list()\n",
    "for t, task in data.items():\n",
    "    nt = tmap[t]\n",
    "    for i in task.keys():\n",
    "        (v, _) = task[i]\n",
    "        p = v * x[ntask+i] / x[nt]\n",
    "        points.append(p)"
   ]
  },
  {
   "cell_type": "code",
   "execution_count": 43,
   "metadata": {
    "collapsed": false
   },
   "outputs": [
    {
     "data": {
      "text/plain": [
       "[<matplotlib.lines.Line2D at 0x1caceda0>]"
      ]
     },
     "execution_count": 43,
     "metadata": {},
     "output_type": "execute_result"
    },
    {
     "data": {
      "image/png": "[encoded data removed]",
      "text/plain": [
       "<matplotlib.figure.Figure at 0x21b26240>"
      ]
     },
     "metadata": {},
     "output_type": "display_data"
    }
   ],
   "source": [
    "fig = plt.hist(points, bins=100)\n",
    "n = len(points)\n",
    "xrange = (0., 2.)\n",
    "binsize = (xrange[1] - xrange[0]) / 100.\n",
    "mu = np.mean(points)\n",
    "sigma = np.std(points)\n",
    "plt.plot(fig[1], 2 * n * binsize/(sigma * np.sqrt(2 * np.pi)) * np.exp( - (fig[1] - mu)**2 / (2 * sigma**2)), color='r')"
   ]
  },
  {
   "cell_type": "code",
   "execution_count": null,
   "metadata": {
    "collapsed": true
   },
   "outputs": [],
   "source": []
  }
 ],
 "metadata": {
  "kernelspec": {
   "display_name": "Python 2",
   "language": "python",
   "name": "python2"
  },
  "language_info": {
   "codemirror_mode": {
    "name": "ipython",
    "version": 2
   },
   "file_extension": ".py",
   "mimetype": "text/x-python",
   "name": "python",
   "nbconvert_exporter": "python",
   "pygments_lexer": "ipython2",
   "version": "2.7.11"
  }
 },
 "nbformat": 4,
 "nbformat_minor": 0
}
