{
 "cells": [
  {
   "cell_type": "markdown",
   "metadata": {},
   "source": [
    "# Measuring speed from CPU times per event\n",
    "### Authors: Andrea Sciabà, Andrea Valassi"
   ]
  },
  {
   "cell_type": "markdown",
   "metadata": {},
   "source": [
    "The goal is to measure the CPU power of sites from the CPU time per event of ATLAS production jobs."
   ]
  },
  {
   "cell_type": "code",
   "execution_count": 114,
   "metadata": {
    "collapsed": true
   },
   "outputs": [],
   "source": [
    "import sys\n",
    "import math\n",
    "from collections import defaultdict, OrderedDict, Counter\n",
    "import pprint as pp\n",
    "import numpy as np\n",
    "import pandas as pd\n",
    "import scipy.optimize as optimize\n",
    "import matplotlib.pyplot as plt\n",
    "from __future__ import division\n",
    "\n",
    "%matplotlib inline"
   ]
  },
  {
   "cell_type": "markdown",
   "metadata": {},
   "source": [
    "First, let's read the data from the CSV file."
   ]
  },
  {
   "cell_type": "code",
   "execution_count": 3,
   "metadata": {
    "collapsed": false
   },
   "outputs": [],
   "source": [
    "df = pd.read_csv('task_cpu_90d_2.csv', names=['jeditaskid', 'processingtype', 'transformation', 'atlrel', 'site',\n",
    "                                                               'cputype', 'njobs', 'cpuevt_avg', 'cpuevt_rms', 'wallevt_avg',\n",
    "                                                               'wallevt_rms', 'cpu', 'wc', 'cores', 'jevts', 'eff'])"
   ]
  },
  {
   "cell_type": "markdown",
   "metadata": {},
   "source": [
    "Let's choose jobs of a given processing type by site or cpu."
   ]
  },
  {
   "cell_type": "code",
   "execution_count": 4,
   "metadata": {
    "collapsed": true
   },
   "outputs": [],
   "source": [
    "event_type = 'evgen'\n",
    "mode = 'site'"
   ]
  },
  {
   "cell_type": "markdown",
   "metadata": {},
   "source": [
    "Let's find out which sites or CPU's contribute by more than 0.1% to the total wallclock time and restrict the analysis to them."
   ]
  },
  {
   "cell_type": "code",
   "execution_count": 5,
   "metadata": {
    "collapsed": false
   },
   "outputs": [],
   "source": [
    "grouped = df[df.processingtype == event_type].groupby([mode], as_index=False)\n",
    "tot_wc = grouped['wc'].sum()\n",
    "a = tot_wc.sort_values('wc', ascending=False)\n",
    "bigtotal_wc = a.wc.sum()\n",
    "big_sites = a[a.wc > bigtotal_wc * 0.001].site.tolist()"
   ]
  },
  {
   "cell_type": "markdown",
   "metadata": {},
   "source": [
    "Let's store in a dict indexed by the task number and the site or CPU type the averages and standard deviations of the CPU time per event."
   ]
  },
  {
   "cell_type": "code",
   "execution_count": 6,
   "metadata": {
    "collapsed": false
   },
   "outputs": [],
   "source": [
    "grouped = df.groupby(['processingtype', 'jeditaskid', mode], as_index=False, sort=False)\n",
    "\n",
    "data = defaultdict(OrderedDict)\n",
    "for (p, j, s), g in grouped:\n",
    "    if s not in big_sites: continue\n",
    "    if p != 'evgen': continue\n",
    "    x = np.average(g.cpuevt_avg, weights=g.cpu)\n",
    "    y = math.sqrt(np.average((g.cpuevt_avg - x)**2, weights=g.cpu))\n",
    "    data[j][s] = (x, y)"
   ]
  },
  {
   "cell_type": "markdown",
   "metadata": {},
   "source": [
    "Let's forget about tasks which run on only one site or CPU type."
   ]
  },
  {
   "cell_type": "code",
   "execution_count": 7,
   "metadata": {
    "collapsed": false
   },
   "outputs": [],
   "source": [
    "# Remove from data tasks with only one site\n",
    "for (k, v) in data.items():\n",
    "    if len(v) == 1:\n",
    "        del data[k]"
   ]
  },
  {
   "cell_type": "markdown",
   "metadata": {},
   "source": [
    "Let's map sites or CPU types to integers and store the mapping for later use."
   ]
  },
  {
   "cell_type": "code",
   "execution_count": 8,
   "metadata": {
    "collapsed": false
   },
   "outputs": [
    {
     "name": "stdout",
     "output_type": "stream",
     "text": [
      "There are 111 sites in the fit\n"
     ]
    }
   ],
   "source": [
    "i = -1\n",
    "sites = set()\n",
    "smap = dict()\n",
    "for (k, v) in data.items():\n",
    "    for s in v.keys():\n",
    "        if s not in sites:\n",
    "            i += 1\n",
    "            smap[s] = i\n",
    "            sites.add(s)\n",
    "        data[k][smap[s]]= data[k][s]\n",
    "        del data[k][s]\n",
    "\n",
    "nsites = len(smap)\n",
    "print 'There are %s sites in the fit' % nsites"
   ]
  },
  {
   "cell_type": "markdown",
   "metadata": {},
   "source": [
    "Let's also map tasks to integers."
   ]
  },
  {
   "cell_type": "code",
   "execution_count": 9,
   "metadata": {
    "collapsed": true
   },
   "outputs": [],
   "source": [
    "# Map tasks to integers\n",
    "tasks = set(data.keys())\n",
    "tmap = dict()\n",
    "i = 0\n",
    "for x in tasks:\n",
    "    tmap[x] = i\n",
    "    i += 1"
   ]
  },
  {
   "cell_type": "markdown",
   "metadata": {},
   "source": [
    "## First analysis"
   ]
  },
  {
   "cell_type": "markdown",
   "metadata": {},
   "source": [
    "The following functions and gradients implement different attempts to fit the site or CPU speeds based on ratios between average CPU times per event. They are described here:\n",
    "1. func, grad: for each task, ratios of CPU times per event at different sites are calculated in a rolling fashion (i + 1 value divided by i); only n - ratios are kept, as the n-th is redundant.\n",
    "2. func2, grad2: as above, but all values are divided by the same value.\n",
    "3. func3, grad3, as above, but inverting the ratios.\n",
    "4. func4, grad4: as the first one, but with all the n ratios.\n",
    "\n",
    "A constraint is defined by which one speed factor is defined to be 1. Bounds are defined to keep the speed factors in a reasonable range."
   ]
  },
  {
   "cell_type": "code",
   "execution_count": 10,
   "metadata": {
    "collapsed": false
   },
   "outputs": [],
   "source": [
    "def func(k):\n",
    "    total = 0.\n",
    "    for _, task in data.items():   # looping on tasks\n",
    "        kf = np.array([k[i] for i in task.keys()])\n",
    "        v = np.array([a[0] for a in task.values()])\n",
    "        kf2 = np.roll(kf, -1)\n",
    "        v2 = np.roll(v, -1)\n",
    "        ratio = (v2 / v - kf / kf2)**2\n",
    "        ratio[np.isnan(ratio)] = 0.\n",
    "        ratio[np.isinf(ratio)] = 0.\n",
    "        delta = np.sum(ratio[:-1])\n",
    "        total += delta\n",
    "    return total"
   ]
  },
  {
   "cell_type": "code",
   "execution_count": 11,
   "metadata": {
    "collapsed": false
   },
   "outputs": [],
   "source": [
    "def func2(k):\n",
    "    total = 0.\n",
    "    for _, task in data.items():\n",
    "        kf = np.array([k[i] for i in task.keys()])\n",
    "        v = np.array([a[0] for a in task.values()])\n",
    "        ratio = (v / v[0] - kf[0] / kf)**2\n",
    "        ratio[np.isnan(ratio)] = 0.\n",
    "        ratio[np.isinf(ratio)] = 0.\n",
    "        delta = np.sum(ratio)\n",
    "        total += delta\n",
    "    return total"
   ]
  },
  {
   "cell_type": "code",
   "execution_count": 12,
   "metadata": {
    "collapsed": false
   },
   "outputs": [],
   "source": [
    "def func3(k):\n",
    "    total = 0.\n",
    "    for _, task in data.items():\n",
    "        kf = np.array([k[i] for i in task.keys()])\n",
    "        v = np.array([a[0] for a in task.values()])\n",
    "        ratio = (v[0] / v - kf / kf[0])**2\n",
    "        ratio[np.isnan(ratio)] = 0.\n",
    "        ratio[np.isinf(ratio)] = 0.\n",
    "        delta = np.sum(ratio)\n",
    "        total += delta\n",
    "    return total"
   ]
  },
  {
   "cell_type": "code",
   "execution_count": 13,
   "metadata": {
    "collapsed": false
   },
   "outputs": [],
   "source": [
    "def func4(k):\n",
    "    total = 0.\n",
    "    for _, task in data.items():   # looping on tasks\n",
    "        kf = np.array([k[i] for i in task.keys()])\n",
    "        v = np.array([a[0] for a in task.values()])\n",
    "        kf2 = np.roll(kf, -1)\n",
    "        v2 = np.roll(v, -1)\n",
    "        ratio = (v2 / v - kf / kf2)**2\n",
    "        ratio[np.isnan(ratio)] = 0.\n",
    "        ratio[np.isinf(ratio)] = 0.\n",
    "        delta = np.sum(ratio)\n",
    "        total += delta\n",
    "    return total"
   ]
  },
  {
   "cell_type": "code",
   "execution_count": 14,
   "metadata": {
    "collapsed": false
   },
   "outputs": [],
   "source": [
    "def grad(k):\n",
    "    grad = np.zeros(len(k))\n",
    "    for _, task in data.items():\n",
    "        ns = np.array(task.keys())\n",
    "        kf = np.array([k[i] for i in task.keys()])\n",
    "        v = np.array([a[0] for a in task.values()])\n",
    "        for i in range(len(task)):\n",
    "            if i == len(task) - 1:\n",
    "                x1 = 0.\n",
    "            else:\n",
    "                x1 = -2 * (v[i+1] / v[i] - kf[i] / kf[i+1]) / kf[i+1]\n",
    "            if np.isnan(x1) or np.isinf(x1): x1 = 0.\n",
    "            if i == 0:\n",
    "                x2 = 0.\n",
    "            else:\n",
    "                x2 = 2 * (v[i] / v[i-1] - kf[i-1] / kf[i]) * kf[i-1] / kf[i]**2\n",
    "            if np.isnan(x2) or np.isinf(x2): x2 = 0.\n",
    "            grad[ns[i]] += (x1 + x2)\n",
    "    return grad"
   ]
  },
  {
   "cell_type": "code",
   "execution_count": 15,
   "metadata": {
    "collapsed": false
   },
   "outputs": [],
   "source": [
    "def grad2(k):\n",
    "    grad = np.zeros(len(k))\n",
    "    for _, task in data.items():\n",
    "        ns = np.array(task.keys())\n",
    "        kf = np.array([k[i] for i in task.keys()])\n",
    "        v = np.array([a[0] for a in task.values()])\n",
    "        for i in range(len(task)):\n",
    "            x = 0.\n",
    "            if i == 0:\n",
    "                for j in range(len(task)):\n",
    "                    x += -2. * (v[j] / v[0] - k[0] / k[j]) / k[j]\n",
    "            else:\n",
    "                x = 2. * (v[i] / v[0] - k[0] / k[i]) * k[0] / k[i]**2\n",
    "            grad[ns[i]] += x\n",
    "    return grad"
   ]
  },
  {
   "cell_type": "code",
   "execution_count": 16,
   "metadata": {
    "collapsed": false
   },
   "outputs": [],
   "source": [
    "def grad3(k):\n",
    "    grad = np.zeros(len(k))\n",
    "    for _, task in data.items():\n",
    "        ns = np.array(task.keys())\n",
    "        kf = np.array([k[i] for i in task.keys()])\n",
    "        v = np.array([a[0] for a in task.values()])\n",
    "        for i in range(len(task)):\n",
    "            x = 0.\n",
    "            if i == 0:\n",
    "                for j in range(len(task)):\n",
    "                    x += 2. * (v[0] / v[j] - k[j] / k[0]) * k[j] / k[0]**2\n",
    "            else:\n",
    "                x = -2. * (v[0] / v[i] - k[i] / k[0]) / k[0]\n",
    "            grad[ns[i]] += x\n",
    "    return grad"
   ]
  },
  {
   "cell_type": "code",
   "execution_count": 17,
   "metadata": {
    "collapsed": false
   },
   "outputs": [],
   "source": [
    "def grad4(k):\n",
    "    grad = np.zeros(len(k))\n",
    "    for _, task in data.items():\n",
    "        ns = np.array(task.keys())\n",
    "        kf = np.array([k[i] for i in task.keys()])\n",
    "        v = np.array([a[0] for a in task.values()])\n",
    "        for i in range(len(task)):\n",
    "            if i == len(task) - 1:\n",
    "                x1 = -2 * (v[0] / v[i] - kf[i] / kf[0]) / kf[0]\n",
    "            else:\n",
    "                x1 = -2 * (v[i+1] / v[i] - kf[i] / kf[i+1]) / kf[i+1]\n",
    "            if np.isnan(x1) or np.isinf(x1): x1 = 0.\n",
    "            if i == 0:\n",
    "                x2 = 2 * (v[i] / v[len(task)-1] - kf[len(task)-1] / kf[i]) * kf[len(task)-1] / kf[i]**2\n",
    "            else:\n",
    "                x2 = 2 * (v[i] / v[i-1] - kf[i-1] / kf[i]) * kf[i-1] / kf[i]**2\n",
    "            if np.isnan(x2) or np.isinf(x2): x2 = 0.\n",
    "            grad[ns[i]] += (x1 + x2)\n",
    "    return grad"
   ]
  },
  {
   "cell_type": "markdown",
   "metadata": {},
   "source": [
    "Let's define the initial values to be all one."
   ]
  },
  {
   "cell_type": "code",
   "execution_count": 18,
   "metadata": {
    "collapsed": true
   },
   "outputs": [],
   "source": [
    "k_ini = np.ones(nsites)   # Initialises CPU factors for all sites to one"
   ]
  },
  {
   "cell_type": "code",
   "execution_count": 19,
   "metadata": {
    "collapsed": false
   },
   "outputs": [
    {
     "name": "stdout",
     "output_type": "stream",
     "text": [
      "Initial function value:  9276.85827558\n",
      "Initial function value:  3725.16792974\n",
      "Initial function value:  1857.30097738\n",
      "Initial function value:  9455.41243276\n"
     ]
    }
   ],
   "source": [
    "print 'Initial function value: ', func(k_ini)\n",
    "print 'Initial function value: ', func2(k_ini)\n",
    "print 'Initial function value: ', func3(k_ini)\n",
    "print 'Initial function value: ', func4(k_ini)"
   ]
  },
  {
   "cell_type": "markdown",
   "metadata": {},
   "source": [
    "Let's check that all the gradients are correctly calculated."
   ]
  },
  {
   "cell_type": "code",
   "execution_count": 20,
   "metadata": {
    "collapsed": false
   },
   "outputs": [
    {
     "name": "stdout",
     "output_type": "stream",
     "text": [
      "0.00118444684462\n"
     ]
    }
   ],
   "source": [
    "check = optimize.check_grad(func, grad, k_ini)\n",
    "print check"
   ]
  },
  {
   "cell_type": "code",
   "execution_count": 21,
   "metadata": {
    "collapsed": false
   },
   "outputs": [
    {
     "name": "stdout",
     "output_type": "stream",
     "text": [
      "0.000711921785147\n"
     ]
    }
   ],
   "source": [
    "check = optimize.check_grad(func2, grad2, k_ini)\n",
    "print check"
   ]
  },
  {
   "cell_type": "code",
   "execution_count": 22,
   "metadata": {
    "collapsed": false
   },
   "outputs": [
    {
     "name": "stdout",
     "output_type": "stream",
     "text": [
      "0.000690682075832\n"
     ]
    }
   ],
   "source": [
    "check = optimize.check_grad(func3, grad3, k_ini)\n",
    "print check"
   ]
  },
  {
   "cell_type": "code",
   "execution_count": 23,
   "metadata": {
    "collapsed": false
   },
   "outputs": [
    {
     "name": "stdout",
     "output_type": "stream",
     "text": [
      "0.00185998549001\n"
     ]
    }
   ],
   "source": [
    "check = optimize.check_grad(func4, grad4, k_ini)\n",
    "print check"
   ]
  },
  {
   "cell_type": "markdown",
   "metadata": {},
   "source": [
    "This is the constraint."
   ]
  },
  {
   "cell_type": "code",
   "execution_count": 24,
   "metadata": {
    "collapsed": false
   },
   "outputs": [],
   "source": [
    "ref = smap['CERN-PROD']\n",
    "cons = ({'type': 'eq', 'fun': lambda x: x[ref] - 1})\n",
    "bounds = [(0.5, 2.)] * len(k_ini)"
   ]
  },
  {
   "cell_type": "markdown",
   "metadata": {},
   "source": [
    "The following cells run the minimisation."
   ]
  },
  {
   "cell_type": "code",
   "execution_count": 25,
   "metadata": {
    "collapsed": false
   },
   "outputs": [
    {
     "name": "stdout",
     "output_type": "stream",
     "text": [
      "Optimization terminated successfully.    (Exit mode 0)\n",
      "            Current function value: 7870.48940344\n",
      "            Iterations: 132\n",
      "            Function evaluations: 376\n",
      "            Gradient evaluations: 132\n"
     ]
    }
   ],
   "source": [
    "result = optimize.minimize(func, k_ini, method='SLSQP', jac=grad, constraints=cons, bounds=bounds, options={'disp': True, 'maxiter': 2000})"
   ]
  },
  {
   "cell_type": "code",
   "execution_count": 26,
   "metadata": {
    "collapsed": false
   },
   "outputs": [],
   "source": [
    "k = result.x"
   ]
  },
  {
   "cell_type": "code",
   "execution_count": 27,
   "metadata": {
    "collapsed": false
   },
   "outputs": [
    {
     "name": "stdout",
     "output_type": "stream",
     "text": [
      "[ 1.18398493  1.2549539   1.          1.41408676  1.33472856  1.30346994\n",
      "  1.25963328  1.09473472  0.95117855  1.79370681  1.13050906  1.38680984\n",
      "  0.97160062  1.12310096  1.17616666  1.72407103  1.15298544  1.59846386\n",
      "  1.07365293  1.20041902  1.35863888  1.81495999  1.04026366  1.38521709\n",
      "  1.80518373  1.62868241  0.9894252   1.14052909  1.088555    1.3402907\n",
      "  1.32774362  1.48727534  1.4026187   1.31622248  1.23073997  1.0603262\n",
      "  1.89984147  0.985279    1.62401032  1.20504296  1.28277084  1.86544151\n",
      "  1.27943873  1.40551823  1.18922598  1.00208626  1.42452453  2.\n",
      "  1.15027826  1.08679691  1.30808256  1.14237614  1.03528222  0.87518264\n",
      "  1.24907892  1.28403186  1.73079417  1.27631529  1.4617014   1.50282263\n",
      "  1.58478535  1.02724934  1.52559653  1.56920989  1.16964818  0.9811864\n",
      "  1.52555284  1.19887656  1.01267412  1.43936089  1.01755896  1.59620719\n",
      "  0.98492448  1.37811252  0.82843915  1.09095493  0.94892871  1.44340015\n",
      "  1.31933175  1.47941527  1.27612124  1.13805195  1.41413703  1.25970669\n",
      "  1.2999079   1.07410101  1.0224617   1.45608365  1.39554487  1.33394992\n",
      "  1.25783438  1.16663036  1.07140165  1.26931934  1.22188735  1.45064726\n",
      "  1.27618062  1.42853395  1.33450472  1.88727214  1.4320057   1.21939918\n",
      "  1.62307327  1.45985159  1.58729296  1.23058097  1.17726092  1.30940491\n",
      "  1.50412034  1.20157143  0.75488768]\n"
     ]
    }
   ],
   "source": [
    "print k"
   ]
  },
  {
   "cell_type": "code",
   "execution_count": 28,
   "metadata": {
    "collapsed": false
   },
   "outputs": [
    {
     "name": "stdout",
     "output_type": "stream",
     "text": [
      "AGLT2_SL6\t1.254954\n",
      "ARNES\t0.985279\n",
      "ATLAS_OPP_OSG\t1.166630\n",
      "Australia-ATLAS\t1.269319\n",
      "BEIJING\t1.899841\n",
      "BNL_LOCAL\t1.479415\n",
      "BNL_PROD\t1.189226\n",
      "BU_ATLAS_Tier2_SL6\t1.439361\n",
      "CA-MCGILL-CLUMEQ-T2\t1.730794\n",
      "CA-SCINET-T2\t1.504120\n",
      "CA-VICTORIA-WESTGRID-T2\t1.724071\n",
      "CERN-PROD\t1.000000\n",
      "CERN-PROD-preprod\t1.230581\n",
      "CONNECT\t1.525553\n",
      "CONNECT_CLOUD\t0.828439\n",
      "CPPM\t1.205043\n",
      "CSCS-LCG2\t1.459852\n",
      "CYFRONET-LCG2\t1.177261\n",
      "DCSC\t1.060326\n",
      "DESY-HH\t0.971601\n",
      "DESY-HH_Condor\t1.405518\n",
      "DESY-ZN\t1.814960\n",
      "EELA-UTFSM\t1.276181\n",
      "FMPhI-UNIBA\t1.450647\n",
      "FZK-LCG2\t1.386810\n",
      "GR-12-TEIKAV\t1.022462\n",
      "GRIF-IRFU\t1.259707\n",
      "GRIF-LAL_HTCondor\t1.624010\n",
      "GRIF-LPNHE\t1.142376\n",
      "GoeGrid\t1.805184\n",
      "HPC2N\t0.951179\n",
      "HU_ATLAS_Tier2\t1.333950\n",
      "IAAS\t1.502823\n",
      "IEPSAS-Kosice\t1.623073\n",
      "IFAE\t1.456084\n",
      "IFIC\t1.073653\n",
      "IHEP_PROD\t1.040264\n",
      "IL-TAU-HEP\t1.461701\n",
      "IN2P3-CC\t1.303470\n",
      "IN2P3-CC-T2\t1.432006\n",
      "IN2P3-CC_VVL\t1.309405\n",
      "IN2P3-LPSC\t1.308083\n",
      "INFN-COSENZA-RECAS\t1.002086\n",
      "INFN-FRASCATI\t1.071402\n",
      "INFN-GENOVA\t1.130509\n",
      "INFN-LECCE\t1.259633\n",
      "INFN-MILANO-ATLASC\t1.198877\n",
      "INFN-NAPOLI-ATLAS\t1.017559\n",
      "INFN-NAPOLI-RECAS\t0.981186\n",
      "INFN-NAPOLI-SCOPE\t1.169648\n",
      "INFN-ROMA1\t1.090955\n",
      "INFN-T1\t1.183985\n",
      "JINR_PROD\t1.414087\n",
      "LAPP\t1.282771\n",
      "LPC\t1.150278\n",
      "LRZ-LMU\t1.138052\n",
      "Lucille_CE\t0.948929\n",
      "MPPMU\t1.793707\n",
      "MWT2_SL6\t1.284032\n",
      "NCG-INGRID-PT_SL6\t1.219399\n",
      "NIKHEF-ELPROD\t1.598464\n",
      "NIKHEF-ELPROD_LONG\t1.443400\n",
      "NSC\t1.587293\n",
      "OU_OCHEP_SWT2\t1.027249\n",
      "PNPI_PROD\t1.230740\n",
      "PSNC\t0.754888\n",
      "RAL-LCG2_SL6\t1.123101\n",
      "ROMANIA02\t0.875183\n",
      "ROMANIA07\t1.086797\n",
      "ROMANIA16\t1.249079\n",
      "RRC-KI-HPC2\t1.378113\n",
      "RRC-KI-T1\t1.088555\n",
      "SARA-MATRIX\t1.414137\n",
      "SFU-LCG2\t1.334505\n",
      "SLACXRD\t1.334729\n",
      "SLACXRD_LMEM\t1.395545\n",
      "SWT2_CPB\t1.012674\n",
      "SiGNET\t1.035282\n",
      "TECHNION-HEP\t1.887272\n",
      "TOKYO\t2.000000\n",
      "TRIUMF\t1.525597\n",
      "TW-FTT_SL6\t1.276315\n",
      "Taiwan-LCG2\t1.327744\n",
      "Taiwan-LCG2_VL\t1.340291\n",
      "UAM-LCG2\t1.221887\n",
      "UIO\t1.865442\n",
      "UKI-LT2-Brunel_SL6\t1.200419\n",
      "UKI-LT2-IC-HEP_SL6\t1.201571\n",
      "UKI-LT2-QMUL_HIMEM_SL6\t1.424525\n",
      "UKI-LT2-QMUL_SL6\t1.358639\n",
      "UKI-LT2-RHUL_SL6\t1.276121\n",
      "UKI-NORTHGRID-LANCS-HEP_SL6\t1.628682\n",
      "UKI-NORTHGRID-LIV-HEP_SL6\t1.385217\n",
      "UKI-NORTHGRID-MAN-HEP_SL6\t1.279439\n",
      "UKI-NORTHGRID-SHEF-HEP_SL6\t1.487275\n",
      "UKI-SCOTGRID-DURHAM_SL6\t1.319332\n",
      "UKI-SCOTGRID-ECDF_SL6\t1.428534\n",
      "UKI-SCOTGRID-GLASGOW_SL6\t1.176167\n",
      "UKI-SOUTHGRID-BHAM-HEP_SL6\t1.140529\n",
      "UKI-SOUTHGRID-OX-HEP_SL6\t0.989425\n",
      "UKI-SOUTHGRID-RALPP_SL6\t1.299908\n",
      "UNI-DORTMUND\t1.257834\n",
      "UNI-FREIBURG\t1.094735\n",
      "UNIBE-LHEP\t1.074101\n",
      "UNIBE-LHEP-UBELIX\t1.402619\n",
      "UTA_SWT2\t0.984924\n",
      "WEIZMANN-LCG2\t1.584785\n",
      "ZA-WITS-CORE\t1.316222\n",
      "pic\t1.569210\n",
      "praguelcg2\t1.152985\n",
      "wuppertalprod\t1.596207\n"
     ]
    }
   ],
   "source": [
    "for s in sorted(smap.keys()):\n",
    "    print '%s\\t%f' % (s, k[smap[s]])"
   ]
  },
  {
   "cell_type": "code",
   "execution_count": 29,
   "metadata": {
    "collapsed": false
   },
   "outputs": [
    {
     "name": "stdout",
     "output_type": "stream",
     "text": [
      "Inequality constraints incompatible    (Exit mode 4)\n",
      "            Current function value: 3239001517.61\n",
      "            Iterations: 23\n",
      "            Function evaluations: 223\n",
      "            Gradient evaluations: 23\n"
     ]
    }
   ],
   "source": [
    "result2 = optimize.minimize(func2, k_ini, method='SLSQP', jac=grad2, constraints=cons, options={'disp': True, 'maxiter': 2000})"
   ]
  },
  {
   "cell_type": "code",
   "execution_count": 30,
   "metadata": {
    "collapsed": false
   },
   "outputs": [],
   "source": [
    "k2 = result2.x"
   ]
  },
  {
   "cell_type": "code",
   "execution_count": 31,
   "metadata": {
    "collapsed": false
   },
   "outputs": [
    {
     "name": "stdout",
     "output_type": "stream",
     "text": [
      "Positive directional derivative for linesearch    (Exit mode 8)\n",
      "            Current function value: 1118.78589787\n",
      "            Iterations: 24\n",
      "            Function evaluations: 186\n",
      "            Gradient evaluations: 20\n"
     ]
    }
   ],
   "source": [
    "result3 = optimize.minimize(func3, k_ini, method='SLSQP', jac=grad3, constraints=cons, bounds=bounds, options={'disp': True, 'maxiter': 2000})"
   ]
  },
  {
   "cell_type": "code",
   "execution_count": 32,
   "metadata": {
    "collapsed": false
   },
   "outputs": [],
   "source": [
    "k3 = result3.x"
   ]
  },
  {
   "cell_type": "code",
   "execution_count": 33,
   "metadata": {
    "collapsed": false
   },
   "outputs": [
    {
     "name": "stdout",
     "output_type": "stream",
     "text": [
      "Optimization terminated successfully.    (Exit mode 0)\n",
      "            Current function value: 7954.97429989\n",
      "            Iterations: 133\n",
      "            Function evaluations: 379\n",
      "            Gradient evaluations: 133\n"
     ]
    }
   ],
   "source": [
    "result4 = optimize.minimize(func4, k_ini, method='SLSQP', jac=grad4, constraints=cons, bounds=bounds, options={'disp': True, 'maxiter': 2000})"
   ]
  },
  {
   "cell_type": "code",
   "execution_count": 34,
   "metadata": {
    "collapsed": true
   },
   "outputs": [],
   "source": [
    "k4 = result4.x"
   ]
  },
  {
   "cell_type": "markdown",
   "metadata": {},
   "source": [
    "The conclusion of this preliminary study is that the rolling ratios functions (1. and 4.) converge, while the other functions do not. Using a single site of CPU type as a reference for all the others in a task seems to create instability, which is vaguely intuitive, considering that if the CPU time per event is badly measured for it, it will make all the ratios to be wrong. This \"asymmetry of roles\" is not present in the rolling ratios functions, which turn out to be well behaved."
   ]
  },
  {
   "cell_type": "markdown",
   "metadata": {},
   "source": [
    "## Second analysis"
   ]
  },
  {
   "cell_type": "markdown",
   "metadata": {},
   "source": [
    "This analysis uses a much better model and procedure to fit the speeds.\n",
    "\n",
    "In the following, $\\alpha$ indicates an index running over tasks and $i$ and index running over sites or CPU times.\n",
    "The population average of the CPU time per event for task $\\alpha$ at site or CPU $i$ is $\\mu_{i\\alpha}$ and the average we measure is $a_{i\\alpha}$. Of course, not all sites or CPU types appear on all tasks, so sums over $i$ run only on sites or CPU types where the task runs.\n",
    "\n",
    "It is assumed that the $a_{i\\alpha}$ values we measure are Gaussian-distributed around $\\mu_{i\\alpha}$ with standard deviation $\\sigma_{i\\alpha}$.\n",
    "\n",
    "It is also assumed that the speed factors $k_i$ do not depend on $\\alpha$, and in particular that $\\mu_{i\\alpha}k_i=A_\\alpha$, where $A_\\alpha$ is a constant with respect to $i$.\n",
    "\n",
    "It is assumed that also $\\sigma_{i\\alpha}=S_\\alpha\\mu_{i\\alpha},\\:\\forall i, \\alpha$.\n",
    "\n",
    "To make the analysis easier, we choose to use $\\sigma_{i\\alpha}$ as errors on $a_{i\\alpha}$, while it would be more correct to use $\\sigma_{i\\alpha}/\\sqrt{N_{i\\alpha}}$, where $N_{i\\alpha}$ is the number of jobs run at site or CPU type $i$ for task $\\alpha$ (_approx. #1_).\n",
    "\n",
    "We also assume that $S_\\alpha = S$, where $S$ is constant for all tasks (_approx. #2_).\n",
    "\n",
    "The $\\chi^2$ we want to minimise is the following:\n",
    "\n",
    "$$\\chi^2=\\sum_{i\\alpha}\\left(\\frac{a_{i\\alpha}-\\mu_{i\\alpha}}{\\sigma_{i\\alpha}}\\right)^2=\\sum_{i\\alpha}\\left(\\frac{a_{i\\alpha}-\\mu_{i\\alpha}}{S_\\alpha\\mu_{i\\alpha}}\\right)^2=\\sum_\\alpha\\frac{1}{S_\\alpha^2}\\sum_i\\left(\\frac{a_{i\\alpha}}{\\mu_{i\\alpha}}-1\\right)^2=\\sum_\\alpha\\frac{1}{S_\\alpha^2}\\sum_i\\left(\\frac{a_{i\\alpha}k_i}{A_\\alpha}-1\\right)^2$$\n",
    "\n",
    "finally, taking into account the approximations above:\n",
    "\n",
    "$$\\boxed{\\chi^2=\\frac{1}{S^2}\\sum_\\alpha\\frac{1}{A_\\alpha^2}\\sum_i\\left(a_{i\\alpha}k_i-A_\\alpha\\right)^2}$$\n",
    "\n",
    "As $S$ is a constant, we can minimise a function $f=S^2\\chi^2$ and the free parameters are $A_\\alpha$ and $k_i$.\n",
    "\n",
    "To recap, the function to minimise is\n",
    "\n",
    "$$f=\\sum_\\alpha\\frac{1}{A_\\alpha^2}\\sum_i\\left(a_{i\\alpha}k_i-A_\\alpha\\right)^2$$\n",
    "\n",
    "its gradient is\n",
    "\n",
    "$$\\begin{align}\\frac{\\partial f}{\\partial A_\\alpha}&=-2\\sum_i\\frac{a_{i\\alpha}k_i}{A_\\alpha^2}\\left(\\frac{a_{i\\alpha}k_i}{A_\\alpha}-1\\right)\\\\\\frac{\\partial f}{\\partial k_i}&=\\sum_\\alpha\\frac{1}{A_\\alpha^2}2a_{i\\alpha}(a_{i\\alpha}k_i-A_\\alpha)\\end{align}$$\n",
    "\n",
    "and its Hessian is\n",
    "\n",
    "$$\\begin{align}\\frac{\\partial^2f}{\\partial A_\\alpha\\partial A_\\beta}&=\\delta_{\\alpha\\beta}\\times\\frac{2}{A_\\alpha^4}\\sum_i(3a_{i\\alpha}^2k_i^2-2a_{i\\alpha}k_i A_\\alpha)\\\\\n",
    "\\frac{\\partial^2f}{\\partial k_i\\partial k_j}&=\\delta_{ij}\\times 2\\sum_\\alpha\\frac{a_{i\\alpha}^2}{A_\\alpha^2}\\\\\n",
    "\\frac{\\partial^2f}{\\partial k_i\\partial A_\\alpha}&=-2\\frac{a_{i\\alpha}}{A_\\alpha^2}\\left(2\\frac{a_{i\\alpha}k_i}{A_\\alpha}-1\\right)\n",
    "\\end{align}$$"
   ]
  },
  {
   "cell_type": "markdown",
   "metadata": {},
   "source": [
    "We use as initial values $k_i=1$ and $A_\\alpha=(\\sum_i a_{i\\alpha})/n_\\alpha$, where $n_\\alpha$ is the number of sites or CPU types in task $\\alpha$."
   ]
  },
  {
   "cell_type": "code",
   "execution_count": 35,
   "metadata": {
    "collapsed": false
   },
   "outputs": [],
   "source": [
    "ntask = len(data)\n",
    "nsite = len(smap)\n",
    "a_ini = np.zeros(ntask)\n",
    "for j, task in data.items():\n",
    "    nt = tmap[j]\n",
    "    a_ini[nt] = np.mean([b[0] for b in task.values()])\n",
    "x_ini = np.hstack((a_ini, np.ones(nsite)))"
   ]
  },
  {
   "cell_type": "markdown",
   "metadata": {},
   "source": [
    "The function and its derivatives are implemented."
   ]
  },
  {
   "cell_type": "code",
   "execution_count": 36,
   "metadata": {
    "collapsed": true
   },
   "outputs": [],
   "source": [
    "def func_val(x):\n",
    "    a = x[:ntask]\n",
    "    k = x[ntask:]\n",
    "    total = 0.\n",
    "    for j, task in data.items():   # looping on tasks\n",
    "        nt = tmap[j]\n",
    "        kf = np.array([k[i] for i in task.keys()])\n",
    "        v = np.array([b[0] for b in task.values()])\n",
    "        f_term = 1. / a[nt]**2 * (v * kf - a[nt])**2\n",
    "        delta = np.sum(f_term)\n",
    "        total += delta\n",
    "    return total\n"
   ]
  },
  {
   "cell_type": "code",
   "execution_count": 37,
   "metadata": {
    "collapsed": true
   },
   "outputs": [],
   "source": [
    "def grad_val(x):\n",
    "    a = x[:ntask]\n",
    "    k = x[ntask:]\n",
    "    g = np.zeros(len(x))\n",
    "    for j, task in data.items():\n",
    "        g_a = 0.\n",
    "        nt = tmap[j]\n",
    "        for i in task.keys():\n",
    "            (v, _) = task[i]\n",
    "            g_a += -2 * v * k[i] / a[nt]**2 * (v * k[i] / a[nt] - 1)\n",
    "            g_k = 2 / a[nt]**2 * v * (k[i] * v - a[nt])\n",
    "            g[ntask + i] += g_k\n",
    "        g[nt] = g_a\n",
    "    return g"
   ]
  },
  {
   "cell_type": "code",
   "execution_count": 38,
   "metadata": {
    "collapsed": true
   },
   "outputs": [],
   "source": [
    "def hess_val(x):\n",
    "    a = x[:ntask]\n",
    "    k = x[ntask:]\n",
    "    diag = np.zeros_like(x)   # diagonal of the Hessian\n",
    "    H = np.diag(diag)\n",
    "    for t, task in data.items():\n",
    "        h = 0.\n",
    "        nt = tmap[t]\n",
    "        for i in task.keys():\n",
    "            (v, _) = task[i]\n",
    "            h += 2 / a[nt]**4 * (3 * v**2 * k[i]**2 - 2 * v * k[i] * a[nt])\n",
    "            diag[ntask + i] += 2 * v**2 / a[nt]**2\n",
    "            H[nt][ntask+i] = H[ntask+i][nt] = -2 * v / a[nt]**2 * ( 2 * v * k[i] / a[nt] - 1)\n",
    "        diag[nt] = h\n",
    "    H = H + np.diag(diag)\n",
    "    return H"
   ]
  },
  {
   "cell_type": "code",
   "execution_count": 39,
   "metadata": {
    "collapsed": false
   },
   "outputs": [
    {
     "data": {
      "text/plain": [
       "1126.0210049815785"
      ]
     },
     "execution_count": 39,
     "metadata": {},
     "output_type": "execute_result"
    }
   ],
   "source": [
    "func_val(x_ini)"
   ]
  },
  {
   "cell_type": "code",
   "execution_count": 40,
   "metadata": {
    "collapsed": false
   },
   "outputs": [
    {
     "name": "stdout",
     "output_type": "stream",
     "text": [
      "0.0106721829578\n"
     ]
    }
   ],
   "source": [
    "check = optimize.check_grad(func_val, grad_val, x_ini)\n",
    "print check"
   ]
  },
  {
   "cell_type": "markdown",
   "metadata": {},
   "source": [
    "The minimisation is performed."
   ]
  },
  {
   "cell_type": "code",
   "execution_count": 41,
   "metadata": {
    "collapsed": false
   },
   "outputs": [
    {
     "name": "stdout",
     "output_type": "stream",
     "text": [
      "Optimization terminated successfully.\n",
      "         Current function value: 380.395282\n",
      "         Iterations: 33\n",
      "         Function evaluations: 46\n",
      "         Gradient evaluations: 78\n",
      "         Hessian evaluations: 33\n"
     ]
    }
   ],
   "source": [
    "result_val = optimize.minimize(func_val, x_ini, method='Newton-CG', jac=grad_val, hess=hess_val, options={'disp': True, 'maxiter': 2000})"
   ]
  },
  {
   "cell_type": "markdown",
   "metadata": {},
   "source": [
    "It is worth noting that the problem is underdetermined: multiplying all $k_i$ and all $A_\\alpha$ by the same number would not change the value of the function and its derivatives. Hence, the absolute scale of the fitted parameters has no meaning (as expected), and they should be rescaled to an appropriate reference. In principle, the fit should not converge, but it does. A more rigorous approach would be to fix one of the $k_i$ parameters to one and reduce by one the number of parameters fitted. This is left as a future improvement."
   ]
  },
  {
   "cell_type": "markdown",
   "metadata": {},
   "source": [
    "The fitted parameters are printed."
   ]
  },
  {
   "cell_type": "code",
   "execution_count": 42,
   "metadata": {
    "collapsed": false
   },
   "outputs": [],
   "source": [
    "k_val = result_val.x[ntask:]"
   ]
  },
  {
   "cell_type": "code",
   "execution_count": 43,
   "metadata": {
    "collapsed": false
   },
   "outputs": [
    {
     "name": "stdout",
     "output_type": "stream",
     "text": [
      "[ 0.86520882  0.91404669  0.71357679  1.07206128  0.98716924  0.97126404\n",
      "  0.91194749  0.83129141  0.73815577  1.32391912  0.84636272  0.98738493\n",
      "  0.70823357  0.8093781   0.86487914  1.23952217  0.83552728  1.16045365\n",
      "  0.98697063  0.87134947  1.00576569  1.33350829  0.77705858  1.02416728\n",
      "  1.32696541  1.15538542  0.68923675  0.85738402  0.81867118  1.00249124\n",
      "  0.98713925  1.06368707  1.09972211  0.99887528  0.96299574  0.77731405\n",
      "  1.27875638  0.7447799   0.98676037  0.93701874  0.98495755  1.40446472\n",
      "  0.91621857  1.03994183  0.86893323  0.75225739  1.01520642  1.60100384\n",
      "  0.8759944   0.8090547   0.92040247  0.82052442  0.76165385  0.62735791\n",
      "  0.92130745  0.92620045  1.29171722  0.97456414  1.04386423  1.11307666\n",
      "  1.13182029  0.77090063  1.12772508  1.11104312  0.86735186  0.75128234\n",
      "  1.11978783  0.87974844  0.80078893  1.00547259  0.76390912  1.17051149\n",
      "  0.70662491  1.02681564  0.68039436  0.79986708  0.71422462  1.23892265\n",
      "  1.00893185  1.07328368  0.89659012  0.83758994  0.96034872  0.9120941\n",
      "  0.9254341   0.79046846  0.76297581  1.06154356  1.04158428  0.99661274\n",
      "  0.96686931  0.86395025  0.8166355   0.94898708  0.9142245   1.0781038\n",
      "  0.93874609  1.1225994   1.05243845  1.33428861  1.0661354   0.93188844\n",
      "  1.20551565  1.11499882  1.30996412  0.89493109  0.83056092  0.95454293\n",
      "  1.08255766  0.87059149  0.63583411]\n"
     ]
    }
   ],
   "source": [
    "print k_val"
   ]
  },
  {
   "cell_type": "markdown",
   "metadata": {},
   "source": [
    "As a check, the values fitted with this method are compared with the values fitted with the rolling ratios method."
   ]
  },
  {
   "cell_type": "code",
   "execution_count": 44,
   "metadata": {
    "collapsed": false
   },
   "outputs": [],
   "source": [
    "k_sci = k"
   ]
  },
  {
   "cell_type": "code",
   "execution_count": 45,
   "metadata": {
    "collapsed": false,
    "scrolled": true
   },
   "outputs": [
    {
     "data": {
      "text/plain": [
       "<Container object of 3 artists>"
      ]
     },
     "execution_count": 45,
     "metadata": {},
     "output_type": "execute_result"
    },
    {
     "data": {
      "image/png": "[encoded data removed]",
      "text/plain": [
       "<matplotlib.figure.Figure at 0x20fce6d8>"
      ]
     },
     "metadata": {},
     "output_type": "display_data"
    }
   ],
   "source": [
    "plt.errorbar(k_val / k_val[smap['CERN-PROD']], k, fmt='o')"
   ]
  },
  {
   "cell_type": "markdown",
   "metadata": {},
   "source": [
    "### Error estimation"
   ]
  },
  {
   "cell_type": "markdown",
   "metadata": {},
   "source": [
    "In order to estimate the error on the fitted parameters, we can use the standard method of finding the variations on the parameters that increase the value of $\\chi^2$ by one with respect to its minimum. To do this, we must calculate the value of $S$.\n",
    "\n",
    "From what was said above:\n",
    "\n",
    "$$S=\\frac{\\sigma_{i\\alpha}k_i}{A_\\alpha}$$\n",
    "\n",
    "and considering that $\\sigma_{i\\alpha}$ is the standard deviation of $a_{i\\alpha}$, we can expect that the observed values $\\frac{a_{i\\alpha}k_i}{A_\\alpha}$ will be distributed around one with a standard deviation of $S$.\n",
    "\n",
    "Around the minimum, the following equation holds:\n",
    "\n",
    "$$1\\equiv\\chi^2-\\chi^2_{\\text{min}}=\\frac{\\Delta f}{S^2}\\simeq\\frac{1}{S^2}\\frac{1}{2}\\frac{\\partial^2f}{\\partial k_i^2}\\Delta k_i^2$$\n",
    "\n",
    "and considering that\n",
    "\n",
    "$$\\frac{\\partial^2f}{\\partial k_i^2}=2\\sum_\\alpha\\frac{a_{i\\alpha}^2}{A_\\alpha^2}$$\n",
    "\n",
    "one concludes that\n",
    "\n",
    "$$\\Delta k_i\\simeq\\frac{S}{\\sqrt{\\sum_\\alpha\\frac{a_{i\\alpha}^2}{A_\\alpha^2}}}$$\n",
    "\n",
    "We can easily measure $S$ from the data as follows."
   ]
  },
  {
   "cell_type": "code",
   "execution_count": 46,
   "metadata": {
    "collapsed": true
   },
   "outputs": [],
   "source": [
    "x = result_val.x\n",
    "points = list()\n",
    "for t, task in data.items():\n",
    "    nt = tmap[t]\n",
    "    for i in task.keys():\n",
    "        (v, _) = task[i]\n",
    "        p = v * x[ntask+i] / x[nt]\n",
    "        points.append(p)"
   ]
  },
  {
   "cell_type": "code",
   "execution_count": 178,
   "metadata": {
    "collapsed": false
   },
   "outputs": [
    {
     "name": "stdout",
     "output_type": "stream",
     "text": [
      "The value of S is: 0.142\n"
     ]
    },
    {
     "data": {
      "image/png": "[encoded data removed]",
      "text/plain": [
       "<matplotlib.figure.Figure at 0x30de6a90>"
      ]
     },
     "metadata": {},
     "output_type": "display_data"
    }
   ],
   "source": [
    "bins = 100\n",
    "xrange = (0., 2.)\n",
    "binsize = (xrange[1] - xrange[0]) / bins\n",
    "fig = plt.hist(points, bins=bins, range=xrange)\n",
    "n = len(points)\n",
    "mu = np.mean(points)\n",
    "sigma = np.std(points)\n",
    "plt.text(1.4, 1400., r'$\\mu=%.3f\\pm%.3f$' % (mu, sigma))\n",
    "S = sigma\n",
    "print 'The value of S is: %.3f' % S"
   ]
  },
  {
   "cell_type": "markdown",
   "metadata": {},
   "source": [
    "For fun, let's fit the distribution with one gaussian."
   ]
  },
  {
   "cell_type": "code",
   "execution_count": 170,
   "metadata": {
    "collapsed": true
   },
   "outputs": [],
   "source": [
    "y, x = np.histogram(points, bins=bins, range=xrange)\n",
    "y = np.divide(y, np.float(np.sum(y))*binsize)"
   ]
  },
  {
   "cell_type": "code",
   "execution_count": 179,
   "metadata": {
    "collapsed": false
   },
   "outputs": [
    {
     "name": "stdout",
     "output_type": "stream",
     "text": [
      "0.977708871443 0.0969198348597\n",
      "The value of S is: 0.097\n"
     ]
    },
    {
     "data": {
      "image/png": "[encoded data removed]",
      "text/plain": [
       "<matplotlib.figure.Figure at 0x2f3848d0>"
      ]
     },
     "metadata": {},
     "output_type": "display_data"
    }
   ],
   "source": [
    "def f(x, m, s):\n",
    "    return 1 / (s * np.sqrt(2 * np.pi)) * np.exp(-(x - m)**2 / (2 * s**2))\n",
    "\n",
    "plt.plot(x[:-1], y)\n",
    "(m, s), _ = optimize.curve_fit(f, x[:-1], y)\n",
    "print m, s\n",
    "plt.plot(x, f(x, m, s))\n",
    "S1 = s\n",
    "print 'The value of S is: %.3f' % S1"
   ]
  },
  {
   "cell_type": "markdown",
   "metadata": {},
   "source": [
    "And now, with two gaussians."
   ]
  },
  {
   "cell_type": "code",
   "execution_count": 177,
   "metadata": {
    "collapsed": false
   },
   "outputs": [
    {
     "name": "stdout",
     "output_type": "stream",
     "text": [
      "0.978054430856 0.0660323606045 0.153657632475 0.489152463321\n",
      "The value of S is: 0.119\n"
     ]
    },
    {
     "data": {
      "image/png": "[encoded data removed]",
      "text/plain": [
       "<matplotlib.figure.Figure at 0x2fd7acf8>"
      ]
     },
     "metadata": {},
     "output_type": "display_data"
    }
   ],
   "source": [
    "def f2(x, m, s1, s2, n):\n",
    "    return n / (s1 * np.sqrt(2 * np.pi)) * np.exp(-(x - m)**2 / (2 * s1**2)) + \\\n",
    "        (1 - n) / (s2 * np.sqrt(2 * np.pi)) * np.exp(-(x - m)**2 / (2 * s2**2))\n",
    " \n",
    "plt.plot(x[:-1], y)\n",
    "(m, s1, s2, n), _ = optimize.curve_fit(f2, x[:-1], y, (1., 0.1, 1., 1.))\n",
    "print m, s1, s2, n\n",
    "plt.plot(x, f2(x, m, s1, s2, n))\n",
    "S2 = np.sqrt(n * s1**2 + (1 - n) * s2**2)\n",
    "print 'The value of S is: %.3f' % S2"
   ]
  },
  {
   "cell_type": "markdown",
   "metadata": {},
   "source": [
    "The fit to two gaussians is remarkably good."
   ]
  },
  {
   "cell_type": "code",
   "execution_count": 166,
   "metadata": {
    "collapsed": true
   },
   "outputs": [],
   "source": [
    "x = result_val.x\n",
    "points2 = list()\n",
    "for t, task in data.items():\n",
    "    nt = tmap[t]\n",
    "    for i in task.keys():\n",
    "        (v, _) = task[i]\n",
    "        p = v / a_ini[nt]\n",
    "        points2.append(p)"
   ]
  },
  {
   "cell_type": "code",
   "execution_count": 167,
   "metadata": {
    "collapsed": false
   },
   "outputs": [
    {
     "name": "stdout",
     "output_type": "stream",
     "text": [
      "The value of S is: 0.246\n"
     ]
    },
    {
     "data": {
      "image/png": "[encoded data removed]",
      "text/plain": [
       "<matplotlib.figure.Figure at 0x306e85c0>"
      ]
     },
     "metadata": {},
     "output_type": "display_data"
    }
   ],
   "source": [
    "bins = 100\n",
    "xrange = (0., 2.)\n",
    "binsize = (xrange[1] - xrange[0]) / bins\n",
    "fig = plt.hist(points2, bins=bins, range=xrange)\n",
    "n = len(points2)\n",
    "mu = np.mean(points2)\n",
    "sigma = np.std(points2)\n",
    "print 'The value of S is: %.3f' % sigma"
   ]
  },
  {
   "cell_type": "code",
   "execution_count": 216,
   "metadata": {
    "collapsed": false
   },
   "outputs": [],
   "source": [
    "x = result_val.x\n",
    "a = x[:ntask]\n",
    "k = x[ntask:]\n",
    "k_err = np.zeros_like(k)\n",
    "c = 0\n",
    "for t, task in data.items():\n",
    "    nt = tmap[t]\n",
    "    c += len(task)\n",
    "    for i in task.keys():\n",
    "        (v, _) = task[i]\n",
    "        k_err[i] += v**2 / a[nt]**2\n",
    "k_err = S / np.sqrt(k_err)"
   ]
  },
  {
   "cell_type": "markdown",
   "metadata": {},
   "source": [
    "### Goodness of fit"
   ]
  },
  {
   "cell_type": "markdown",
   "metadata": {},
   "source": [
    "To test the goodness of our fit, we can calculate the reduced $\\chi^2$ ad the minimum, which is $\\chi^2/(N-m)$, where $N$ is the number of independent measurements and $m$ the number of fitted parameters."
   ]
  },
  {
   "cell_type": "code",
   "execution_count": 219,
   "metadata": {
    "collapsed": false
   },
   "outputs": [
    {
     "name": "stdout",
     "output_type": "stream",
     "text": [
      "The value of the reduced chi2 is: 1.100\n"
     ]
    }
   ],
   "source": [
    "chi2r = func_val(result_val.x) / S**2 / (c - len(x_ini))\n",
    "print 'The value of the reduced chi2 is: %.3f' % chi2r"
   ]
  },
  {
   "cell_type": "code",
   "execution_count": null,
   "metadata": {
    "collapsed": true
   },
   "outputs": [],
   "source": []
  }
 ],
 "metadata": {
  "kernelspec": {
   "display_name": "Python 2",
   "language": "python",
   "name": "python2"
  },
  "language_info": {
   "codemirror_mode": {
    "name": "ipython",
    "version": 2
   },
   "file_extension": ".py",
   "mimetype": "text/x-python",
   "name": "python",
   "nbconvert_exporter": "python",
   "pygments_lexer": "ipython2",
   "version": "2.7.11"
  }
 },
 "nbformat": 4,
 "nbformat_minor": 0
}
