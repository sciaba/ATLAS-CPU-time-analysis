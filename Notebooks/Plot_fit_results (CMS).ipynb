{
 "cells": [
  {
   "cell_type": "code",
   "execution_count": 1,
   "metadata": {
    "collapsed": false
   },
   "outputs": [],
   "source": [
    "import re\n",
    "import math\n",
    "import copy\n",
    "import csv\n",
    "from collections import defaultdict\n",
    "\n",
    "import numpy as np\n",
    "import matplotlib.pyplot as plt\n",
    "from pandas import Series, DataFrame\n",
    "import pandas as pd\n",
    "from scipy.optimize import curve_fit\n",
    "import scipy.optimize as optimize\n",
    "\n",
    "from __future__ import division\n",
    "\n",
    "%matplotlib inline"
   ]
  },
  {
   "cell_type": "markdown",
   "metadata": {},
   "source": [
    "## Read in fit results"
   ]
  },
  {
   "cell_type": "code",
   "execution_count": 2,
   "metadata": {
    "collapsed": true
   },
   "outputs": [],
   "source": [
    "fact = dict()\n",
    "fact_err = dict()"
   ]
  },
  {
   "cell_type": "code",
   "execution_count": 3,
   "metadata": {
    "collapsed": false
   },
   "outputs": [],
   "source": [
    "typ = 'digi'\n",
    "factors = dict()\n",
    "factors_err = dict()\n",
    "input_file = 'results_site_task_cms_%s_0.001.csv' % typ\n",
    "with open(input_file) as csvfile:\n",
    "    r = csv.reader(csvfile, delimiter=',')\n",
    "    for row in r:\n",
    "        (cpu, k, k_err) = row\n",
    "        factors[cpu] = float(k)\n",
    "        factors_err[cpu] = float(k_err)\n",
    "fact[typ] = copy.deepcopy(factors)\n",
    "fact_err[typ] = copy.deepcopy(factors_err)\n",
    "a = len(fact[typ]) / np.sum(fact[typ].values())\n",
    "fact[typ].update((i, x *a) for i, x in fact[typ].items())\n",
    "fact_err[typ].update((i, x *a) for i, x in fact_err[typ].items())"
   ]
  },
  {
   "cell_type": "code",
   "execution_count": 4,
   "metadata": {
    "collapsed": false
   },
   "outputs": [],
   "source": [
    "typ = 'miniaod'\n",
    "factors = dict()\n",
    "factors_err = dict()\n",
    "input_file = 'results_site_task_cms_%s_0.001.csv' % typ\n",
    "with open(input_file) as csvfile:\n",
    "    r = csv.reader(csvfile, delimiter=',')\n",
    "    for row in r:\n",
    "        (cpu, k, k_err) = row\n",
    "        factors[cpu] = float(k)\n",
    "        factors_err[cpu] = float(k_err)\n",
    "fact[typ] = copy.deepcopy(factors)\n",
    "fact_err[typ] = copy.deepcopy(factors_err)\n",
    "a = len(fact[typ]) / np.sum(fact[typ].values())\n",
    "fact[typ].update((i, x *a) for i, x in fact[typ].items())\n",
    "fact_err[typ].update((i, x *a) for i, x in fact_err[typ].items())"
   ]
  },
  {
   "cell_type": "code",
   "execution_count": 5,
   "metadata": {
    "collapsed": false
   },
   "outputs": [],
   "source": [
    "typ = 'reco'\n",
    "factors = dict()\n",
    "factors_err = dict()\n",
    "input_file = 'results_site_task_cms_%s_0.001.csv' % typ\n",
    "with open(input_file) as csvfile:\n",
    "    r = csv.reader(csvfile, delimiter=',')\n",
    "    for row in r:\n",
    "        (cpu, k, k_err) = row\n",
    "        factors[cpu] = float(k)\n",
    "        factors_err[cpu] = float(k_err)\n",
    "fact[typ] = copy.deepcopy(factors)\n",
    "fact_err[typ] = copy.deepcopy(factors_err)\n",
    "a = len(fact[typ]) / np.sum(fact[typ].values())\n",
    "fact[typ].update((i, x *a) for i, x in fact[typ].items())\n",
    "fact_err[typ].update((i, x *a) for i, x in fact_err[typ].items())"
   ]
  },
  {
   "cell_type": "code",
   "execution_count": 6,
   "metadata": {
    "collapsed": false
   },
   "outputs": [],
   "source": [
    "typ = 'digireco'\n",
    "factors = dict()\n",
    "factors_err = dict()\n",
    "input_file = 'results_site_task_cms_%s_0.001.csv' % typ\n",
    "with open(input_file) as csvfile:\n",
    "    r = csv.reader(csvfile, delimiter=',')\n",
    "    for row in r:\n",
    "        (cpu, k, k_err) = row\n",
    "        factors[cpu] = float(k)\n",
    "        factors_err[cpu] = float(k_err)\n",
    "fact[typ] = copy.deepcopy(factors)\n",
    "fact_err[typ] = copy.deepcopy(factors_err)\n",
    "a = len(fact[typ]) / np.sum(fact[typ].values())\n",
    "fact[typ].update((i, x *a) for i, x in fact[typ].items())\n",
    "fact_err[typ].update((i, x *a) for i, x in fact_err[typ].items())"
   ]
  },
  {
   "cell_type": "code",
   "execution_count": 7,
   "metadata": {
    "collapsed": false
   },
   "outputs": [],
   "source": [
    "typ = 'production'\n",
    "factors = dict()\n",
    "factors_err = dict()\n",
    "input_file = 'results_site_task_cms_%s_0.001.csv' % typ\n",
    "with open(input_file) as csvfile:\n",
    "    r = csv.reader(csvfile, delimiter=',')\n",
    "    for row in r:\n",
    "        (cpu, k, k_err) = row\n",
    "        factors[cpu] = float(k)\n",
    "        factors_err[cpu] = float(k_err)\n",
    "fact[typ] = copy.deepcopy(factors)\n",
    "fact_err[typ] = copy.deepcopy(factors_err)\n",
    "a = len(fact[typ]) / np.sum(fact[typ].values())\n",
    "fact[typ].update((i, x *a) for i, x in fact[typ].items())\n",
    "fact_err[typ].update((i, x *a) for i, x in fact_err[typ].items())"
   ]
  },
  {
   "cell_type": "code",
   "execution_count": 8,
   "metadata": {
    "collapsed": false
   },
   "outputs": [],
   "source": [
    "typ = 'dataprocessing'\n",
    "factors = dict()\n",
    "factors_err = dict()\n",
    "input_file = 'results_site_task_cms_%s_0.001.csv' % typ\n",
    "with open(input_file) as csvfile:\n",
    "    r = csv.reader(csvfile, delimiter=',')\n",
    "    for row in r:\n",
    "        (cpu, k, k_err) = row\n",
    "        factors[cpu] = float(k)\n",
    "        factors_err[cpu] = float(k_err)\n",
    "fact[typ] = copy.deepcopy(factors)\n",
    "fact_err[typ] = copy.deepcopy(factors_err)\n",
    "a = len(fact[typ]) / np.sum(fact[typ].values())\n",
    "fact[typ].update((i, x *a) for i, x in fact[typ].items())\n",
    "fact_err[typ].update((i, x *a) for i, x in fact_err[typ].items())"
   ]
  },
  {
   "cell_type": "markdown",
   "metadata": {},
   "source": [
    "## Plot k factors fitted for each site"
   ]
  },
  {
   "cell_type": "code",
   "execution_count": 32,
   "metadata": {
    "collapsed": false,
    "scrolled": false
   },
   "outputs": [
    {
     "data": {
      "text/plain": [
       "<matplotlib.text.Text at 0xcf5c358>"
      ]
     },
     "execution_count": 32,
     "metadata": {},
     "output_type": "execute_result"
    },
    {
     "data": {
      "image/png": "[encoded data removed]",
      "text/plain": [
       "<matplotlib.figure.Figure at 0xcf22748>"
      ]
     },
     "metadata": {},
     "output_type": "display_data"
    }
   ],
   "source": [
    "typ = 'reco'\n",
    "\n",
    "factors = fact[typ]\n",
    "factors_err = fact_err[typ]\n",
    "\n",
    "k_avg = dict()\n",
    "k_std = dict()\n",
    "x = list()\n",
    "y = list()\n",
    "yerr = list()\n",
    "i = 0\n",
    "for cpu in fact[typ].keys():\n",
    "    x.append(i)\n",
    "    y.append(fact[typ][cpu])\n",
    "    yerr.append(fact_err[typ][cpu])\n",
    "    i += 1\n",
    "plt.figure()\n",
    "plt.errorbar(x, y, yerr=yerr, fmt='o')\n",
    "plt.xlabel('Site')\n",
    "plt.ylabel('Site speed factor')\n",
    "plt.text(15., 1.4, typ)"
   ]
  },
  {
   "cell_type": "code",
   "execution_count": 33,
   "metadata": {
    "collapsed": false
   },
   "outputs": [],
   "source": [
    "df = DataFrame({'k_avg': factors, 'k_std': factors_err}).sort_values(by='k_avg', inplace=False)"
   ]
  },
  {
   "cell_type": "markdown",
   "metadata": {},
   "source": [
    "## Plot factors for sites"
   ]
  },
  {
   "cell_type": "code",
   "execution_count": 34,
   "metadata": {
    "collapsed": true
   },
   "outputs": [],
   "source": [
    "def f(x, m, s, n):\n",
    "    return n / (s * np.sqrt(2 * np.pi)) * np.exp(-(x - m)**2 / (2 * s**2))"
   ]
  },
  {
   "cell_type": "code",
   "execution_count": 35,
   "metadata": {
    "collapsed": false
   },
   "outputs": [
    {
     "data": {
      "text/plain": [
       "<matplotlib.text.Text at 0xd158f98>"
      ]
     },
     "execution_count": 35,
     "metadata": {},
     "output_type": "execute_result"
    },
    {
     "data": {
      "image/png": "[encoded data removed]",
      "text/plain": [
       "<matplotlib.figure.Figure at 0xcdbc7f0>"
      ]
     },
     "metadata": {},
     "output_type": "display_data"
    }
   ],
   "source": [
    "x = range(len(df))\n",
    "y = df.k_avg\n",
    "y_err = df.k_std\n",
    "plt.errorbar(x, y, yerr=y_err, fmt='o')\n",
    "plt.ylim([0., 2.])\n",
    "plt.xlabel('site')\n",
    "plt.ylabel('site speed factor')\n",
    "plt.text(15., 1.5, typ)"
   ]
  },
  {
   "cell_type": "code",
   "execution_count": 36,
   "metadata": {
    "collapsed": false
   },
   "outputs": [
    {
     "data": {
      "text/plain": [
       "<matplotlib.text.Text at 0xcf4c198>"
      ]
     },
     "execution_count": 36,
     "metadata": {},
     "output_type": "execute_result"
    },
    {
     "data": {
      "image/png": "[encoded data removed]",
      "text/plain": [
       "<matplotlib.figure.Figure at 0xb733550>"
      ]
     },
     "metadata": {},
     "output_type": "display_data"
    }
   ],
   "source": [
    "t, s = np.histogram(y, bins=20, range=[0., 2.])\n",
    "y.hist(bins=20, range=[0., 2])\n",
    "(m, si, n), _ = optimize.curve_fit(f, s[:-1], t.tolist())\n",
    "plt.plot(s, f(s, m, si, n))\n",
    "plt.xlabel('speed factor')\n",
    "plt.text(1.3, 8.5, r'calc. $\\mu=%.3f\\pm%.3f$' % (y.mean(), y.std()))\n",
    "plt.text(1.3, 8., r'fitted $\\mu=%.3f\\pm%.3f$' % (m, si))"
   ]
  },
  {
   "cell_type": "markdown",
   "metadata": {
    "collapsed": true
   },
   "source": [
    "## Plot correlation between factors for evgen and simul"
   ]
  },
  {
   "cell_type": "code",
   "execution_count": 40,
   "metadata": {
    "collapsed": false
   },
   "outputs": [
    {
     "name": "stdout",
     "output_type": "stream",
     "text": [
      "32.0\n"
     ]
    },
    {
     "data": {
      "image/png": "[encoded data removed]",
      "text/plain": [
       "<matplotlib.figure.Figure at 0xd36bc50>"
      ]
     },
     "metadata": {},
     "output_type": "display_data"
    }
   ],
   "source": [
    "type1 = 'digi'\n",
    "type2 = 'digireco'\n",
    "fact1 = fact[type1]\n",
    "fact2 = fact[type2]\n",
    "fact1_err = fact_err[type1]\n",
    "fact2_err = fact_err[type2]\n",
    "#print fact2['Intel(R) Xeon(R) CPU E5-2640 v2 @ 2.00GHz 4096 KB']\n",
    "x = list()\n",
    "y = list()\n",
    "x_err = list()\n",
    "y_err = list()\n",
    "s1 = set(fact1.keys())\n",
    "s2 = set(fact2.keys())\n",
    "s = s2.intersection(s1)\n",
    "for cpu in s:\n",
    "#    print '%s\\t%s\\t%s' % (cpu, fact1[cpu], fact2[cpu])\n",
    "    x.append(fact1[cpu])\n",
    "    x_err.append(fact1_err[cpu])\n",
    "    y.append(fact2[cpu])\n",
    "    y_err.append(fact2_err[cpu])\n",
    "plt.xlim([0., 2.])\n",
    "plt.ylim([0., 2.])\n",
    "plt.errorbar(x, y, xerr=x_err, yerr=y_err, fmt='o')\n",
    "plt.xlabel('site speed for %s events' % type1)\n",
    "plt.ylabel('site speed for %s events' % type2)\n",
    "print np.nansum(fact2.values())"
   ]
  },
  {
   "cell_type": "code",
   "execution_count": 77,
   "metadata": {
    "collapsed": false
   },
   "outputs": [
    {
     "name": "stdout",
     "output_type": "stream",
     "text": [
      "[[ 1.         0.5774336]\n",
      " [ 0.5774336  1.       ]]\n"
     ]
    }
   ],
   "source": [
    "print np.corrcoef(x, y, 0)"
   ]
  },
  {
   "cell_type": "markdown",
   "metadata": {},
   "source": [
    "## Fit to a straight line"
   ]
  },
  {
   "cell_type": "code",
   "execution_count": 78,
   "metadata": {
    "collapsed": false
   },
   "outputs": [
    {
     "name": "stdout",
     "output_type": "stream",
     "text": [
      "The slope of the linear fit is 0.831669 +- 0.245193\n",
      "The intercept of the linear fit is 0.138686 +- 0.254732\n"
     ]
    }
   ],
   "source": [
    "def f(x, a, b):\n",
    "    return a * x + b\n",
    "\n",
    "res = curve_fit(f, x, y)\n",
    "\n",
    "print \"The slope of the linear fit is %f +- %f\" % (res[0][0], np.sqrt(res[1][0][0]))\n",
    "print \"The intercept of the linear fit is %f +- %f\" % (res[0][1], np.sqrt(res[1][1][1]))"
   ]
  },
  {
   "cell_type": "code",
   "execution_count": null,
   "metadata": {
    "collapsed": true
   },
   "outputs": [],
   "source": []
  },
  {
   "cell_type": "code",
   "execution_count": 47,
   "metadata": {
    "collapsed": false
   },
   "outputs": [
    {
     "name": "stdout",
     "output_type": "stream",
     "text": [
      "0.0430420689359\n"
     ]
    },
    {
     "data": {
      "text/plain": [
       "<matplotlib.text.Text at 0xd7642b0>"
      ]
     },
     "execution_count": 47,
     "metadata": {},
     "output_type": "execute_result"
    },
    {
     "data": {
      "image/png": "[encoded data removed]",
      "text/plain": [
       "<matplotlib.figure.Figure at 0xe503748>"
      ]
     },
     "metadata": {},
     "output_type": "display_data"
    }
   ],
   "source": [
    "types = ['digi', 'miniaod', 'reco', 'digireco']\n",
    "s = set(fact[types[0]].keys())\n",
    "stds = list()\n",
    "for typ in types:\n",
    "    f = fact[typ]\n",
    "    s = s.intersection(set(f.keys()))\n",
    "for cpu in s:\n",
    "    x = [fact[typ][cpu] for typ in types]\n",
    "    stds.append(np.std(x))\n",
    "print np.median(stds)\n",
    "plt.hist(stds)\n",
    "plt.xlabel('RMS of different speed factors measurements')"
   ]
  },
  {
   "cell_type": "code",
   "execution_count": null,
   "metadata": {
    "collapsed": true
   },
   "outputs": [],
   "source": []
  },
  {
   "cell_type": "code",
   "execution_count": null,
   "metadata": {
    "collapsed": true
   },
   "outputs": [],
   "source": []
  }
 ],
 "metadata": {
  "anaconda-cloud": {},
  "kernelspec": {
   "display_name": "Python [default]",
   "language": "python",
   "name": "python2"
  },
  "language_info": {
   "codemirror_mode": {
    "name": "ipython",
    "version": 2
   },
   "file_extension": ".py",
   "mimetype": "text/x-python",
   "name": "python",
   "nbconvert_exporter": "python",
   "pygments_lexer": "ipython2",
   "version": "2.7.11"
  }
 },
 "nbformat": 4,
 "nbformat_minor": 0
}
