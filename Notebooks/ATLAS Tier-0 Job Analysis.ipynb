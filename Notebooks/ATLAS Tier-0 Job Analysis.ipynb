{
 "cells": [
  {
   "cell_type": "code",
   "execution_count": 1,
   "metadata": {
    "collapsed": true
   },
   "outputs": [],
   "source": [
    "import re\n",
    "import datetime\n",
    "from math import log\n",
    "import csv\n",
    "import pprint\n",
    "import math\n",
    "import random\n",
    "from collections import Counter\n",
    "import numpy as np\n",
    "import matplotlib.pyplot as plt\n",
    "from pandas import Series, DataFrame\n",
    "import pandas as pd\n",
    "from scipy import stats\n",
    "from elasticsearch import Elasticsearch, helpers\n",
    "\n",
    "from __future__ import division\n",
    "\n",
    "np.set_printoptions(threshold=np.inf)\n",
    "\n",
    "%matplotlib inline\n",
    "\n",
    "pp = pprint.PrettyPrinter()"
   ]
  },
  {
   "cell_type": "code",
   "execution_count": 2,
   "metadata": {
    "collapsed": true
   },
   "outputs": [],
   "source": [
    "username = 'es-atlas'\n",
    "password = 'v~$&<J8/cG9]*eQ@'\n",
    "es = Elasticsearch([{'host': 'es-atlas.cern.ch', 'port': 9203, 'http_auth': username+':'+password}], use_ssl=True,verify_certs=True,ca_certs=\"ca-bundle.trust.crt\")"
   ]
  },
  {
   "cell_type": "code",
   "execution_count": 3,
   "metadata": {
    "collapsed": true
   },
   "outputs": [],
   "source": [
    "indices = es.cat.indices(index=\"atlas_tzjobs_*\", h=\"index\", request_timeout=600).split('\\n')"
   ]
  },
  {
   "cell_type": "code",
   "execution_count": 4,
   "metadata": {
    "collapsed": false
   },
   "outputs": [],
   "source": [
    "def time_filter(indices, weeks=0, until=0):\n",
    "    if weeks == 0:\n",
    "        return [\"atlas_tzjobs_*\"]\n",
    "    today = datetime.date.today()\n",
    "    filtered = []\n",
    "    datefmt = '%Y-%U-%w'   # assuming week starts on Sunday and week 0 is the first\n",
    "    p = re.compile(\"atlas_tzjobs_(\\d+)_week-(\\d+)_v(\\d+)\")\n",
    "    for i in indices:\n",
    "        m = p.match(i)\n",
    "        if m:\n",
    "            year, week, version = m.group(1, 2, 3)\n",
    "            day_str = '%s-%s-0' % (year, week)\n",
    "            day = datetime.datetime.strptime(day_str, datefmt).date()\n",
    "            diff = today - day\n",
    "            if until <= diff.days / 7 < weeks + until:\n",
    "                filtered.append(i.rstrip())\n",
    "    return filtered"
   ]
  },
  {
   "cell_type": "code",
   "execution_count": 15,
   "metadata": {
    "collapsed": false
   },
   "outputs": [
    {
     "name": "stdout",
     "output_type": "stream",
     "text": [
      "atlas_tzjobs_*\n"
     ]
    }
   ],
   "source": [
    "ind = time_filter(indices, 0, 0)\n",
    "ind = ','.join(ind)\n",
    "print ind"
   ]
  },
  {
   "cell_type": "markdown",
   "metadata": {},
   "source": [
    "Important fields:\n",
    "* ATLAS_release_number\n",
    "* job_walltime_per_event\n",
    "* machine.model_name\n",
    "* machine.hepspec\n",
    "* main_reco.wallTime\n",
    "* main_reco_cpuTime_per_event\n",
    "* mu\n",
    "* mp_cpu_efficiency\n",
    "* ncores (all 1?)\n",
    "* ncores\\*job_walltime\n",
    "* nevents\n",
    "* cpuTime\n",
    "* reco_cputime_per_event\n",
    "* singlecore_cpuTime\n",
    "* singlecore_wallTime\n",
    "* transform.cpuEfficiency\n",
    "* transform.cpuTime\n",
    "* transform.cpuTimeTotal\n",
    "* transform.wallTime\n",
    "* walltime\n"
   ]
  },
  {
   "cell_type": "code",
   "execution_count": 16,
   "metadata": {
    "collapsed": false
   },
   "outputs": [],
   "source": [
    "s = {\n",
    "    \"size\":0,\n",
    "    \"aggs\": {\n",
    "        \"atlrel\": {\n",
    "            \"terms\": {\n",
    "                \"field\": \"ATLAS_release_number\",\n",
    "                \"size\": 1000\n",
    "            },\n",
    "            \"aggs\": {\n",
    "                \"cputype\": {\n",
    "                    \"terms\": {\n",
    "                        \"field\": \"machine.model_name\",\n",
    "                        \"size\": 1000\n",
    "                    },\n",
    "                    \"aggs\": {\n",
    "                        \"task\": {\n",
    "                            \"terms\": {\n",
    "                                \"field\": \"taskid\",\n",
    "                                \"size\": 100000\n",
    "                            },\n",
    "                            \"aggs\": {\n",
    "                                \"1\": {\n",
    "                                    \"extended_stats\": {\n",
    "                                        \"script\": {\n",
    "                                            \"inline\": \"(doc['nevents'].value) ? doc['cpuTime'].value / doc['nevents'].value : 0\",\n",
    "                                            \"lang\": \"expression\"\n",
    "                                        }\n",
    "                                    }\n",
    "                                },\n",
    "                                \"2\": {\n",
    "                                    \"extended_stats\": {\n",
    "                                        \"script\": {\n",
    "                                            \"inline\": \"(doc['nevents'].value) ? doc['walltime'].value * doc['ncores'].value / doc['nevents'].value : 0\",\n",
    "                                            \"lang\": \"expression\"\n",
    "                                        }\n",
    "                                    }\n",
    "                                },\n",
    "                                \"3\": {\n",
    "                                    \"sum\": {\n",
    "                                        \"field\": \"cpuTime\"\n",
    "                                    }\n",
    "                                },\n",
    "                                \"4\": {\n",
    "                                    \"sum\": {\n",
    "                                        \"script\": {\n",
    "                                            \"inline\": \"doc['walltime'].value * doc['ncores'].value\",\n",
    "                                            \"lang\": \"expression\"\n",
    "                                        }\n",
    "                                    }\n",
    "                                },\n",
    "                                \"5\": {\n",
    "                                    \"avg\": {\n",
    "                                        \"field\": \"ncores\"\n",
    "                                    }\n",
    "                                },\n",
    "                                \"7\": {\n",
    "                                    \"sum\": {\n",
    "                                        \"field\": \"nevents\"\n",
    "                                    }\n",
    "                                },\n",
    "                                \"8\": {\n",
    "                                    \"avg\": {\n",
    "                                        \"script\": {\n",
    "                                            \"inline\": \"doc['cpuTime'].value / doc['walltime'].value / doc['ncores'].value\",\n",
    "                                            \"lang\": \"expression\"\n",
    "                                        }\n",
    "                                    }\n",
    "                                }\n",
    "                            }\n",
    "                        }\n",
    "                    }\n",
    "                }\n",
    "            }\n",
    "        }\n",
    "    }\n",
    "}\n",
    "res = es.search(index=ind, body=s, request_timeout=12000)"
   ]
  },
  {
   "cell_type": "code",
   "execution_count": 17,
   "metadata": {
    "collapsed": true
   },
   "outputs": [],
   "source": [
    "output_file = 't0_cpu_x.csv'"
   ]
  },
  {
   "cell_type": "code",
   "execution_count": 18,
   "metadata": {
    "collapsed": false
   },
   "outputs": [],
   "source": [
    "with open(output_file, 'w') as f:\n",
    "    writer = csv.writer(f, lineterminator='\\n')\n",
    "    buckets1 = res['aggregations']['atlrel']['buckets']\n",
    "    for b1 in buckets1:\n",
    "        atlrel = b1['key']\n",
    "        buckets2 = b1['cputype']['buckets']\n",
    "        for b2 in buckets2:\n",
    "            cputype = b2['key']\n",
    "            buckets3 = b2['task']['buckets']\n",
    "            for b3 in buckets3:\n",
    "                task = b3['key']\n",
    "                writer.writerow([\n",
    "                        task,\n",
    "                        atlrel,\n",
    "                        cputype,\n",
    "                        b3['1']['count'],\n",
    "                        b3['1']['avg'],\n",
    "                        b3['1']['std_deviation'],\n",
    "                        b3['2']['avg'],\n",
    "                        b3['2']['std_deviation'],\n",
    "                        b3['3']['value'],\n",
    "                        b3['4']['value'],\n",
    "                        b3['5']['value'],\n",
    "                        b3['7']['value'],\n",
    "                        b3['8']['value']\n",
    "                    ])"
   ]
  },
  {
   "cell_type": "code",
   "execution_count": 19,
   "metadata": {
    "collapsed": true
   },
   "outputs": [],
   "source": [
    "input_file = 't0_cpu_x.csv'"
   ]
  },
  {
   "cell_type": "code",
   "execution_count": 20,
   "metadata": {
    "collapsed": true
   },
   "outputs": [],
   "source": [
    "df = pd.read_csv(input_file, dtype={'cpu_n': 'float'}, names=['jeditaskid', 'atlrel', 'cputype', 'njobs',\n",
    "                                                              'cpuevt_avg', 'cpuevt_rms', 'wallevt_avg', 'wallevt_rms',\n",
    "                                                              'cpu', 'wc', 'cores', 'jevts', 'eff'])"
   ]
  },
  {
   "cell_type": "code",
   "execution_count": 24,
   "metadata": {
    "collapsed": false
   },
   "outputs": [
    {
     "data": {
      "text/html": [
       "<div>\n",
       "<table border=\"1\" class=\"dataframe\">\n",
       "  <thead>\n",
       "    <tr style=\"text-align: right;\">\n",
       "      <th></th>\n",
       "      <th>jeditaskid</th>\n",
       "      <th>atlrel</th>\n",
       "      <th>cputype</th>\n",
       "      <th>njobs</th>\n",
       "      <th>cpuevt_avg</th>\n",
       "      <th>cpuevt_rms</th>\n",
       "      <th>wallevt_avg</th>\n",
       "      <th>wallevt_rms</th>\n",
       "      <th>cpu</th>\n",
       "      <th>wc</th>\n",
       "      <th>cores</th>\n",
       "      <th>jevts</th>\n",
       "      <th>eff</th>\n",
       "    </tr>\n",
       "  </thead>\n",
       "  <tbody>\n",
       "    <tr>\n",
       "      <th>0</th>\n",
       "      <td>2111265</td>\n",
       "      <td>20.7.6.7</td>\n",
       "      <td>Intel(R)_Xeon(R)_CPU_E5-2630_v3_@_2.40GHz</td>\n",
       "      <td>43524</td>\n",
       "      <td>10.002530</td>\n",
       "      <td>5.136370</td>\n",
       "      <td>10.971754</td>\n",
       "      <td>9.576847</td>\n",
       "      <td>1.073727e+09</td>\n",
       "      <td>1.163553e+09</td>\n",
       "      <td>1.0</td>\n",
       "      <td>113917857.0</td>\n",
       "      <td>0.915816</td>\n",
       "    </tr>\n",
       "    <tr>\n",
       "      <th>1</th>\n",
       "      <td>2109752</td>\n",
       "      <td>20.7.6.7</td>\n",
       "      <td>Intel(R)_Xeon(R)_CPU_E5-2630_v3_@_2.40GHz</td>\n",
       "      <td>36103</td>\n",
       "      <td>10.092488</td>\n",
       "      <td>13.162943</td>\n",
       "      <td>10.917502</td>\n",
       "      <td>23.468211</td>\n",
       "      <td>8.107089e+08</td>\n",
       "      <td>8.434884e+08</td>\n",
       "      <td>1.0</td>\n",
       "      <td>88923350.0</td>\n",
       "      <td>0.954867</td>\n",
       "    </tr>\n",
       "    <tr>\n",
       "      <th>2</th>\n",
       "      <td>2113627</td>\n",
       "      <td>20.7.6.7</td>\n",
       "      <td>Intel(R)_Xeon(R)_CPU_E5-2630_v3_@_2.40GHz</td>\n",
       "      <td>32811</td>\n",
       "      <td>11.638453</td>\n",
       "      <td>5.033269</td>\n",
       "      <td>12.104210</td>\n",
       "      <td>6.643941</td>\n",
       "      <td>8.684190e+08</td>\n",
       "      <td>9.011209e+08</td>\n",
       "      <td>1.0</td>\n",
       "      <td>77557996.0</td>\n",
       "      <td>0.964874</td>\n",
       "    </tr>\n",
       "    <tr>\n",
       "      <th>3</th>\n",
       "      <td>2112810</td>\n",
       "      <td>20.7.6.7</td>\n",
       "      <td>Intel(R)_Xeon(R)_CPU_E5-2630_v3_@_2.40GHz</td>\n",
       "      <td>31677</td>\n",
       "      <td>11.625101</td>\n",
       "      <td>4.772562</td>\n",
       "      <td>12.421811</td>\n",
       "      <td>11.303404</td>\n",
       "      <td>8.382515e+08</td>\n",
       "      <td>8.899314e+08</td>\n",
       "      <td>1.0</td>\n",
       "      <td>74533800.0</td>\n",
       "      <td>0.940577</td>\n",
       "    </tr>\n",
       "    <tr>\n",
       "      <th>4</th>\n",
       "      <td>2113406</td>\n",
       "      <td>20.7.6.7</td>\n",
       "      <td>Intel(R)_Xeon(R)_CPU_E5-2630_v3_@_2.40GHz</td>\n",
       "      <td>29263</td>\n",
       "      <td>11.763393</td>\n",
       "      <td>4.099992</td>\n",
       "      <td>12.429462</td>\n",
       "      <td>4.794509</td>\n",
       "      <td>7.830508e+08</td>\n",
       "      <td>8.295147e+08</td>\n",
       "      <td>1.0</td>\n",
       "      <td>69130223.0</td>\n",
       "      <td>0.946720</td>\n",
       "    </tr>\n",
       "    <tr>\n",
       "      <th>5</th>\n",
       "      <td>2109244</td>\n",
       "      <td>20.7.6.7</td>\n",
       "      <td>Intel(R)_Xeon(R)_CPU_E5-2630_v3_@_2.40GHz</td>\n",
       "      <td>27852</td>\n",
       "      <td>8.882553</td>\n",
       "      <td>8.205608</td>\n",
       "      <td>9.809727</td>\n",
       "      <td>15.236611</td>\n",
       "      <td>5.796080e+08</td>\n",
       "      <td>6.136641e+08</td>\n",
       "      <td>1.0</td>\n",
       "      <td>70609837.0</td>\n",
       "      <td>0.938682</td>\n",
       "    </tr>\n",
       "    <tr>\n",
       "      <th>6</th>\n",
       "      <td>2113892</td>\n",
       "      <td>20.7.6.7</td>\n",
       "      <td>Intel(R)_Xeon(R)_CPU_E5-2630_v3_@_2.40GHz</td>\n",
       "      <td>27754</td>\n",
       "      <td>12.003995</td>\n",
       "      <td>7.745318</td>\n",
       "      <td>12.439303</td>\n",
       "      <td>10.523989</td>\n",
       "      <td>7.447470e+08</td>\n",
       "      <td>7.681989e+08</td>\n",
       "      <td>1.0</td>\n",
       "      <td>64662340.0</td>\n",
       "      <td>0.967868</td>\n",
       "    </tr>\n",
       "    <tr>\n",
       "      <th>7</th>\n",
       "      <td>2134560</td>\n",
       "      <td>20.7.6.7</td>\n",
       "      <td>Intel(R)_Xeon(R)_CPU_E5-2630_v3_@_2.40GHz</td>\n",
       "      <td>26820</td>\n",
       "      <td>12.671567</td>\n",
       "      <td>5.549309</td>\n",
       "      <td>13.280890</td>\n",
       "      <td>6.817863</td>\n",
       "      <td>7.412937e+08</td>\n",
       "      <td>7.753488e+08</td>\n",
       "      <td>1.0</td>\n",
       "      <td>61236159.0</td>\n",
       "      <td>0.953987</td>\n",
       "    </tr>\n",
       "    <tr>\n",
       "      <th>8</th>\n",
       "      <td>2110757</td>\n",
       "      <td>20.7.6.7</td>\n",
       "      <td>Intel(R)_Xeon(R)_CPU_E5-2630_v3_@_2.40GHz</td>\n",
       "      <td>26507</td>\n",
       "      <td>12.408492</td>\n",
       "      <td>13.557220</td>\n",
       "      <td>14.401419</td>\n",
       "      <td>47.016221</td>\n",
       "      <td>6.338429e+08</td>\n",
       "      <td>6.686036e+08</td>\n",
       "      <td>1.0</td>\n",
       "      <td>55461293.0</td>\n",
       "      <td>0.933431</td>\n",
       "    </tr>\n",
       "    <tr>\n",
       "      <th>9</th>\n",
       "      <td>2115577</td>\n",
       "      <td>20.7.6.7</td>\n",
       "      <td>Intel(R)_Xeon(R)_CPU_E5-2630_v3_@_2.40GHz</td>\n",
       "      <td>26151</td>\n",
       "      <td>10.940262</td>\n",
       "      <td>7.310882</td>\n",
       "      <td>11.375847</td>\n",
       "      <td>9.743731</td>\n",
       "      <td>6.544853e+08</td>\n",
       "      <td>6.774524e+08</td>\n",
       "      <td>1.0</td>\n",
       "      <td>62217579.0</td>\n",
       "      <td>0.964573</td>\n",
       "    </tr>\n",
       "  </tbody>\n",
       "</table>\n",
       "</div>"
      ],
      "text/plain": [
       "   jeditaskid    atlrel                                    cputype  njobs  \\\n",
       "0     2111265  20.7.6.7  Intel(R)_Xeon(R)_CPU_E5-2630_v3_@_2.40GHz  43524   \n",
       "1     2109752  20.7.6.7  Intel(R)_Xeon(R)_CPU_E5-2630_v3_@_2.40GHz  36103   \n",
       "2     2113627  20.7.6.7  Intel(R)_Xeon(R)_CPU_E5-2630_v3_@_2.40GHz  32811   \n",
       "3     2112810  20.7.6.7  Intel(R)_Xeon(R)_CPU_E5-2630_v3_@_2.40GHz  31677   \n",
       "4     2113406  20.7.6.7  Intel(R)_Xeon(R)_CPU_E5-2630_v3_@_2.40GHz  29263   \n",
       "5     2109244  20.7.6.7  Intel(R)_Xeon(R)_CPU_E5-2630_v3_@_2.40GHz  27852   \n",
       "6     2113892  20.7.6.7  Intel(R)_Xeon(R)_CPU_E5-2630_v3_@_2.40GHz  27754   \n",
       "7     2134560  20.7.6.7  Intel(R)_Xeon(R)_CPU_E5-2630_v3_@_2.40GHz  26820   \n",
       "8     2110757  20.7.6.7  Intel(R)_Xeon(R)_CPU_E5-2630_v3_@_2.40GHz  26507   \n",
       "9     2115577  20.7.6.7  Intel(R)_Xeon(R)_CPU_E5-2630_v3_@_2.40GHz  26151   \n",
       "\n",
       "   cpuevt_avg  cpuevt_rms  wallevt_avg  wallevt_rms           cpu  \\\n",
       "0   10.002530    5.136370    10.971754     9.576847  1.073727e+09   \n",
       "1   10.092488   13.162943    10.917502    23.468211  8.107089e+08   \n",
       "2   11.638453    5.033269    12.104210     6.643941  8.684190e+08   \n",
       "3   11.625101    4.772562    12.421811    11.303404  8.382515e+08   \n",
       "4   11.763393    4.099992    12.429462     4.794509  7.830508e+08   \n",
       "5    8.882553    8.205608     9.809727    15.236611  5.796080e+08   \n",
       "6   12.003995    7.745318    12.439303    10.523989  7.447470e+08   \n",
       "7   12.671567    5.549309    13.280890     6.817863  7.412937e+08   \n",
       "8   12.408492   13.557220    14.401419    47.016221  6.338429e+08   \n",
       "9   10.940262    7.310882    11.375847     9.743731  6.544853e+08   \n",
       "\n",
       "             wc  cores        jevts       eff  \n",
       "0  1.163553e+09    1.0  113917857.0  0.915816  \n",
       "1  8.434884e+08    1.0   88923350.0  0.954867  \n",
       "2  9.011209e+08    1.0   77557996.0  0.964874  \n",
       "3  8.899314e+08    1.0   74533800.0  0.940577  \n",
       "4  8.295147e+08    1.0   69130223.0  0.946720  \n",
       "5  6.136641e+08    1.0   70609837.0  0.938682  \n",
       "6  7.681989e+08    1.0   64662340.0  0.967868  \n",
       "7  7.753488e+08    1.0   61236159.0  0.953987  \n",
       "8  6.686036e+08    1.0   55461293.0  0.933431  \n",
       "9  6.774524e+08    1.0   62217579.0  0.964573  "
      ]
     },
     "execution_count": 24,
     "metadata": {},
     "output_type": "execute_result"
    }
   ],
   "source": [
    "df[:10]"
   ]
  },
  {
   "cell_type": "code",
   "execution_count": 26,
   "metadata": {
    "collapsed": false
   },
   "outputs": [
    {
     "data": {
      "text/plain": [
       "array(['Intel(R)_Xeon(R)_CPU_E5-2630_v3_@_2.40GHz',\n",
       "       'Intel(R)_Xeon(R)_CPU_E5-2630L_0_@_2.00GHz',\n",
       "       'Intel(R)_Xeon(R)_CPU_E5-2650_v2_@_2.60GHz',\n",
       "       'Intel(R)_Xeon(R)_CPU_E5-2650_0_@_2.00GHz',\n",
       "       'AMD_Opteron(TM)_Processor_6276',\n",
       "       'Intel(R)_Xeon(R)_CPU___________L5520__@_2.27GHz'], dtype=object)"
      ]
     },
     "execution_count": 26,
     "metadata": {},
     "output_type": "execute_result"
    }
   ],
   "source": [
    "df['cputype'].unique()"
   ]
  },
  {
   "cell_type": "code",
   "execution_count": 35,
   "metadata": {
    "collapsed": false
   },
   "outputs": [
    {
     "name": "stdout",
     "output_type": "stream",
     "text": [
      "20177127.6229\n"
     ]
    },
    {
     "data": {
      "text/plain": [
       "<matplotlib.text.Text at 0x1077b588>"
      ]
     },
     "execution_count": 35,
     "metadata": {},
     "output_type": "execute_result"
    },
    {
     "data": {
      "image/png": "[encoded data removed]",
      "text/plain": [
       "<matplotlib.figure.Figure at 0xf8eb780>"
      ]
     },
     "metadata": {},
     "output_type": "display_data"
    }
   ],
   "source": [
    "grouped = df.groupby(['jeditaskid'], as_index=False)\n",
    "a = grouped['jevts'].sum()\n",
    "print stats.trim_mean(a['jevts'], 0.05)\n",
    "fig = a['jevts'].hist(bins=50, range=[0., 1e8], log=False)\n",
    "plt.xlabel('events in task')\n",
    "plt.ylabel('tasks')"
   ]
  },
  {
   "cell_type": "code",
   "execution_count": 39,
   "metadata": {
    "collapsed": false
   },
   "outputs": [
    {
     "data": {
      "text/plain": [
       "<matplotlib.text.Text at 0x12023da0>"
      ]
     },
     "execution_count": 39,
     "metadata": {},
     "output_type": "execute_result"
    },
    {
     "data": {
      "image/png": "[encoded data removed]",
      "text/plain": [
       "<matplotlib.figure.Figure at 0xf955fd0>"
      ]
     },
     "metadata": {},
     "output_type": "display_data"
    }
   ],
   "source": [
    "grouped = df.groupby(['jeditaskid'], as_index=False)\n",
    "a = grouped['eff'].mean()\n",
    "fig = a['eff'].hist(bins=50, log=False, range=(0., 1.))   # NOT VERY CORRECT (arithmetic mean of efficiencies...)\n",
    "plt.xlabel('efficiency')\n",
    "plt.ylabel('tasks')"
   ]
  },
  {
   "cell_type": "code",
   "execution_count": 44,
   "metadata": {
    "collapsed": false
   },
   "outputs": [
    {
     "data": {
      "text/plain": [
       "<matplotlib.text.Text at 0x130b25f8>"
      ]
     },
     "execution_count": 44,
     "metadata": {},
     "output_type": "execute_result"
    },
    {
     "data": {
      "image/png": "[encoded data removed]",
      "text/plain": [
       "<matplotlib.figure.Figure at 0x12e43278>"
      ]
     },
     "metadata": {},
     "output_type": "display_data"
    }
   ],
   "source": [
    "a = grouped['cpuevt_avg'].mean()\n",
    "fig = a['cpuevt_avg'].hist(bins=50, log=False, range=(0., 100.))   # NOT VERY CORRECT (arithmetic mean of efficiencies...)\n",
    "plt.xlabel('CPU time per event')\n",
    "plt.ylabel('tasks')"
   ]
  },
  {
   "cell_type": "code",
   "execution_count": 46,
   "metadata": {
    "collapsed": false
   },
   "outputs": [
    {
     "data": {
      "text/plain": [
       "<matplotlib.text.Text at 0x13569160>"
      ]
     },
     "execution_count": 46,
     "metadata": {},
     "output_type": "execute_result"
    },
    {
     "data": {
      "image/png": "[encoded data removed]",
      "text/plain": [
       "<matplotlib.figure.Figure at 0x13061518>"
      ]
     },
     "metadata": {},
     "output_type": "display_data"
    }
   ],
   "source": [
    "a = grouped['wallevt_avg'].mean()\n",
    "fig = a['wallevt_avg'].hist(bins=50, log=False, range=(0., 100.))   # NOT VERY CORRECT (arithmetic mean of efficiencies...)\n",
    "plt.xlabel('Wallclock time per event')\n",
    "plt.ylabel('tasks')"
   ]
  },
  {
   "cell_type": "code",
   "execution_count": 58,
   "metadata": {
    "collapsed": false
   },
   "outputs": [
    {
     "data": {
      "image/png": "[encoded data removed]",
      "text/plain": [
       "<matplotlib.figure.Figure at 0x17bddfd0>"
      ]
     },
     "metadata": {},
     "output_type": "display_data"
    }
   ],
   "source": [
    "fig = plt.figure(figsize=(5,5))\n",
    "plt.rcParams.update({'font.size': 10})\n",
    "var = 'cpuevt_avg'\n",
    "log_scale = False\n",
    "wc_tot = df['wc'].sum()\n",
    "i = 1\n",
    "\n",
    "mean = np.average(df[var], weights=df['wc'])   # average time weighted with no. of events\n",
    "std = math.sqrt(np.average((df[var] - mean)**2, weights=df['wc']))\n",
    "range = [0., 100.]\n",
    "sp = plt.subplot(1, 1, i)\n",
    "plt.hist(df[var].tolist(), bins=100, range=range, weights=df['wc'].tolist(), log=log_scale)   # integral is total no. of events\n",
    "plt.xlabel('CPU time per event(s)')\n",
    "plt.ylabel('wall-clock time (s)')\n",
    "t_x = lambda x: sp.get_xlim()[0] + (sp.get_xlim()[1] - sp.get_xlim()[0]) * x\n",
    "t_y = lambda x: sp.get_ylim()[0] + (sp.get_ylim()[1] - sp.get_ylim()[0]) * x\n",
    "stat = r'$\\mu=%.3f,\\ \\sigma=%.3f$' % (mean, std)\n",
    "stat2 = r'$\\mathit{events}=%g$' % df['jevts'].sum()\n",
    "if log_scale:\n",
    "    plt.text(t_x(.4), sp.get_ylim()[0] * (sp.get_ylim()[1] / sp.get_ylim()[0])**.8, '\\n')\n",
    "    plt.text(t_x(.4), sp.get_ylim()[0] * (sp.get_ylim()[1] / sp.get_ylim()[0])**.7, stat)\n",
    "    plt.text(t_x(.4), sp.get_ylim()[0] * (sp.get_ylim()[1] / sp.get_ylim()[0])**.6, stat2)\n",
    "else:\n",
    "    plt.text(t_x(.4), t_y(.8), '\\n')\n",
    "    plt.text(t_x(.4), t_y(.7), stat)\n",
    "    plt.text(t_x(.4), t_y(.6), stat2)"
   ]
  },
  {
   "cell_type": "code",
   "execution_count": 59,
   "metadata": {
    "collapsed": false
   },
   "outputs": [
    {
     "data": {
      "image/png": "[encoded data removed]",
      "text/plain": [
       "<matplotlib.figure.Figure at 0x17bb7630>"
      ]
     },
     "metadata": {},
     "output_type": "display_data"
    }
   ],
   "source": [
    "fig = plt.figure(figsize=(5,5))\n",
    "plt.rcParams.update({'font.size': 10})\n",
    "var = 'wallevt_avg'\n",
    "log_scale = False\n",
    "wc_tot = df['wc'].sum()\n",
    "i = 1\n",
    "\n",
    "mean = np.average(df[var], weights=df['wc'])   # average time weighted with no. of events\n",
    "std = math.sqrt(np.average((df[var] - mean)**2, weights=df['wc']))\n",
    "range = [0., 100.]\n",
    "sp = plt.subplot(1, 1, i)\n",
    "plt.hist(df[var].tolist(), bins=100, range=range, weights=df['wc'].tolist(), log=log_scale)   # integral is total no. of events\n",
    "plt.xlabel('CPU time per event(s)')\n",
    "plt.ylabel('wall-clock time (s)')\n",
    "t_x = lambda x: sp.get_xlim()[0] + (sp.get_xlim()[1] - sp.get_xlim()[0]) * x\n",
    "t_y = lambda x: sp.get_ylim()[0] + (sp.get_ylim()[1] - sp.get_ylim()[0]) * x\n",
    "stat = r'$\\mu=%.3f,\\ \\sigma=%.3f$' % (mean, std)\n",
    "stat2 = r'$\\mathit{events}=%g$' % df['jevts'].sum()\n",
    "if log_scale:\n",
    "    plt.text(t_x(.4), sp.get_ylim()[0] * (sp.get_ylim()[1] / sp.get_ylim()[0])**.8, '\\n')\n",
    "    plt.text(t_x(.4), sp.get_ylim()[0] * (sp.get_ylim()[1] / sp.get_ylim()[0])**.7, stat)\n",
    "    plt.text(t_x(.4), sp.get_ylim()[0] * (sp.get_ylim()[1] / sp.get_ylim()[0])**.6, stat2)\n",
    "else:\n",
    "    plt.text(t_x(.4), t_y(.8), '\\n')\n",
    "    plt.text(t_x(.4), t_y(.7), stat)\n",
    "    plt.text(t_x(.4), t_y(.6), stat2)"
   ]
  },
  {
   "cell_type": "code",
   "execution_count": 60,
   "metadata": {
    "collapsed": false
   },
   "outputs": [
    {
     "data": {
      "image/png": "[encoded data removed]",
      "text/plain": [
       "<matplotlib.figure.Figure at 0x13cf3710>"
      ]
     },
     "metadata": {},
     "output_type": "display_data"
    }
   ],
   "source": [
    "fig = plt.figure(figsize=(5,5))\n",
    "plt.rcParams.update({'font.size': 10})\n",
    "var = 'eff'\n",
    "log_scale = False\n",
    "wc_tot = df['wc'].sum()\n",
    "i = 1\n",
    "\n",
    "mean = np.average(df[var], weights=df['wc'])   # average time weighted with no. of events\n",
    "std = math.sqrt(np.average((df[var] - mean)**2, weights=df['wc']))\n",
    "range = [0., 1.]\n",
    "sp = plt.subplot(1, 1, i)\n",
    "plt.hist(df[var].tolist(), bins=100, range=range, weights=df['wc'].tolist(), log=log_scale)   # integral is total no. of events\n",
    "plt.xlabel('CPU time per event(s)')\n",
    "plt.ylabel('wall-clock time (s)')\n",
    "t_x = lambda x: sp.get_xlim()[0] + (sp.get_xlim()[1] - sp.get_xlim()[0]) * x\n",
    "t_y = lambda x: sp.get_ylim()[0] + (sp.get_ylim()[1] - sp.get_ylim()[0]) * x\n",
    "stat = r'$\\mu=%.3f,\\ \\sigma=%.3f$' % (mean, std)\n",
    "stat2 = r'$\\mathit{events}=%g$' % df['jevts'].sum()\n",
    "if log_scale:\n",
    "    plt.text(t_x(.4), sp.get_ylim()[0] * (sp.get_ylim()[1] / sp.get_ylim()[0])**.8, '\\n')\n",
    "    plt.text(t_x(.4), sp.get_ylim()[0] * (sp.get_ylim()[1] / sp.get_ylim()[0])**.7, stat)\n",
    "    plt.text(t_x(.4), sp.get_ylim()[0] * (sp.get_ylim()[1] / sp.get_ylim()[0])**.6, stat2)\n",
    "else:\n",
    "    plt.text(t_x(.4), t_y(.8), '\\n')\n",
    "    plt.text(t_x(.4), t_y(.7), stat)\n",
    "    plt.text(t_x(.4), t_y(.6), stat2)"
   ]
  },
  {
   "cell_type": "code",
   "execution_count": null,
   "metadata": {
    "collapsed": true
   },
   "outputs": [],
   "source": []
  }
 ],
 "metadata": {
  "anaconda-cloud": {},
  "kernelspec": {
   "display_name": "Python [conda root]",
   "language": "python",
   "name": "conda-root-py"
  },
  "language_info": {
   "codemirror_mode": {
    "name": "ipython",
    "version": 2
   },
   "file_extension": ".py",
   "mimetype": "text/x-python",
   "name": "python",
   "nbconvert_exporter": "python",
   "pygments_lexer": "ipython2",
   "version": "2.7.11"
  }
 },
 "nbformat": 4,
 "nbformat_minor": 0
}
