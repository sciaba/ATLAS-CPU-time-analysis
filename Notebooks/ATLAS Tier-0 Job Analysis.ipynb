{
 "cells": [
  {
   "cell_type": "code",
   "execution_count": 41,
   "metadata": {
    "collapsed": true
   },
   "outputs": [],
   "source": [
    "import re\n",
    "import datetime\n",
    "from math import log\n",
    "import csv\n",
    "import pprint\n",
    "import math\n",
    "import random\n",
    "from collections import Counter, defaultdict\n",
    "import numpy as np\n",
    "import matplotlib.pyplot as plt\n",
    "from pandas import Series, DataFrame\n",
    "import pandas as pd\n",
    "from scipy import stats\n",
    "from elasticsearch import Elasticsearch, helpers\n",
    "\n",
    "from __future__ import division\n",
    "\n",
    "np.set_printoptions(threshold=np.inf)\n",
    "\n",
    "%matplotlib inline\n",
    "\n",
    "pp = pprint.PrettyPrinter()"
   ]
  },
  {
   "cell_type": "code",
   "execution_count": 42,
   "metadata": {
    "collapsed": true
   },
   "outputs": [],
   "source": [
    "username = 'es-atlas'\n",
    "password = 'v~$&<J8/cG9]*eQ@'\n",
    "es = Elasticsearch([{'host': 'es-atlas.cern.ch', 'port': 9203, 'http_auth': username+':'+password}], use_ssl=True,verify_certs=True,ca_certs=\"ca-bundle.trust.crt\")"
   ]
  },
  {
   "cell_type": "code",
   "execution_count": 43,
   "metadata": {
    "collapsed": true
   },
   "outputs": [],
   "source": [
    "indices = es.cat.indices(index=\"atlas_tzjobs_*\", h=\"index\", request_timeout=600).split('\\n')"
   ]
  },
  {
   "cell_type": "code",
   "execution_count": 44,
   "metadata": {
    "collapsed": false
   },
   "outputs": [],
   "source": [
    "def time_filter(indices, weeks=0, until=0):\n",
    "    if weeks == 0:\n",
    "        return [\"atlas_tzjobs_*\"]\n",
    "    today = datetime.date.today()\n",
    "    filtered = []\n",
    "    datefmt = '%Y-%U-%w'   # assuming week starts on Sunday and week 0 is the first\n",
    "    p = re.compile(\"atlas_tzjobs_(\\d+)_week-(\\d+)_v(\\d+)\")\n",
    "    for i in indices:\n",
    "        m = p.match(i)\n",
    "        if m:\n",
    "            year, week, version = m.group(1, 2, 3)\n",
    "            day_str = '%s-%s-0' % (year, week)\n",
    "            day = datetime.datetime.strptime(day_str, datefmt).date()\n",
    "            diff = today - day\n",
    "            if until <= diff.days / 7 < weeks + until:\n",
    "                filtered.append(i.rstrip())\n",
    "    return filtered"
   ]
  },
  {
   "cell_type": "markdown",
   "metadata": {},
   "source": [
    "NOTE: exclude the 2016 weeks from 10 to 12."
   ]
  },
  {
   "cell_type": "code",
   "execution_count": 63,
   "metadata": {
    "collapsed": false
   },
   "outputs": [
    {
     "name": "stdout",
     "output_type": "stream",
     "text": [
      "atlas_tzjobs_2015_week-44_v1,atlas_tzjobs_2015_week-45_v1,atlas_tzjobs_2015_week-46_v1,atlas_tzjobs_2015_week-47_v1,atlas_tzjobs_2015_week-48_v1,atlas_tzjobs_2016_week-02_v1,atlas_tzjobs_2016_week-04_v1,atlas_tzjobs_2016_week-05_v1,atlas_tzjobs_2016_week-06_v1,atlas_tzjobs_2016_week-07_v1,atlas_tzjobs_2016_week-08_v1,atlas_tzjobs_2016_week-09_v1\n"
     ]
    }
   ],
   "source": [
    "ind = time_filter(indices, 200, 52)\n",
    "ind.sort()\n",
    "ind = ','.join(ind)\n",
    "print ind"
   ]
  },
  {
   "cell_type": "markdown",
   "metadata": {},
   "source": [
    "Important fields:\n",
    "* ATLAS_release_number\n",
    "* job_walltime_per_event\n",
    "* machine.model_name\n",
    "* machine.hepspec\n",
    "* main_reco.wallTime\n",
    "* main_reco_cpuTime_per_event\n",
    "* mu\n",
    "* mp_cpu_efficiency\n",
    "* ncores (all 1?)\n",
    "* ncores\\*job_walltime\n",
    "* nevents\n",
    "* cpuTime\n",
    "* reco_cputime_per_event\n",
    "* singlecore_cpuTime\n",
    "* singlecore_wallTime\n",
    "* transform.cpuEfficiency\n",
    "* transform.cpuTime\n",
    "* transform.cpuTimeTotal\n",
    "* transform.wallTime\n",
    "* walltime\n"
   ]
  },
  {
   "cell_type": "code",
   "execution_count": 64,
   "metadata": {
    "collapsed": false
   },
   "outputs": [],
   "source": [
    "s = {\n",
    "    \"size\":0,\n",
    "    \"query\": {\n",
    "        \"bool\": {\n",
    "            \"filter\": [\n",
    "                {\"range\": {\"nevents\": {\"gte\": 1000}}},\n",
    "            ]\n",
    "        }\n",
    "    },\n",
    "    \"aggs\": {\n",
    "        \"atlrel\": {\n",
    "            \"terms\": {\n",
    "                \"field\": \"ATLAS_release_number\",\n",
    "                \"size\": 1000\n",
    "            },\n",
    "            \"aggs\": {\n",
    "                \"cputype\": {\n",
    "                    \"terms\": {\n",
    "                        \"field\": \"machine.model_name\",\n",
    "                        \"size\": 1000\n",
    "                    },\n",
    "                    \"aggs\": {\n",
    "                        \"task\": {\n",
    "                            \"terms\": {\n",
    "                                \"field\": \"taskid\",\n",
    "                                \"size\": 100000\n",
    "                            },\n",
    "                            \"aggs\": {\n",
    "                                \"1\": {\n",
    "                                    \"extended_stats\": {\n",
    "                                        \"script\": {\n",
    "                                            \"inline\": \"(doc['nevents'].value) ? doc['cpuTime'].value / doc['nevents'].value : 0\",\n",
    "                                            \"lang\": \"expression\"\n",
    "                                        }\n",
    "                                    }\n",
    "                                },\n",
    "                                \"2\": {\n",
    "                                    \"extended_stats\": {\n",
    "                                        \"script\": {\n",
    "                                            \"inline\": \"(doc['nevents'].value) ? doc['walltime'].value * doc['ncores'].value / doc['nevents'].value : 0\",\n",
    "                                            \"lang\": \"expression\"\n",
    "                                        }\n",
    "                                    }\n",
    "                                },\n",
    "                                \"3\": {\n",
    "                                    \"sum\": {\n",
    "                                        \"field\": \"cpuTime\"\n",
    "                                    }\n",
    "                                },\n",
    "                                \"4\": {\n",
    "                                    \"sum\": {\n",
    "                                        \"script\": {\n",
    "                                            \"inline\": \"doc['walltime'].value * doc['ncores'].value\",\n",
    "                                            \"lang\": \"expression\"\n",
    "                                        }\n",
    "                                    }\n",
    "                                },\n",
    "                                \"5\": {\n",
    "                                    \"avg\": {\n",
    "                                        \"field\": \"ncores\"\n",
    "                                    }\n",
    "                                },\n",
    "                                \"7\": {\n",
    "                                    \"sum\": {\n",
    "                                        \"field\": \"nevents\"\n",
    "                                    }\n",
    "                                },\n",
    "                                \"8\": {\n",
    "                                    \"avg\": {\n",
    "                                        \"script\": {\n",
    "                                            \"inline\": \"doc['cpuTime'].value / doc['walltime'].value / doc['ncores'].value\",\n",
    "                                            \"lang\": \"expression\"\n",
    "                                        }\n",
    "                                    }\n",
    "                                }\n",
    "                            }\n",
    "                        }\n",
    "                    }\n",
    "                }\n",
    "            }\n",
    "        }\n",
    "    }\n",
    "}\n",
    "res = es.search(index=ind, body=s, request_timeout=12000)"
   ]
  },
  {
   "cell_type": "code",
   "execution_count": 65,
   "metadata": {
    "collapsed": true
   },
   "outputs": [],
   "source": [
    "output_file = 't0_cpu_smt_on2.csv'"
   ]
  },
  {
   "cell_type": "code",
   "execution_count": 66,
   "metadata": {
    "collapsed": false
   },
   "outputs": [],
   "source": [
    "with open(output_file, 'w') as f:\n",
    "    writer = csv.writer(f, lineterminator='\\n')\n",
    "    buckets1 = res['aggregations']['atlrel']['buckets']\n",
    "    for b1 in buckets1:\n",
    "        atlrel = b1['key']\n",
    "        buckets2 = b1['cputype']['buckets']\n",
    "        for b2 in buckets2:\n",
    "            cputype = b2['key']\n",
    "            buckets3 = b2['task']['buckets']\n",
    "            for b3 in buckets3:\n",
    "                task = b3['key']\n",
    "                writer.writerow([\n",
    "                        task,\n",
    "                        atlrel,\n",
    "                        cputype,\n",
    "                        b3['1']['count'],\n",
    "                        b3['1']['avg'],\n",
    "                        b3['1']['std_deviation'],\n",
    "                        b3['2']['avg'],\n",
    "                        b3['2']['std_deviation'],\n",
    "                        b3['3']['value'],\n",
    "                        b3['4']['value'],\n",
    "                        b3['5']['value'],\n",
    "                        b3['7']['value'],\n",
    "                        b3['8']['value']\n",
    "                    ])"
   ]
  },
  {
   "cell_type": "code",
   "execution_count": 67,
   "metadata": {
    "collapsed": true
   },
   "outputs": [],
   "source": [
    "input_file = 't0_cpu_smt_on2.csv'"
   ]
  },
  {
   "cell_type": "code",
   "execution_count": 68,
   "metadata": {
    "collapsed": true
   },
   "outputs": [],
   "source": [
    "df = pd.read_csv(input_file, dtype={'cpu_n': 'float'}, names=['jeditaskid', 'atlrel', 'cputype', 'njobs',\n",
    "                                                              'cpuevt_avg', 'cpuevt_rms', 'wallevt_avg', 'wallevt_rms',\n",
    "                                                              'cpu', 'wc', 'cores', 'jevts', 'eff'])"
   ]
  },
  {
   "cell_type": "code",
   "execution_count": 69,
   "metadata": {
    "collapsed": false
   },
   "outputs": [
    {
     "data": {
      "text/html": [
       "<div>\n",
       "<table border=\"1\" class=\"dataframe\">\n",
       "  <thead>\n",
       "    <tr style=\"text-align: right;\">\n",
       "      <th></th>\n",
       "      <th>jeditaskid</th>\n",
       "      <th>atlrel</th>\n",
       "      <th>cputype</th>\n",
       "      <th>njobs</th>\n",
       "      <th>cpuevt_avg</th>\n",
       "      <th>cpuevt_rms</th>\n",
       "      <th>wallevt_avg</th>\n",
       "      <th>wallevt_rms</th>\n",
       "      <th>cpu</th>\n",
       "      <th>wc</th>\n",
       "      <th>cores</th>\n",
       "      <th>jevts</th>\n",
       "      <th>eff</th>\n",
       "    </tr>\n",
       "  </thead>\n",
       "  <tbody>\n",
       "    <tr>\n",
       "      <th>0</th>\n",
       "      <td>2071283</td>\n",
       "      <td>20.1.8.4</td>\n",
       "      <td>Intel(R)_Xeon(R)_CPU_E5-2650_v2_@_2.60GHz</td>\n",
       "      <td>16147</td>\n",
       "      <td>13.533341</td>\n",
       "      <td>4.407298</td>\n",
       "      <td>21.208856</td>\n",
       "      <td>6.820202</td>\n",
       "      <td>633287582.0</td>\n",
       "      <td>981107212.0</td>\n",
       "      <td>4.0</td>\n",
       "      <td>47207776.0</td>\n",
       "      <td>0.649168</td>\n",
       "    </tr>\n",
       "    <tr>\n",
       "      <th>1</th>\n",
       "      <td>2070871</td>\n",
       "      <td>20.1.8.4</td>\n",
       "      <td>Intel(R)_Xeon(R)_CPU_E5-2650_v2_@_2.60GHz</td>\n",
       "      <td>12978</td>\n",
       "      <td>13.971843</td>\n",
       "      <td>6.223225</td>\n",
       "      <td>25.605516</td>\n",
       "      <td>11.106906</td>\n",
       "      <td>543199152.0</td>\n",
       "      <td>989355776.0</td>\n",
       "      <td>4.0</td>\n",
       "      <td>39090357.0</td>\n",
       "      <td>0.572031</td>\n",
       "    </tr>\n",
       "    <tr>\n",
       "      <th>2</th>\n",
       "      <td>2070024</td>\n",
       "      <td>20.1.8.4</td>\n",
       "      <td>Intel(R)_Xeon(R)_CPU_E5-2650_v2_@_2.60GHz</td>\n",
       "      <td>9576</td>\n",
       "      <td>13.427610</td>\n",
       "      <td>6.134452</td>\n",
       "      <td>27.609877</td>\n",
       "      <td>11.710449</td>\n",
       "      <td>387830807.0</td>\n",
       "      <td>790063216.0</td>\n",
       "      <td>4.0</td>\n",
       "      <td>29193431.0</td>\n",
       "      <td>0.511124</td>\n",
       "    </tr>\n",
       "    <tr>\n",
       "      <th>3</th>\n",
       "      <td>2071715</td>\n",
       "      <td>20.1.8.4</td>\n",
       "      <td>Intel(R)_Xeon(R)_CPU_E5-2650_v2_@_2.60GHz</td>\n",
       "      <td>7045</td>\n",
       "      <td>14.443061</td>\n",
       "      <td>5.211189</td>\n",
       "      <td>22.606211</td>\n",
       "      <td>7.495116</td>\n",
       "      <td>276664983.0</td>\n",
       "      <td>429283104.0</td>\n",
       "      <td>4.0</td>\n",
       "      <td>19279189.0</td>\n",
       "      <td>0.647625</td>\n",
       "    </tr>\n",
       "    <tr>\n",
       "      <th>4</th>\n",
       "      <td>2071398</td>\n",
       "      <td>20.1.8.4</td>\n",
       "      <td>Intel(R)_Xeon(R)_CPU_E5-2650_v2_@_2.60GHz</td>\n",
       "      <td>4010</td>\n",
       "      <td>14.851738</td>\n",
       "      <td>3.780366</td>\n",
       "      <td>22.677464</td>\n",
       "      <td>5.995743</td>\n",
       "      <td>165096878.0</td>\n",
       "      <td>250461548.0</td>\n",
       "      <td>4.0</td>\n",
       "      <td>11146366.0</td>\n",
       "      <td>0.665253</td>\n",
       "    </tr>\n",
       "    <tr>\n",
       "      <th>5</th>\n",
       "      <td>2071619</td>\n",
       "      <td>20.1.8.4</td>\n",
       "      <td>Intel(R)_Xeon(R)_CPU_E5-2650_v2_@_2.60GHz</td>\n",
       "      <td>3389</td>\n",
       "      <td>15.009435</td>\n",
       "      <td>5.153513</td>\n",
       "      <td>23.473444</td>\n",
       "      <td>7.924789</td>\n",
       "      <td>136094293.0</td>\n",
       "      <td>209614992.0</td>\n",
       "      <td>4.0</td>\n",
       "      <td>9111153.0</td>\n",
       "      <td>0.651081</td>\n",
       "    </tr>\n",
       "    <tr>\n",
       "      <th>6</th>\n",
       "      <td>2072376</td>\n",
       "      <td>20.1.8.4</td>\n",
       "      <td>Intel(R)_Xeon(R)_CPU_E5-2650_v2_@_2.60GHz</td>\n",
       "      <td>3161</td>\n",
       "      <td>10.386870</td>\n",
       "      <td>3.015665</td>\n",
       "      <td>14.014410</td>\n",
       "      <td>4.012241</td>\n",
       "      <td>75376562.0</td>\n",
       "      <td>101152916.0</td>\n",
       "      <td>4.0</td>\n",
       "      <td>7346762.0</td>\n",
       "      <td>0.744439</td>\n",
       "    </tr>\n",
       "    <tr>\n",
       "      <th>7</th>\n",
       "      <td>2070257</td>\n",
       "      <td>20.1.8.4</td>\n",
       "      <td>Intel(R)_Xeon(R)_CPU_E5-2650_v2_@_2.60GHz</td>\n",
       "      <td>2486</td>\n",
       "      <td>16.430249</td>\n",
       "      <td>6.195099</td>\n",
       "      <td>32.760821</td>\n",
       "      <td>11.448835</td>\n",
       "      <td>113977507.0</td>\n",
       "      <td>225510788.0</td>\n",
       "      <td>4.0</td>\n",
       "      <td>6962373.0</td>\n",
       "      <td>0.521116</td>\n",
       "    </tr>\n",
       "    <tr>\n",
       "      <th>8</th>\n",
       "      <td>2071517</td>\n",
       "      <td>20.1.8.4</td>\n",
       "      <td>Intel(R)_Xeon(R)_CPU_E5-2650_v2_@_2.60GHz</td>\n",
       "      <td>2362</td>\n",
       "      <td>15.301537</td>\n",
       "      <td>4.660332</td>\n",
       "      <td>22.326751</td>\n",
       "      <td>6.072870</td>\n",
       "      <td>102706167.0</td>\n",
       "      <td>149516384.0</td>\n",
       "      <td>4.0</td>\n",
       "      <td>6713974.0</td>\n",
       "      <td>0.689181</td>\n",
       "    </tr>\n",
       "    <tr>\n",
       "      <th>9</th>\n",
       "      <td>2070004</td>\n",
       "      <td>20.1.8.4</td>\n",
       "      <td>Intel(R)_Xeon(R)_CPU_E5-2650_v2_@_2.60GHz</td>\n",
       "      <td>1922</td>\n",
       "      <td>11.653887</td>\n",
       "      <td>5.044289</td>\n",
       "      <td>24.855656</td>\n",
       "      <td>9.950275</td>\n",
       "      <td>72050300.0</td>\n",
       "      <td>153372784.0</td>\n",
       "      <td>4.0</td>\n",
       "      <td>6198689.0</td>\n",
       "      <td>0.494695</td>\n",
       "    </tr>\n",
       "  </tbody>\n",
       "</table>\n",
       "</div>"
      ],
      "text/plain": [
       "   jeditaskid    atlrel                                    cputype  njobs  \\\n",
       "0     2071283  20.1.8.4  Intel(R)_Xeon(R)_CPU_E5-2650_v2_@_2.60GHz  16147   \n",
       "1     2070871  20.1.8.4  Intel(R)_Xeon(R)_CPU_E5-2650_v2_@_2.60GHz  12978   \n",
       "2     2070024  20.1.8.4  Intel(R)_Xeon(R)_CPU_E5-2650_v2_@_2.60GHz   9576   \n",
       "3     2071715  20.1.8.4  Intel(R)_Xeon(R)_CPU_E5-2650_v2_@_2.60GHz   7045   \n",
       "4     2071398  20.1.8.4  Intel(R)_Xeon(R)_CPU_E5-2650_v2_@_2.60GHz   4010   \n",
       "5     2071619  20.1.8.4  Intel(R)_Xeon(R)_CPU_E5-2650_v2_@_2.60GHz   3389   \n",
       "6     2072376  20.1.8.4  Intel(R)_Xeon(R)_CPU_E5-2650_v2_@_2.60GHz   3161   \n",
       "7     2070257  20.1.8.4  Intel(R)_Xeon(R)_CPU_E5-2650_v2_@_2.60GHz   2486   \n",
       "8     2071517  20.1.8.4  Intel(R)_Xeon(R)_CPU_E5-2650_v2_@_2.60GHz   2362   \n",
       "9     2070004  20.1.8.4  Intel(R)_Xeon(R)_CPU_E5-2650_v2_@_2.60GHz   1922   \n",
       "\n",
       "   cpuevt_avg  cpuevt_rms  wallevt_avg  wallevt_rms          cpu           wc  \\\n",
       "0   13.533341    4.407298    21.208856     6.820202  633287582.0  981107212.0   \n",
       "1   13.971843    6.223225    25.605516    11.106906  543199152.0  989355776.0   \n",
       "2   13.427610    6.134452    27.609877    11.710449  387830807.0  790063216.0   \n",
       "3   14.443061    5.211189    22.606211     7.495116  276664983.0  429283104.0   \n",
       "4   14.851738    3.780366    22.677464     5.995743  165096878.0  250461548.0   \n",
       "5   15.009435    5.153513    23.473444     7.924789  136094293.0  209614992.0   \n",
       "6   10.386870    3.015665    14.014410     4.012241   75376562.0  101152916.0   \n",
       "7   16.430249    6.195099    32.760821    11.448835  113977507.0  225510788.0   \n",
       "8   15.301537    4.660332    22.326751     6.072870  102706167.0  149516384.0   \n",
       "9   11.653887    5.044289    24.855656     9.950275   72050300.0  153372784.0   \n",
       "\n",
       "   cores       jevts       eff  \n",
       "0    4.0  47207776.0  0.649168  \n",
       "1    4.0  39090357.0  0.572031  \n",
       "2    4.0  29193431.0  0.511124  \n",
       "3    4.0  19279189.0  0.647625  \n",
       "4    4.0  11146366.0  0.665253  \n",
       "5    4.0   9111153.0  0.651081  \n",
       "6    4.0   7346762.0  0.744439  \n",
       "7    4.0   6962373.0  0.521116  \n",
       "8    4.0   6713974.0  0.689181  \n",
       "9    4.0   6198689.0  0.494695  "
      ]
     },
     "execution_count": 69,
     "metadata": {},
     "output_type": "execute_result"
    }
   ],
   "source": [
    "df[:10]"
   ]
  },
  {
   "cell_type": "code",
   "execution_count": 70,
   "metadata": {
    "collapsed": false
   },
   "outputs": [
    {
     "data": {
      "text/plain": [
       "array(['Intel(R)_Xeon(R)_CPU_E5-2650_v2_@_2.60GHz',\n",
       "       'Intel(R)_Xeon(R)_CPU_E5-2630_v3_@_2.40GHz',\n",
       "       'Intel(R)_Xeon(R)_CPU_E5-2630L_0_@_2.00GHz',\n",
       "       'Intel(R)_Xeon(R)_CPU_E5-2650_0_@_2.00GHz',\n",
       "       'AMD_Opteron(TM)_Processor_6276',\n",
       "       'Intel(R)_Xeon(R)_CPU___________L5520__@_2.27GHz'], dtype=object)"
      ]
     },
     "execution_count": 70,
     "metadata": {},
     "output_type": "execute_result"
    }
   ],
   "source": [
    "df['cputype'].unique()"
   ]
  },
  {
   "cell_type": "code",
   "execution_count": 71,
   "metadata": {
    "collapsed": false
   },
   "outputs": [
    {
     "name": "stdout",
     "output_type": "stream",
     "text": [
      "21522122.027\n"
     ]
    },
    {
     "data": {
      "text/plain": [
       "<matplotlib.text.Text at 0x124df748>"
      ]
     },
     "execution_count": 71,
     "metadata": {},
     "output_type": "execute_result"
    },
    {
     "data": {
      "image/png": "[encoded data removed]",
      "text/plain": [
       "<matplotlib.figure.Figure at 0x121982b0>"
      ]
     },
     "metadata": {},
     "output_type": "display_data"
    }
   ],
   "source": [
    "grouped = df.groupby(['jeditaskid'], as_index=False)\n",
    "a = grouped['jevts'].sum()\n",
    "print stats.trim_mean(a['jevts'], 0.05)\n",
    "fig = a['jevts'].hist(bins=50, range=[0., 1e8], log=False)\n",
    "plt.xlabel('events in task')\n",
    "plt.ylabel('tasks')"
   ]
  },
  {
   "cell_type": "code",
   "execution_count": 72,
   "metadata": {
    "collapsed": false
   },
   "outputs": [
    {
     "data": {
      "text/plain": [
       "<matplotlib.text.Text at 0x11a9b860>"
      ]
     },
     "execution_count": 72,
     "metadata": {},
     "output_type": "execute_result"
    },
    {
     "data": {
      "image/png": "[encoded data removed]",
      "text/plain": [
       "<matplotlib.figure.Figure at 0x12224748>"
      ]
     },
     "metadata": {},
     "output_type": "display_data"
    }
   ],
   "source": [
    "grouped = df.groupby(['jeditaskid'], as_index=False)\n",
    "a = grouped['eff'].mean()\n",
    "fig = a['eff'].hist(bins=50, log=False, range=(0., 1.))   # NOT VERY CORRECT (arithmetic mean of efficiencies...)\n",
    "plt.xlabel('efficiency')\n",
    "plt.ylabel('tasks')"
   ]
  },
  {
   "cell_type": "code",
   "execution_count": 73,
   "metadata": {
    "collapsed": false
   },
   "outputs": [
    {
     "data": {
      "text/plain": [
       "<matplotlib.text.Text at 0x10a8de48>"
      ]
     },
     "execution_count": 73,
     "metadata": {},
     "output_type": "execute_result"
    },
    {
     "data": {
      "image/png": "[encoded data removed]",
      "text/plain": [
       "<matplotlib.figure.Figure at 0x122249b0>"
      ]
     },
     "metadata": {},
     "output_type": "display_data"
    }
   ],
   "source": [
    "a = grouped['cpuevt_avg'].mean()\n",
    "fig = a['cpuevt_avg'].hist(bins=50, log=False, range=(0., 100.))   # NOT VERY CORRECT (arithmetic mean of efficiencies...)\n",
    "plt.xlabel('CPU time per event')\n",
    "plt.ylabel('tasks')"
   ]
  },
  {
   "cell_type": "code",
   "execution_count": 74,
   "metadata": {
    "collapsed": false
   },
   "outputs": [
    {
     "data": {
      "text/plain": [
       "<matplotlib.text.Text at 0x10b98a90>"
      ]
     },
     "execution_count": 74,
     "metadata": {},
     "output_type": "execute_result"
    },
    {
     "data": {
      "image/png": "[encoded data removed]",
      "text/plain": [
       "<matplotlib.figure.Figure at 0x1217aba8>"
      ]
     },
     "metadata": {},
     "output_type": "display_data"
    }
   ],
   "source": [
    "a = grouped['wallevt_avg'].mean()\n",
    "fig = a['wallevt_avg'].hist(bins=50, log=False, range=(0., 100.))   # NOT VERY CORRECT (arithmetic mean of efficiencies...)\n",
    "plt.xlabel('Wallclock time per event')\n",
    "plt.ylabel('tasks')"
   ]
  },
  {
   "cell_type": "code",
   "execution_count": 75,
   "metadata": {
    "collapsed": false
   },
   "outputs": [
    {
     "data": {
      "image/png": "[encoded data removed]",
      "text/plain": [
       "<matplotlib.figure.Figure at 0x11e13ef0>"
      ]
     },
     "metadata": {},
     "output_type": "display_data"
    }
   ],
   "source": [
    "fig = plt.figure(figsize=(5,5))\n",
    "plt.rcParams.update({'font.size': 10})\n",
    "var = 'cpuevt_avg'\n",
    "log_scale = False\n",
    "wc_tot = df['wc'].sum()\n",
    "i = 1\n",
    "\n",
    "mean = np.average(df[var], weights=df['wc'])   # average time weighted with no. of events\n",
    "std = math.sqrt(np.average((df[var] - mean)**2, weights=df['wc']))\n",
    "range = [0., 100.]\n",
    "sp = plt.subplot(1, 1, i)\n",
    "plt.hist(df[var].tolist(), bins=100, range=range, weights=df['wc'].tolist(), log=log_scale)   # integral is total no. of events\n",
    "plt.xlabel('CPU time per event(s)')\n",
    "plt.ylabel('wall-clock time (s)')\n",
    "t_x = lambda x: sp.get_xlim()[0] + (sp.get_xlim()[1] - sp.get_xlim()[0]) * x\n",
    "t_y = lambda x: sp.get_ylim()[0] + (sp.get_ylim()[1] - sp.get_ylim()[0]) * x\n",
    "stat = r'$\\mu=%.3f,\\ \\sigma=%.3f$' % (mean, std)\n",
    "stat2 = r'$\\mathit{events}=%g$' % df['jevts'].sum()\n",
    "if log_scale:\n",
    "    plt.text(t_x(.4), sp.get_ylim()[0] * (sp.get_ylim()[1] / sp.get_ylim()[0])**.8, '\\n')\n",
    "    plt.text(t_x(.4), sp.get_ylim()[0] * (sp.get_ylim()[1] / sp.get_ylim()[0])**.7, stat)\n",
    "    plt.text(t_x(.4), sp.get_ylim()[0] * (sp.get_ylim()[1] / sp.get_ylim()[0])**.6, stat2)\n",
    "else:\n",
    "    plt.text(t_x(.4), t_y(.8), '\\n')\n",
    "    plt.text(t_x(.4), t_y(.7), stat)\n",
    "    plt.text(t_x(.4), t_y(.6), stat2)"
   ]
  },
  {
   "cell_type": "code",
   "execution_count": 76,
   "metadata": {
    "collapsed": false
   },
   "outputs": [
    {
     "data": {
      "image/png": "[encoded data removed]",
      "text/plain": [
       "<matplotlib.figure.Figure at 0x11edcc50>"
      ]
     },
     "metadata": {},
     "output_type": "display_data"
    }
   ],
   "source": [
    "fig = plt.figure(figsize=(5,5))\n",
    "plt.rcParams.update({'font.size': 10})\n",
    "var = 'wallevt_avg'\n",
    "log_scale = False\n",
    "wc_tot = df['wc'].sum()\n",
    "i = 1\n",
    "\n",
    "mean = np.average(df[var], weights=df['wc'])   # average time weighted with no. of events\n",
    "std = math.sqrt(np.average((df[var] - mean)**2, weights=df['wc']))\n",
    "range = [0., 100.]\n",
    "sp = plt.subplot(1, 1, i)\n",
    "plt.hist(df[var].tolist(), bins=100, range=range, weights=df['wc'].tolist(), log=log_scale)   # integral is total no. of events\n",
    "plt.xlabel('CPU time per event(s)')\n",
    "plt.ylabel('wall-clock time (s)')\n",
    "t_x = lambda x: sp.get_xlim()[0] + (sp.get_xlim()[1] - sp.get_xlim()[0]) * x\n",
    "t_y = lambda x: sp.get_ylim()[0] + (sp.get_ylim()[1] - sp.get_ylim()[0]) * x\n",
    "stat = r'$\\mu=%.3f,\\ \\sigma=%.3f$' % (mean, std)\n",
    "stat2 = r'$\\mathit{events}=%g$' % df['jevts'].sum()\n",
    "if log_scale:\n",
    "    plt.text(t_x(.4), sp.get_ylim()[0] * (sp.get_ylim()[1] / sp.get_ylim()[0])**.8, '\\n')\n",
    "    plt.text(t_x(.4), sp.get_ylim()[0] * (sp.get_ylim()[1] / sp.get_ylim()[0])**.7, stat)\n",
    "    plt.text(t_x(.4), sp.get_ylim()[0] * (sp.get_ylim()[1] / sp.get_ylim()[0])**.6, stat2)\n",
    "else:\n",
    "    plt.text(t_x(.4), t_y(.8), '\\n')\n",
    "    plt.text(t_x(.4), t_y(.7), stat)\n",
    "    plt.text(t_x(.4), t_y(.6), stat2)"
   ]
  },
  {
   "cell_type": "code",
   "execution_count": 77,
   "metadata": {
    "collapsed": false
   },
   "outputs": [
    {
     "data": {
      "image/png": "[encoded data removed]",
      "text/plain": [
       "<matplotlib.figure.Figure at 0x11e1e278>"
      ]
     },
     "metadata": {},
     "output_type": "display_data"
    }
   ],
   "source": [
    "fig = plt.figure(figsize=(5,5))\n",
    "plt.rcParams.update({'font.size': 10})\n",
    "var = 'eff'\n",
    "log_scale = False\n",
    "wc_tot = df['wc'].sum()\n",
    "i = 1\n",
    "\n",
    "mean = np.average(df[var], weights=df['wc'])   # average time weighted with no. of events\n",
    "std = math.sqrt(np.average((df[var] - mean)**2, weights=df['wc']))\n",
    "range = [0., 1.]\n",
    "sp = plt.subplot(1, 1, i)\n",
    "plt.hist(df[var].tolist(), bins=100, range=range, weights=df['wc'].tolist(), log=log_scale)   # integral is total no. of events\n",
    "plt.xlabel('CPU time per event(s)')\n",
    "plt.ylabel('wall-clock time (s)')\n",
    "t_x = lambda x: sp.get_xlim()[0] + (sp.get_xlim()[1] - sp.get_xlim()[0]) * x\n",
    "t_y = lambda x: sp.get_ylim()[0] + (sp.get_ylim()[1] - sp.get_ylim()[0]) * x\n",
    "stat = r'$\\mu=%.3f,\\ \\sigma=%.3f$' % (mean, std)\n",
    "stat2 = r'$\\mathit{events}=%g$' % df['jevts'].sum()\n",
    "if log_scale:\n",
    "    plt.text(t_x(.4), sp.get_ylim()[0] * (sp.get_ylim()[1] / sp.get_ylim()[0])**.8, '\\n')\n",
    "    plt.text(t_x(.4), sp.get_ylim()[0] * (sp.get_ylim()[1] / sp.get_ylim()[0])**.7, stat)\n",
    "    plt.text(t_x(.4), sp.get_ylim()[0] * (sp.get_ylim()[1] / sp.get_ylim()[0])**.6, stat2)\n",
    "else:\n",
    "    plt.text(t_x(.4), t_y(.8), '\\n')\n",
    "    plt.text(t_x(.4), t_y(.7), stat)\n",
    "    plt.text(t_x(.4), t_y(.6), stat2)"
   ]
  },
  {
   "cell_type": "code",
   "execution_count": null,
   "metadata": {
    "collapsed": true
   },
   "outputs": [],
   "source": []
  }
 ],
 "metadata": {
  "anaconda-cloud": {},
  "kernelspec": {
   "display_name": "Python [conda root]",
   "language": "python",
   "name": "conda-root-py"
  },
  "language_info": {
   "codemirror_mode": {
    "name": "ipython",
    "version": 2
   },
   "file_extension": ".py",
   "mimetype": "text/x-python",
   "name": "python",
   "nbconvert_exporter": "python",
   "pygments_lexer": "ipython2",
   "version": "2.7.11"
  }
 },
 "nbformat": 4,
 "nbformat_minor": 0
}
