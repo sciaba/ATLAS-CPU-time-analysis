{
 "cells": [
  {
   "cell_type": "code",
   "execution_count": 47,
   "metadata": {
    "collapsed": true
   },
   "outputs": [],
   "source": [
    "import csv\n",
    "\n",
    "import numpy as np\n",
    "import matplotlib.pyplot as plt\n",
    "from pandas import Series, DataFrame\n",
    "import pandas as pd\n",
    "\n",
    "%matplotlib inline"
   ]
  },
  {
   "cell_type": "code",
   "execution_count": 48,
   "metadata": {
    "collapsed": false
   },
   "outputs": [],
   "source": [
    "fact_hc = dict()\n",
    "with open('x_results_cputype_cpu_hc.csv', 'rb') as csvfile:\n",
    "    r = csv.reader(csvfile, delimiter=',')\n",
    "    for row in r:\n",
    "        fact_hc[row[0]] = row[1]"
   ]
  },
  {
   "cell_type": "code",
   "execution_count": 49,
   "metadata": {
    "collapsed": false
   },
   "outputs": [],
   "source": [
    "fact_prod = dict()\n",
    "with open('x_results_cputype_task2_cpu_sub_0_evgen_0.001.csv', 'rb') as csvfile:\n",
    "    r = csv.reader(csvfile, delimiter=',')\n",
    "    for row in r:\n",
    "        fact_prod[row[0]] = row[1]"
   ]
  },
  {
   "cell_type": "code",
   "execution_count": 50,
   "metadata": {
    "collapsed": false
   },
   "outputs": [],
   "source": [
    "fact_prod2 = dict()\n",
    "with open('x_results_cputype_cpu_90d_hc.csv', 'rb') as csvfile:\n",
    "    r = csv.reader(csvfile, delimiter=',')\n",
    "    for row in r:\n",
    "        fact_prod2[row[0]] = row[1]"
   ]
  },
  {
   "cell_type": "code",
   "execution_count": 51,
   "metadata": {
    "collapsed": false
   },
   "outputs": [
    {
     "name": "stdout",
     "output_type": "stream",
     "text": [
      "s+Intel(R) Xeon(R) CPU E5-2650 v3 @ 2.30GHz 25600 KB 1.3129805614986763 1.0725999582118477\n",
      "s+Intel(R) Xeon(R) CPU           X5660  @ 2.80GHz 12288 KB 1.1270840262123905 0.89510261173094829\n",
      "s+Intel(R) Xeon(R) CPU E5-2630 0 @ 2.30GHz 15360 KB 0.6947945783069015 0.83983258485506174\n",
      "s+Intel(R) Xeon(R) CPU E5-2670 v3 @ 2.30GHz 30720 KB 1.2092754302151572 1.0298380235250095\n",
      "s+Dual-Core AMD Opteron(tm) Processor 2220 1024 KB 0.97924866263369337 0.81901166423003346\n",
      "s+Intel(R) Xeon(R) CPU E5-2650 v2 @ 2.60GHz 20480 KB 1.1076921470785954 1.0487988761170519\n",
      "s+Intel(R) Xeon(R) CPU           L5420  @ 2.50GHz 6144 KB 1.0733231876286333 0.99969858020536828\n",
      "s+Intel(R) Xeon(R) CPU E5-2665 0 @ 2.40GHz 20480 KB 1.1378681716551613 1.0166958904770957\n",
      "s+Intel(R) Xeon(R) CPU E5-2620 v2 @ 2.10GHz 15360 KB 1.1077579162268627 0.98081109293830648\n",
      "s+Intel(R) Xeon(R) CPU E5-2620 0 @ 2.00GHz 15360 KB 0.77791633798266935 0.87001579427173115\n",
      "s+Intel(R) Xeon(R) CPU           X5570  @ 2.93GHz 8192 KB 1.1135326276022104 1.3128121817872891\n",
      "s+Intel(R) Xeon(R) CPU           X5550  @ 2.67GHz 8192 KB 1.2345208876019025 1.1457871141034186\n",
      "s+Intel(R) Xeon(TM) CPU 3.20GHz 2048 KB 0.56460964990396201 0.58634975893550001\n",
      "s+Intel(R) Xeon(R) CPU E5-2630 v3 @ 2.40GHz 20480 KB 1.3412489103784853 1.0699643311684945\n",
      "s+AMD Opteron(TM) Processor 6276                  2048 KB 0.71851547669593074 0.60483796057532824\n",
      "s+Intel(R) Xeon(R) CPU           E5472  @ 3.00GHz 6144 KB 1.2283503941403258 1.1553606123983908\n",
      "s+Intel Xeon E312xx (Sandy Bridge) 4096 KB 1.2776220610597548 1.0674614295462463\n",
      "s+Intel(R) Xeon(R) CPU           E5410  @ 2.33GHz 6144 KB 0.97044828068740552 0.93777354567501947\n",
      "s+AMD Opteron(tm) Processor 6320                  2048 KB 1.001291903104484 0.89586001072853183\n",
      "s+Intel(R) Xeon(R) CPU E5-2630L 0 @ 2.00GHz 15360 KB 0.91486644082435065 0.89248186693565812\n",
      "s+Intel(R) Xeon(R) CPU           L5640  @ 2.27GHz 12288 KB 0.82044942274055022 0.74862974049135889\n",
      "s+Intel(R) Xeon(R) CPU           E5540  @ 2.53GHz 8192 KB 1.1412922267823968 0.95766004541800631\n",
      "s+Intel(R) Xeon(R) CPU           E5420  @ 2.50GHz 6144 KB 0.98712103348445768 0.98714930593894978\n",
      "s+Intel(R) Xeon(R) CPU           E5645  @ 2.40GHz 12288 KB 0.9054487164926085 0.83581978189736561\n",
      "s+Intel(R) Xeon(R) CPU E5-2670 0 @ 2.60GHz 20480 KB 1.0769818497287542 0.98339674721332726\n",
      "s+AMD Opteron(TM) Processor 6234                  2048 KB 0.8476841807418708 0.64852298707507539\n",
      "s+Intel(R) Xeon(R) CPU            5150  @ 2.66GHz 4096 KB 0.98471008958025807 0.9603148633587707\n",
      "s+Intel(R) Xeon(R) CPU           E5630  @ 2.53GHz 12288 KB 0.82103931486617676 0.85423730739777781\n",
      "s+Intel(R) Xeon(R) CPU           E5520  @ 2.27GHz 8192 KB 0.93657990563831583 0.83329202736808428\n",
      "s+QEMU Virtual CPU version (cpu64-rhel6) 4096 KB 0.87194847707190459 1.0427282984499782\n",
      "s+Intel(R) Xeon(R) CPU E5-2650 0 @ 2.00GHz 20480 KB 0.99756594746275751 0.88848776270617158\n",
      "s+Dual-Core AMD Opteron(tm) Processor 2216 1024 KB 0.8402853837459433 0.69920694046620424\n",
      "s+Intel(R) Xeon(R) CPU E5-2640 v3 @ 2.60GHz 20480 KB 1.4589296689073126 1.1867928590680328\n",
      "s+Intel(R) Xeon(R) CPU E5-2630L v2 @ 2.40GHz 15360 KB 1.0308084220436498 0.93642686094996863\n",
      "s+Intel(R) Xeon(R) CPU           E5430  @ 2.66GHz 6144 KB 1.0805895272309445 1.0221084205026434\n",
      "s+Intel Core i7 9xx (Nehalem Class Core i7) 4096 KB 0.84498249836565631 0.69234014784902342\n",
      "s+Intel(R) Xeon(R) CPU           X5355  @ 2.66GHz 4096 KB 1.0257841872344202 0.91635539484712236\n",
      "s+Intel(R) Xeon(R) CPU           X5650  @ 2.67GHz 12288 KB 1.1681928499042027 0.93288782716565899\n",
      "s+Intel(R) Xeon(R) CPU           E5620  @ 2.40GHz 12288 KB 0.81486899627779519 0.81413819559189604\n",
      "s+Intel(R) Xeon(R) CPU E5-2660 0 @ 2.20GHz 20480 KB 1.1253699475413115 0.93590198658853729\n",
      "s+Intel(R) Xeon(R) CPU E5-2660 v2 @ 2.20GHz 25600 KB 1.2076182740270074 0.86632488635976734\n",
      "s+Intel(R) Xeon(R) CPU           L5520  @ 2.27GHz 8192 KB 1.0044495116331316 0.93712072259354628\n",
      "s+Intel(R) Xeon(R) CPU E5-2680 v3 @ 2.50GHz 30720 KB 1.8130227668098531 1.3397150371416624\n",
      "s+Intel(R) Xeon(R) CPU           E5345  @ 2.33GHz 4096 KB 0.81271041483985174 0.82775593755901977\n",
      "s+Intel(R) Xeon(R) CPU E5-2640 0 @ 2.50GHz 15360 KB 1.2981009345324201 1.1542629395261181\n",
      "s+Intel(R) Xeon(R) CPU           E5450  @ 3.00GHz 6144 KB 1.2055607288808647 1.1678645082474171\n",
      "s+Intel(R) Xeon(R) CPU           L5430  @ 2.66GHz 6144 KB 1.0881213944256607 1.0731713354181616\n",
      "s+Intel(R) Xeon(R) CPU E5-2650 v2 @ 2.60GHz 4096 KB 1.2388648039181349 0.95950850929083831\n",
      "s+AMD Opteron(TM) Processor 6212                  2048 KB 0.8536229282857386 0.76667588710008716\n",
      "s+AMD Opteron(TM) Processor 6274                  2048 KB 0.68096604133395455 0.64508015235138283\n",
      "s+Intel(R) Xeon(R) CPU E5-2660 v3 @ 2.60GHz 25600 KB 1.1701474445229378 1.2746547474057308\n",
      "s+Intel(R) Xeon(R) CPU E5-4620 0 @ 2.20GHz 16384 KB 1.1031567819860544 1.0886570711737513\n",
      "s+AMD Opteron(tm) Processor 6168 512 KB 0.77920962474851618 0.67554308424704979\n",
      "s+Intel(R) Xeon(R) CPU E5-2680 v2 @ 2.80GHz 25600 KB 1.0420582966588301 1.0938321130644912\n",
      "s+AMD Opteron(tm) Processor 6376                  2048 KB 0.81055757455606681 0.72369121436166883\n",
      "s+Intel(R) Xeon(R) CPU           E5440  @ 2.83GHz 6144 KB 1.1596078983249547 1.0844353266113229\n",
      "s+AMD Opteron(tm) Processor 6134 512 KB 0.95281397897824749 0.86439034553256155\n",
      "s+AMD Opteron(TM) Processor 6238                  2048 KB 0.80609961768555638 0.7404988634367009\n",
      "s+Intel(R) Xeon(R) CPU E5-2695 v2 @ 2.40GHz 30720 KB 0.8415878839076486 0.94183468679742077\n",
      "s+Intel(R) Xeon(R) CPU           X5675  @ 3.07GHz 12288 KB 1.2140041681950804 1.2523303038357798\n",
      "s+Intel(R) Xeon(R) CPU E5-2697 v3 @ 2.60GHz 35840 KB 1.5623362721296616 1.0803982396507448\n",
      "s+Intel(R) Xeon(R) CPU           X5560  @ 2.80GHz 8192 KB 1.1707046803360073 1.1856418414161598\n"
     ]
    },
    {
     "data": {
      "text/plain": [
       "<Container object of 3 artists>"
      ]
     },
     "execution_count": 51,
     "metadata": {},
     "output_type": "execute_result"
    },
    {
     "data": {
      "image/png": "[encoded data removed]",
      "text/plain": [
       "<matplotlib.figure.Figure at 0xd4c6940>"
      ]
     },
     "metadata": {},
     "output_type": "display_data"
    }
   ],
   "source": [
    "x = list()\n",
    "y = list()\n",
    "s1 = set(fact_hc.keys())\n",
    "s2 = set(fact_prod.keys())\n",
    "s = s2.intersection(s1)\n",
    "for cpu in s:\n",
    "    k1 = fact_hc[cpu]\n",
    "    k2 = fact_prod[cpu]\n",
    "    print cpu, k1, k2\n",
    "    x.append(k1)\n",
    "    y.append(k2)\n",
    "\n",
    "plt.xlim([0., 2.])\n",
    "plt.ylim([0., 2.])\n",
    "plt.errorbar(x, y, fmt='o')"
   ]
  },
  {
   "cell_type": "code",
   "execution_count": 37,
   "metadata": {
    "collapsed": false
   },
   "outputs": [
    {
     "name": "stdout",
     "output_type": "stream",
     "text": [
      "s+AMD Opteron(TM) Processor 6220                  2048 KB 0.8647120367537271 0.70780576668536288\n",
      "s+Intel(R) Xeon(R) CPU E5-2670 v2 @ 2.50GHz 25600 KB 1.0020259858248282 0.86315079065302547\n",
      "s+Intel(R) Xeon(R) CPU E5-2650 v3 @ 2.30GHz 25600 KB 1.088683402491778 0.89922369305633654\n",
      "s+Intel(R) Xeon(R) CPU           X5660  @ 2.80GHz 12288 KB 0.90768761737593051 0.78920085542917062\n",
      "s+Intel(R) Xeon(R) CPU E5-2665 0 @ 2.40GHz 20480 KB 1.0337203106187922 0.89278090370404972\n",
      "s+Intel(R) Xeon(R) CPU E5-2670 v3 @ 2.30GHz 30720 KB 1.0153917811110766 0.90250849000442368\n",
      "s+Dual-Core AMD Opteron(tm) Processor 2220 1024 KB 0.83427434123190392 0.73027929846975892\n",
      "s+Intel(R) Xeon(R) CPU E5-2650 v2 @ 2.60GHz 20480 KB 1.0662173848407075 0.93596898429965758\n",
      "s+Intel(R) Xeon(R) CPU E5-2630 v2 @ 2.60GHz 15360 KB 1.0380873432737072 0.935774924028279\n",
      "s+Intel(R) Xeon(R) CPU           L5420  @ 2.50GHz 6144 KB 1.0103106556902635 0.88133989977661276\n",
      "s+Intel(R) Xeon(R) CPU E5-2630 0 @ 2.30GHz 15360 KB 0.82823413779219346 0.72767983527035496\n",
      "s+AMD Opteron(TM) Processor 6276 2048 KB 0.65474079184484546 0.58292102583229866\n",
      "s+AMD Opteron(TM) Processor 6274 2048 KB 0.67883774691958298 0.58235669185919003\n",
      "s+AMD Opteron(tm) Processor 6378                  2048 KB 0.75463001122803219 0.66395454911045682\n",
      "s+Intel(R) Xeon(R) CPU E5-2620 v2 @ 2.10GHz 15360 KB 0.98759603061708323 0.85064514265944735\n",
      "s+Intel(R) Xeon(R) CPU           X5550  @ 2.67GHz 8192 KB 1.1328207552053238 0.99348692679166217\n",
      "s+Intel(R) Xeon(TM) CPU 3.20GHz 2048 KB 0.59042829137968889 0.51166508245779085\n",
      "s+Intel(R) Xeon(R) CPU E5-2630 v3 @ 2.40GHz 20480 KB 1.0648640181987339 0.93818836765909508\n",
      "s+AMD Opteron(TM) Processor 6276                  2048 KB 0.64093659163013361 0.55136090411972338\n",
      "s+Intel(R) Xeon(R) CPU E5-2620 0 @ 2.00GHz 15360 KB 0.86564675044197381 0.75966290385637325\n",
      "s+Intel(R) Xeon(R) CPU           E5472  @ 3.00GHz 6144 KB 1.1532444145532064 1.0110345919401156\n",
      "s+Intel(R) Xeon(R) CPU           X5570  @ 2.93GHz 8192 KB 1.2850220930178724 1.1324203321135617\n",
      "s+Intel Xeon E312xx (Sandy Bridge) 4096 KB 1.0868514866989756 0.97186478442568636\n",
      "s+AMD Opteron(tm) Processor 6378 2048 KB 0.80168394589793834 0.68518506188870354\n",
      "s+Intel(R) Xeon(R) CPU           E5410  @ 2.33GHz 6144 KB 0.94346332476840133 0.82840577113308034\n",
      "s+AMD Opteron(tm) Processor 6320                  2048 KB 0.90633305195277025 0.79108039844683609\n",
      "s+Intel(R) Xeon(R) CPU E5-2630L 0 @ 2.00GHz 15360 KB 0.91302154607781627 0.78965156384631396\n",
      "s+Quad-Core AMD Opteron(tm) Processor 2350 512 KB 0.72126273271869223 0.61964022633197768\n",
      "s+Intel(R) Xeon(R) CPU E5-2680 0 @ 2.70GHz 20480 KB 1.1051488102374107 0.96509744730449343\n",
      "s+Intel(R) Core(TM)2 Quad CPU    Q8300  @ 2.50GHz 2048 KB 0.89812813087398158 0.79354644675019459\n",
      "s+Intel(R) Xeon(R) CPU           E5540  @ 2.53GHz 8192 KB 0.96284780556535654 0.83387209511871041\n",
      "s+Intel(R) Xeon(R) CPU           E5420  @ 2.50GHz 6144 KB 0.98115058090151375 0.85790949601259714\n",
      "s+Intel(R) Xeon(R) CPU E5-4620 0 @ 2.20GHz 16384 KB 1.091923716290651 0.93270520785184829\n",
      "s+Intel(R) Xeon(R) CPU E5-2670 0 @ 2.60GHz 20480 KB 1.0049633661979527 0.86932324608203093\n",
      "s+Intel(R) Xeon(R) CPU            5150  @ 2.66GHz 4096 KB 0.96219017407016194 0.83934715902940238\n",
      "s+Intel(R) Xeon(R) CPU           E5630  @ 2.53GHz 12288 KB 0.85936942369602387 0.74011401181398451\n",
      "s+Intel(R) Xeon(R) CPU           E5520  @ 2.27GHz 8192 KB 0.8396931849415229 0.73309288987793775\n",
      "s+Intel(R) Xeon(R) CPU E5-2650 0 @ 2.00GHz 20480 KB 0.873604362292283 0.77285276263342173\n",
      "s+Intel(R) Xeon(R) CPU E5-2640 v3 @ 2.60GHz 20480 KB 1.1941871486153861 1.0492398185623575\n",
      "s+Intel(R) Xeon(R) CPU E5-2630L v2 @ 2.40GHz 15360 KB 0.92164383117234028 0.81557205917063957\n",
      "s+Intel(R) Xeon(R) CPU           E5430  @ 2.66GHz 6144 KB 1.0216447206203869 0.89888532883272187\n",
      "s+Quad-Core AMD Opteron(tm) Processor 2356 512 KB 0.80233956757127411 0.68081902301841168\n",
      "s+Intel(R) Xeon(R) CPU           L5640  @ 2.27GHz 12288 KB 0.75188571244350555 0.65676376894723754\n",
      "s+Dual-Core AMD Opteron(tm) Processor 2218 1024 KB 0.79317756083871005 0.71425897507806113\n",
      "s+Intel(R) Xeon(R) CPU           X5355  @ 2.66GHz 4096 KB 0.93094096077521116 0.81974485464218172\n",
      "s+AMD Opteron(TM) Processor 6272 2048 KB 0.6651983849333476 0.51906078938626332\n",
      "s+Intel(R) Xeon(R) CPU           X5650  @ 2.67GHz 12288 KB 0.93239584648887031 0.81446458077217054\n",
      "s+Intel(R) Xeon(R) CPU           E5649  @ 2.53GHz 12288 KB 1.1021488695700503 0.9660993635221462\n",
      "s+Intel(R) Xeon(R) CPU           L5640  @ 2.27GHz 4096 KB 0.58818429011518047 0.48338840248494402\n",
      "s+Intel(R) Xeon(R) CPU           E5620  @ 2.40GHz 12288 KB 0.82448191503990187 0.71628410031090251\n",
      "s+Intel(R) Xeon(R) CPU E5-2660 0 @ 2.20GHz 20480 KB 0.9434438784661443 0.83528808600749216\n",
      "s+AMD Opteron(TM) Processor 6276                  512 KB 0.58479829326345856 0.49229587185080964\n",
      "s+Intel(R) Xeon(R) CPU           L5520  @ 2.27GHz 8192 KB 0.95788862106446548 0.81877528099954955\n",
      "s+Six-Core AMD Opteron(tm) Processor 2435 512 KB 0.96665966934741798 0.80432687738268571\n",
      "s+Intel(R) Xeon(R) CPU           E5345  @ 2.33GHz 4096 KB 0.82404035805813591 0.72678422789368324\n",
      "s+Intel(R) Xeon(R) CPU           E5645  @ 2.40GHz 12288 KB 0.84468092664620664 0.72998557952648924\n",
      "s+Intel(R) Xeon(R) CPU           E5450  @ 3.00GHz 6144 KB 1.1611962601426826 1.0122446715937674\n",
      "s+Intel(R) Xeon(R) CPU           L5520  @ 2.27GHz 4096 KB 0.65375576356947873 0.56790995349477036\n",
      "s+Intel(R) Xeon(R) CPU E5-2650 v2 @ 2.60GHz 4096 KB 0.99867347056585154 0.85781169761234488\n",
      "s+AMD Opteron(TM) Processor 6212                  2048 KB 0.78436715558998404 0.68478138311945214\n",
      "s+Intel(R) Xeon(R) CPU E5-2660 v2 @ 2.20GHz 25600 KB 0.92082029845994617 0.82257157132365277\n",
      "s+AMD Opteron(TM) Processor 6274                  2048 KB 0.6541042932900637 0.5606967019173611\n",
      "s+Intel(R) Xeon(R) CPU E5-2660 v3 @ 2.60GHz 25600 KB 1.3017866541196979 1.104102290983362\n",
      "s+AMD Opteron(TM) Processor 6234                  2048 KB 0.65144515604469166 0.56633817436311262\n",
      "s+AMD Opteron(tm) Processor 6168 512 KB 0.69308503995502524 0.59912158229637813\n",
      "s+Six-Core AMD Opteron(tm) Processor 2431 512 KB 0.90153915230490012 0.78393340464251049\n",
      "s+Intel(R) Xeon(R) CPU E5-2680 v2 @ 2.80GHz 25600 KB 1.0904264924077778 0.95921621273204805\n",
      "s+AMD Opteron(tm) Processor 6376                  2048 KB 0.74134420104122167 0.6421324509358145\n",
      "s+Intel(R) Xeon(R) CPU           E5440  @ 2.83GHz 6144 KB 1.0908649041517413 0.94907629795054804\n",
      "s+AMD Opteron(tm) Processor 6134 512 KB 0.86930640112661128 0.76401023084014541\n",
      "s+Intel(R) Xeon(R) CPU E5-2450 v2 @ 2.50GHz 20480 KB 1.1371731789882427 0.98542139211583124\n",
      "s+AMD Opteron(TM) Processor 6238                  2048 KB 0.75326155009946649 0.6560104430348328\n",
      "s+Intel(R) Xeon(R) CPU           X5675  @ 3.07GHz 12288 KB 1.2506671675521976 1.0433940676241695\n",
      "s+Intel(R) Xeon(R) CPU E5-2697 v3 @ 2.60GHz 35840 KB 1.1970210366308114 0.98677940619097237\n",
      "s+Intel(R) Xeon(R) CPU           X5560  @ 2.80GHz 8192 KB 1.1814597105110511 1.0593870304398223\n",
      "s+Intel(R) Xeon(R) CPU E5-2640 0 @ 2.50GHz 15360 KB 1.1498134676143377 0.96003350524740905\n",
      "s+Intel(R) Xeon(R) CPU E5-2680 v3 @ 2.50GHz 30720 KB 1.3090995467179074 1.1739420817996571\n"
     ]
    },
    {
     "data": {
      "text/plain": [
       "<Container object of 3 artists>"
      ]
     },
     "execution_count": 37,
     "metadata": {},
     "output_type": "execute_result"
    },
    {
     "data": {
      "image/png": "[encoded data removed]",
      "text/plain": [
       "<matplotlib.figure.Figure at 0xd205cc0>"
      ]
     },
     "metadata": {},
     "output_type": "display_data"
    }
   ],
   "source": [
    "x = list()\n",
    "y = list()\n",
    "s1 = set(fact_prod.keys())\n",
    "s2 = set(fact_prod2.keys())\n",
    "s = s2.intersection(s1)\n",
    "for cpu in s:\n",
    "    k1 = fact_prod[cpu]\n",
    "    k2 = fact_prod2[cpu]\n",
    "    print cpu, k1, k2\n",
    "    x.append(k1)\n",
    "    y.append(k2)\n",
    "\n",
    "plt.xlim([0., 2.])\n",
    "plt.ylim([0., 2.])\n",
    "plt.errorbar(x, y, fmt='o')"
   ]
  },
  {
   "cell_type": "code",
   "execution_count": null,
   "metadata": {
    "collapsed": true
   },
   "outputs": [],
   "source": []
  },
  {
   "cell_type": "code",
   "execution_count": null,
   "metadata": {
    "collapsed": true
   },
   "outputs": [],
   "source": []
  }
 ],
 "metadata": {
  "kernelspec": {
   "display_name": "Python 2",
   "language": "python",
   "name": "python2"
  },
  "language_info": {
   "codemirror_mode": {
    "name": "ipython",
    "version": 2
   },
   "file_extension": ".py",
   "mimetype": "text/x-python",
   "name": "python",
   "nbconvert_exporter": "python",
   "pygments_lexer": "ipython2",
   "version": "2.7.11"
  }
 },
 "nbformat": 4,
 "nbformat_minor": 0
}
