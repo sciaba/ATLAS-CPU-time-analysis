{
 "cells": [
  {
   "cell_type": "markdown",
   "metadata": {},
   "source": [
    "# Combine results from different fits"
   ]
  },
  {
   "cell_type": "markdown",
   "metadata": {},
   "source": [
    "Having fitted a set of speed factors from different but uniform samples, and knowing that the absolute scale is not determined, before comparing values from different samples it is necessary to rescale them to the same scale. My idea is to minimise the modulus of the difference between the first vector and the N-th vector multiplied by a factor, and rescale it accordingly."
   ]
  },
  {
   "cell_type": "code",
   "execution_count": 1,
   "metadata": {
    "collapsed": true
   },
   "outputs": [],
   "source": [
    "import re\n",
    "import math\n",
    "import copy\n",
    "from collections import defaultdict\n",
    "import numpy as np\n",
    "import matplotlib.pyplot as plt\n",
    "from pandas import Series, DataFrame\n",
    "import pandas as pd\n",
    "from scipy.optimize import curve_fit\n",
    "\n",
    "from __future__ import division\n",
    "\n",
    "%matplotlib inline"
   ]
  },
  {
   "cell_type": "code",
   "execution_count": 2,
   "metadata": {
    "collapsed": false
   },
   "outputs": [],
   "source": [
    "n_files = 10\n",
    "fact = dict()\n",
    "factors = defaultdict(dict)   # Dict containing all k_factors fitted for a given CPU, indexed by cpu type and file number\n",
    "factors_err = defaultdict(dict)   # Dict containing all k_factors fitted for a given CPU, indexed by cpu type and file number\n",
    "for i in range(n_files):\n",
    "    input_pattern = 'x_results_cputype_task2_cpu_sub_%s_evgen_0.001.csv'\n",
    "    f = open(input_pattern % (str(i)))\n",
    "    for line in f:\n",
    "        cpu, k, k_err = line.strip().split(',')\n",
    "        k = float(k)\n",
    "        factors[cpu][i] = k\n",
    "        factors_err[cpu][i] = k_err\n",
    "    f.close()"
   ]
  },
  {
   "cell_type": "code",
   "execution_count": 3,
   "metadata": {
    "collapsed": true
   },
   "outputs": [],
   "source": [
    "def dot(x, y):   # a special inner product that skips components where one of the vectors has a NaN\n",
    "    result = 0.\n",
    "    for i in range(len(x)):\n",
    "        if not np.isnan(x[i]) and not np.isnan(y[i]):\n",
    "            result += x[i] * y[i]\n",
    "    return result"
   ]
  },
  {
   "cell_type": "code",
   "execution_count": 4,
   "metadata": {
    "collapsed": false
   },
   "outputs": [],
   "source": [
    "def rescale_dist(x, y):   # rescales y such that the distance to x is minimised\n",
    "    y2 = y * x / x   # to put nan in elements where x has nan\n",
    "    alpha = np.nansum(x * y) / np.nansum(y2 * y2)\n",
    "    return y * alpha"
   ]
  },
  {
   "cell_type": "code",
   "execution_count": 5,
   "metadata": {
    "collapsed": false
   },
   "outputs": [],
   "source": [
    "def rescale_first(x, y):   # rescales y such that it has the first element equal to x's one\n",
    "    return y / y[0] * x[0]"
   ]
  },
  {
   "cell_type": "code",
   "execution_count": 13,
   "metadata": {
    "collapsed": false
   },
   "outputs": [],
   "source": [
    "def rescale_mod(x):   # rescales x such that its modulus is one \n",
    "    n = len(x) - np.isnan(x).sum()\n",
    "    s = math.sqrt(np.nansum(x * x))\n",
    "    return x / s * math.sqrt(n)"
   ]
  },
  {
   "cell_type": "code",
   "execution_count": 42,
   "metadata": {
    "collapsed": false
   },
   "outputs": [],
   "source": [
    "def rescale_1norm(x):   # rescales x such that its modulus is one \n",
    "    n = len(x) - np.isnan(x).sum()\n",
    "    s = np.nansum(np.fabs(x))\n",
    "    return x / s * n"
   ]
  },
  {
   "cell_type": "code",
   "execution_count": 7,
   "metadata": {
    "collapsed": false
   },
   "outputs": [],
   "source": [
    "cmap = dict()   # mapping each CPU type to an integer starting from zero\n",
    "i = -1\n",
    "a = np.zeros((len(factors), n_files))   # a matrix with as many rows as CPU types and columns as files\n",
    "for c in factors.keys():\n",
    "    i += 1\n",
    "    cmap[c] = i\n",
    "    a[i] = [factors[c].setdefault(l, np.nan) for l in range(n_files)]   # a NaN is used if the CPU type is not present in file\n",
    "b = a.transpose()   # rows are files and columns are speed factors"
   ]
  },
  {
   "cell_type": "code",
   "execution_count": 8,
   "metadata": {
    "collapsed": false
   },
   "outputs": [],
   "source": [
    "ref = np.ones(len(factors))"
   ]
  },
  {
   "cell_type": "code",
   "execution_count": 43,
   "metadata": {
    "collapsed": false
   },
   "outputs": [],
   "source": [
    "b1 = np.empty_like(b)\n",
    "b2 = np.empty_like(b)\n",
    "b3 = np.empty_like(b)\n",
    "b4 = np.empty_like(b)\n",
    "b5 = np.empty_like(b)\n",
    "for i in range(n_files):\n",
    "    v = b[i]\n",
    "    b1[i] = rescale_dist(ref, v)\n",
    "    b2[i] = rescale_first(b[0], v)\n",
    "    b3[i] = rescale_mod(v)\n",
    "    b4[i] = rescale_dist(b[0], v)\n",
    "    b5[i] = rescale_1norm(v)\n",
    "a1 = b1.transpose()\n",
    "a2 = b2.transpose()\n",
    "a3 = b3.transpose()\n",
    "a4 = b4.transpose()\n",
    "a5 = b5.transpose()"
   ]
  },
  {
   "cell_type": "code",
   "execution_count": 45,
   "metadata": {
    "collapsed": false
   },
   "outputs": [
    {
     "name": "stdout",
     "output_type": "stream",
     "text": [
      "0.047 0.011 0.000 0.012 0.013 0.014\n",
      "0.063 0.014 0.016 0.015 0.009 0.015\n",
      "0.048 0.012 0.015 0.013 0.010 0.015\n",
      "0.047 0.008 0.012 0.009 0.006 0.009\n",
      "0.051 0.009 0.016 0.008 0.011 0.008\n",
      "0.048 0.011 0.016 0.010 0.015 0.011\n",
      "0.040 0.015 0.018 0.015 0.015 0.016\n",
      "0.043 0.008 0.013 0.009 0.007 0.011\n",
      "0.017 0.023 0.024 0.024 0.019 0.024\n",
      "0.045 0.013 0.020 0.013 0.018 0.013\n",
      "0.049 0.019 0.027 0.019 0.016 0.020\n",
      "0.047 0.009 0.017 0.010 0.006 0.011\n",
      "0.052 0.026 0.024 0.027 0.022 0.029\n",
      "0.047 0.011 0.015 0.012 0.007 0.014\n",
      "0.045 0.008 0.012 0.008 0.006 0.009\n",
      "0.034 0.025 0.029 0.025 0.024 0.026\n",
      "0.050 0.012 0.018 0.012 0.010 0.012\n",
      "0.049 0.011 0.018 0.012 0.006 0.013\n",
      "0.048 0.010 0.015 0.011 0.005 0.012\n",
      "0.065 0.036 0.036 0.037 0.031 0.038\n",
      "0.052 0.014 0.020 0.014 0.010 0.015\n",
      "0.045 0.007 0.013 0.008 0.004 0.009\n",
      "0.045 0.008 0.012 0.009 0.004 0.010\n",
      "0.055 0.030 0.042 0.029 0.028 0.029\n",
      "0.046 0.015 0.018 0.016 0.011 0.017\n",
      "0.044 0.008 0.012 0.009 0.006 0.010\n",
      "0.048 0.009 0.014 0.010 0.013 0.011\n",
      "0.043 0.011 0.017 0.010 0.010 0.009\n",
      "0.049 0.019 0.029 0.019 0.017 0.019\n",
      "0.048 0.009 0.014 0.011 0.010 0.012\n",
      "0.045 0.007 0.011 0.007 0.006 0.008\n",
      "0.047 0.009 0.016 0.009 0.009 0.009\n",
      "0.052 0.017 0.024 0.017 0.017 0.018\n",
      "0.000 0.000 0.000 0.000 0.000 0.000\n",
      "0.129 0.090 0.093 0.091 0.090 0.091\n",
      "0.042 0.010 0.009 0.010 0.010 0.010\n",
      "0.066 0.034 0.031 0.035 0.033 0.035\n",
      "0.046 0.008 0.017 0.008 0.009 0.008\n",
      "0.046 0.008 0.012 0.009 0.007 0.011\n",
      "0.040 0.012 0.015 0.013 0.012 0.013\n",
      "0.074 0.056 0.064 0.055 0.054 0.054\n",
      "0.045 0.011 0.015 0.011 0.011 0.011\n",
      "0.048 0.011 0.011 0.012 0.008 0.013\n",
      "0.047 0.037 0.042 0.038 0.036 0.039\n",
      "0.050 0.010 0.014 0.010 0.008 0.012\n",
      "0.050 0.014 0.020 0.015 0.012 0.017\n",
      "0.053 0.016 0.016 0.016 0.016 0.016\n",
      "0.048 0.015 0.022 0.015 0.012 0.015\n",
      "0.048 0.012 0.017 0.013 0.009 0.015\n",
      "0.052 0.012 0.018 0.012 0.012 0.012\n",
      "0.056 0.018 0.020 0.017 0.016 0.017\n",
      "0.044 0.007 0.014 0.008 0.006 0.009\n",
      "0.041 0.010 0.015 0.011 0.011 0.012\n",
      "0.052 0.020 0.027 0.020 0.016 0.020\n",
      "0.049 0.014 0.010 0.014 0.015 0.014\n",
      "0.047 0.009 0.014 0.010 0.009 0.012\n",
      "0.044 0.028 0.031 0.026 0.025 0.024\n",
      "0.046 0.009 0.012 0.010 0.006 0.012\n",
      "0.058 0.021 0.016 0.021 0.025 0.020\n",
      "0.046 0.009 0.016 0.008 0.007 0.008\n",
      "0.042 0.012 0.016 0.012 0.012 0.013\n",
      "0.046 0.013 0.011 0.013 0.014 0.014\n",
      "0.054 0.020 0.026 0.021 0.019 0.021\n",
      "0.047 0.014 0.017 0.014 0.009 0.014\n",
      "0.048 0.009 0.013 0.008 0.012 0.009\n",
      "0.049 0.008 0.014 0.008 0.007 0.009\n",
      "0.010 0.012 0.021 0.012 0.013 0.012\n",
      "0.045 0.014 0.023 0.014 0.012 0.013\n",
      "0.047 0.008 0.013 0.008 0.006 0.009\n",
      "0.353 0.348 0.347 0.348 0.346 0.348\n",
      "0.048 0.011 0.019 0.010 0.012 0.011\n",
      "0.046 0.024 0.027 0.023 0.023 0.023\n",
      "0.057 0.024 0.023 0.025 0.021 0.026\n",
      "0.024 0.010 0.005 0.010 0.015 0.010\n",
      "0.048 0.011 0.016 0.011 0.007 0.011\n",
      "0.047 0.007 0.011 0.007 0.007 0.008\n",
      "0.041 0.012 0.012 0.011 0.016 0.010\n",
      "0.044 0.011 0.017 0.012 0.009 0.014\n",
      "0.047 0.008 0.014 0.009 0.006 0.010\n",
      "0.047 0.009 0.014 0.009 0.005 0.009\n",
      "0.063 0.038 0.038 0.039 0.035 0.040\n",
      "0.047 0.009 0.014 0.011 0.005 0.012\n",
      "0.047 0.019 0.025 0.019 0.016 0.020\n",
      "0.046 0.008 0.022 0.008 0.006 0.008\n",
      "0.040 0.016 0.025 0.016 0.015 0.016\n",
      "0.049 0.016 0.019 0.016 0.014 0.016\n",
      "0.043 0.007 0.010 0.008 0.005 0.009\n",
      "0.048 0.011 0.011 0.011 0.009 0.012\n"
     ]
    }
   ],
   "source": [
    "for i in range(len(a)):\n",
    "    print '%.3f %.3f %.3f %.3f %.3f %.3f' % (\n",
    "        np.nanstd(a[i]) / np.nanmean(a[i]),\n",
    "        np.nanstd(a1[i]) / np.nanmean(a1[i]),\n",
    "        np.nanstd(a2[i]) / np.nanmean(a2[i]),\n",
    "        np.nanstd(a3[i]) / np.nanmean(a3[i]),\n",
    "        np.nanstd(a4[i]) / np.nanmean(a4[i]),\n",
    "        np.nanstd(a5[i]) / np.nanmean(a5[i])\n",
    "        )"
   ]
  },
  {
   "cell_type": "code",
   "execution_count": 47,
   "metadata": {
    "collapsed": false
   },
   "outputs": [
    {
     "name": "stdout",
     "output_type": "stream",
     "text": [
      "4.49182711782 1.66331273082 2.01377079718 1.68858973416 1.55128907926 1.42634450258\n"
     ]
    }
   ],
   "source": [
    "t = 0.\n",
    "t1 = 0.\n",
    "t2 = 0.\n",
    "t3 = 0.\n",
    "t4 = 0.\n",
    "t5 = 0.\n",
    "\n",
    "for i in range(len(a)):\n",
    "    t += np.nanstd(a[i]) / np.nanmean(a[i])\n",
    "    t1 += np.nanstd(a1[i]) / np.nanmean(a1[i])\n",
    "    t2 += np.nanstd(a2[i]) / np.nanmean(a2[i])\n",
    "    t3 += np.nanstd(a3[i]) / np.nanmean(a3[i])\n",
    "    t4 += np.nanstd(a4[i]) / np.nanmean(a4[i])\n",
    "    t5 += np.nanstd(a4[i]) / np.nanmean(a5[i])\n",
    "print t, t1, t2, t3, t4, t5"
   ]
  },
  {
   "cell_type": "code",
   "execution_count": null,
   "metadata": {
    "collapsed": true
   },
   "outputs": [],
   "source": []
  }
 ],
 "metadata": {
  "kernelspec": {
   "display_name": "Python 2",
   "language": "python",
   "name": "python2"
  },
  "language_info": {
   "codemirror_mode": {
    "name": "ipython",
    "version": 2
   },
   "file_extension": ".py",
   "mimetype": "text/x-python",
   "name": "python",
   "nbconvert_exporter": "python",
   "pygments_lexer": "ipython2",
   "version": "2.7.11"
  }
 },
 "nbformat": 4,
 "nbformat_minor": 0
}
