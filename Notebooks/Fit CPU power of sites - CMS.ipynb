{
 "cells": [
  {
   "cell_type": "markdown",
   "metadata": {},
   "source": [
    "# Measuring speed from CPU times per event\n",
    "### Authors: Andrea Sciabà, Andrea Valassi"
   ]
  },
  {
   "cell_type": "markdown",
   "metadata": {},
   "source": [
    "The goal is to measure the CPU power of sites from the CPU time per event of ATLAS production jobs."
   ]
  },
  {
   "cell_type": "code",
   "execution_count": 37,
   "metadata": {
    "collapsed": true
   },
   "outputs": [],
   "source": [
    "import sys\n",
    "import math\n",
    "import csv\n",
    "from collections import defaultdict, OrderedDict, Counter\n",
    "import pprint as pp\n",
    "import numpy as np\n",
    "import pandas as pd\n",
    "import scipy.optimize as optimize\n",
    "import matplotlib.pyplot as plt\n",
    "from __future__ import division\n",
    "\n",
    "%matplotlib inline"
   ]
  },
  {
   "cell_type": "markdown",
   "metadata": {},
   "source": [
    "First, let's read the data from the CSV file."
   ]
  },
  {
   "cell_type": "code",
   "execution_count": 2,
   "metadata": {
    "collapsed": false
   },
   "outputs": [],
   "source": [
    "df = pd.read_csv('task_cms2.csv', names=['request', 'processingtype', 'site',\n",
    "                                                               'njobs', 'cpuevt_avg', 'cpuevt_rms', 'wallevt_avg',\n",
    "                                                               'wallevt_rms', 'cpu', 'wc', 'cores', 'evts', 'eff'])"
   ]
  },
  {
   "cell_type": "markdown",
   "metadata": {},
   "source": [
    "Let's choose jobs of a given processing type by site or cpu."
   ]
  },
  {
   "cell_type": "code",
   "execution_count": 135,
   "metadata": {
    "collapsed": false
   },
   "outputs": [],
   "source": [
    "event_type = 'dataprocessing'\n",
    "mode = 'site'\n",
    "wc_contrib = 0.001\n",
    "output_file = ('results_' + mode + '_' + 'task_cms'\n",
    "               + '_' + event_type + '_' + str(wc_contrib) + '.csv')"
   ]
  },
  {
   "cell_type": "markdown",
   "metadata": {},
   "source": [
    "Let's find out which sites or CPU's contribute by more than 0.1% to the total wallclock time and restrict the analysis to them."
   ]
  },
  {
   "cell_type": "code",
   "execution_count": 136,
   "metadata": {
    "collapsed": false
   },
   "outputs": [],
   "source": [
    "grouped = df[df.processingtype == event_type].groupby([mode], as_index=False)\n",
    "tot_wc = grouped['wc'].sum()\n",
    "a = tot_wc.sort_values('wc', ascending=False)\n",
    "bigtotal_wc = a.wc.sum()\n",
    "big_sites = a[a.wc > bigtotal_wc *wc_contrib][mode].tolist()"
   ]
  },
  {
   "cell_type": "markdown",
   "metadata": {},
   "source": [
    "Let's store in a dict indexed by the task number and the site or CPU type the averages and standard deviations of the CPU time per event."
   ]
  },
  {
   "cell_type": "code",
   "execution_count": 137,
   "metadata": {
    "collapsed": false
   },
   "outputs": [],
   "source": [
    "grouped = df.groupby(['processingtype', 'request', mode], as_index=False, sort=False)\n",
    "\n",
    "data = defaultdict(OrderedDict)\n",
    "for (p, j, s), g in grouped:\n",
    "    if s not in big_sites: continue\n",
    "    if p != event_type: continue\n",
    "    x = np.average(g.cpuevt_avg, weights=g.cpu)\n",
    "    y = math.sqrt(np.average((g.cpuevt_avg - x)**2, weights=g.cpu))\n",
    "    data[j][s] = (x, y)"
   ]
  },
  {
   "cell_type": "markdown",
   "metadata": {},
   "source": [
    "Let's forget about tasks which run on only one site or CPU type."
   ]
  },
  {
   "cell_type": "code",
   "execution_count": 138,
   "metadata": {
    "collapsed": false
   },
   "outputs": [],
   "source": [
    "# Remove from data tasks with only one site\n",
    "for (k, v) in data.items():\n",
    "    if len(v) == 1:\n",
    "        del data[k]"
   ]
  },
  {
   "cell_type": "markdown",
   "metadata": {},
   "source": [
    "Let's map sites or CPU types to integers and store the mapping for later use."
   ]
  },
  {
   "cell_type": "code",
   "execution_count": 139,
   "metadata": {
    "collapsed": false
   },
   "outputs": [
    {
     "name": "stdout",
     "output_type": "stream",
     "text": [
      "There are 32 sites in the fit\n"
     ]
    }
   ],
   "source": [
    "i = -1\n",
    "sites = set()\n",
    "smap = dict()\n",
    "for (k, v) in data.items():\n",
    "    for s in v.keys():\n",
    "        if s not in sites:\n",
    "            i += 1\n",
    "            smap[s] = i\n",
    "            sites.add(s)\n",
    "        data[k][smap[s]]= data[k][s]\n",
    "        del data[k][s]\n",
    "\n",
    "nsites = len(smap)\n",
    "print 'There are %s sites in the fit' % nsites"
   ]
  },
  {
   "cell_type": "markdown",
   "metadata": {},
   "source": [
    "Let's also map tasks to integers."
   ]
  },
  {
   "cell_type": "code",
   "execution_count": 140,
   "metadata": {
    "collapsed": true
   },
   "outputs": [],
   "source": [
    "# Map tasks to integers\n",
    "tasks = set(data.keys())\n",
    "tmap = dict()\n",
    "i = 0\n",
    "for x in tasks:\n",
    "    tmap[x] = i\n",
    "    i += 1"
   ]
  },
  {
   "cell_type": "markdown",
   "metadata": {},
   "source": [
    "## Second analysis"
   ]
  },
  {
   "cell_type": "markdown",
   "metadata": {},
   "source": [
    "This analysis uses a much better model and procedure to fit the speeds.\n",
    "\n",
    "In the following, $\\alpha$ indicates an index running over tasks and $i$ and index running over sites or CPU times.\n",
    "The population average of the CPU time per event for task $\\alpha$ at site or CPU $i$ is $\\mu_{i\\alpha}$ and the average we measure is $a_{i\\alpha}$. Of course, not all sites or CPU types appear on all tasks, so sums over $i$ run only on sites or CPU types where the task runs.\n",
    "\n",
    "It is assumed that the $a_{i\\alpha}$ values we measure are Gaussian-distributed around $\\mu_{i\\alpha}$ with standard deviation $\\sigma_{i\\alpha}$.\n",
    "\n",
    "It is also assumed that the speed factors $k_i$ do not depend on $\\alpha$, and in particular that $\\mu_{i\\alpha}k_i=A_\\alpha$, where $A_\\alpha$ is a constant with respect to $i$.\n",
    "\n",
    "It is assumed that also $\\sigma_{i\\alpha}=S_\\alpha\\mu_{i\\alpha},\\:\\forall i, \\alpha$.\n",
    "\n",
    "To make the analysis easier, we choose to use $\\sigma_{i\\alpha}$ as errors on $a_{i\\alpha}$, while it would be more correct to use $\\sigma_{i\\alpha}/\\sqrt{N_{i\\alpha}}$, where $N_{i\\alpha}$ is the number of jobs run at site or CPU type $i$ for task $\\alpha$ (_approx. #1_).\n",
    "\n",
    "We also assume that $S_\\alpha = S$, where $S$ is constant for all tasks (_approx. #2_).\n",
    "\n",
    "The $\\chi^2$ we want to minimise is the following:\n",
    "\n",
    "$$\\chi^2=\\sum_{i\\alpha}\\left(\\frac{a_{i\\alpha}-\\mu_{i\\alpha}}{\\sigma_{i\\alpha}}\\right)^2=\\sum_{i\\alpha}\\left(\\frac{a_{i\\alpha}-\\mu_{i\\alpha}}{S_\\alpha\\mu_{i\\alpha}}\\right)^2=\\sum_\\alpha\\frac{1}{S_\\alpha^2}\\sum_i\\left(\\frac{a_{i\\alpha}}{\\mu_{i\\alpha}}-1\\right)^2=\\sum_\\alpha\\frac{1}{S_\\alpha^2}\\sum_i\\left(\\frac{a_{i\\alpha}k_i}{A_\\alpha}-1\\right)^2$$\n",
    "\n",
    "finally, taking into account the approximations above:\n",
    "\n",
    "$$\\boxed{\\chi^2=\\frac{1}{S^2}\\sum_\\alpha\\frac{1}{A_\\alpha^2}\\sum_i\\left(a_{i\\alpha}k_i-A_\\alpha\\right)^2}$$\n",
    "\n",
    "As $S$ is a constant, we can minimise a function $f=S^2\\chi^2$ and the free parameters are $A_\\alpha$ and $k_i$.\n",
    "\n",
    "To recap, the function to minimise is\n",
    "\n",
    "$$f=\\sum_\\alpha\\frac{1}{A_\\alpha^2}\\sum_i\\left(a_{i\\alpha}k_i-A_\\alpha\\right)^2$$\n",
    "\n",
    "its gradient is\n",
    "\n",
    "$$\\begin{align}\\frac{\\partial f}{\\partial A_\\alpha}&=-2\\sum_i\\frac{a_{i\\alpha}k_i}{A_\\alpha^2}\\left(\\frac{a_{i\\alpha}k_i}{A_\\alpha}-1\\right)\\\\\\frac{\\partial f}{\\partial k_i}&=\\sum_\\alpha\\frac{1}{A_\\alpha^2}2a_{i\\alpha}(a_{i\\alpha}k_i-A_\\alpha)\\end{align}$$\n",
    "\n",
    "and its Hessian is\n",
    "\n",
    "$$\\begin{align}\\frac{\\partial^2f}{\\partial A_\\alpha\\partial A_\\beta}&=\\delta_{\\alpha\\beta}\\times\\frac{2}{A_\\alpha^4}\\sum_i(3a_{i\\alpha}^2k_i^2-2a_{i\\alpha}k_i A_\\alpha)\\\\\n",
    "\\frac{\\partial^2f}{\\partial k_i\\partial k_j}&=\\delta_{ij}\\times 2\\sum_\\alpha\\frac{a_{i\\alpha}^2}{A_\\alpha^2}\\\\\n",
    "\\frac{\\partial^2f}{\\partial k_i\\partial A_\\alpha}&=-2\\frac{a_{i\\alpha}}{A_\\alpha^2}\\left(2\\frac{a_{i\\alpha}k_i}{A_\\alpha}-1\\right)\n",
    "\\end{align}$$"
   ]
  },
  {
   "cell_type": "markdown",
   "metadata": {},
   "source": [
    "We use as initial values $k_i=1$ and $A_\\alpha=(\\sum_i a_{i\\alpha})/n_\\alpha$, where $n_\\alpha$ is the number of sites or CPU types in task $\\alpha$."
   ]
  },
  {
   "cell_type": "code",
   "execution_count": 141,
   "metadata": {
    "collapsed": false
   },
   "outputs": [],
   "source": [
    "ntask = len(data)\n",
    "nsite = len(smap)\n",
    "a_ini = np.zeros(ntask)\n",
    "for j, task in data.items():\n",
    "    nt = tmap[j]\n",
    "    a_ini[nt] = np.mean([b[0] for b in task.values()])\n",
    "x_ini = np.hstack((a_ini, np.ones(nsite)))"
   ]
  },
  {
   "cell_type": "code",
   "execution_count": 142,
   "metadata": {
    "collapsed": false
   },
   "outputs": [
    {
     "name": "stdout",
     "output_type": "stream",
     "text": [
      "Tasks:  176\n",
      "Sites/CPUs:  32\n",
      "Sum of initial values:  2499.06330367\n"
     ]
    }
   ],
   "source": [
    "print \"Tasks: \", ntask\n",
    "print \"Sites/CPUs: \", nsite\n",
    "print \"Sum of initial values: \", np.sum(x_ini)"
   ]
  },
  {
   "cell_type": "markdown",
   "metadata": {},
   "source": [
    "The function and its derivatives are implemented."
   ]
  },
  {
   "cell_type": "code",
   "execution_count": 118,
   "metadata": {
    "collapsed": true
   },
   "outputs": [],
   "source": [
    "def func_val(x):\n",
    "    a = x[:ntask]\n",
    "    k = x[ntask:]\n",
    "    total = 0.\n",
    "    for j, task in data.items():   # looping on tasks\n",
    "        nt = tmap[j]\n",
    "        kf = np.array([k[i] for i in task.keys()])\n",
    "        v = np.array([b[0] for b in task.values()])\n",
    "        f_term = 1. / a[nt]**2 * (v * kf - a[nt])**2\n",
    "        delta = np.sum(f_term)\n",
    "        total += delta\n",
    "    return total"
   ]
  },
  {
   "cell_type": "code",
   "execution_count": 119,
   "metadata": {
    "collapsed": true
   },
   "outputs": [],
   "source": [
    "def grad_val(x):\n",
    "    a = x[:ntask]\n",
    "    k = x[ntask:]\n",
    "    g = np.zeros(len(x))\n",
    "    for j, task in data.items():\n",
    "        g_a = 0.\n",
    "        nt = tmap[j]\n",
    "        for i in task.keys():\n",
    "            (v, _) = task[i]\n",
    "            g_a += -2 * v * k[i] / a[nt]**2 * (v * k[i] / a[nt] - 1)\n",
    "            g_k = 2 / a[nt]**2 * v * (k[i] * v - a[nt])\n",
    "            g[ntask + i] += g_k\n",
    "        g[nt] = g_a\n",
    "    return g"
   ]
  },
  {
   "cell_type": "code",
   "execution_count": 120,
   "metadata": {
    "collapsed": true
   },
   "outputs": [],
   "source": [
    "def hess_val(x):\n",
    "    a = x[:ntask]\n",
    "    k = x[ntask:]\n",
    "    diag = np.zeros_like(x)   # diagonal of the Hessian\n",
    "    H = np.diag(diag)\n",
    "    for t, task in data.items():\n",
    "        h = 0.\n",
    "        nt = tmap[t]\n",
    "        for i in task.keys():\n",
    "            (v, _) = task[i]\n",
    "            h += 2 / a[nt]**4 * (3 * v**2 * k[i]**2 - 2 * v * k[i] * a[nt])\n",
    "            diag[ntask + i] += 2 * v**2 / a[nt]**2\n",
    "            H[nt][ntask+i] = H[ntask+i][nt] = -2 * v / a[nt]**2 * ( 2 * v * k[i] / a[nt] - 1)\n",
    "        diag[nt] = h\n",
    "    H = H + np.diag(diag)\n",
    "    return H"
   ]
  },
  {
   "cell_type": "code",
   "execution_count": 143,
   "metadata": {
    "collapsed": false
   },
   "outputs": [
    {
     "data": {
      "text/plain": [
       "2708.0010013879532"
      ]
     },
     "execution_count": 143,
     "metadata": {},
     "output_type": "execute_result"
    }
   ],
   "source": [
    "func_val(x_ini)"
   ]
  },
  {
   "cell_type": "code",
   "execution_count": 144,
   "metadata": {
    "collapsed": false
   },
   "outputs": [
    {
     "name": "stdout",
     "output_type": "stream",
     "text": [
      "0.0857509324231\n"
     ]
    }
   ],
   "source": [
    "check = optimize.check_grad(func_val, grad_val, x_ini)\n",
    "print check"
   ]
  },
  {
   "cell_type": "markdown",
   "metadata": {},
   "source": [
    "The minimisation is performed."
   ]
  },
  {
   "cell_type": "code",
   "execution_count": 145,
   "metadata": {
    "collapsed": false
   },
   "outputs": [
    {
     "name": "stdout",
     "output_type": "stream",
     "text": [
      "Optimization terminated successfully.\n",
      "         Current function value: 534.482517\n",
      "         Iterations: 8\n",
      "         Function evaluations: 16\n",
      "         Gradient evaluations: 23\n",
      "         Hessian evaluations: 8\n"
     ]
    }
   ],
   "source": [
    "result_val = optimize.minimize(func_val, x_ini, method='Newton-CG', jac=grad_val, hess=hess_val, options={'disp': True, 'maxiter': 2000})"
   ]
  },
  {
   "cell_type": "markdown",
   "metadata": {},
   "source": [
    "It is worth noting that the problem is underdetermined: multiplying all $k_i$ and all $A_\\alpha$ by the same number would not change the value of the function. Hence, the absolute scale of the fitted parameters has no meaning (as expected), and they should be rescaled to an appropriate reference. In principle, the fit should not converge, but it does. A more rigorous approach would be to fix one of the $k_i$ parameters to one and reduce by one the number of parameters fitted. This is left as a future improvement."
   ]
  },
  {
   "cell_type": "markdown",
   "metadata": {},
   "source": [
    "The fitted parameters are printed:"
   ]
  },
  {
   "cell_type": "code",
   "execution_count": 146,
   "metadata": {
    "collapsed": false
   },
   "outputs": [],
   "source": [
    "k_val = result_val.x[ntask:]"
   ]
  },
  {
   "cell_type": "code",
   "execution_count": 147,
   "metadata": {
    "collapsed": false
   },
   "outputs": [
    {
     "name": "stdout",
     "output_type": "stream",
     "text": [
      "[ 0.94910835  0.97993167  1.0233358   0.94534259  0.98164222  0.95172321\n",
      "  1.03868272  1.00289872  1.02299137  0.97476872  0.89922791  0.97151535\n",
      "  0.92467574  1.02713802  0.97241278  0.9841212   1.0083291   1.00076955\n",
      "  1.00170091  0.95905387  0.90260545  1.00144424  1.01182789  1.0001956\n",
      "  0.72587772  0.97785596  0.05489518  0.97859432  0.96108954  1.01001019\n",
      "  1.00648872  0.6386813 ]\n"
     ]
    }
   ],
   "source": [
    "print k_val"
   ]
  },
  {
   "cell_type": "code",
   "execution_count": 148,
   "metadata": {
    "collapsed": false
   },
   "outputs": [
    {
     "name": "stdout",
     "output_type": "stream",
     "text": [
      "t1_de_kit\t0.9517\n",
      "t1_es_pic\t1.0230\n",
      "t1_fr_ccin2p3\t0.9799\n",
      "t1_it_cnaf\t0.9816\n",
      "t1_ru_jinr\t1.0387\n",
      "t1_uk_ral\t0.9748\n",
      "t1_us_fnal\t0.9491\n",
      "t2_be_iihe\t0.9591\n",
      "t2_ch_cern\t0.8992\n",
      "t2_ch_cern_hlt\t0.6387\n",
      "t2_ch_cscs\t1.0118\n",
      "t2_de_desy\t0.9453\n",
      "t2_de_rwth\t0.9247\n",
      "t2_es_ciemat\t0.9611\n",
      "t2_fr_ccin2p3\t1.0083\n",
      "t2_fr_grif_irfu\t1.0065\n",
      "t2_fr_grif_llr\t0.9841\n",
      "t2_fr_iphc\t1.0014\n",
      "t2_it_bari\t0.9724\n",
      "t2_it_legnaro\t1.0008\n",
      "t2_it_pisa\t0.9715\n",
      "t2_pt_ncg_lisbon\t0.9026\n",
      "t2_uk_london_brunel\t1.0100\n",
      "t2_uk_london_ic\t1.0017\n",
      "t2_uk_sgrid_ralpp\t1.0271\n",
      "t2_us_caltech\t0.9779\n",
      "t2_us_florida\t0.7259\n",
      "t2_us_mit\t0.0549\n",
      "t2_us_nebraska\t1.0029\n",
      "t2_us_purdue\t1.0233\n",
      "t2_us_ucsd\t0.9786\n",
      "t2_us_wisconsin\t1.0002\n"
     ]
    }
   ],
   "source": [
    "for s in sorted(smap.keys()):\n",
    "    print '%s\\t%.4f' % (s, k_val[smap[s]])"
   ]
  },
  {
   "cell_type": "markdown",
   "metadata": {},
   "source": [
    "As a check, the values fitted with this method are compared with the values fitted with the rolling ratios method."
   ]
  },
  {
   "cell_type": "markdown",
   "metadata": {},
   "source": [
    "### Error estimation"
   ]
  },
  {
   "cell_type": "markdown",
   "metadata": {},
   "source": [
    "In order to estimate the error on the fitted parameters, we can use the standard method of finding the variations on the parameters that increase the value of $\\chi^2$ by one with respect to its minimum. To do this, we must calculate the value of $S$.\n",
    "\n",
    "From what was said above:\n",
    "\n",
    "$$S=\\frac{\\sigma_{i\\alpha}k_i}{A_\\alpha}$$\n",
    "\n",
    "and considering that $\\sigma_{i\\alpha}$ is the standard deviation of $a_{i\\alpha}$, we can expect that the observed values $\\frac{a_{i\\alpha}k_i}{A_\\alpha}$ will be distributed around one with a standard deviation of $S$.\n",
    "\n",
    "Around the minimum, the following equation holds:\n",
    "\n",
    "$$1\\equiv\\chi^2-\\chi^2_{\\text{min}}=\\frac{\\Delta f}{S^2}\\simeq\\frac{1}{S^2}\\frac{1}{2}\\frac{\\partial^2f}{\\partial k_i^2}\\Delta k_i^2$$\n",
    "\n",
    "and considering that\n",
    "\n",
    "$$\\frac{\\partial^2f}{\\partial k_i^2}=2\\sum_\\alpha\\frac{a_{i\\alpha}^2}{A_\\alpha^2}$$\n",
    "\n",
    "one concludes that\n",
    "\n",
    "$$\\Delta k_i\\simeq\\frac{S}{\\sqrt{\\sum_\\alpha\\frac{a_{i\\alpha}^2}{A_\\alpha^2}}}$$\n",
    "\n",
    "We can easily measure $S$ from the data as follows."
   ]
  },
  {
   "cell_type": "code",
   "execution_count": 149,
   "metadata": {
    "collapsed": true
   },
   "outputs": [],
   "source": [
    "x = result_val.x\n",
    "points = list()\n",
    "for t, task in data.items():\n",
    "    nt = tmap[t]\n",
    "    for i in task.keys():\n",
    "        (v, _) = task[i]\n",
    "        p = v * x[ntask+i] / x[nt]\n",
    "        points.append(p)"
   ]
  },
  {
   "cell_type": "code",
   "execution_count": 150,
   "metadata": {
    "collapsed": false
   },
   "outputs": [
    {
     "name": "stdout",
     "output_type": "stream",
     "text": [
      "The value of S is: 0.454\n"
     ]
    },
    {
     "data": {
      "image/png": "[encoded data removed]",
      "text/plain": [
       "<matplotlib.figure.Figure at 0xdb9e080>"
      ]
     },
     "metadata": {},
     "output_type": "display_data"
    }
   ],
   "source": [
    "bins = 100\n",
    "xrange = (0., 2.)\n",
    "binsize = (xrange[1] - xrange[0]) / bins\n",
    "fig = plt.hist(points, bins=bins, range=xrange)\n",
    "n = len(points)\n",
    "mu = np.mean(points)\n",
    "sigma = np.std(points)\n",
    "plt.xlabel(r'$a_{i\\alpha}k_i/A_\\alpha$')\n",
    "plt.text(1.4, 1400., r'$\\mu=%.3f\\pm%.3f$' % (mu, sigma))\n",
    "S = sigma\n",
    "print 'The value of S is: %.3f' % S"
   ]
  },
  {
   "cell_type": "markdown",
   "metadata": {},
   "source": [
    "For fun, let's fit the distribution with one gaussian."
   ]
  },
  {
   "cell_type": "code",
   "execution_count": 151,
   "metadata": {
    "collapsed": true
   },
   "outputs": [],
   "source": [
    "y, x = np.histogram(points, bins=bins, range=xrange)\n",
    "y = np.divide(y, np.float(np.sum(y))*binsize)"
   ]
  },
  {
   "cell_type": "code",
   "execution_count": 152,
   "metadata": {
    "collapsed": false
   },
   "outputs": [
    {
     "name": "stdout",
     "output_type": "stream",
     "text": [
      "0.903325529435 0.226695590461\n",
      "The value of S is: 0.227\n"
     ]
    },
    {
     "data": {
      "image/png": "[encoded data removed]",
      "text/plain": [
       "<matplotlib.figure.Figure at 0x12158e80>"
      ]
     },
     "metadata": {},
     "output_type": "display_data"
    }
   ],
   "source": [
    "def f(x, m, s):\n",
    "    return 1 / (s * np.sqrt(2 * np.pi)) * np.exp(-(x - m)**2 / (2 * s**2))\n",
    "\n",
    "plt.plot(x[:-1], y)\n",
    "(m, s), _ = optimize.curve_fit(f, x[:-1], y)\n",
    "print m, s\n",
    "plt.plot(x, f(x, m, s))\n",
    "S1 = s\n",
    "print 'The value of S is: %.3f' % S1"
   ]
  },
  {
   "cell_type": "markdown",
   "metadata": {},
   "source": [
    "And now, with two gaussians."
   ]
  },
  {
   "cell_type": "code",
   "execution_count": 153,
   "metadata": {
    "collapsed": false
   },
   "outputs": [
    {
     "name": "stdout",
     "output_type": "stream",
     "text": [
      "0.911550054733 0.164194854879 0.563806062996 0.632968686724\n",
      "The value of S is: 0.366\n"
     ]
    },
    {
     "data": {
      "image/png": "[encoded data removed]",
      "text/plain": [
       "<matplotlib.figure.Figure at 0x11f9dfd0>"
      ]
     },
     "metadata": {},
     "output_type": "display_data"
    }
   ],
   "source": [
    "def f2(x, m, s1, s2, n):\n",
    "    return n / (s1 * np.sqrt(2 * np.pi)) * np.exp(-(x - m)**2 / (2 * s1**2)) + \\\n",
    "        (1 - n) / (s2 * np.sqrt(2 * np.pi)) * np.exp(-(x - m)**2 / (2 * s2**2))\n",
    " \n",
    "plt.plot(x[:-1], y)\n",
    "(m, s1, s2, n), _ = optimize.curve_fit(f2, x[:-1], y, (1., 0.1, 1., 1.))\n",
    "print m, s1, s2, n\n",
    "plt.plot(x, f2(x, m, s1, s2, n))\n",
    "S2 = np.sqrt(n * s1**2 + (1 - n) * s2**2)\n",
    "print 'The value of S is: %.3f' % S2"
   ]
  },
  {
   "cell_type": "markdown",
   "metadata": {},
   "source": [
    "The fit to two gaussians is remarkably good."
   ]
  },
  {
   "cell_type": "code",
   "execution_count": 154,
   "metadata": {
    "collapsed": true
   },
   "outputs": [],
   "source": [
    "x = result_val.x\n",
    "points2 = list()\n",
    "for t, task in data.items():\n",
    "    nt = tmap[t]\n",
    "    for i in task.keys():\n",
    "        (v, _) = task[i]\n",
    "        p = v / a_ini[nt]\n",
    "        points2.append(p)"
   ]
  },
  {
   "cell_type": "code",
   "execution_count": 155,
   "metadata": {
    "collapsed": false
   },
   "outputs": [
    {
     "name": "stdout",
     "output_type": "stream",
     "text": [
      "The value of S is: 1.055\n"
     ]
    },
    {
     "data": {
      "image/png": "[encoded data removed]",
      "text/plain": [
       "<matplotlib.figure.Figure at 0xd917dd8>"
      ]
     },
     "metadata": {},
     "output_type": "display_data"
    }
   ],
   "source": [
    "bins = 100\n",
    "xrange = (0., 2.)\n",
    "binsize = (xrange[1] - xrange[0]) / bins\n",
    "fig = plt.hist(points2, bins=bins, range=xrange)\n",
    "n = len(points2)\n",
    "mu = np.mean(points2)\n",
    "sigma = np.std(points2)\n",
    "print 'The value of S is: %.3f' % sigma"
   ]
  },
  {
   "cell_type": "code",
   "execution_count": 156,
   "metadata": {
    "collapsed": false
   },
   "outputs": [],
   "source": [
    "x = result_val.x\n",
    "a = x[:ntask]\n",
    "k = x[ntask:]\n",
    "k_err = np.zeros_like(k)\n",
    "c = 0\n",
    "for t, task in data.items():\n",
    "    nt = tmap[t]\n",
    "    c += len(task)\n",
    "    for i in task.keys():\n",
    "        (v, _) = task[i]\n",
    "        k_err[i] += v**2 / a[nt]**2\n",
    "k_err = S / np.sqrt(k_err)"
   ]
  },
  {
   "cell_type": "code",
   "execution_count": 157,
   "metadata": {
    "collapsed": false
   },
   "outputs": [],
   "source": [
    "with open(output_file, 'wb') as csvfile:\n",
    "    w = csv.writer(csvfile, delimiter=',')\n",
    "    for s in sorted(smap.keys()):\n",
    "        w.writerow([s, k[smap[s]], k_err[smap[s]]])"
   ]
  },
  {
   "cell_type": "markdown",
   "metadata": {},
   "source": [
    "### Goodness of fit"
   ]
  },
  {
   "cell_type": "markdown",
   "metadata": {},
   "source": [
    "To test the goodness of our fit, we can calculate the reduced $\\chi^2$ ad the minimum, which is $\\chi^2/(N-m)$, where $N$ is the number of independent measurements and $m$ the number of fitted parameters."
   ]
  },
  {
   "cell_type": "code",
   "execution_count": 33,
   "metadata": {
    "collapsed": false
   },
   "outputs": [
    {
     "name": "stdout",
     "output_type": "stream",
     "text": [
      "Degrees of freedom: 35154\n",
      "The value of the reduced chi2 is: 1.278\n",
      "Standard deviation of reduced chi2: 0.004\n"
     ]
    }
   ],
   "source": [
    "deg = c - len(x_ini)\n",
    "chi2r = func_val(result_val.x) / S**2 / deg\n",
    "print 'Degrees of freedom: %d' % deg\n",
    "print 'The value of the reduced chi2 is: %.3f' % chi2r\n",
    "print 'Standard deviation of reduced chi2: %.3f' % (1. / np.sqrt(2. * deg))"
   ]
  },
  {
   "cell_type": "code",
   "execution_count": null,
   "metadata": {
    "collapsed": true
   },
   "outputs": [],
   "source": []
  },
  {
   "cell_type": "code",
   "execution_count": null,
   "metadata": {
    "collapsed": true
   },
   "outputs": [],
   "source": []
  }
 ],
 "metadata": {
  "kernelspec": {
   "display_name": "Python 2",
   "language": "python",
   "name": "python2"
  },
  "language_info": {
   "codemirror_mode": {
    "name": "ipython",
    "version": 2
   },
   "file_extension": ".py",
   "mimetype": "text/x-python",
   "name": "python",
   "nbconvert_exporter": "python",
   "pygments_lexer": "ipython2",
   "version": "2.7.11"
  }
 },
 "nbformat": 4,
 "nbformat_minor": 0
}
