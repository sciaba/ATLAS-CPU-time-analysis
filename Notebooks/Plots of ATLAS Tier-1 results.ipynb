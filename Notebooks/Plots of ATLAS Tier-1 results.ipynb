{
 "cells": [
  {
   "cell_type": "code",
   "execution_count": 73,
   "metadata": {
    "collapsed": true
   },
   "outputs": [],
   "source": [
    "import re\n",
    "import math\n",
    "import copy\n",
    "import csv\n",
    "from collections import defaultdict\n",
    "\n",
    "import numpy as np\n",
    "import matplotlib.pyplot as plt\n",
    "from pandas import Series, DataFrame\n",
    "import pandas as pd\n",
    "from scipy.optimize import curve_fit\n",
    "import scipy.odr as odr\n",
    "\n",
    "from __future__ import division\n",
    "\n",
    "%matplotlib inline"
   ]
  },
  {
   "cell_type": "code",
   "execution_count": 16,
   "metadata": {
    "collapsed": true
   },
   "outputs": [],
   "source": [
    "fact = dict()\n",
    "fact_err = dict()"
   ]
  },
  {
   "cell_type": "code",
   "execution_count": 17,
   "metadata": {
    "collapsed": false
   },
   "outputs": [],
   "source": [
    "typ = 'off'\n",
    "input_file = 'results_t0_smt_%s2.csv' % typ\n",
    "factors = dict()\n",
    "factors_err = dict()\n",
    "with open(input_file) as csvfile:\n",
    "    r = csv.reader(csvfile, delimiter=',')\n",
    "    for row in r:\n",
    "        (cpu, k, k_err) = row\n",
    "        cpu = re.sub('_+', ' ', cpu)\n",
    "        factors[cpu] = float(k)\n",
    "        factors_err[cpu] = float(k_err)\n",
    "fact[typ] = copy.deepcopy(factors)\n",
    "fact_err[typ] = copy.deepcopy(factors_err)"
   ]
  },
  {
   "cell_type": "code",
   "execution_count": 18,
   "metadata": {
    "collapsed": false
   },
   "outputs": [],
   "source": [
    "typ = 'on'\n",
    "input_file = 'results_t0_smt_%s2.csv' % typ\n",
    "factors = dict()\n",
    "factors_err = dict()\n",
    "with open(input_file) as csvfile:\n",
    "    r = csv.reader(csvfile, delimiter=',')\n",
    "    for row in r:\n",
    "        (cpu, k, k_err) = row\n",
    "        cpu = re.sub('_+', ' ', cpu)\n",
    "        factors[cpu] = float(k)\n",
    "        factors_err[cpu] = float(k_err)\n",
    "fact[typ] = copy.deepcopy(factors)\n",
    "fact_err[typ] = copy.deepcopy(factors_err)"
   ]
  },
  {
   "cell_type": "code",
   "execution_count": 19,
   "metadata": {
    "collapsed": false
   },
   "outputs": [],
   "source": [
    "proc = pd.read_csv('proc_data.csv')"
   ]
  },
  {
   "cell_type": "code",
   "execution_count": 20,
   "metadata": {
    "collapsed": false
   },
   "outputs": [],
   "source": [
    "proc_cpus = proc['MODEL_CPU0'].unique()"
   ]
  },
  {
   "cell_type": "code",
   "execution_count": 140,
   "metadata": {
    "collapsed": false
   },
   "outputs": [
    {
     "name": "stdout",
     "output_type": "stream",
     "text": [
      "[ 0.05457385]\n"
     ]
    },
    {
     "data": {
      "image/png": "[encoded data removed]",
      "text/plain": [
       "<matplotlib.figure.Figure at 0xdf46ba8>"
      ]
     },
     "metadata": {},
     "output_type": "display_data"
    }
   ],
   "source": [
    "typ = 'off'\n",
    "x = list()\n",
    "y = list()\n",
    "x_err = list()\n",
    "y_err = list()\n",
    "lab = list()\n",
    "for a in fact[typ].keys():\n",
    "    #if 'v3' in a: continue\n",
    "    x.append(proc[(proc.MODEL_CPU0 == a) & (proc.NUM_PROCESSORS == 2) & (proc.SMT_CPU0 == False)]['HS06_core'].tolist()[0])\n",
    "    y.append(fact[typ][a])\n",
    "    xe = proc[(proc.MODEL_CPU0 == a) & (proc.NUM_PROCESSORS == 2) & (proc.SMT_CPU0 == False)]['HS06_core_err'].tolist()[0]\n",
    "    if xe == 0.:\n",
    "        xe = 0.1\n",
    "    x_err.append(xe)\n",
    "    y_err.append(fact_err[typ][a])\n",
    "    a = re.sub('Intel\\(R\\) Xeon\\(R\\) CPU', '', a)\n",
    "    a = re.sub(' @.*', '', a)\n",
    "    lab.append(a)\n",
    "plt.errorbar(x, y, xerr=x_err, yerr=y_err, fmt='o')\n",
    "def f(B, x): return B[0] * x\n",
    "linear = odr.Model(f)\n",
    "mydata = odr.Data(x, y, wd=1./np.power(x_err,2), we=1./np.power(y_err, 2))\n",
    "myodr = odr.ODR(mydata, linear, beta0=[1.])\n",
    "myoutput = myodr.run()\n",
    "b = myoutput.beta\n",
    "y1 = [f(b, x1) for x1 in x]\n",
    "plt.plot([0]+x, [0]+y1)\n",
    "for i in range(len(lab)):\n",
    "    plt.text(x[i]+0.1, y[i], lab[i])\n",
    "plt.text(10, 1, 'SMT OFF')\n",
    "print b"
   ]
  },
  {
   "cell_type": "code",
   "execution_count": 142,
   "metadata": {
    "collapsed": false
   },
   "outputs": [
    {
     "name": "stdout",
     "output_type": "stream",
     "text": [
      "[8.002278935189999, 8.49184221658, 10.8531381614]\n",
      "[ 0.10878144]\n"
     ]
    },
    {
     "data": {
      "image/png": "[encoded data removed]",
      "text/plain": [
       "<matplotlib.figure.Figure at 0xf726898>"
      ]
     },
     "metadata": {},
     "output_type": "display_data"
    }
   ],
   "source": [
    "typ = 'on'\n",
    "x = list()\n",
    "y = list()\n",
    "x_err = list()\n",
    "y_err = list()\n",
    "lab = list()\n",
    "for a in fact[typ].keys():\n",
    "    if 'AMD' in a: continue\n",
    "    if '5520' in a: continue\n",
    "    if 'v3' in a: continue\n",
    "    x.append(proc[(proc.MODEL_CPU0 == a) & (proc.NUM_PROCESSORS == 2) & (proc.SMT_CPU0 == True)]['HS06_core'].tolist()[0])\n",
    "    y.append(fact[typ][a])\n",
    "    x_err.append(proc[(proc.MODEL_CPU0 == a) & (proc.NUM_PROCESSORS == 2) & (proc.SMT_CPU0 == True)]['HS06_core_err'].tolist()[0])\n",
    "    y_err.append(fact_err[typ][a])\n",
    "    a = re.sub('Intel\\(R\\) Xeon\\(R\\) CPU', '', a)\n",
    "    a = re.sub(' @.*', '', a)\n",
    "    a = re.sub('AMD Opteron\\(TM\\) Processor', 'Opteron', a)\n",
    "    lab.append(a)\n",
    "print x\n",
    "plt.errorbar(x, y, xerr=x_err, yerr=y_err, fmt='o')\n",
    "def f(B, x): return B[0] * x\n",
    "linear = odr.Model(f)\n",
    "mydata = odr.Data(x, y, wd=1./np.power(x_err,2), we=1./np.power(y_err, 2))\n",
    "myodr = odr.ODR(mydata, linear, beta0=[1.])\n",
    "myoutput = myodr.run()\n",
    "b = myoutput.beta\n",
    "y1 = [f(b, x1) for x1 in x]\n",
    "plt.plot([0]+x, [0]+y1)\n",
    "for i in range(len(lab)):\n",
    "    plt.text(x[i], y[i], lab[i])\n",
    "plt.text(5, 1.1, 'SMT ON')\n",
    "print b\n"
   ]
  },
  {
   "cell_type": "markdown",
   "metadata": {},
   "source": [
    "* Intel(R) Xeon(R) CPU E5-2630 v3 @ 2.40GHz: Haswell\n",
    "* Intel(R) Xeon(R) CPU L5520 @ 2.27GHz: Nehalem\n",
    "* Intel Xeon(R) CPU E5-2650 0 @ 2.00GHz: Sandy Bridge\n",
    "* Intel(R) Xeon(R) CPU E5-2630L 0 @ 2.00GHz: Sandy Bridge\n",
    "* Intel(R) Xeon(R) CPU E5-2650 v2 @ 2.60GHz: Ivy Bridge"
   ]
  },
  {
   "cell_type": "code",
   "execution_count": 52,
   "metadata": {
    "collapsed": false
   },
   "outputs": [
    {
     "data": {
      "text/html": [
       "<div>\n",
       "<table border=\"1\" class=\"dataframe\">\n",
       "  <thead>\n",
       "    <tr style=\"text-align: right;\">\n",
       "      <th></th>\n",
       "      <th>Unnamed: 0</th>\n",
       "      <th>NUM_PROCESSORS</th>\n",
       "      <th>MODEL_CPU0</th>\n",
       "      <th>SMT_CPU0</th>\n",
       "      <th>LOGICAL_CORES_CPU0</th>\n",
       "      <th>PHYSICAL_CORES_CPU0</th>\n",
       "      <th>HEPSPEC</th>\n",
       "      <th>HEPSPEC.1</th>\n",
       "      <th>HS06_core</th>\n",
       "      <th>HS06_core_err</th>\n",
       "    </tr>\n",
       "  </thead>\n",
       "  <tbody>\n",
       "    <tr>\n",
       "      <th>20</th>\n",
       "      <td>19.0</td>\n",
       "      <td>2.0</td>\n",
       "      <td>Intel(R) Xeon(R) CPU E5-2630 v3 @ 2.40GHz</td>\n",
       "      <td>True</td>\n",
       "      <td>16.0</td>\n",
       "      <td>8.0</td>\n",
       "      <td>342.955086207</td>\n",
       "      <td>2.80131954762</td>\n",
       "      <td>10.717346</td>\n",
       "      <td>0.087541</td>\n",
       "    </tr>\n",
       "  </tbody>\n",
       "</table>\n",
       "</div>"
      ],
      "text/plain": [
       "    Unnamed: 0  NUM_PROCESSORS                                 MODEL_CPU0  \\\n",
       "20        19.0             2.0  Intel(R) Xeon(R) CPU E5-2630 v3 @ 2.40GHz   \n",
       "\n",
       "   SMT_CPU0 LOGICAL_CORES_CPU0 PHYSICAL_CORES_CPU0        HEPSPEC  \\\n",
       "20     True               16.0                 8.0  342.955086207   \n",
       "\n",
       "        HEPSPEC.1  HS06_core  HS06_core_err  \n",
       "20  2.80131954762  10.717346       0.087541  "
      ]
     },
     "execution_count": 52,
     "metadata": {},
     "output_type": "execute_result"
    }
   ],
   "source": [
    "proc[(proc.MODEL_CPU0 == 'Intel(R) Xeon(R) CPU E5-2630 v3 @ 2.40GHz') & (proc.NUM_PROCESSORS == 2) & (proc.SMT_CPU0 == True)]"
   ]
  },
  {
   "cell_type": "code",
   "execution_count": null,
   "metadata": {
    "collapsed": true
   },
   "outputs": [],
   "source": []
  }
 ],
 "metadata": {
  "anaconda-cloud": {},
  "kernelspec": {
   "display_name": "Python [conda root]",
   "language": "python",
   "name": "conda-root-py"
  },
  "language_info": {
   "codemirror_mode": {
    "name": "ipython",
    "version": 2
   },
   "file_extension": ".py",
   "mimetype": "text/x-python",
   "name": "python",
   "nbconvert_exporter": "python",
   "pygments_lexer": "ipython2",
   "version": "2.7.11"
  }
 },
 "nbformat": 4,
 "nbformat_minor": 0
}
