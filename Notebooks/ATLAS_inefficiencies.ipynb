{
 "cells": [
  {
   "cell_type": "markdown",
   "metadata": {},
   "source": [
    "## Objective"
   ]
  },
  {
   "cell_type": "markdown",
   "metadata": {},
   "source": [
    "The objective is to identify the ATLAS activities with low CPU efficiency or low success rates and provide recommendations to optimise the workflows and to minimise expensive failures. It is considered acceptable to analyse only the last three months of data."
   ]
  },
  {
   "cell_type": "markdown",
   "metadata": {},
   "source": [
    "## Introduction"
   ]
  },
  {
   "cell_type": "markdown",
   "metadata": {},
   "source": [
    "It is well known that inefficiencies are of two kinds:\n",
    "* Wallclock time spent on failed jobs. It is measured by calculating the fraction of wallclock time used by ATLAS jobs which fail. It can be expressed as a failure rate as a function of the job wallclock time.\n",
    "* Wallclock time not spent on computations. It is measured as the ratio between the CPU time and the wallclock time (times the number of job slots) and typically it depends on the amount of time spent in I/O operations, or in the case of multi-core jobs, on the time spent using a single process (e.g. internal merging).\n",
    "\n",
    "Possible optimisations include:\n",
    "\n",
    "* increase job length to decrease the impact of low-efficiency initialisation or merging phases\n",
    "* decrease job length to decrease the loss of wall-clock time due to the failure of long jobs\n",
    "* ...\n",
    "\n",
    "Optimal CPU efficiencies may be determined experimentally by looking at the best CPU efficiencies achieved by site. The assumption is that the best ATLAS sites show performances which are very close to the maximum achievable today. On the other hand, the theoretical maximum could well be higher and achievable only after applying some optimisations."
   ]
  },
  {
   "cell_type": "markdown",
   "metadata": {},
   "source": [
    "## Analysis outline"
   ]
  },
  {
   "cell_type": "markdown",
   "metadata": {},
   "source": [
    "Determine from data the failure rate as a function of the processing type and the wallclock time. From ES, use these fields:\n",
    "1. processing type\n",
    "1. transformation (essential to tell apart derivations from merge!)\n",
    "1. ATLAS software version\n",
    "1. wallclock time\n",
    "1. job status\n",
    "1. CPU type\n",
    "1. JEDI task ID\n",
    "1. JEDI task name\n",
    "1. reqid\n",
    "1. TODO: MC vs data (it can be derived from inputfileproject, with the caveat that sometimes it's undefined)\n",
    "1. TODO: AMI tag (it can be obtained by parsing the task name)\n",
    "1. exit codes (see below)\n",
    "1. site\n",
    "1. job submission time\n",
    "\n",
    "Calculate the fraction of wallclock time wasted on failed jobs by processing type and identify the types responsible for the largest inefficiency.\n",
    "\n",
    "For those, determine the distribution of the error codes to identify the most common causes.\n",
    "\n",
    "Refine the analysis by looking for correlations between error code and wallclock time. For example, a common error cause that causes jobs to abort just after starting is much less important than an error cause that affects jobs after they ran for a long time.\n",
    "\n",
    "*TODO*: understand how job retries work (failedattempt).\n",
    "\n",
    "It will be interesting to look also into Stagein, Execution and Stageout times (Ilija's suggestion)."
   ]
  },
  {
   "cell_type": "markdown",
   "metadata": {},
   "source": [
    "### Error codes\n",
    "* brokerageerrorcode: unknown. Almost always zero. **It can be ignored**\n",
    "* superrorcode: unknown. Always zero. **It can be ignored**\n",
    "* ddmerrorcode: error from DDM. It is zero 99.5% of times, but still to be considered\n",
    "* taskbuffererrorcode: meaning unknown (to me). Failures are very rare.\n",
    "* jobdispatcherrorcode: error from Panda, implying that the job cannot be brokered. Examples: job recovery failed (101), lost heartbeat (100)\n",
    "* **piloterrorcode**: error from the pilot. It can be zero even if the job fails, if the failure is in the payload\n",
    "* **transexitcode**: error from transformation. It can be non-zero even if exeerrorcode is zero\n",
    "* exeerrorcode: error from the executable. Sometimes 0 is associated to an error message (exeerrordiag not OK)\n",
    "\n",
    "It is appropriate to aggregate with respect to ddmerrorcode, jobdispatcherrorcode, piloterrorcode, transexitcode and exeerrorcode. The most important codes are piloterrorcode and transexitcode.\n",
    "\n",
    "There is a negligible fraction of jobs whose status is \"failed\" even if all exit codes are zero."
   ]
  },
  {
   "cell_type": "markdown",
   "metadata": {},
   "source": [
    "## Main error code values"
   ]
  },
  {
   "cell_type": "markdown",
   "metadata": {},
   "source": [
    "## ddmerrorcode\n",
    "* 200: various errors:\n",
    "  * failed to lock semaphore for job cloning\n",
    "  * could not get GUID/LFN/... from pilot XML\n",
    "  * could not add files to DDM...\n",
    "  * wrong file status in source database\n",
    "  \n",
    "## jobdispatchererrorcode\n",
    "* 100: lost heartbeat\n",
    "* 101: job recovery failed\n",
    "\n",
    "## taskbuffererrorcode\n",
    "* 113: merge job failed\n",
    "* 101: transfer timeout\n",
    "* 123: closed to retry unprocessed event ranges\n",
    "* 114: maximum attempts reached for Event Service\n",
    "\n",
    "## piloterrorcode\n",
    "* 1008: LRMS error: (-1) Job finished with unknown exit code\n",
    "* 1201: job killed by signal 15\n",
    "* 1137: put error\n",
    "* 1099: Get error: staging input file failed\n",
    "* 1218: Exception caught in RunJobEvent: name 'runCommandList' is not defiled\n",
    "* 1104: could not figure out destination path\n",
    "* 1150: pilot has decided to kill lopping job\n",
    "* 1213: reached maximum batch system time limit\n",
    "* 1221: file already exist in the destination\n",
    "* 1098: no space left on device\n",
    "* 1152: copy command timed out\n",
    "\n",
    "## transexitcode\n",
    "* 127: ?\n",
    "* 2: ?\n",
    "* 1: ?\n",
    "* 10: ?\n",
    "* 251: ?\n",
    "* 143: ?"
   ]
  },
  {
   "cell_type": "markdown",
   "metadata": {},
   "source": [
    "## Setup"
   ]
  },
  {
   "cell_type": "code",
   "execution_count": 1,
   "metadata": {
    "collapsed": true,
    "hide_input": false
   },
   "outputs": [],
   "source": [
    "import re\n",
    "import csv\n",
    "import math\n",
    "import datetime\n",
    "import numpy as np\n",
    "import IPython\n",
    "import matplotlib.pyplot as plt\n",
    "from pandas import Series, DataFrame\n",
    "import pandas as pd\n",
    "import scipy.integrate as integrate\n",
    "from elasticsearch import Elasticsearch, helpers\n",
    "\n",
    "from __future__ import division\n",
    "\n",
    "np.set_printoptions(threshold=np.inf)\n",
    "np.seterr(divide='ignore')\n",
    "\n",
    "%matplotlib inline"
   ]
  },
  {
   "cell_type": "code",
   "execution_count": 16,
   "metadata": {
    "collapsed": true,
    "hide_input": false
   },
   "outputs": [],
   "source": [
    "es = Elasticsearch([{'host':'atlas-kibana.mwt2.org', 'port':9200}],timeout=60)"
   ]
  },
  {
   "cell_type": "code",
   "execution_count": 17,
   "metadata": {
    "collapsed": false,
    "hide_input": false
   },
   "outputs": [],
   "source": [
    "indices = es.cat.indices(index=\"jobs_archive_*\", h=\"index\", request_timeout=600).split('\\n')\n",
    "indices = sorted(indices)\n",
    "indices = [x for x in indices if x != '']"
   ]
  },
  {
   "cell_type": "code",
   "execution_count": 18,
   "metadata": {
    "collapsed": true,
    "hide_input": false
   },
   "outputs": [],
   "source": [
    "def time_filter(indices, days=0, until=0):\n",
    "    if days == 0:\n",
    "        return [\"jobs_archive_*\"]\n",
    "    today = datetime.date.today()\n",
    "    filtered = []\n",
    "    datefmt = '%Y-%m-%d'\n",
    "    for i in indices:\n",
    "        day = re.sub(r'jobs_archive_', '', i).rstrip()\n",
    "        try:\n",
    "            day = datetime.datetime.strptime(day, datefmt).date()\n",
    "            diff = today - day\n",
    "            if until <= diff.days < days + until:\n",
    "                filtered.append(i.rstrip())\n",
    "        except:\n",
    "            continue\n",
    "    return filtered"
   ]
  },
  {
   "cell_type": "code",
   "execution_count": 132,
   "metadata": {
    "collapsed": false,
    "hide_input": false
   },
   "outputs": [
    {
     "name": "stdout",
     "output_type": "stream",
     "text": [
      "jobs_archive_2016-08-28,jobs_archive_2016-08-29,jobs_archive_2016-08-30,jobs_archive_2016-08-31,jobs_archive_2016-09-01,jobs_archive_2016-09-02,jobs_archive_2016-09-03,jobs_archive_2016-09-04,jobs_archive_2016-09-05,jobs_archive_2016-09-06,jobs_archive_2016-09-07,jobs_archive_2016-09-08,jobs_archive_2016-09-09,jobs_archive_2016-09-10,jobs_archive_2016-09-11,jobs_archive_2016-09-12,jobs_archive_2016-09-13,jobs_archive_2016-09-14,jobs_archive_2016-09-15,jobs_archive_2016-09-16,jobs_archive_2016-09-17,jobs_archive_2016-09-18,jobs_archive_2016-09-19,jobs_archive_2016-09-20,jobs_archive_2016-09-21,jobs_archive_2016-09-22,jobs_archive_2016-09-23,jobs_archive_2016-09-24,jobs_archive_2016-09-25,jobs_archive_2016-09-26\n"
     ]
    }
   ],
   "source": [
    "# Change second argument to use a different time range for ES queries\n",
    "ind = time_filter(indices, 30, 120)\n",
    "ind = ','.join(ind)\n",
    "print ind"
   ]
  },
  {
   "cell_type": "code",
   "execution_count": 133,
   "metadata": {
    "collapsed": false,
    "hide_input": true
   },
   "outputs": [],
   "source": [
    "s = {\n",
    "    \"size\": 0,\n",
    "    \"query\": {\n",
    "        \"bool\": {\n",
    "            \"filter\": [\n",
    "                {\"range\": {\"wall_time\": {\"ge\": 0}}},\n",
    "                {\"match\": {\"prodsourcelabel\": \"managed\"}},\n",
    "                {\"exists\": {\"field\": \"actualcorecount\"}}\n",
    "            ],\n",
    "            \"must_not\": {\n",
    "                \"prefix\": {\"processingtype\": \"ganga\"}\n",
    "            }\n",
    "        }\n",
    "    },\n",
    "    \"aggs\": {\n",
    "        \"ptypes\": {\n",
    "            \"terms\": {\n",
    "                \"field\": \"processingtype\",\n",
    "                \"size\": 1000\n",
    "            },\n",
    "            \"aggs\": {\n",
    "                \"trans\": {\n",
    "                    \"terms\": {\n",
    "                        \"field\": \"transformation\",\n",
    "                        \"size\": 1000\n",
    "                    },\n",
    "                    \"aggs\": {\n",
    "                        \"wgroup\": {\n",
    "                            \"terms\": {\n",
    "                                \"field\": \"workinggroup\",\n",
    "                                \"size\": 1000\n",
    "                            },\n",
    "                            \"aggs\": {\n",
    "                                \"reqid\": {\n",
    "                                    \"terms\": {\n",
    "                                        \"field\": \"reqid\",\n",
    "                                        \"size\": 1000\n",
    "                                    },\n",
    "                                    \"aggs\": {\n",
    "                                        \"jstatus\": {\n",
    "                                            \"terms\": {\n",
    "                                                \"field\": \"jobstatus\",\n",
    "                                                \"size\": 1000\n",
    "                                            },\n",
    "                                            \"aggs\": {\n",
    "                                                \"atlrel\": {\n",
    "                                                    \"terms\": {\n",
    "                                                        \"field\": \"atlasrelease\",\n",
    "                                                        \"size\": 1000\n",
    "                                                    },\n",
    "                                                    \"aggs\": {\n",
    "                                                        \"site\": {\n",
    "                                                            \"terms\": {\n",
    "                                                                \"field\": \"computingsite\",\n",
    "                                                                \"size\": 1000\n",
    "                                                            },\n",
    "                                                            \"aggs\": {\n",
    "                                                                \"cputype\": {\n",
    "                                                                    \"terms\": {\n",
    "                                                                        \"field\": \"cpuconsumptionunit\",\n",
    "                                                                        \"size\": 1000\n",
    "                                                                    },\n",
    "                                                                    \"aggs\": {\n",
    "                                                                        \"ddmerror\": {\n",
    "                                                                            \"terms\": {\n",
    "                                                                                \"field\": \"ddmerrorcode\",\n",
    "                                                                                \"size\": 1000\n",
    "                                                                            },\n",
    "                                                                            \"aggs\": {\n",
    "                                                                                \"jobdispatch\": {\n",
    "                                                                                    \"terms\": {\n",
    "                                                                                        \"field\": \"jobdispatchererrorcode\",\n",
    "                                                                                        \"size\": 1000\n",
    "                                                                                    },\n",
    "                                                                                    \"aggs\": {\n",
    "                                                                                        \"piloterror\": {\n",
    "                                                                                            \"terms\": {\n",
    "                                                                                                \"field\": \"piloterrorcode\",\n",
    "                                                                                                \"size\": 1000\n",
    "                                                                                            },\n",
    "                                                                                            \"aggs\": {\n",
    "                                                                                                \"transexit\": {\n",
    "                                                                                                    \"terms\": {\n",
    "                                                                                                        \"field\": \"transexitcode\",\n",
    "                                                                                                        \"missing\": \"-1\",\n",
    "                                                                                                        \"size\": 1000\n",
    "                                                                                                    },\n",
    "                                                                                                    \"aggs\": {\n",
    "                                                                                                        \"exeerror\": {\n",
    "                                                                                                            \"terms\": {\n",
    "                                                                                                                \"field\": \"exeerrorcode\",\n",
    "                                                                                                                \"size\": 1000\n",
    "                                                                                                            },\n",
    "                                                                                                            \"aggs\": {\n",
    "                                                                                                                \"jtask\": {\n",
    "                                                                                                                    \"terms\": {\n",
    "                                                                                                                        \"field\": \"jeditaskid\",\n",
    "                                                                                                                        \"size\": 100000\n",
    "                                                                                                                    },\n",
    "                                                                                                                    \"aggs\": {\n",
    "                                                                                                                        \"4\": {\n",
    "                                                                                                                            \"stats\": {\n",
    "                                                                                                                                \"script\": {\n",
    "                                                                                                                                    \"inline\": \"doc['wall_time'].value * doc['actualcorecount']\",\n",
    "                                                                                                                                    \"lang\": \"expression\"\n",
    "                                                                                                                                }\n",
    "                                                                                                                            }\n",
    "                                                                                                                        },\n",
    "                                                                                                                        \"6\": {\n",
    "                                                                                                                            \"stats\": {\n",
    "                                                                                                                                \"field\": \"cpuconsumptiontime\"\n",
    "                                                                                                                            }\n",
    "                                                                                                                        },\n",
    "                                                                                                                        \"5\": {\n",
    "                                                                                                                            \"avg\": {\n",
    "                                                                                                                                \"field\": \"actualcorecount\"\n",
    "                                                                                                                            }\n",
    "                                                                                                                        },\n",
    "                                                                                                                        \"7\": {\n",
    "                                                                                                                            \"sum\": {\n",
    "                                                                                                                                \"field\": \"nevents\"\n",
    "                                                                                                                            }\n",
    "                                                                                                                        }\n",
    "                                                                                                                    }\n",
    "                                                                                                                }\n",
    "                                                                                                            }\n",
    "                                                                                                        }\n",
    "                                                                                                    }\n",
    "                                                                                                }\n",
    "                                                                                            }\n",
    "                                                                                        }\n",
    "                                                                                    }\n",
    "                                                                                }\n",
    "                                                                            }\n",
    "                                                                        }\n",
    "                                                                    }\n",
    "                                                                }\n",
    "                                                            }\n",
    "                                                        }\n",
    "                                                    }\n",
    "                                                }\n",
    "                                            }\n",
    "                                        }\n",
    "                                    }\n",
    "                                }\n",
    "                            }\n",
    "                        }\n",
    "                    }\n",
    "                }\n",
    "            }\n",
    "        }\n",
    "    }\n",
    "}\n",
    "res = es.search(index=ind, body=s, request_timeout=12000)"
   ]
  },
  {
   "cell_type": "code",
   "execution_count": 94,
   "metadata": {
    "collapsed": true,
    "hide_input": false
   },
   "outputs": [],
   "source": [
    "output_file = 'task_eff_5.csv'"
   ]
  },
  {
   "cell_type": "code",
   "execution_count": 95,
   "metadata": {
    "collapsed": false,
    "hide_input": false
   },
   "outputs": [],
   "source": [
    "with open(output_file, 'w') as f:\n",
    "    writer = csv.writer(f, lineterminator='\\n')\n",
    "    buckets1 = res['aggregations']['ptypes']['buckets']\n",
    "    for b1 in buckets1:\n",
    "        ptype = b1['key']\n",
    "        buckets2 = b1['trans']['buckets']\n",
    "        for b2 in buckets2:\n",
    "            trans = b2['key']        \n",
    "            buckets3 = b2['wgroup']['buckets']\n",
    "            for b3 in buckets3:\n",
    "                wgroup = b3['key']\n",
    "                buckets4 = b3['reqid']['buckets']\n",
    "                for b4 in buckets4:\n",
    "                    reqid = b4['key']\n",
    "                    buckets5 = b4['jstatus']['buckets']\n",
    "                    for b5 in buckets5:\n",
    "                        jstatus = b5['key']\n",
    "                        buckets6 = b5['atlrel']['buckets']\n",
    "                        for b6 in buckets6:\n",
    "                            atlrel = b6['key']\n",
    "                            buckets7 = b6['site']['buckets']\n",
    "                            for b7 in buckets7:\n",
    "                                site = b7['key']\n",
    "                                buckets8 = b7['cputype']['buckets']\n",
    "                                for b8 in buckets8:\n",
    "                                    cputype = b8['key']\n",
    "                                    buckets9 = b8['ddmerror']['buckets']\n",
    "                                    for b9 in buckets9:\n",
    "                                        ddmerror = b9['key']\n",
    "                                        buckets10 = b9['jobdispatch']['buckets']\n",
    "                                        for b10 in buckets10:\n",
    "                                            jobdispatcherror = b10['key']\n",
    "                                            buckets11 = b10['piloterror']['buckets']\n",
    "                                            for b11 in buckets11:\n",
    "                                                piloterror = b11['key']\n",
    "                                                buckets12 = b11['transexit']['buckets']\n",
    "                                                for b12 in buckets12:\n",
    "                                                    transexit = b12['key']\n",
    "                                                    buckets13 = b12['exeerror']['buckets']\n",
    "                                                    for b13 in buckets13:\n",
    "                                                        exeerror = b13['key']\n",
    "                                                        buckets14 = b13['jtask']['buckets']\n",
    "                                                        for b14 in buckets14:\n",
    "                                                            njobs = b14['doc_count']\n",
    "                                                            jtask = b14['key']\n",
    "                                                            writer.writerow([\n",
    "                                                                jtask,\n",
    "                                                                ptype,\n",
    "                                                                trans,\n",
    "                                                                reqid,\n",
    "                                                                wgroup,\n",
    "                                                                jstatus,\n",
    "                                                                atlrel,\n",
    "                                                                site,\n",
    "                                                                cputype,\n",
    "                                                                ddmerror,\n",
    "                                                                jobdispatcherror,\n",
    "                                                                piloterror,\n",
    "                                                                transexit,\n",
    "                                                                exeerror,\n",
    "                                                                njobs,\n",
    "                                                                b14['4']['avg'],\n",
    "                                                                b14['4']['sum'],\n",
    "                                                                b14['6']['avg'],\n",
    "                                                                b14['6']['sum'],\n",
    "                                                                b14['5']['value'],\n",
    "                                                                b14['7']['value']\n",
    "                                                            ])"
   ]
  },
  {
   "cell_type": "markdown",
   "metadata": {},
   "source": [
    "Note: I had trouble with the generated CSV files due to them being truncated. Moreover, note that there is a nan value for njobs, which should be understood."
   ]
  },
  {
   "cell_type": "markdown",
   "metadata": {
    "collapsed": true
   },
   "source": [
    "## Data analysis"
   ]
  },
  {
   "cell_type": "code",
   "execution_count": 225,
   "metadata": {
    "collapsed": false
   },
   "outputs": [],
   "source": [
    "input_file = 'task_eff_ac3.csv'\n",
    "df = pd.read_csv(input_file, dtype={'cpu_n': 'float', 'cores': 'float'}, names=['jeditaskid', 'processingtype', 'trans', 'reqid', 'wgroup', 'jobstatus', 'atlrel', 'site',\n",
    "                                                               'cputype', 'ddmerr', 'jderr', 'pilerr', 'transerr',\n",
    "                                                               'exeerr', 'njobs', 'wc_avg', 'wc', 'cores', 'jevts'])\n",
    "#df = pd.read_csv(input_file, dtype={'cpu_n': 'float', 'cores': 'float'}, names=['jeditaskid', 'processingtype', 'trans', 'reqid', 'wgroup', 'jobstatus', 'atlrel', 'site',\n",
    "#                                                               'cputype', 'ddmerr', 'jderr', 'pilerr', 'transerr',\n",
    "#                                                               'exeerr', 'njobs', 'wc_avg', 'wc', 'cpu_avg', 'cpu', 'cores', 'jevts'])"
   ]
  },
  {
   "cell_type": "code",
   "execution_count": 33,
   "metadata": {
    "collapsed": false
   },
   "outputs": [],
   "source": [
    "df = df[(df.processingtype != 'validation')].copy()"
   ]
  },
  {
   "cell_type": "markdown",
   "metadata": {},
   "source": [
    "### WC contribution for each processingtype"
   ]
  },
  {
   "cell_type": "code",
   "execution_count": 3,
   "metadata": {
    "collapsed": false
   },
   "outputs": [
    {
     "name": "stdout",
     "output_type": "stream",
     "text": [
      "   processingtype            wc\n",
      "0           digit  6.678737e-09\n",
      "1      eventIndex  4.570575e-04\n",
      "2           evgen  1.837992e-01\n",
      "3           merge  1.154056e-01\n",
      "4         overlay  7.547658e-04\n",
      "5            pile  1.326467e-01\n",
      "6          pmerge  4.946694e-03\n",
      "7           recon  8.692439e-03\n",
      "8    reprocessing  5.828237e-02\n",
      "9           simul  4.233389e-01\n",
      "10           skim  2.111894e-04\n",
      "11         urgent  1.314845e-04\n",
      "12     validation  7.133352e-02\n"
     ]
    }
   ],
   "source": [
    "grouped = df.groupby(['processingtype'], as_index=False)\n",
    "r = grouped['wc'].agg('sum')\n",
    "tot_wc = r['wc'].sum()\n",
    "r['wc'] = r['wc'].divide(tot_wc)\n",
    "print r"
   ]
  },
  {
   "cell_type": "code",
   "execution_count": 54,
   "metadata": {
    "collapsed": false
   },
   "outputs": [
    {
     "name": "stdout",
     "output_type": "stream",
     "text": [
      "   processingtype        wc\n",
      "0      eventIndex  0.000497\n",
      "1           evgen  0.196563\n",
      "2           merge  0.115312\n",
      "3         overlay  0.000505\n",
      "4            pile  0.148950\n",
      "5          pmerge  0.004653\n",
      "6           recon  0.008833\n",
      "7    reprocessing  0.052520\n",
      "8           simul  0.466010\n",
      "9            skim  0.000226\n",
      "10         urgent  0.000155\n",
      "11     validation  0.005777\n"
     ]
    }
   ],
   "source": [
    "grouped = df[df.jobstatus == 'finished'].groupby(['processingtype'], as_index=False)\n",
    "r = grouped['wc'].agg('sum')\n",
    "tot_wc = r['wc'].sum()\n",
    "r['wc'] = r['wc'].divide(tot_wc)\n",
    "print r"
   ]
  },
  {
   "cell_type": "code",
   "execution_count": 55,
   "metadata": {
    "collapsed": false,
    "hide_input": true,
    "scrolled": false
   },
   "outputs": [
    {
     "name": "stdout",
     "output_type": "stream",
     "text": [
      "         jeditaskid processingtype      trans  reqid   wgroup jobstatus  \\\n",
      "2402485    10105511          simul  Sim_tf.py  10001  AP_EXOT  finished   \n",
      "\n",
      "               atlrel          site                                   cputype  \\\n",
      "2402485  Atlas-19.2.4  SiGNET_MCORE  s+AMD Opteron(TM) Processor 6274 2048 KB   \n",
      "\n",
      "         ddmerr  jderr  pilerr  transerr  exeerr  njobs     wc_avg         wc  \\\n",
      "2402485       0      0       0        -1       0      1  8394880.0  8394880.0   \n",
      "\n",
      "         cores   jevts  \n",
      "2402485    8.0  1000.0  \n"
     ]
    }
   ],
   "source": [
    "a = df[df.jobstatus == 'finished'].sort_values('wc_avg', ascending=False)\n",
    "print a[:1]"
   ]
  },
  {
   "cell_type": "code",
   "execution_count": 4,
   "metadata": {
    "collapsed": true,
    "hide_input": true
   },
   "outputs": [],
   "source": [
    "# This function plots a histogram of df[var] with custom axis labels and printing avg and std\n",
    "\n",
    "def make_plot(df, var, w_var=None, bins=100, rg=None, log=False, xlab=None, ylab=None, xunit=None, title=''):\n",
    "    fig = plt.figure(figsize=(7,5))\n",
    "    sp = plt.subplot(1, 1, 1)\n",
    "    if w_var is None:\n",
    "        mu = np.mean(df[var])\n",
    "        sigma = np.std(df[var])\n",
    "        if rg == 'auto':\n",
    "            rg = [0., min(mu*11., mu+sigma*10.)]\n",
    "        x = plt.hist(df[var], bins=bins, log=log, range=rg)\n",
    "    else:\n",
    "        mu = np.average(df[var], weights=df[w_var])\n",
    "        sigma = math.sqrt(np.average((df[var] - mu)**2, weights=df[w_var]))\n",
    "        if rg == 'auto':\n",
    "            rg = [0., min(mu*10., mu+sigma*10.)]   # at least 10 times the average or at least 10 times the aver\n",
    "        x = plt.hist(df[var], bins=bins, weights=df[w_var], log=log, range=rg)\n",
    "    stats = r'$\\mu=%.3f\\pm%.3f\\ %s$' % (mu, sigma, xunit)\n",
    "    t_x = lambda x: sp.get_xlim()[0] + (sp.get_xlim()[1] - sp.get_xlim()[0]) * x\n",
    "    t_y = lambda x: sp.get_ylim()[0] + (sp.get_ylim()[1] - sp.get_ylim()[0]) * x\n",
    "    if log:\n",
    "        if title: plt.text(t_x(.4), sp.get_ylim()[0] * (sp.get_ylim()[1] / sp.get_ylim()[0])**.9, title)\n",
    "        plt.text(t_x(.4), sp.get_ylim()[0] * (sp.get_ylim()[1] / sp.get_ylim()[0])**.7, stats)\n",
    "    else:\n",
    "        plt.text(t_x(.4), t_y(.7), stats)\n",
    "        plt.text(t_x(.4), t_y(.9), title)\n",
    "    plt.xlabel(xlab + '(' + xunit + ')')\n",
    "    plt.ylabel(ylab)\n",
    "    return x"
   ]
  },
  {
   "cell_type": "code",
   "execution_count": 5,
   "metadata": {
    "collapsed": true,
    "hide_input": true
   },
   "outputs": [],
   "source": [
    "def histo2fun(histo):\n",
    "    \"\"\"\n",
    "    Converts a matplotlib histogram into a function\n",
    "    \"\"\"\n",
    "    n, bins, _ = histo\n",
    "    def f(x):\n",
    "        if x < bins[0]: return 0.\n",
    "        if x > bins[-1]: return 0.\n",
    "        for i in range(len(n)):\n",
    "            if bins[i+1] > x: return n[i]\n",
    "    return f"
   ]
  },
  {
   "cell_type": "markdown",
   "metadata": {},
   "source": [
    "## First data exploration"
   ]
  },
  {
   "cell_type": "code",
   "execution_count": 6,
   "metadata": {
    "collapsed": false
   },
   "outputs": [
    {
     "data": {
      "image/png": "[encoded data removed]",
      "text/plain": [
       "<matplotlib.figure.Figure at 0x7fc2a0132f50>"
      ]
     },
     "metadata": {},
     "output_type": "display_data"
    }
   ],
   "source": [
    "_ = plt.hist(df['cores'], weights=df['njobs'], bins=16, range=[0., 16.], log=False)\n",
    "#_ = plt.hist(df['cores'], bins=16, range=[0., 16.], log=False)"
   ]
  },
  {
   "cell_type": "markdown",
   "metadata": {},
   "source": [
    "I noted that requiring a value for transexitcode cuts down significantly the number of jobs, as only 22% of jobs is retained! The numbers above have been validated with Kibana."
   ]
  },
  {
   "cell_type": "markdown",
   "metadata": {},
   "source": [
    "## Filters"
   ]
  },
  {
   "cell_type": "code",
   "execution_count": 217,
   "metadata": {
    "collapsed": false
   },
   "outputs": [],
   "source": [
    "# General filter, use to select only a particular category of jobs\n",
    "#df2 = df[(df.processingtype == 'merge') & (df.trans == 'Reco_tf.py')].copy()\n",
    "df2 = df[(df.processingtype == 'pile')].copy()\n",
    "#df2 = df.copy()\n",
    "\n",
    "# Filter only for failed jobs, use to select only a particular failure mode\n",
    "df3 = df2[(df2.jderr == 100)].copy()\n",
    "#df3 = df2.copy()"
   ]
  },
  {
   "cell_type": "markdown",
   "metadata": {},
   "source": [
    "The following code counts the count number for each transformation for merge jobs; it's used to assess the fraction of derivations (Reco_tf.py)."
   ]
  },
  {
   "cell_type": "code",
   "execution_count": 173,
   "metadata": {
    "collapsed": false
   },
   "outputs": [
    {
     "data": {
      "text/plain": [
       "Reco_tf.py            900284\n",
       "AODMerge_tf.py         40195\n",
       "HITSMerge_tf.py        16567\n",
       "Merging_trf.py         10246\n",
       "Reco_trf.py             2449\n",
       "NTUPMerge_tf.py         2397\n",
       "HLTHistMerge_tf.py      2151\n",
       "FilterHit_tf.py         1857\n",
       "FilterHit_trf.py         623\n",
       "HISTMerge_tf.py           18\n",
       "Name: trans, dtype: int64"
      ]
     },
     "execution_count": 173,
     "metadata": {},
     "output_type": "execute_result"
    }
   ],
   "source": [
    "df[df.processingtype == 'merge']['trans'].value_counts()"
   ]
  },
  {
   "cell_type": "markdown",
   "metadata": {},
   "source": [
    "This code sorts sites according to their contribution to the wasted wallclock time for the error mode being considered. It is useful to understand if particular sites account for a significant fraction of this error mode."
   ]
  },
  {
   "cell_type": "code",
   "execution_count": 174,
   "metadata": {
    "collapsed": false
   },
   "outputs": [
    {
     "data": {
      "text/html": [
       "<div>\n",
       "<table border=\"1\" class=\"dataframe\">\n",
       "  <thead>\n",
       "    <tr style=\"text-align: right;\">\n",
       "      <th></th>\n",
       "      <th>site</th>\n",
       "      <th>wc</th>\n",
       "    </tr>\n",
       "  </thead>\n",
       "  <tbody>\n",
       "    <tr>\n",
       "      <th>32</th>\n",
       "      <td>DESY-HH_Condor</td>\n",
       "      <td>0.159787</td>\n",
       "    </tr>\n",
       "    <tr>\n",
       "      <th>49</th>\n",
       "      <td>HU_ATLAS_Tier2_MCORE</td>\n",
       "      <td>0.089659</td>\n",
       "    </tr>\n",
       "    <tr>\n",
       "      <th>108</th>\n",
       "      <td>SFU-LCG2_MCORE</td>\n",
       "      <td>0.082956</td>\n",
       "    </tr>\n",
       "    <tr>\n",
       "      <th>42</th>\n",
       "      <td>GRIF-IRFU_MCORE</td>\n",
       "      <td>0.074137</td>\n",
       "    </tr>\n",
       "    <tr>\n",
       "      <th>78</th>\n",
       "      <td>INFN-T1_MCORE</td>\n",
       "      <td>0.038181</td>\n",
       "    </tr>\n",
       "    <tr>\n",
       "      <th>63</th>\n",
       "      <td>IN2P3-CC_MCORE_HIMEM</td>\n",
       "      <td>0.027791</td>\n",
       "    </tr>\n",
       "    <tr>\n",
       "      <th>76</th>\n",
       "      <td>INFN-T1</td>\n",
       "      <td>0.023577</td>\n",
       "    </tr>\n",
       "    <tr>\n",
       "      <th>89</th>\n",
       "      <td>MWT2_MCORE</td>\n",
       "      <td>0.022457</td>\n",
       "    </tr>\n",
       "    <tr>\n",
       "      <th>97</th>\n",
       "      <td>RAL-LCG2_MCORE</td>\n",
       "      <td>0.021745</td>\n",
       "    </tr>\n",
       "    <tr>\n",
       "      <th>8</th>\n",
       "      <td>BU_ATLAS_Tier2_MCORE</td>\n",
       "      <td>0.020322</td>\n",
       "    </tr>\n",
       "  </tbody>\n",
       "</table>\n",
       "</div>"
      ],
      "text/plain": [
       "                     site        wc\n",
       "32         DESY-HH_Condor  0.159787\n",
       "49   HU_ATLAS_Tier2_MCORE  0.089659\n",
       "108        SFU-LCG2_MCORE  0.082956\n",
       "42        GRIF-IRFU_MCORE  0.074137\n",
       "78          INFN-T1_MCORE  0.038181\n",
       "63   IN2P3-CC_MCORE_HIMEM  0.027791\n",
       "76                INFN-T1  0.023577\n",
       "89             MWT2_MCORE  0.022457\n",
       "97         RAL-LCG2_MCORE  0.021745\n",
       "8    BU_ATLAS_Tier2_MCORE  0.020322"
      ]
     },
     "execution_count": 174,
     "metadata": {},
     "output_type": "execute_result"
    }
   ],
   "source": [
    "grouped = df3.groupby(['site'], as_index=False)\n",
    "a = grouped.agg({'wc': 'sum'})\n",
    "tot = a.wc.sum()\n",
    "a.wc = a.wc / tot\n",
    "a.sort_values('wc', ascending=False)[:10]"
   ]
  },
  {
   "cell_type": "markdown",
   "metadata": {},
   "source": [
    "This code calculates the fraction of failed jobs that failed with the specified error code, per site. It allows to see if that error code is the dominant one at the site."
   ]
  },
  {
   "cell_type": "code",
   "execution_count": 175,
   "metadata": {
    "collapsed": false
   },
   "outputs": [
    {
     "data": {
      "text/plain": [
       "site\n",
       "UKI-SOUTHGRID-SUSX_SL6         0.151515\n",
       "CERN-PROD_CLOUD                0.039672\n",
       "IN2P3-CC                       0.028444\n",
       "UKI-SOUTHGRID-SUSX_MCORE       0.021053\n",
       "LRZ-LMU                        0.018888\n",
       "CERN-PROD_MCORE                0.014286\n",
       "ROMANIA07_MCORE                0.009208\n",
       "IHEP_MCORE                     0.008651\n",
       "UKI-NORTHGRID-MAN-HEP_VAC      0.007530\n",
       "BU_ATLAS_Tier2_SL6             0.007333\n",
       "CERN-PROD_T0_8MCORE            0.007018\n",
       "CPPM_MCORE                     0.006897\n",
       "CERN-PROD_T0_4MCORE            0.006663\n",
       "AGLT2_MCORE                    0.004769\n",
       "UNI-FREIBURG_MCORE             0.004695\n",
       "CERN-PROD                      0.004580\n",
       "LRZ-LMU_CLOUD                  0.004464\n",
       "INFN-MILANO-ATLASC_MCORE       0.004219\n",
       "CERN-PROD_SHORT                0.004186\n",
       "UKI-NORTHGRID-MAN-HEP_MCORE    0.004174\n",
       "INFN-NAPOLI-RECAS_MCORE        0.003891\n",
       "NIKHEF-ELPROD_MCORE            0.003889\n",
       "INFN-FRASCATI_MCORE            0.003779\n",
       "pic_MCORE                      0.003433\n",
       "MPPMU_MCORE                    0.003354\n",
       "IFAE_MCORE                     0.003106\n",
       "INFN-NAPOLI-ATLAS_MCORE        0.002655\n",
       "SARA-MATRIX_MCORE              0.002601\n",
       "DESY-HH_MCORE                  0.002584\n",
       "UKI-LT2-Brunel_MCORE           0.002392\n",
       "                                 ...   \n",
       "LPSC_MCORE                     0.000000\n",
       "LPC_MCORE                      0.000000\n",
       "LPC                            0.000000\n",
       "LAPP_MCORE                     0.000000\n",
       "RAL-LCG2_VHIMEM                0.000000\n",
       "ROMANIA07_ARC                  0.000000\n",
       "TRIUMF_MCORE                   0.000000\n",
       "RRC-KI-HPC2                    0.000000\n",
       "TRIUMF_HIMEM                   0.000000\n",
       "TRIUMF                         0.000000\n",
       "TR-10-ULAKBIM_MCORE            0.000000\n",
       "TR-10-ULAKBIM                  0.000000\n",
       "TOKYO_MCORE_ARC                0.000000\n",
       "TOKYO_ARC                      0.000000\n",
       "TOKYO                          0.000000\n",
       "SiGNET_MCORE                   0.000000\n",
       "SiGNET                         0.000000\n",
       "SWT2_CPB_MCORE                 0.000000\n",
       "SWT2_CPB                       0.000000\n",
       "SLACXRD_MP8                    0.000000\n",
       "SLACXRD_LMEM                   0.000000\n",
       "SLACXRD                        0.000000\n",
       "SFU-LCG2_MCORE                 0.000000\n",
       "SFU-LCG2                       0.000000\n",
       "SARA-MATRIX_LONG               0.000000\n",
       "SARA-MATRIX                    0.000000\n",
       "RRC-KI_PROD                    0.000000\n",
       "RRC-KI-T1_MCORE                0.000000\n",
       "RRC-KI-T1                      0.000000\n",
       "AGLT2_LMEM                     0.000000\n",
       "dtype: float64"
      ]
     },
     "execution_count": 175,
     "metadata": {},
     "output_type": "execute_result"
    }
   ],
   "source": [
    "grouped = df2.groupby(['site'], as_index=True)['njobs', 'pilerr', 'jobstatus']\n",
    "def f(g):\n",
    "    err = g[g.pilerr == 1213]['njobs'].sum()\n",
    "    tot = g[g.jobstatus == 'failed']['njobs'].sum()\n",
    "    if tot > 0:\n",
    "        return err / tot\n",
    "    else:\n",
    "        return 0.\n",
    "a = grouped.apply(f)\n",
    "a.sort_values(ascending=False)"
   ]
  },
  {
   "cell_type": "code",
   "execution_count": 218,
   "metadata": {
    "collapsed": true
   },
   "outputs": [],
   "source": [
    "df_failed = df3[df3.jobstatus == 'failed'].copy()\n",
    "df_ok = df2[df2.jobstatus == 'finished'].copy()"
   ]
  },
  {
   "cell_type": "code",
   "execution_count": 219,
   "metadata": {
    "collapsed": false
   },
   "outputs": [
    {
     "data": {
      "image/png": "[encoded data removed]",
      "text/plain": [
       "<matplotlib.figure.Figure at 0x7fc25de30c50>"
      ]
     },
     "metadata": {},
     "output_type": "display_data"
    }
   ],
   "source": [
    "tot = make_plot(df2, 'wc_avg', w_var='njobs', bins=100, rg=[0., 720000.], xlab='wallclock time ', log=False, xunit='s', ylab='jobs', title='All jobs')\n",
    "f_tot = histo2fun(tot)"
   ]
  },
  {
   "cell_type": "code",
   "execution_count": 223,
   "metadata": {
    "collapsed": false
   },
   "outputs": [
    {
     "data": {
      "image/png": "[encoded data removed]",
      "text/plain": [
       "<matplotlib.figure.Figure at 0x7fc25deeacd0>"
      ]
     },
     "metadata": {},
     "output_type": "display_data"
    }
   ],
   "source": [
    "fail = make_plot(df_failed, 'cpu_avg', w_var='njobs', bins=100, rg=[0., 720000.], xlab='wallclock time ', log=False, xunit='s', ylab='jobs', title='Exec error 65')\n",
    "f_fail = histo2fun(fail)"
   ]
  },
  {
   "cell_type": "code",
   "execution_count": 187,
   "metadata": {
    "collapsed": false
   },
   "outputs": [
    {
     "data": {
      "image/png": "[encoded data removed]",
      "text/plain": [
       "<matplotlib.figure.Figure at 0x7fc2a00c0190>"
      ]
     },
     "metadata": {},
     "output_type": "display_data"
    }
   ],
   "source": [
    "ok = make_plot(df_ok, 'wc_avg', w_var='njobs', bins=100, rg=[0., 720000.], xlab='wallclock time ', log=False, xunit='s', ylab='jobs', title='Successful jobs')\n",
    "f_ok = histo2fun(ok)"
   ]
  },
  {
   "cell_type": "markdown",
   "metadata": {},
   "source": [
    "Dividing bin by bin the first histogram by the sum of the two, produces the failure rate as a function of the wallclock time."
   ]
  },
  {
   "cell_type": "code",
   "execution_count": 17,
   "metadata": {
    "collapsed": false
   },
   "outputs": [],
   "source": [
    "def f_rate(x):\n",
    "    if f_fail(x) + f_ok(x) != 0.:\n",
    "        return f_fail(x) / (f_fail(x) + f_ok(x))\n",
    "    else:\n",
    "        return 1."
   ]
  },
  {
   "cell_type": "code",
   "execution_count": 22,
   "metadata": {
    "collapsed": false
   },
   "outputs": [
    {
     "data": {
      "text/plain": [
       "<matplotlib.text.Text at 0x7fc23df46290>"
      ]
     },
     "execution_count": 22,
     "metadata": {},
     "output_type": "execute_result"
    },
    {
     "data": {
      "image/png": "[encoded data removed]",
      "text/plain": [
       "<matplotlib.figure.Figure at 0x7fc23dd8e650>"
      ]
     },
     "metadata": {},
     "output_type": "display_data"
    }
   ],
   "source": [
    "x = np.arange(0., 7200., 72.)\n",
    "plt.plot(x, [f_rate(i) for i in x])\n",
    "plt.xlabel('wallclock time (s)')\n",
    "plt.ylabel('fraction of failed jobs')"
   ]
  },
  {
   "cell_type": "code",
   "execution_count": 58,
   "metadata": {
    "collapsed": false
   },
   "outputs": [],
   "source": [
    "np.seterr(all='ignore')\n",
    "rate = np.divide(fail[0], (fail[0] + ok[0]))"
   ]
  },
  {
   "cell_type": "code",
   "execution_count": 59,
   "metadata": {
    "collapsed": false
   },
   "outputs": [
    {
     "data": {
      "text/plain": [
       "<matplotlib.text.Text at 0x7f961392f9d0>"
      ]
     },
     "execution_count": 59,
     "metadata": {},
     "output_type": "execute_result"
    },
    {
     "data": {
      "image/png": "[encoded data removed]",
      "text/plain": [
       "<matplotlib.figure.Figure at 0x7f95db2fbe90>"
      ]
     },
     "metadata": {},
     "output_type": "display_data"
    }
   ],
   "source": [
    "plt.bar(fail[1][:-1], rate,width=7200.)\n",
    "plt.xlabel('wallclock time (s)')\n",
    "plt.ylabel('fraction of failed jobs')"
   ]
  },
  {
   "cell_type": "markdown",
   "metadata": {},
   "source": [
    "It is expected that a high fraction of short jobs are failures, because many jobs fail at the beginning, and a high fraction of long jobs are failures, because they can be stuck (TO BE CONFIRMED BY AN ANALYSIS OF ERROR CODES).\n",
    "\n",
    "The plot above is *not* the probability of a job of length T to fail! TODO: calculate mathematically and understand how to derive it from data."
   ]
  },
  {
   "cell_type": "markdown",
   "metadata": {
    "collapsed": true
   },
   "source": [
    "Let $P_F(T)$ be the probability density for a job of infinite length to fail at time $T$ and $D(T)$ the probability density for a job to have a duration $T$ assuming it will not fail. The number of jobs which fail between $T$ and $T+\\Delta T$ is:\n",
    "\n",
    "$$\\Delta C_F = P_F(T)\\Delta T\\int_{T}^{+\\infty}D(t)dt\\equiv D_F(T)\\Delta T$$\n",
    "\n",
    "while the number of jobs which succeed and finish between $T$ and $T+\\Delta T$ is:\n",
    "\n",
    "$$\\Delta C_S = D(T)\\Delta T\\left(1-\\int_{0}^{T}P_F(T)\\right)dt\\equiv D_S(T)\\Delta T$$"
   ]
  },
  {
   "cell_type": "markdown",
   "metadata": {
    "collapsed": true
   },
   "source": [
    "In order to calculate $P_F(T)$, an iterative approach could be considered. Initially we can assume that $D(T)$ is proportional to the distribution of successful jobs, $D_S(T)$, which is known from data. Therefore:\n",
    "\n",
    "$$P_F(T)=\\frac{D_F(T)}{K\\int_{T}^{+\\infty}D_S(t)dt}$$\n",
    "\n",
    "$K$ can be chosen such that $P_F(T)$ is normalised to 1.\n",
    "\n",
    "Subsequently, our first estimate of $P_F(T)$ can be used to better calculate $D_S(T)$ and the result can be used to recalculate $P_F(T)$. The procedure can be repeated until it converges.\n",
    "\n",
    "BUG: this reasoning does not take into account that a job may last for longer than normal because it failed!!!"
   ]
  },
  {
   "cell_type": "markdown",
   "metadata": {},
   "source": [
    "What shape do we expect for $P_F(T)$? In a very simplistic model, assume that all jobs have infinite lifetime. A job can randomly fail at any time, which leads to an exponential distribution for $P_F(T)$. In this case:\n",
    "\n",
    "$$\\Delta C_F=\\frac{N}{\\alpha}e^{-\\frac{1}{T}}\\Delta T$$\n",
    "\n",
    "and\n",
    "\n",
    "$$\\Delta C_S=0$$ for any finite value of T"
   ]
  },
  {
   "cell_type": "code",
   "execution_count": 60,
   "metadata": {
    "collapsed": true
   },
   "outputs": [],
   "source": [
    "def p_f(d_f, k, d_s):\n",
    "    def f(t):\n",
    "        d = integrate.quad(d_s, t, np.inf)[0]\n",
    "        if d > 0.:\n",
    "            return d_f(t) / (k * d)\n",
    "        else:\n",
    "            return 0.\n",
    "    return f"
   ]
  },
  {
   "cell_type": "code",
   "execution_count": 61,
   "metadata": {
    "collapsed": true
   },
   "outputs": [],
   "source": [
    "prob_f = p_f(f_fail, 1., f_ok)"
   ]
  },
  {
   "cell_type": "code",
   "execution_count": 64,
   "metadata": {
    "collapsed": false
   },
   "outputs": [
    {
     "data": {
      "text/plain": [
       "[<matplotlib.lines.Line2D at 0x7f958d5ff1d0>]"
      ]
     },
     "execution_count": 64,
     "metadata": {},
     "output_type": "execute_result"
    },
    {
     "data": {
      "image/png": "[encoded data removed]",
      "text/plain": [
       "<matplotlib.figure.Figure at 0x7f95dd4b6fd0>"
      ]
     },
     "metadata": {},
     "output_type": "display_data"
    }
   ],
   "source": [
    "x = np.arange(0., 360000., 1800.)\n",
    "plt.plot(x, [prob_f(i) for i in x])"
   ]
  },
  {
   "cell_type": "code",
   "execution_count": 65,
   "metadata": {
    "collapsed": false
   },
   "outputs": [
    {
     "data": {
      "image/png": "[encoded data removed]",
      "text/plain": [
       "<matplotlib.figure.Figure at 0x7f958ebdd210>"
      ]
     },
     "metadata": {},
     "output_type": "display_data"
    }
   ],
   "source": [
    "plt.plot(x, [prob_f(i) for i in x])\n",
    "plt.yscale('log')"
   ]
  },
  {
   "cell_type": "markdown",
   "metadata": {},
   "source": [
    "The probability of failing has significant spikes for 2 days, 3 days and ~22K seconds. Remember that wallclock time is multiplied by actualcorecount, so these spikes correspond to single core jobs, which are the vast majority in this sample. To be verified that these spikes correspond to jobs killed by the batch system for exceeding queue time limits."
   ]
  },
  {
   "cell_type": "markdown",
   "metadata": {},
   "source": [
    "## Overall failure rates"
   ]
  },
  {
   "cell_type": "markdown",
   "metadata": {},
   "source": [
    "See what are the failure rates for the different processing types."
   ]
  },
  {
   "cell_type": "code",
   "execution_count": 105,
   "metadata": {
    "collapsed": false,
    "hide_input": false
   },
   "outputs": [
    {
     "name": "stdout",
     "output_type": "stream",
     "text": [
      "Failure rates by wallclock time\n",
      "Overall failure rate: 0.118\n",
      "Failure rate for validation: 0.327\n",
      "Failure rate for simul: 0.097\n",
      "Failure rate for merge: 0.154\n",
      "Failure rate for pile: 0.075\n",
      "Failure rate for reprocessing: 0.250\n",
      "Failure rate for evgen: 0.121\n",
      "Failure rate for pmerge: 0.223\n",
      "Failure rate for recon: 0.158\n",
      "Failure rate for eventIndex: 0.108\n",
      "Failure rate for urgent: 0.028\n",
      "Failure rate for skim: 0.122\n",
      "Failure rate for overlay: 0.448\n",
      "Failure rate for digit: 1.000\n"
     ]
    }
   ],
   "source": [
    "n_failed = df[df.jobstatus == 'failed']['wc'].sum()\n",
    "n_finished = df[df.jobstatus == 'finished']['wc'].sum()\n",
    "print 'Failure rates by wallclock time'\n",
    "print 'Overall failure rate: %.3f' % (n_failed / (n_failed + n_finished))\n",
    "ptypes = df.processingtype.unique()\n",
    "for p in ptypes:\n",
    "    n_failed = df[(df.processingtype == p) & (df.jobstatus == 'failed')]['wc'].sum()\n",
    "    n_finished = df[(df.processingtype == p) & (df.jobstatus == 'finished')]['wc'].sum()\n",
    "    print 'Failure rate for %s: %.3f' % (p, n_failed / (n_failed + n_finished))\n",
    "    #print '%s: %f\\t%f' % (p, n_failed, n_finished)"
   ]
  },
  {
   "cell_type": "markdown",
   "metadata": {
    "collapsed": true
   },
   "source": [
    "The numbers above indicate that job failures impact mostly simul, evgen, merge and reprocessing. pile job are in a good shape.\n",
    "\n",
    "**I have checked that removing the requirement for actualcorecount to exist does not significantly change the failure rates.**"
   ]
  },
  {
   "cell_type": "markdown",
   "metadata": {},
   "source": [
    "### Error code breakdown analysis"
   ]
  },
  {
   "cell_type": "code",
   "execution_count": 226,
   "metadata": {
    "collapsed": false
   },
   "outputs": [],
   "source": [
    "def error_rate(df, ptype, trans, err, metric, status='failed'):\n",
    "    fail = df[(df.processingtype == ptype) & (df.jobstatus == status) & (df[err] > 0)][metric].sum()\n",
    "    ok = df[(df.processingtype == ptype) & (df.jobstatus == status) & (df[err] <= 0)][metric].sum()\n",
    "    return (ok, fail, fail / (ok + fail))"
   ]
  },
  {
   "cell_type": "code",
   "execution_count": 227,
   "metadata": {
    "collapsed": false
   },
   "outputs": [],
   "source": [
    "def error_rate(df, ptype, trans, err, metric, status='failed'):\n",
    "    fail = df[(df.processingtype == ptype) & (df.trans == trans) & (df.jobstatus == status) & (df[err] > 0)][metric].sum()\n",
    "    ok = df[(df.processingtype == ptype) & (df.trans == trans) & (df.jobstatus == status) & (df[err] <= 0)][metric].sum()\n",
    "    return (ok, fail, fail / (ok + fail))"
   ]
  },
  {
   "cell_type": "code",
   "execution_count": 234,
   "metadata": {
    "collapsed": false
   },
   "outputs": [],
   "source": [
    "def error_rate(df, ptype, trans, err, metric, status='failed'):\n",
    "    if ptype:\n",
    "        if trans:\n",
    "            fail = df[(df.processingtype == ptype) & (df.trans == trans) & (df.jobstatus == status) & (df[err] > 0)][metric].sum()\n",
    "            ok = df[(df.processingtype == ptype) & (df.trans == trans) & (df.jobstatus == status) & (df[err] <= 0)][metric].sum()\n",
    "        else:\n",
    "            fail = df[(df.processingtype == ptype) & (df.jobstatus == status) & (df[err] > 0)][metric].sum()\n",
    "            ok = df[(df.processingtype == ptype) & (df.jobstatus == status) & (df[err] <= 0)][metric].sum()\n",
    "    else:\n",
    "        fail = df[(df.jobstatus == status) & (df[err] > 0)][metric].sum()\n",
    "        ok = df[(df.jobstatus == status) & (df[err] <= 0)][metric].sum()\n",
    "        \n",
    "            \n",
    "    return (ok, fail, fail / (ok + fail))"
   ]
  },
  {
   "cell_type": "code",
   "execution_count": 235,
   "metadata": {
    "collapsed": true
   },
   "outputs": [],
   "source": [
    "# Change these parameters as appropriate\n",
    "ptype = ''\n",
    "#trans = 'Reco_tf.py'\n",
    "trans = ''\n",
    "metric = 'wc'"
   ]
  },
  {
   "cell_type": "code",
   "execution_count": 236,
   "metadata": {
    "collapsed": false
   },
   "outputs": [],
   "source": [
    "ddm_ok, ddm_err, ddm_eff = error_rate(df, ptype, trans, 'ddmerr', metric)\n",
    "jd_ok, jd_err, jd_eff = error_rate(df, ptype, trans, 'jderr', metric)\n",
    "pil_ok, pil_err, pil_eff = error_rate(df, ptype, trans, 'pilerr', metric)\n",
    "trans_ok, trans_err, trans_eff = error_rate(df, ptype, trans, 'transerr', metric)\n",
    "exe_ok, exe_err, exe_eff = error_rate(df, ptype, trans, 'exeerr', metric)"
   ]
  },
  {
   "cell_type": "code",
   "execution_count": 237,
   "metadata": {
    "collapsed": false
   },
   "outputs": [
    {
     "name": "stdout",
     "output_type": "stream",
     "text": [
      "Inefficiency measured as wc:\n",
      "DDM: 0.06\n",
      "Job dispatcher: 0.19\n",
      "Pilot: 0.42\n",
      "Transformation: 0.03\n",
      "Executable: 0.39\n"
     ]
    }
   ],
   "source": [
    "print 'Inefficiency measured as %s:' % metric\n",
    "print 'DDM: %.2f' % ddm_eff\n",
    "print 'Job dispatcher: %.2f' % jd_eff\n",
    "print 'Pilot: %.2f' % pil_eff\n",
    "print 'Transformation: %.2f' % trans_eff\n",
    "print 'Executable: %.2f' % exe_eff"
   ]
  },
  {
   "cell_type": "code",
   "execution_count": 112,
   "metadata": {
    "collapsed": false
   },
   "outputs": [],
   "source": [
    "def main_errors(df, ptype, trans, err, metric, status='failed', limit=0.8, frac=0.2):\n",
    "    \"\"\"\n",
    "    The most important error codes are listed, sorted by their contribution to the failure rate.\n",
    "    Only the codes that cumulatively account for a fraction of the total failure rate less than 'limit' are considered.\n",
    "    Moreover, error codes accounting for less than 'frac' times the most important error code are returned. The rationale\n",
    "    is to keep only those error codes which are more worth to be investigated.\n",
    "    \"\"\"\n",
    "    if ptype:\n",
    "        if trans:\n",
    "            tot = df[(df.processingtype == ptype) & (df.trans == trans) & (df.jobstatus == status) & (df[err] > 0)][metric].sum()\n",
    "            grouped = df[(df.processingtype == ptype) & (df.trans == trans) & (df.jobstatus == status) & (df[err] > 0)].groupby(err)\n",
    "        else:\n",
    "            tot = df[(df.processingtype == ptype) & (df.jobstatus == status) & (df[err] > 0)][metric].sum()\n",
    "            grouped = df[(df.processingtype == ptype) & (df.jobstatus == status) & (df[err] > 0)].groupby(err)\n",
    "    else:\n",
    "        tot = df[(df.jobstatus == status) & (df[err] > 0)][metric].sum()\n",
    "        grouped = df[(df.jobstatus == status) & (df[err] > 0)].groupby(err)\n",
    "        \n",
    "    rates = grouped[metric].agg(np.sum).sort_values(ascending=False) / tot\n",
    "    part = 0.\n",
    "    first = True\n",
    "    x0 = 0.\n",
    "    for i, x in rates.iteritems():\n",
    "        if first:\n",
    "            x0 = x\n",
    "            first = False\n",
    "        if x > x0 * frac:\n",
    "            print 'Error code: %s, fraction: %.2f, wallclock time: %e' % (i, x, x * tot)\n",
    "        part += x\n",
    "        if part >= limit: break"
   ]
  },
  {
   "cell_type": "code",
   "execution_count": 229,
   "metadata": {
    "collapsed": false
   },
   "outputs": [
    {
     "name": "stdout",
     "output_type": "stream",
     "text": [
      "Error code: 200, fraction: 1.00, wallclock time: 1.680538e+10\n"
     ]
    }
   ],
   "source": [
    "main_errors(df, ptype, trans, 'ddmerr', metric)"
   ]
  },
  {
   "cell_type": "code",
   "execution_count": 230,
   "metadata": {
    "collapsed": false
   },
   "outputs": [
    {
     "name": "stdout",
     "output_type": "stream",
     "text": [
      "Error code: 100, fraction: 0.97, wallclock time: 4.957366e+10\n"
     ]
    }
   ],
   "source": [
    "main_errors(df, ptype, trans, 'jderr', metric)"
   ]
  },
  {
   "cell_type": "code",
   "execution_count": 231,
   "metadata": {
    "collapsed": false
   },
   "outputs": [
    {
     "name": "stdout",
     "output_type": "stream",
     "text": [
      "Error code: 1201, fraction: 0.35, wallclock time: 3.866953e+10\n",
      "Error code: 1137, fraction: 0.17, wallclock time: 1.859276e+10\n",
      "Error code: 1213, fraction: 0.16, wallclock time: 1.821602e+10\n",
      "Error code: 1150, fraction: 0.09, wallclock time: 1.047401e+10\n"
     ]
    }
   ],
   "source": [
    "main_errors(df, ptype, trans, 'pilerr', metric)"
   ]
  },
  {
   "cell_type": "code",
   "execution_count": 232,
   "metadata": {
    "collapsed": false
   },
   "outputs": [
    {
     "name": "stdout",
     "output_type": "stream",
     "text": [
      "Error code: 143, fraction: 0.31, wallclock time: 2.118065e+09\n",
      "Error code: 240, fraction: 0.19, wallclock time: 1.335515e+09\n",
      "Error code: 251, fraction: 0.18, wallclock time: 1.223835e+09\n",
      "Error code: 252, fraction: 0.17, wallclock time: 1.135329e+09\n"
     ]
    }
   ],
   "source": [
    "main_errors(df, ptype, trans, 'transerr', metric)"
   ]
  },
  {
   "cell_type": "code",
   "execution_count": 233,
   "metadata": {
    "collapsed": false
   },
   "outputs": [
    {
     "name": "stdout",
     "output_type": "stream",
     "text": [
      "Error code: 65, fraction: 0.74, wallclock time: 7.782062e+10\n"
     ]
    }
   ],
   "source": [
    "main_errors(df, ptype, trans, 'exeerr', metric)"
   ]
  },
  {
   "cell_type": "markdown",
   "metadata": {},
   "source": [
    "## Summary of error code analysis"
   ]
  },
  {
   "cell_type": "markdown",
   "metadata": {},
   "source": [
    "### simul"
   ]
  },
  {
   "cell_type": "markdown",
   "metadata": {},
   "source": [
    "The main sources of error are pilot (0.49), executable (0.37) and job dispatcher (0.24).\n",
    "\n",
    "The main pilot errors are 1201 (0.47), 1213 (0.17) and 1150 (0.16).\n",
    "\n",
    "The main executable errors are 65 (0.58) and 68 (0.24).\n",
    "\n",
    "The main job dispatcher errors are 100 (0.98)."
   ]
  },
  {
   "cell_type": "code",
   "execution_count": 40,
   "metadata": {
    "collapsed": false
   },
   "outputs": [
    {
     "name": "stdout",
     "output_type": "stream",
     "text": [
      "64058123021.0 898776692021.0 0.0665307506752\n"
     ]
    }
   ],
   "source": [
    "fail = df[(df.processingtype == 'simul') & (df.jobstatus == 'failed') & ((df.pilerr == 1201) | (df.exeerr == 65) | (df.jderr == 100))]['wc'].sum()\n",
    "ok = df[(df.processingtype == 'simul') & (df.jobstatus == 'finished')]['wc'].sum()\n",
    "print fail, ok, fail / (fail + ok)"
   ]
  },
  {
   "cell_type": "markdown",
   "metadata": {
    "collapsed": true
   },
   "source": [
    "### evgen"
   ]
  },
  {
   "cell_type": "markdown",
   "metadata": {},
   "source": [
    "The main sources of error are pilot (0.39), executable (0.33) and job dispatcher (0.28).\n",
    "\n",
    "The main pilot errors are 1201 (0.47) and 1213 (0.34).\n",
    "\n",
    "The main executable errors are 65 (0.98).\n",
    "\n",
    "The main job dispatcher errors are 100 (0.99)."
   ]
  },
  {
   "cell_type": "code",
   "execution_count": 74,
   "metadata": {
    "collapsed": false
   },
   "outputs": [
    {
     "name": "stdout",
     "output_type": "stream",
     "text": [
      "42361850300.0 392472820572.0 0.0974205902557\n"
     ]
    }
   ],
   "source": [
    "fail = df[(df.processingtype == 'evgen') & (df.jobstatus == 'failed') & ((df.pilerr == 1201) | (df.exeerr == 65) | (df.jderr == 100))]['wc'].sum()\n",
    "ok = df[(df.processingtype == 'evgen') & (df.jobstatus == 'finished')]['wc'].sum()\n",
    "print fail, ok, fail / (fail + ok)"
   ]
  },
  {
   "cell_type": "markdown",
   "metadata": {
    "collapsed": true
   },
   "source": [
    "### merge"
   ]
  },
  {
   "cell_type": "markdown",
   "metadata": {},
   "source": [
    "The main sources of error are pilot (0.59), executable (0.14) and job dispatcher (0.10).\n",
    "\n",
    "The main pilot errors are 1137 (0.33) and 1221 (0.14).\n",
    "\n",
    "The main executable errors are 65 (0.78).\n",
    "\n",
    "The main job dispatcher errors are 100 (0.90)."
   ]
  },
  {
   "cell_type": "code",
   "execution_count": 175,
   "metadata": {
    "collapsed": false
   },
   "outputs": [
    {
     "name": "stdout",
     "output_type": "stream",
     "text": [
      "16147422608.0 227200947731.0 0.0663551705134\n"
     ]
    }
   ],
   "source": [
    "fail = df[(df.processingtype == 'merge') & (df.trans == 'Reco_tf.py') & (df.jobstatus == 'failed') & ((df.pilerr == 1137) | (df.exeerr == 65) | (df.jderr == 100))]['wc'].sum()\n",
    "ok = df[(df.processingtype == 'merge') & (df.trans == 'Reco_tf.py') & (df.jobstatus == 'finished')]['wc'].sum()\n",
    "print fail, ok, fail / (fail + ok)"
   ]
  },
  {
   "cell_type": "markdown",
   "metadata": {
    "collapsed": true
   },
   "source": [
    "### reprocessing"
   ]
  },
  {
   "cell_type": "markdown",
   "metadata": {},
   "source": [
    "The main sources of error are executable (0.78) and pilot (0.14).\n",
    "\n",
    "The main executable errors are 65 (0.93).\n",
    "\n",
    "The main pilot errors are 1137 (0.20) and 1221 (0.19)."
   ]
  },
  {
   "cell_type": "code",
   "execution_count": 192,
   "metadata": {
    "collapsed": false
   },
   "outputs": [
    {
     "name": "stdout",
     "output_type": "stream",
     "text": [
      "27251856823.0 104865200026.0 0.206270541238\n"
     ]
    }
   ],
   "source": [
    "fail = df[(df.processingtype == 'reprocessing') & (df.jobstatus == 'failed') & ((df.pilerr == 1137) | (df.pilerr == 1221) | (df.exeerr == 65))]['wc'].sum()\n",
    "ok = df[(df.processingtype == 'reprocessing') & (df.jobstatus == 'finished')]['wc'].sum()\n",
    "print fail, ok, fail / (fail + ok)"
   ]
  },
  {
   "cell_type": "markdown",
   "metadata": {},
   "source": [
    "### pile"
   ]
  },
  {
   "cell_type": "code",
   "execution_count": 181,
   "metadata": {
    "collapsed": false
   },
   "outputs": [
    {
     "name": "stdout",
     "output_type": "stream",
     "text": [
      "13962426737.0 297405800249.0 0.044842169261\n"
     ]
    }
   ],
   "source": [
    "fail = df[(df.processingtype == 'pile') & (df.jobstatus == 'failed') & ((df.pilerr == 1104) | (df.pilerr == 1137) | (df.exeerr == 65) | (df.jderr == 100))]['wc'].sum()\n",
    "ok = df[(df.processingtype == 'pile') & (df.jobstatus == 'finished')]['wc'].sum()\n",
    "print fail, ok, fail / (fail + ok)"
   ]
  },
  {
   "cell_type": "markdown",
   "metadata": {
    "collapsed": true
   },
   "source": [
    "## Summary of error types"
   ]
  },
  {
   "cell_type": "code",
   "execution_count": 238,
   "metadata": {
    "collapsed": false
   },
   "outputs": [
    {
     "name": "stdout",
     "output_type": "stream",
     "text": [
      "166063808790.0 1.99667905142e+12 0.0767838894977\n"
     ]
    }
   ],
   "source": [
    "fail = df[(df.jobstatus == 'failed') & ((df.jderr == 100) | (df.pilerr == 1201) | (df.exeerr == 65))]['wc'].sum()\n",
    "ok = df[df.jobstatus == 'finished']['wc'].sum()\n",
    "print fail, ok, fail / (fail + ok)"
   ]
  },
  {
   "cell_type": "code",
   "execution_count": null,
   "metadata": {
    "collapsed": true
   },
   "outputs": [],
   "source": []
  }
 ],
 "metadata": {
  "kernelspec": {
   "display_name": "Python 2",
   "language": "python",
   "name": "python2"
  },
  "language_info": {
   "codemirror_mode": {
    "name": "ipython",
    "version": 2
   },
   "file_extension": ".py",
   "mimetype": "text/x-python",
   "name": "python",
   "nbconvert_exporter": "python",
   "pygments_lexer": "ipython2",
   "version": "2.7.10"
  }
 },
 "nbformat": 4,
 "nbformat_minor": 1
}
